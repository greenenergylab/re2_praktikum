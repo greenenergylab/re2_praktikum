{
 "cells": [
  {
   "cell_type": "markdown",
   "id": "807a0b44-cdd8-4667-a29b-a8832936fea9",
   "metadata": {
    "jupyter": {
     "source_hidden": true
    }
   },
   "source": [
    "# 0. Konfiguration der Arbeitsumgebung\n",
    "**Hinweis zur Ausführung:**\n",
    "\n",
    "Bevor Sie mit dem Ausfüllen des Protokolls beginnen, stellt diese Zelle sicher, dass alle notwendigen Software-Bibliotheken installiert und verfügbar sind. Diese sogenannten „Pakete“ (z. B. `ipywidgets` für die interaktiven Eingabefelder) sind erforderlich, damit das Notebook korrekt funktioniert.\n",
    "\n",
    "**Was in dieser Zelle passiert:**\n",
    "- Es wird geprüft, ob alle benötigten Pakete bereits in Ihrer Jupyter-Umgebung installiert sind.\n",
    "- Falls ein Paket fehlt, wird es automatisch installiert.\n",
    "- Dies funktioniert unabhängig davon, ob Sie mit Anaconda (Windows) oder venv (macOS/Linux) arbeiten.\n",
    "\n",
    "**Was Sie tun müssen:**\n",
    "- Führen Sie diese Zelle **einmalig aus**, bevor Sie mit dem Protokoll arbeiten.\n",
    "- Es ist **keine manuelle Installation** in der Konsole notwendig.\n",
    "- Falls eine Installation erfolgt, kann es kurz dauern – warten Sie bitte, bis die Zelle vollständig durchgelaufen ist.\n",
    "\n",
    "**Hinweis:** Falls Sie das Notebook ohne Internetverbindung verwenden, können fehlende Pakete nicht nachgeladen werden.\n",
    "\n",
    "**Führen Sie jetzt die folgende Zelle aus:**"
   ]
  },
  {
   "cell_type": "code",
   "execution_count": 53,
   "id": "28e198c7-af9a-4510-939c-26d3a59d84ff",
   "metadata": {
    "ExecuteTime": {
     "end_time": "2025-09-16T08:40:54.406731Z",
     "start_time": "2025-09-16T08:40:54.393085Z"
    },
    "jupyter": {
     "source_hidden": true
    }
   },
   "outputs": [
    {
     "name": "stdout",
     "output_type": "stream",
     "text": [
      "Installiere coolprop...\n",
      "1 Pakete erfolgreich installiert!\n",
      "Setup abgeschlossen - bereit für das Praktikum!\n"
     ]
    }
   ],
   "source": [
    "import sys\n",
    "import subprocess\n",
    "\n",
    "# Benötigte Pakete\n",
    "pakete = [\"numpy\", \"pandas\", \"matplotlib\", \"tabulate\", \"prettytable\", \"ipywidgets\", \"requests\", \"coolprop\"]\n",
    "\n",
    "installiert = 0\n",
    "fehler = []\n",
    "\n",
    "# Pakete prüfen und installieren\n",
    "for paket in pakete:\n",
    "    try:\n",
    "        __import__(paket)\n",
    "    except ImportError:\n",
    "        try:\n",
    "            print(f\"Installiere {paket}...\")\n",
    "            subprocess.check_call([sys.executable, \"-m\", \"pip\", \"install\", paket], \n",
    "                                 stdout=subprocess.DEVNULL)\n",
    "            installiert += 1\n",
    "        except:\n",
    "            fehler.append(paket)\n",
    "\n",
    "# Pakete importieren\n",
    "import numpy as np\n",
    "import pandas as pd\n",
    "import matplotlib.pyplot as plt\n",
    "from tabulate import tabulate\n",
    "import ipywidgets as widgets\n",
    "import requests, json, os\n",
    "from CoolProp.CoolProp import PropsSI\n",
    "\n",
    "# Status anzeigen\n",
    "if fehler:\n",
    "    print(f\"FEHLER bei: {', '.join(fehler)}\")\n",
    "    print(\"-> Bitte manuell installieren: pip install <paketname>\")\n",
    "elif installiert > 0:\n",
    "    print(f\"{installiert} Pakete erfolgreich installiert!\")\n",
    "else:\n",
    "    print(\"Alle Pakete bereits vorhanden!\")\n",
    "\n",
    "print(\"Setup abgeschlossen - bereit für das Praktikum!\")"
   ]
  },
  {
   "cell_type": "code",
   "execution_count": 15,
   "id": "31a07495-0b96-4bc4-ae90-b06a42473639",
   "metadata": {
    "ExecuteTime": {
     "end_time": "2025-09-16T08:40:57.136266Z",
     "start_time": "2025-09-16T08:40:56.762299Z"
    },
    "collapsed": true,
    "jupyter": {
     "outputs_hidden": true,
     "source_hidden": true
    }
   },
   "outputs": [
    {
     "data": {
      "application/vnd.jupyter.widget-view+json": {
       "model_id": "0a28b4a40eea49b9bb2fb3683706d77c",
       "version_major": 2,
       "version_minor": 0
      },
      "text/plain": [
       "HBox(children=(VBox(children=(HTML(value='<div style=\"font-size: 20pt; font-weight: bold;\">Protokoll zum Versu…"
      ]
     },
     "metadata": {},
     "output_type": "display_data"
    },
    {
     "data": {
      "application/vnd.jupyter.widget-view+json": {
       "model_id": "aeec28c9b1314b3ba74544ce4bdb2259",
       "version_major": 2,
       "version_minor": 0
      },
      "text/plain": [
       "HTML(value='<hr>')"
      ]
     },
     "metadata": {},
     "output_type": "display_data"
    },
    {
     "data": {
      "application/vnd.jupyter.widget-view+json": {
       "model_id": "b2322a67ef994eea9e64977eee706331",
       "version_major": 2,
       "version_minor": 0
      },
      "text/plain": [
       "VBox(children=(HBox(children=(Label(value='Name:', layout=Layout(width='160px')), Text(value='Robin', layout=L…"
      ]
     },
     "metadata": {},
     "output_type": "display_data"
    },
    {
     "data": {
      "application/vnd.jupyter.widget-view+json": {
       "model_id": "ec799f45a40941a1a74cc761a48b1439",
       "version_major": 2,
       "version_minor": 0
      },
      "text/plain": [
       "Button(button_style='success', description='Speichern', style=ButtonStyle())"
      ]
     },
     "metadata": {},
     "output_type": "display_data"
    }
   ],
   "source": [
    "from IPython.display import display\n",
    "\n",
    "# --- Konfiguration ---\n",
    "VERSUCH = \"Windkraft\"  # ← hier den Versuchsnamen ändern\n",
    "FILENAME = f\"protokoll_{VERSUCH}.json\"\n",
    "FIELD_WIDTH = '500px'\n",
    "LABEL_WIDTH = '160px'\n",
    "LOGO_URL = \"https://thga.sciebo.de/s/PMFfmxdyEcrEr3P/download\"\n",
    "\n",
    "# --- Felder und Standarddaten ---\n",
    "fields = {\n",
    "    \"Name\": \"\",\n",
    "    \"Matrikelnummer\": \"\",\n",
    "    \"Gruppe\": \"\",\n",
    "    \"Versuchstag\": \"\",\n",
    "    \"Praktikumsleitung\": \"\"\n",
    "}\n",
    "\n",
    "# --- Daten aus Datei laden ---\n",
    "if os.path.exists(FILENAME):\n",
    "    with open(FILENAME, \"r\") as f:\n",
    "        fields.update(json.load(f))\n",
    "\n",
    "# --- Logo laden ---\n",
    "try:\n",
    "    resp = requests.get(LOGO_URL)\n",
    "    logo = widgets.Image(\n",
    "        value=resp.content, format='png',\n",
    "        layout=widgets.Layout(width='200px', height='auto')\n",
    "    ) if resp.status_code == 200 else widgets.Label(\"Logo nicht verfügbar.\")\n",
    "except:\n",
    "    logo = widgets.Label(\"Logo konnte nicht geladen werden.\")\n",
    "\n",
    "# --- Überschriftsteil ---\n",
    "headings = widgets.VBox([\n",
    "    widgets.HTML(f'<div style=\"font-size: 20pt; font-weight: bold;\">Protokoll zum Versuch: {VERSUCH.capitalize()}</div>'),\n",
    "    widgets.HTML(f'<div style=\"font-size: 14pt;\"><strong>Praktikum:</strong> Regenerative Energien II</div>'),\n",
    "    widgets.HTML(f'<div style=\"font-size: 14pt;\"><strong>Semester:</strong> Wintersemester 2025/26</div>')\n",
    "], layout=widgets.Layout(align_items='flex-start', gap='2px'))\n",
    "\n",
    "header = widgets.HBox([headings, logo],\n",
    "                      layout=widgets.Layout(justify_content='space-between', align_items='flex-start'))\n",
    "\n",
    "# --- Formularfelder anlegen ---\n",
    "widgets_dict = {\n",
    "    key: widgets.Text(value=fields[key], layout=widgets.Layout(width=FIELD_WIDTH))\n",
    "    for key in fields\n",
    "}\n",
    "\n",
    "def labeled_row(label, widget):\n",
    "    return widgets.HBox([\n",
    "        widgets.Label(label + \":\", layout=widgets.Layout(width=LABEL_WIDTH)),\n",
    "        widget\n",
    "    ])\n",
    "\n",
    "form = widgets.VBox([labeled_row(k, widgets_dict[k]) for k in fields])\n",
    "\n",
    "# --- Speichern ---\n",
    "def save_to_json(_):\n",
    "    data = {k: w.value for k, w in widgets_dict.items()}\n",
    "    with open(FILENAME, \"w\") as f:\n",
    "        json.dump(data, f)\n",
    "    print(f\"Daten gespeichert in '{FILENAME}'.\")\n",
    "\n",
    "save_button = widgets.Button(description=\"Speichern\", button_style='success')\n",
    "save_button.on_click(save_to_json)\n",
    "\n",
    "# --- Anzeige ---\n",
    "display(header, widgets.HTML(\"<hr>\"), form, save_button)"
   ]
  },
  {
   "cell_type": "markdown",
   "id": "beadc0b8-c82e-4f00-aef9-6993a4fc647b",
   "metadata": {
    "jp-MarkdownHeadingCollapsed": true,
    "jupyter": {
     "source_hidden": true
    }
   },
   "source": [
    "# 1. Einleitung\n",
    "**Hinweis zur Bearbeitung:**\n",
    "\n",
    "Bevor Sie mit dem Versuch beginnen, formulieren Sie bitte eine kurze Einleitung. Beschreiben Sie in eigenen Worten die grundlegenden physikalischen Prinzipien der Windenergienutzung und das Wissen, das benötigt wird, um dieses Protokoll nachvollziehen zu können.\n",
    "\n",
    "\n",
    " **Denkanstöße für Ihre Einleitung:**\n",
    "- Wie entsteht Wind und welche globalen sowie lokalen Faktoren beeinflussen ihn?\n",
    "- Welche physikalischen Größen sind für die Umwandlung von Windenergie in elektrische Energie relevant?\n",
    "- Wie ist eine moderne Windkraftanlage aufgebaut und wie funktioniert sie?\n",
    "- Was unterscheidet Anlagen mit horizontaler und vertikaler Drehachse?\n",
    "- Welche Rolle spielt der Auftrieb an Rotorblättern bei der Energieerzeugung?\n",
    "- Welche Bedeutung hat die Windenergie in der Energiewende?\n",
    "- In welchen geografischen Regionen ist Windenergie besonders effizient nutzbar?\n",
    "- Welche praktischen Anwendungen und aktuellen Entwicklungen der Windkraft kennen Sie?\n",
    "\n",
    " **Tragen Sie Ihre eigene Einleitung im folgenden Feld ein:**"
   ]
  },
  {
   "cell_type": "code",
   "execution_count": null,
   "id": "a5298a50-ea3a-4ee8-86bf-fef56291664a",
   "metadata": {},
   "outputs": [],
   "source": []
  },
  {
   "cell_type": "markdown",
   "id": "90ca833b-16a0-4a19-9c48-f5ef58121fe6",
   "metadata": {
    "jupyter": {
     "source_hidden": true
    }
   },
   "source": [
    "# 2. Durchführung und Auswertung"
   ]
  },
  {
   "cell_type": "markdown",
   "id": "eb25571d-7ffb-4476-a42a-8dee02a20aac",
   "metadata": {
    "jp-MarkdownHeadingCollapsed": true,
    "jupyter": {
     "source_hidden": true
    }
   },
   "source": [
    "## 2.1 Versuch 1: U-I-Kennlinie und Leistung verschiedener Rotorbauarten und Blattformen\n",
    "\n",
    "In diesem Versuch werden verschiedene Rotoren (3-Blatt, 4-Blatt und Savonius) verwendet, um das Verhalten bei unterschiedlichen Rotorbauarten zu untersuchen. Ziel ist es, die Auswirkungen auf Stromstärke $( I )$, Spannung $( U )$, Leistung $( P )$ und Drehzahl $( D )$ zu erfassen.\n",
    "\n",
    "Die Rotoren werden durch ein Winderzeugermodul mit einstellbarer Netzspannung (9 V) angetrieben. Die Messungen erfolgen mit einem AV-Modul und einem Drehzahlmessgerät.\n",
    "\n",
    "---\n",
    "\n",
    "**Aufbau, Geräte & Komponenten:**\n",
    "- Grundeinheit  \n",
    "- Winderzeugermodul  \n",
    "- Windgeneratormodul (3- und 4-Flügler, optimiertes Profil)  \n",
    "- Savoniusrotormodul  \n",
    "- Potentiometermodul  \n",
    "- AV-Modul  \n",
    "- Drehzahlmessgerät  \n",
    "- Power-Modul (9 V)\n",
    "\n",
    "---\n",
    "\n",
    "**Schaltplan:**\n",
    "\n",
    "![Schaltplan Versuch1.1](Data/Schaltplan_Wind_Versuch_1.png \"Schaltplan\")\n",
    "\n",
    "---\n",
    "\n",
    "**Durchführung**\n",
    "\n",
    "1. Bauen Sie den Versuchsplan mit dem 3-Blatt-Rotor (optimiertes Profil) auf.\n",
    "   1. Stellen Sie eine Netzspannung von $U_\\text{Netz} = 9\\ \\text{V}$ ein.\n",
    "   2.  Messen Sie die Spannung $U$, Stromstärke $I$ und Drehzahl $d$ bei verschiedenen Potentiometerstellungen. Beginnen Sie bei der höchsten Spannung und verringern Sie diese in Schritten von ca. $0{,}2\\ \\text{V}$.\n",
    "2. Wiederholen Sie den Versuch mit dem 4-Blatt-Rotor (optimiertes Profil).\n",
    "3. Wiederholen Sie den Versuch mit dem Savoniusrotor. Verringern Sie die Spannung diesmal in Schritten von ca. $0{,}1\\ \\text{V}$.\n",
    "\n",
    "---\n",
    "\n",
    "**Messgrößen:**  \n",
    "- Die elektrische Spannung $U$ in $\\text{[V]}$  \n",
    "- Die Stromstärke $I$ in $\\text{[mA]}$  \n",
    "- Die Leistung $P = U \\cdot I$ in $\\text{[mW]}$  \n",
    "- Die Drehzahl $D$ in $\\text{[min}^{-1}\\text{]}$  \n",
    "\n",
    "---\n",
    "\n",
    "**Messdaten:**\n",
    "\n",
    "Notieren Sie hier Ihre Messdaten in einfachen Listen. Nutzen Sie dafür eindeutige Bezeichnungen, ähnlich wie im folgenden Beispiel:"
   ]
  },
  {
   "cell_type": "code",
   "execution_count": 17,
   "id": "02e55eec-7922-4316-8f75-97f54f0a5dc8",
   "metadata": {
    "jupyter": {
     "source_hidden": true
    }
   },
   "outputs": [
    {
     "name": "stdout",
     "output_type": "stream",
     "text": [
      "Daten erfolgreich geladen!\n",
      "Verfügbare Datensätze:\n",
      "   - 3-Blatt-Rotor, optimiert:  15 Messpunkte\n",
      "   - 4-Blatt-Rotor:  14 Messpunkte\n",
      "   - 3-Blatt-Rotor, flach:  6 Messpunkte\n",
      "   - Savonius-Rotor: 5 Messpunkte\n",
      "Bereit für Auswertung in den nächsten Zelle!\n"
     ]
    }
   ],
   "source": [
    "# DATENERFASSUNG - NUR MESSWERTE EINTRAGEN!\n",
    "\n",
    "# Messwerte für 3-Blatt-Rotor (optimiertes Profil)\n",
    "u_3blatt = [3.77, 3.58, 3.35, 3.17, 2.99, 2.80, 2.61, 2.28, 2.08, 1.85, 1.40, 1.23, 1.05, 0.67, 0.188]          # Spannung in V\n",
    "i_3blatt = [4.00, 11.70, 20.10, 26.80, 35.20, 42.90, 50.50, 62.00, 69.70, 77.50, 90.00, 95.50, 99.30, 95.20, 27.30]  # Strom in mA\n",
    "D_3blatt = [4860, 4731, 4556, 4468, 4359, 4238, 4106, 3842, 3736, 3515, 3206, 3052, 2884, 2302, 599]              # Drehzahl in 1/min        # Drehzahl in 1/min\n",
    "\n",
    "# Messwerte für 4-Blatt-Rotor (optimiertes Profil) \n",
    "u_4blatt = [3.66, 3.50, 3.30, 3.08, 2.89, 2.70, 2.50, 2.31, 2.07, 1.82, 1.64, 1.37, 1.03, 0.84]  # Spannung in V\n",
    "i_4blatt = [3.90, 11.40, 20.30, 31.80, 39.50, 43.50, 56.50, 64.70, 74.60, 85.60, 93.00, 103.60, 116.60, 123.20]  # Strom in mA\n",
    "D_4blatt = [4712, 4627, 4529, 4411, 4308, 4253, 4080, 3980, 3831, 3671, 3556, 3385, 3147, 3015]  # Drehzahl in 1/min       # Drehzahl in 1/min\n",
    "\n",
    "# Messwerte für 3-Blatt-Rotor (flaches Profil)\n",
    "u_3flach = [1.26, 1.01, 0.807, 0.607, 0.38, 0.261]  # Spannung in V\n",
    "i_3flach = [1.90, 14.70, 23.30, 30.30, 35.40, 37.50]  # Strom in mA\n",
    "D_3flach = [1608, 1471, 1336, 1173, 965, 835]        # Drehzahl in 1/min\n",
    "\n",
    "# Messwerte für Savonius-Rotor\n",
    "u_savonius = [0.53, 0.43, 0.33, 0.22, 0.133]  # Spannung in V\n",
    "i_savonius = [1.30, 5.90, 10.30, 14.80, 18.80]  # Strom in mA\n",
    "D_savonius = [663, 615, 575, 522, 487]         # Drehzahl in 1/min\n",
    "\n",
    "print(\"Daten erfolgreich geladen!\")\n",
    "print(\"Verfügbare Datensätze:\")\n",
    "print(f\"   - 3-Blatt-Rotor, optimiert:  {len(u_3blatt)} Messpunkte\")\n",
    "print(f\"   - 4-Blatt-Rotor:  {len(u_4blatt)} Messpunkte\")\n",
    "print(f\"   - 3-Blatt-Rotor, flach:  {len(u_3flach)} Messpunkte\")\n",
    "print(f\"   - Savonius-Rotor: {len(u_savonius)} Messpunkte\")\n",
    "print(\"Bereit für Auswertung in den nächsten Zelle!\")"
   ]
  },
  {
   "cell_type": "markdown",
   "id": "1bb29e93-95e0-4018-b50b-e7492c0c400b",
   "metadata": {
    "jupyter": {
     "source_hidden": true
    }
   },
   "source": [
    "Aus diesen Messwerten werden nun Tabellen mit `pandas` `DataFrames` erstellt.\n",
    "Wichtige Hinweise:\n",
    "\n",
    "- Die Messwerte müssen nicht nochmal eingegeben werden, solange die Zelle mit den Listen zuvor ausgeführt wurde\n",
    "- Python beginnt die Indexierung bei [0] - der erste Wert hat Index 0, der zweite Index 1, usw.\n",
    "- DataFrames ermöglichen professionelle Tabellendarstellung und einfache Berechnungen\n",
    "\n",
    "Im folgenden Code werden alle Listen aus Messdaten in `DataFrames`umgewandelt:"
   ]
  },
  {
   "cell_type": "code",
   "execution_count": 30,
   "id": "d0389ddc-b7af-4bf3-b718-49214b5ef09c",
   "metadata": {
    "jupyter": {
     "source_hidden": true
    }
   },
   "outputs": [
    {
     "name": "stdout",
     "output_type": "stream",
     "text": [
      "DataFrames erfolgreich erstellt:\n",
      "- df_3blatt: 15 Messpunkte\n",
      "- df_4blatt: 14 Messpunkte\n",
      "- df_3blatt: 6 Messpunkte\n",
      "- df_savonius: 5 Messpunkte\n"
     ]
    }
   ],
   "source": [
    "# DATAFRAMES AUS DEN LISTEN ERSTELLEN  \n",
    "\n",
    "# 3-Blatt-Rotor, optimiert\n",
    "df_3blatt = pd.DataFrame({\n",
    "    'U [V]': u_3blatt,\n",
    "    'I [mA]': i_3blatt,\n",
    "    'D [1/min]': D_3blatt\n",
    "})\n",
    "\n",
    "# 4-Blatt-Rotor\n",
    "df_4blatt = pd.DataFrame({\n",
    "    'U [V]': u_4blatt,\n",
    "    'I [mA]': i_4blatt,\n",
    "    'D [1/min]': D_4blatt\n",
    "})\n",
    "\n",
    "# 3-Blatt-Rotor, flach\n",
    "df_3flach = pd.DataFrame({\n",
    "    'U [V]': u_3flach,\n",
    "    'I [mA]': i_3flach,\n",
    "    'D [1/min]': D_3flach\n",
    "})\n",
    "\n",
    "# Savonius-Rotor\n",
    "df_savonius = pd.DataFrame({\n",
    "    'U [V]': u_savonius,\n",
    "    'I [mA]': i_savonius,\n",
    "    'D [1/min]': D_savonius\n",
    "})\n",
    "\n",
    "# Indizes als \"Messpunkte\" umbenennen (Zählung bei 1 starten)\n",
    "for df in [df_3blatt, df_4blatt, df_3flach, df_savonius]:\n",
    "    df.index = [f\"Messpunkt {i+1}\" for i in range(len(df))]\n",
    "\n",
    "print(\"DataFrames erfolgreich erstellt:\")\n",
    "print(f\"- df_3blatt: {len(df_3blatt)} Messpunkte\")\n",
    "print(f\"- df_4blatt: {len(df_4blatt)} Messpunkte\") \n",
    "print(f\"- df_3blatt: {len(df_3flach)} Messpunkte\")\n",
    "print(f\"- df_savonius: {len(df_savonius)} Messpunkte\")"
   ]
  },
  {
   "cell_type": "code",
   "execution_count": 31,
   "id": "30481051-2fee-424d-8d25-0cf0e704e315",
   "metadata": {
    "collapsed": true,
    "jupyter": {
     "outputs_hidden": true,
     "source_hidden": true
    }
   },
   "outputs": [
    {
     "name": "stdout",
     "output_type": "stream",
     "text": [
      "Tabelle 1: Messdaten – 3-Blatt-Rotor (optimiertes Profil)\n",
      "╒══════════════╤═════════╤══════════╤═════════════╕\n",
      "│              │   U [V] │   I [mA] │   D [1/min] │\n",
      "╞══════════════╪═════════╪══════════╪═════════════╡\n",
      "│ Messpunkt 1  │    3.77 │     4.00 │     4860.00 │\n",
      "├──────────────┼─────────┼──────────┼─────────────┤\n",
      "│ Messpunkt 2  │    3.58 │    11.70 │     4731.00 │\n",
      "├──────────────┼─────────┼──────────┼─────────────┤\n",
      "│ Messpunkt 3  │    3.35 │    20.10 │     4556.00 │\n",
      "├──────────────┼─────────┼──────────┼─────────────┤\n",
      "│ Messpunkt 4  │    3.17 │    26.80 │     4468.00 │\n",
      "├──────────────┼─────────┼──────────┼─────────────┤\n",
      "│ Messpunkt 5  │    2.99 │    35.20 │     4359.00 │\n",
      "├──────────────┼─────────┼──────────┼─────────────┤\n",
      "│ Messpunkt 6  │    2.80 │    42.90 │     4238.00 │\n",
      "├──────────────┼─────────┼──────────┼─────────────┤\n",
      "│ Messpunkt 7  │    2.61 │    50.50 │     4106.00 │\n",
      "├──────────────┼─────────┼──────────┼─────────────┤\n",
      "│ Messpunkt 8  │    2.28 │    62.00 │     3842.00 │\n",
      "├──────────────┼─────────┼──────────┼─────────────┤\n",
      "│ Messpunkt 9  │    2.08 │    69.70 │     3736.00 │\n",
      "├──────────────┼─────────┼──────────┼─────────────┤\n",
      "│ Messpunkt 10 │    1.85 │    77.50 │     3515.00 │\n",
      "├──────────────┼─────────┼──────────┼─────────────┤\n",
      "│ Messpunkt 11 │    1.40 │    90.00 │     3206.00 │\n",
      "├──────────────┼─────────┼──────────┼─────────────┤\n",
      "│ Messpunkt 12 │    1.23 │    95.50 │     3052.00 │\n",
      "├──────────────┼─────────┼──────────┼─────────────┤\n",
      "│ Messpunkt 13 │    1.05 │    99.30 │     2884.00 │\n",
      "├──────────────┼─────────┼──────────┼─────────────┤\n",
      "│ Messpunkt 14 │    0.67 │    95.20 │     2302.00 │\n",
      "├──────────────┼─────────┼──────────┼─────────────┤\n",
      "│ Messpunkt 15 │    0.19 │    27.30 │      599.00 │\n",
      "╘══════════════╧═════════╧══════════╧═════════════╛\n",
      "\n",
      "\n",
      "Tabelle 2: Messdaten – 4-Blatt-Rotor (optimiertes Profil)\n",
      "╒══════════════╤═════════╤══════════╤═════════════╕\n",
      "│              │   U [V] │   I [mA] │   D [1/min] │\n",
      "╞══════════════╪═════════╪══════════╪═════════════╡\n",
      "│ Messpunkt 1  │    3.66 │     3.90 │     4712.00 │\n",
      "├──────────────┼─────────┼──────────┼─────────────┤\n",
      "│ Messpunkt 2  │    3.50 │    11.40 │     4627.00 │\n",
      "├──────────────┼─────────┼──────────┼─────────────┤\n",
      "│ Messpunkt 3  │    3.30 │    20.30 │     4529.00 │\n",
      "├──────────────┼─────────┼──────────┼─────────────┤\n",
      "│ Messpunkt 4  │    3.08 │    31.80 │     4411.00 │\n",
      "├──────────────┼─────────┼──────────┼─────────────┤\n",
      "│ Messpunkt 5  │    2.89 │    39.50 │     4308.00 │\n",
      "├──────────────┼─────────┼──────────┼─────────────┤\n",
      "│ Messpunkt 6  │    2.70 │    43.50 │     4253.00 │\n",
      "├──────────────┼─────────┼──────────┼─────────────┤\n",
      "│ Messpunkt 7  │    2.50 │    56.50 │     4080.00 │\n",
      "├──────────────┼─────────┼──────────┼─────────────┤\n",
      "│ Messpunkt 8  │    2.31 │    64.70 │     3980.00 │\n",
      "├──────────────┼─────────┼──────────┼─────────────┤\n",
      "│ Messpunkt 9  │    2.07 │    74.60 │     3831.00 │\n",
      "├──────────────┼─────────┼──────────┼─────────────┤\n",
      "│ Messpunkt 10 │    1.82 │    85.60 │     3671.00 │\n",
      "├──────────────┼─────────┼──────────┼─────────────┤\n",
      "│ Messpunkt 11 │    1.64 │    93.00 │     3556.00 │\n",
      "├──────────────┼─────────┼──────────┼─────────────┤\n",
      "│ Messpunkt 12 │    1.37 │   103.60 │     3385.00 │\n",
      "├──────────────┼─────────┼──────────┼─────────────┤\n",
      "│ Messpunkt 13 │    1.03 │   116.60 │     3147.00 │\n",
      "├──────────────┼─────────┼──────────┼─────────────┤\n",
      "│ Messpunkt 14 │    0.84 │   123.20 │     3015.00 │\n",
      "╘══════════════╧═════════╧══════════╧═════════════╛\n",
      "\n",
      "\n",
      "Tabelle 3: Messdaten – 3-Blatt-Rotor (flaches Profil)\n",
      "╒═════════════╤═════════╤══════════╤═════════════╕\n",
      "│             │   U [V] │   I [mA] │   D [1/min] │\n",
      "╞═════════════╪═════════╪══════════╪═════════════╡\n",
      "│ Messpunkt 1 │    1.26 │     1.90 │     1608.00 │\n",
      "├─────────────┼─────────┼──────────┼─────────────┤\n",
      "│ Messpunkt 2 │    1.01 │    14.70 │     1471.00 │\n",
      "├─────────────┼─────────┼──────────┼─────────────┤\n",
      "│ Messpunkt 3 │    0.81 │    23.30 │     1336.00 │\n",
      "├─────────────┼─────────┼──────────┼─────────────┤\n",
      "│ Messpunkt 4 │    0.61 │    30.30 │     1173.00 │\n",
      "├─────────────┼─────────┼──────────┼─────────────┤\n",
      "│ Messpunkt 5 │    0.38 │    35.40 │      965.00 │\n",
      "├─────────────┼─────────┼──────────┼─────────────┤\n",
      "│ Messpunkt 6 │    0.26 │    37.50 │      835.00 │\n",
      "╘═════════════╧═════════╧══════════╧═════════════╛\n",
      "\n",
      "\n",
      "Tabelle 4: Messdaten – Savonius-Rotor\n",
      "╒═════════════╤═════════╤══════════╤═════════════╕\n",
      "│             │   U [V] │   I [mA] │   D [1/min] │\n",
      "╞═════════════╪═════════╪══════════╪═════════════╡\n",
      "│ Messpunkt 1 │    0.53 │     1.30 │      663.00 │\n",
      "├─────────────┼─────────┼──────────┼─────────────┤\n",
      "│ Messpunkt 2 │    0.43 │     5.90 │      615.00 │\n",
      "├─────────────┼─────────┼──────────┼─────────────┤\n",
      "│ Messpunkt 3 │    0.33 │    10.30 │      575.00 │\n",
      "├─────────────┼─────────┼──────────┼─────────────┤\n",
      "│ Messpunkt 4 │    0.22 │    14.80 │      522.00 │\n",
      "├─────────────┼─────────┼──────────┼─────────────┤\n",
      "│ Messpunkt 5 │    0.13 │    18.80 │      487.00 │\n",
      "╘═════════════╧═════════╧══════════╧═════════════╛\n"
     ]
    }
   ],
   "source": [
    "# MESSDATENTABELLEN ANZEIGEN\n",
    "\n",
    "print(\"Tabelle 1: Messdaten – 3-Blatt-Rotor (optimiertes Profil)\")\n",
    "print(tabulate(df_3blatt, headers=df_3blatt.columns, tablefmt='fancy_grid', \n",
    "               floatfmt=\".2f\"))\n",
    "print(\"\\n\")\n",
    "\n",
    "print(\"Tabelle 2: Messdaten – 4-Blatt-Rotor (optimiertes Profil)\")\n",
    "print(tabulate(df_4blatt, headers=df_4blatt.columns, tablefmt='fancy_grid',\n",
    "               floatfmt=\".2f\"))\n",
    "print(\"\\n\")\n",
    "\n",
    "print(\"Tabelle 3: Messdaten – 3-Blatt-Rotor (flaches Profil)\")\n",
    "print(tabulate(df_3flach, headers=df_3flach.columns, tablefmt='fancy_grid', \n",
    "               floatfmt=\".2f\"))\n",
    "print(\"\\n\")\n",
    "\n",
    "print(\"Tabelle 4: Messdaten – Savonius-Rotor\")\n",
    "print(tabulate(df_savonius, headers=df_savonius.columns, tablefmt='fancy_grid',\n",
    "               floatfmt=\".2f\"))\n"
   ]
  },
  {
   "cell_type": "markdown",
   "id": "00e460bf-6afc-4518-8004-2f27117684a5",
   "metadata": {
    "jupyter": {
     "source_hidden": true
    }
   },
   "source": [
    "### Beobachtungen während des Versuchs\n",
    "Beschreiben Sie hier **in eigenen Worten** den Aufbau, die Durchführung und Ihre Beobachtungen:\n",
    "- Welche Messgrößen haben Sie bei den verschiedenen Rotortypen aufgenommen?  \n",
    "- Wie haben sich Spannung und Strom bei den verschiedenen Rotorbauarten verändert?  \n",
    "- Welche Unterschiede konnten Sie zwischen 3-Blatt-, 4-Blatt- und Savonius-Rotor feststellen?  \n",
    "- Gab es besondere Auffälligkeiten bei einem der Rotoren?\n",
    "\n",
    "> _Hinweis: Denken Sie an die Schritte „Aufbau, Messung und Beobachtung“._\n",
    "\n",
    "---\n",
    "\n",
    "**Im folgenden Feld Ihre eigene Beschreibung und Beobachtungen eintragen:**"
   ]
  },
  {
   "cell_type": "code",
   "execution_count": null,
   "id": "989c4fe2-6191-4f3f-99ea-0e5517168a3c",
   "metadata": {},
   "outputs": [],
   "source": []
  },
  {
   "cell_type": "markdown",
   "id": "9c66bc9f-d1e2-4992-bc21-38022ebd53e3",
   "metadata": {
    "jupyter": {
     "source_hidden": true
    }
   },
   "source": [
    "### Auswertung\n",
    "\n",
    "1. Berechnen Sie die Leistung des Generators für jeden Messpunkt.\n",
    "2. Zeichnen Sie die jeweiligen U-I-Kennlinien. Erstellen Sie einen Vergleich für  \n",
    "   a. die verschiedenen Flügelanzahl (3 vs. 4 Flügel)  \n",
    "   b. die unterschiedlichen Rotorbauarten (3 Flügel, optimiert vs. Savonius-Rotor).\n",
    "3. Zeichnen Sie nun die jeweiligen D-P-Diagramme und vergleichen Sie diese wie in 2. a–b.  \n",
    "   Bestimmen Sie jeweils den Punkt maximaler Leistung.  \n",
    "   a. Mit welcher Flügelanzahl kann die höchste Leistung erzielt werden?  \n",
    "      Warum werden große Windkraftanlagen nahezu ausschließlich mit 3-Flügel-Rotoren gebaut?  \n",
    "   b. Überlegen und begründen Sie, welche Windrotorbauart (Flügel oder Savonius) für den Betrieb in den folgenden Umgebungen am besten geeignet ist:  \n",
    "      - Hohe Windgeschwindigkeit  \n",
    "      - Niedrige Windgeschwindigkeit  \n",
    "      - Stark wechselnde Windgeschwindigkeit\n",
    "\n",
    "---"
   ]
  },
  {
   "cell_type": "markdown",
   "id": "3774a7b7-0e7e-48c3-8833-531d4da1fd8a",
   "metadata": {
    "jupyter": {
     "source_hidden": true
    }
   },
   "source": [
    "### Schritt 1: Leistungsberechnung\n",
    "\n",
    "**Grundlagen:**\n",
    "Die elektrische Leistung $P$ eines Generators berechnet sich aus dem Produkt von Spannung $U$ und Stromstärke $I$:\n",
    "\n",
    "$$P = U \\cdot I$$\n",
    "\n",
    "Da unsere Messgrößen\n",
    "- Spannung $U$ in [V] (Volt)\n",
    "- Stromstärke $I$ in [mA] (Milliampere)\n",
    "\n",
    "sind, ergibt sich die Leistung in [mW] (Milliwatt).\n",
    "\n",
    "Die Leistung zeigt, wie effektiv ein Rotor Windenergie in elektrische Energie umwandelt. Ein Vergleich der Leistungswerte ermöglicht es, die verschiedenen Rotorbauarten zu bewerten.\n",
    "\n",
    "**Was passiert im folgenden Code:**\n",
    "- Für jeden Rotor wird dem `DataFrame`eine neue Spalte 'P [mW]' hinzugefügt und in dieser die Leistung berechnet\n",
    "- Die Berechnung erfolgt automatisch für alle Messpunkte gleichzeitig\n",
    "- Die erweiterten DataFrames werden zur Kontrolle angezeigt"
   ]
  },
  {
   "cell_type": "code",
   "execution_count": 32,
   "id": "4062bc3e-4ae4-43f8-8cc8-956d1aef6bfe",
   "metadata": {
    "jupyter": {
     "source_hidden": true
    }
   },
   "outputs": [
    {
     "name": "stdout",
     "output_type": "stream",
     "text": [
      "Leistung erfolgreich berechnet!\n"
     ]
    }
   ],
   "source": [
    "# SCHRITT 1: LEISTUNGSBERECHNUNG FÜR ALLE ROTOREN\n",
    "\n",
    "# Leistung P = U × I für jeden Rotor berechnen\n",
    "df_3blatt['P [mW]'] = df_3blatt['U [V]'] * df_3blatt['I [mA]']\n",
    "df_4blatt['P [mW]'] = df_4blatt['U [V]'] * df_4blatt['I [mA]']\n",
    "df_3flach['P [mW]'] = df_3flach['U [V]'] * df_3flach['I [mA]']\n",
    "df_savonius['P [mW]'] = df_savonius['U [V]'] * df_savonius['I [mA]']\n",
    "\n",
    "print(\"Leistung erfolgreich berechnet!\")"
   ]
  },
  {
   "cell_type": "code",
   "execution_count": 37,
   "id": "b4dc13b5-c71a-42b5-a6d4-7d8e2a5e00dd",
   "metadata": {
    "collapsed": true,
    "jupyter": {
     "outputs_hidden": true,
     "source_hidden": true
    }
   },
   "outputs": [
    {
     "name": "stdout",
     "output_type": "stream",
     "text": [
      "Tabelle 5:  Messdaten und berechnete Leistung – 3-Blatt-Rotor, optimiert\n",
      "╒══════════════╤═════════╤══════════╤═════════════╤══════════╕\n",
      "│              │   U [V] │   I [mA] │   D [1/min] │   P [mW] │\n",
      "╞══════════════╪═════════╪══════════╪═════════════╪══════════╡\n",
      "│ Messpunkt 1  │    3.77 │     4.00 │     4860.00 │    15.08 │\n",
      "├──────────────┼─────────┼──────────┼─────────────┼──────────┤\n",
      "│ Messpunkt 2  │    3.58 │    11.70 │     4731.00 │    41.89 │\n",
      "├──────────────┼─────────┼──────────┼─────────────┼──────────┤\n",
      "│ Messpunkt 3  │    3.35 │    20.10 │     4556.00 │    67.34 │\n",
      "├──────────────┼─────────┼──────────┼─────────────┼──────────┤\n",
      "│ Messpunkt 4  │    3.17 │    26.80 │     4468.00 │    84.96 │\n",
      "├──────────────┼─────────┼──────────┼─────────────┼──────────┤\n",
      "│ Messpunkt 5  │    2.99 │    35.20 │     4359.00 │   105.25 │\n",
      "├──────────────┼─────────┼──────────┼─────────────┼──────────┤\n",
      "│ Messpunkt 6  │    2.80 │    42.90 │     4238.00 │   120.12 │\n",
      "├──────────────┼─────────┼──────────┼─────────────┼──────────┤\n",
      "│ Messpunkt 7  │    2.61 │    50.50 │     4106.00 │   131.81 │\n",
      "├──────────────┼─────────┼──────────┼─────────────┼──────────┤\n",
      "│ Messpunkt 8  │    2.28 │    62.00 │     3842.00 │   141.36 │\n",
      "├──────────────┼─────────┼──────────┼─────────────┼──────────┤\n",
      "│ Messpunkt 9  │    2.08 │    69.70 │     3736.00 │   144.98 │\n",
      "├──────────────┼─────────┼──────────┼─────────────┼──────────┤\n",
      "│ Messpunkt 10 │    1.85 │    77.50 │     3515.00 │   143.38 │\n",
      "├──────────────┼─────────┼──────────┼─────────────┼──────────┤\n",
      "│ Messpunkt 11 │    1.40 │    90.00 │     3206.00 │   126.00 │\n",
      "├──────────────┼─────────┼──────────┼─────────────┼──────────┤\n",
      "│ Messpunkt 12 │    1.23 │    95.50 │     3052.00 │   117.47 │\n",
      "├──────────────┼─────────┼──────────┼─────────────┼──────────┤\n",
      "│ Messpunkt 13 │    1.05 │    99.30 │     2884.00 │   104.27 │\n",
      "├──────────────┼─────────┼──────────┼─────────────┼──────────┤\n",
      "│ Messpunkt 14 │    0.67 │    95.20 │     2302.00 │    63.78 │\n",
      "├──────────────┼─────────┼──────────┼─────────────┼──────────┤\n",
      "│ Messpunkt 15 │    0.19 │    27.30 │      599.00 │     5.13 │\n",
      "╘══════════════╧═════════╧══════════╧═════════════╧══════════╛\n",
      "\n",
      "\n",
      "Tabelle 6: Messdaten und berechnete Leistung – 4-Blatt-Rotor\n",
      "╒══════════════╤═════════╤══════════╤═════════════╤══════════╕\n",
      "│              │   U [V] │   I [mA] │   D [1/min] │   P [mW] │\n",
      "╞══════════════╪═════════╪══════════╪═════════════╪══════════╡\n",
      "│ Messpunkt 1  │    3.66 │     3.90 │     4712.00 │    14.27 │\n",
      "├──────────────┼─────────┼──────────┼─────────────┼──────────┤\n",
      "│ Messpunkt 2  │    3.50 │    11.40 │     4627.00 │    39.90 │\n",
      "├──────────────┼─────────┼──────────┼─────────────┼──────────┤\n",
      "│ Messpunkt 3  │    3.30 │    20.30 │     4529.00 │    66.99 │\n",
      "├──────────────┼─────────┼──────────┼─────────────┼──────────┤\n",
      "│ Messpunkt 4  │    3.08 │    31.80 │     4411.00 │    97.94 │\n",
      "├──────────────┼─────────┼──────────┼─────────────┼──────────┤\n",
      "│ Messpunkt 5  │    2.89 │    39.50 │     4308.00 │   114.16 │\n",
      "├──────────────┼─────────┼──────────┼─────────────┼──────────┤\n",
      "│ Messpunkt 6  │    2.70 │    43.50 │     4253.00 │   117.45 │\n",
      "├──────────────┼─────────┼──────────┼─────────────┼──────────┤\n",
      "│ Messpunkt 7  │    2.50 │    56.50 │     4080.00 │   141.25 │\n",
      "├──────────────┼─────────┼──────────┼─────────────┼──────────┤\n",
      "│ Messpunkt 8  │    2.31 │    64.70 │     3980.00 │   149.46 │\n",
      "├──────────────┼─────────┼──────────┼─────────────┼──────────┤\n",
      "│ Messpunkt 9  │    2.07 │    74.60 │     3831.00 │   154.42 │\n",
      "├──────────────┼─────────┼──────────┼─────────────┼──────────┤\n",
      "│ Messpunkt 10 │    1.82 │    85.60 │     3671.00 │   155.79 │\n",
      "├──────────────┼─────────┼──────────┼─────────────┼──────────┤\n",
      "│ Messpunkt 11 │    1.64 │    93.00 │     3556.00 │   152.52 │\n",
      "├──────────────┼─────────┼──────────┼─────────────┼──────────┤\n",
      "│ Messpunkt 12 │    1.37 │   103.60 │     3385.00 │   141.93 │\n",
      "├──────────────┼─────────┼──────────┼─────────────┼──────────┤\n",
      "│ Messpunkt 13 │    1.03 │   116.60 │     3147.00 │   120.10 │\n",
      "├──────────────┼─────────┼──────────┼─────────────┼──────────┤\n",
      "│ Messpunkt 14 │    0.84 │   123.20 │     3015.00 │   103.49 │\n",
      "╘══════════════╧═════════╧══════════╧═════════════╧══════════╛\n",
      "\n",
      "\n",
      "Tabelle 7: Messdaten und berechnete Leistung – 3-Blatt-Rotor, flach\n",
      "╒═════════════╤═════════╤══════════╤═════════════╤══════════╕\n",
      "│             │   U [V] │   I [mA] │   D [1/min] │   P [mW] │\n",
      "╞═════════════╪═════════╪══════════╪═════════════╪══════════╡\n",
      "│ Messpunkt 1 │    1.26 │     1.90 │     1608.00 │     2.39 │\n",
      "├─────────────┼─────────┼──────────┼─────────────┼──────────┤\n",
      "│ Messpunkt 2 │    1.01 │    14.70 │     1471.00 │    14.85 │\n",
      "├─────────────┼─────────┼──────────┼─────────────┼──────────┤\n",
      "│ Messpunkt 3 │    0.81 │    23.30 │     1336.00 │    18.80 │\n",
      "├─────────────┼─────────┼──────────┼─────────────┼──────────┤\n",
      "│ Messpunkt 4 │    0.61 │    30.30 │     1173.00 │    18.39 │\n",
      "├─────────────┼─────────┼──────────┼─────────────┼──────────┤\n",
      "│ Messpunkt 5 │    0.38 │    35.40 │      965.00 │    13.45 │\n",
      "├─────────────┼─────────┼──────────┼─────────────┼──────────┤\n",
      "│ Messpunkt 6 │    0.26 │    37.50 │      835.00 │     9.79 │\n",
      "╘═════════════╧═════════╧══════════╧═════════════╧══════════╛\n",
      "\n",
      "\n",
      "Tabelle 8: Messdaten und berechnete Leistung – Savonius-Rotor\n",
      "╒═════════════╤═════════╤══════════╤═════════════╤══════════╕\n",
      "│             │   U [V] │   I [mA] │   D [1/min] │   P [mW] │\n",
      "╞═════════════╪═════════╪══════════╪═════════════╪══════════╡\n",
      "│ Messpunkt 1 │    0.53 │     1.30 │      663.00 │     0.69 │\n",
      "├─────────────┼─────────┼──────────┼─────────────┼──────────┤\n",
      "│ Messpunkt 2 │    0.43 │     5.90 │      615.00 │     2.54 │\n",
      "├─────────────┼─────────┼──────────┼─────────────┼──────────┤\n",
      "│ Messpunkt 3 │    0.33 │    10.30 │      575.00 │     3.40 │\n",
      "├─────────────┼─────────┼──────────┼─────────────┼──────────┤\n",
      "│ Messpunkt 4 │    0.22 │    14.80 │      522.00 │     3.26 │\n",
      "├─────────────┼─────────┼──────────┼─────────────┼──────────┤\n",
      "│ Messpunkt 5 │    0.13 │    18.80 │      487.00 │     2.50 │\n",
      "╘═════════════╧═════════╧══════════╧═════════════╧══════════╛\n"
     ]
    }
   ],
   "source": [
    "# ERWEITERTE TABELLEN MIT LEISTUNG ANZEIGEN\n",
    "\n",
    "print(\"Tabelle 5:  Messdaten und berechnete Leistung – 3-Blatt-Rotor, optimiert\")\n",
    "print(tabulate(df_3blatt, headers=df_3blatt.columns, tablefmt='fancy_grid', \n",
    "               floatfmt=\".2f\"))\n",
    "print(\"\\n\")\n",
    "\n",
    "print(\"Tabelle 6: Messdaten und berechnete Leistung – 4-Blatt-Rotor\")\n",
    "print(tabulate(df_4blatt, headers=df_4blatt.columns, tablefmt='fancy_grid',\n",
    "               floatfmt=\".2f\"))\n",
    "print(\"\\n\")\n",
    "\n",
    "print(\"Tabelle 7: Messdaten und berechnete Leistung – 3-Blatt-Rotor, flach\")\n",
    "print(tabulate(df_3flach, headers=df_3flach.columns, tablefmt='fancy_grid', \n",
    "               floatfmt=\".2f\"))\n",
    "print(\"\\n\")\n",
    "\n",
    "print(\"Tabelle 8: Messdaten und berechnete Leistung – Savonius-Rotor\")\n",
    "print(tabulate(df_savonius, headers=df_savonius.columns, tablefmt='fancy_grid',\n",
    "               floatfmt=\".2f\"))"
   ]
  },
  {
   "cell_type": "markdown",
   "id": "f742f155-8530-4f5c-b36b-855b5efdbdef",
   "metadata": {
    "jupyter": {
     "source_hidden": true
    }
   },
   "source": [
    "### Schritt 2: U-I-Kennlinien\n",
    "\n",
    "**Grundlagen:**\n",
    "Die U-I-Kennlinie zeigt das Verhältnis zwischen Spannung $(U)$ und Stromstärke $(I)$ eines Generators. Sie ist charakteristisch für jede Rotorbauart und hilft beim Vergleich der elektrischen Eigenschaften.\n",
    "\n",
    "**Was zeigen U-I-Kennlinien:**\n",
    "- Wie sich die Spannung bei steigender Stromstärke verhält\n",
    "- Unterschiede zwischen verschiedenen Rotortypen\n",
    "- Elektrische Charakteristika der Generatoren"
   ]
  },
  {
   "cell_type": "code",
   "execution_count": 23,
   "id": "5018fdde-ec0c-4846-a332-28f23e716913",
   "metadata": {
    "collapsed": true,
    "jupyter": {
     "outputs_hidden": true,
     "source_hidden": true
    }
   },
   "outputs": [
    {
     "data": {
      "image/png": "[encoded data removed]",
      "text/plain": [
       "<Figure size 1400x1000 with 4 Axes>"
      ]
     },
     "metadata": {},
     "output_type": "display_data"
    },
    {
     "name": "stdout",
     "output_type": "stream",
     "text": [
      "============================================================\n",
      "ANALYSE DER U-I-KENNLINIEN\n",
      "============================================================\n",
      "Spannungsbereiche:\n",
      "3-Blatt (optimiert): 0.19 V bis 3.77 V\n",
      "4-Blatt:             0.84 V bis 3.66 V\n",
      "3-Blatt (flach):     0.261 V bis 1.26 V\n",
      "Savonius:            0.133 V bis 0.53 V\n",
      "\n",
      "Strombereiche:\n",
      "3-Blatt (optimiert): 4.0 mA bis 99.3 mA\n",
      "4-Blatt:             3.9 mA bis 123.2 mA\n",
      "3-Blatt (flach):     1.9 mA bis 37.5 mA\n",
      "Savonius:            1.3 mA bis 18.8 mA\n",
      "\n",
      "Charakteristische Unterschiede:\n",
      "- Optimierte 3-Blatt-Rotoren erreichen die höchsten Spannungen\n",
      "- 4-Blatt-Rotoren zeigen ähnliche Spannungen wie optimierte 3-Blatt\n",
      "- Flache 3-Blatt-Profile haben deutlich niedrigere Spannungen\n",
      "- Savonius-Rotoren arbeiten in einem ganz anderen Spannungsbereich\n",
      "============================================================\n"
     ]
    }
   ],
   "source": [
    "# SCHRITT 2a: U-I-KENNLINIEN - VIER SEPARATE DIAGRAMME\n",
    "\n",
    "# Vier Diagramme in 2x2 Anordnung erstellen\n",
    "fig, ((ax1, ax2), (ax3, ax4)) = plt.subplots(2, 2, figsize=(14, 10))\n",
    "\n",
    "# ============================================================================\n",
    "# DIAGRAMM 1: 3-BLATT-ROTOR (OPTIMIERT)\n",
    "# ============================================================================\n",
    "\n",
    "ax1.plot(df_3blatt['U [V]'], df_3blatt['I [mA]'], \"o\", label=\"3-Blatt-Rotor (optimiert)\", \n",
    "         markersize=6, color='blue')\n",
    "\n",
    "ax1.set_xlabel(\"Spannung U [V]\")\n",
    "ax1.set_ylabel(\"Stromstärke I [mA]\")\n",
    "ax1.set_title(\"U-I-Kennlinie: 3-Blatt-Rotor (optimiert)\")\n",
    "ax1.grid(True, alpha=0.3)\n",
    "ax1.legend()\n",
    "\n",
    "# ============================================================================\n",
    "# DIAGRAMM 2: 4-BLATT-ROTOR\n",
    "# ============================================================================\n",
    "\n",
    "ax2.plot(df_4blatt['U [V]'], df_4blatt['I [mA]'], \"s\", label=\"4-Blatt-Rotor\", \n",
    "         markersize=6, color='green')\n",
    "\n",
    "ax2.set_xlabel(\"Spannung U [V]\")\n",
    "ax2.set_ylabel(\"Stromstärke I [mA]\")\n",
    "ax2.set_title(\"U-I-Kennlinie: 4-Blatt-Rotor\")\n",
    "ax2.grid(True, alpha=0.3)\n",
    "ax2.legend()\n",
    "\n",
    "# ============================================================================\n",
    "# DIAGRAMM 3: 3-BLATT-ROTOR (FLACH)\n",
    "# ============================================================================\n",
    "\n",
    "ax3.plot(df_3flach['U [V]'], df_3flach['I [mA]'], \"^\", label=\"3-Blatt-Rotor (flach)\", \n",
    "         markersize=6, color='orange')\n",
    "\n",
    "ax3.set_xlabel(\"Spannung U [V]\")\n",
    "ax3.set_ylabel(\"Stromstärke I [mA]\")\n",
    "ax3.set_title(\"U-I-Kennlinie: 3-Blatt-Rotor (flach)\")\n",
    "ax3.grid(True, alpha=0.3)\n",
    "ax3.legend()\n",
    "\n",
    "# ============================================================================\n",
    "# DIAGRAMM 4: SAVONIUS-ROTOR\n",
    "# ============================================================================\n",
    "\n",
    "ax4.plot(df_savonius['U [V]'], df_savonius['I [mA]'], \"d\", label=\"Savonius-Rotor\", \n",
    "         markersize=6, color='red')\n",
    "\n",
    "ax4.set_xlabel(\"Stromstärke I [mA]\")\n",
    "ax4.set_ylabel(\"Spannung U [V]\")\n",
    "ax4.set_title(\"U-I-Kennlinie: Savonius-Rotor\")\n",
    "ax4.grid(True, alpha=0.3)\n",
    "ax4.legend()\n",
    "\n",
    "# Layout optimieren und anzeigen\n",
    "plt.tight_layout()\n",
    "plt.show()\n",
    "\n",
    "# ============================================================================\n",
    "# ANALYSE DER U-I-KENNLINIEN\n",
    "# ============================================================================\n",
    "\n",
    "print(\"=\" * 60)\n",
    "print(\"ANALYSE DER U-I-KENNLINIEN\")\n",
    "print(\"=\" * 60)\n",
    "\n",
    "print(\"Spannungsbereiche:\")\n",
    "print(f\"3-Blatt (optimiert): {min(u_3blatt):.2f} V bis {max(u_3blatt):.2f} V\")\n",
    "print(f\"4-Blatt:             {min(u_4blatt):.2f} V bis {max(u_4blatt):.2f} V\")\n",
    "print(f\"3-Blatt (flach):     {min(u_3flach):.3f} V bis {max(u_3flach):.2f} V\")\n",
    "print(f\"Savonius:            {min(u_savonius):.3f} V bis {max(u_savonius):.2f} V\")\n",
    "\n",
    "print()\n",
    "\n",
    "print(\"Strombereiche:\")\n",
    "print(f\"3-Blatt (optimiert): {min(i_3blatt):.1f} mA bis {max(i_3blatt):.1f} mA\")\n",
    "print(f\"4-Blatt:             {min(i_4blatt):.1f} mA bis {max(i_4blatt):.1f} mA\")\n",
    "print(f\"3-Blatt (flach):     {min(i_3flach):.1f} mA bis {max(i_3flach):.1f} mA\")\n",
    "print(f\"Savonius:            {min(i_savonius):.1f} mA bis {max(i_savonius):.1f} mA\")\n",
    "\n",
    "print()\n",
    "\n",
    "print(\"Charakteristische Unterschiede:\")\n",
    "print(\"- Optimierte 3-Blatt-Rotoren erreichen die höchsten Spannungen\")\n",
    "print(\"- 4-Blatt-Rotoren zeigen ähnliche Spannungen wie optimierte 3-Blatt\")\n",
    "print(\"- Flache 3-Blatt-Profile haben deutlich niedrigere Spannungen\")\n",
    "print(\"- Savonius-Rotoren arbeiten in einem ganz anderen Spannungsbereich\")\n",
    "print(\"=\" * 60)"
   ]
  },
  {
   "cell_type": "code",
   "execution_count": 24,
   "id": "9af055c3-f33a-4dbb-a01b-4b56d0170f88",
   "metadata": {
    "collapsed": true,
    "jupyter": {
     "outputs_hidden": true,
     "source_hidden": true
    }
   },
   "outputs": [
    {
     "data": {
      "image/png": "[encoded data removed]",
      "text/plain": [
       "<Figure size 1800x600 with 3 Axes>"
      ]
     },
     "metadata": {},
     "output_type": "display_data"
    },
    {
     "name": "stdout",
     "output_type": "stream",
     "text": [
      "======================================================================\n",
      "ANALYSE DER U-I-KENNLINIEN-VERGLEICHE\n",
      "======================================================================\n",
      "VERGLEICH 1 - Blätteranzahl (3 vs 4):\n",
      "- Spannungsbereich:\n",
      "  3-Blatt: 0.19 V bis 3.77 V\n",
      "  4-Blatt: 0.84 V bis 3.66 V\n",
      "- Maximaler Strom:\n",
      "  3-Blatt: 99.3 mA\n",
      "  4-Blatt: 123.2 mA\n",
      "\n",
      "VERGLEICH 2 - Blattprofile (optimiert vs flach):\n",
      "- Spannungsbereich:\n",
      "  Optimiert: 0.19 V bis 3.77 V\n",
      "  Flach:     0.261 V bis 1.26 V\n",
      "- Maximaler Strom:\n",
      "  Optimiert: 99.3 mA\n",
      "  Flach:     37.5 mA\n",
      "\n",
      "VERGLEICH 3 - Bauarten (Auftrieb vs Widerstand):\n",
      "- Spannungsbereich:\n",
      "  3-Blatt:  0.19 V bis 3.77 V\n",
      "  Savonius: 0.133 V bis 0.53 V\n",
      "- Maximaler Strom:\n",
      "  3-Blatt:  99.3 mA\n",
      "  Savonius: 18.8 mA\n",
      "\n",
      "SCHLUSSFOLGERUNGEN:\n",
      "- Der 3-Blatt optimierte Rotor zeigt in allen Vergleichen die höchsten Spannungen\n",
      "- Blattprofile haben enormen Einfluss auf die Leistungsfähigkeit\n",
      "- Savonius-Rotoren arbeiten in einem völlig anderen Betriebsbereich\n",
      "======================================================================\n"
     ]
    }
   ],
   "source": [
    "# SCHRITT 2b: VERGLEICH DER U-I-KENNLINIEN\n",
    "\n",
    "# Drei Vergleichsdiagramme nebeneinander\n",
    "fig, (ax1, ax2, ax3) = plt.subplots(1, 3, figsize=(18, 6))\n",
    "\n",
    "# ============================================================================\n",
    "# VERGLEICH 1: 3-BLATT OPTIMIERT vs 4-BLATT\n",
    "# ============================================================================\n",
    "\n",
    "ax1.plot(df_3blatt['U [V]'], df_3blatt['I [mA]'], \"o\", label=\"3-Blatt-Rotor (optimiert)\", \n",
    "         markersize=6, color='blue')\n",
    "ax1.plot(df_4blatt['U [V]'], df_4blatt['I [mA]'], \"s\", label=\"4-Blatt-Rotor\", \n",
    "         markersize=6, color='green')\n",
    "\n",
    "ax1.set_xlabel(\"Spannung U [V]\")\n",
    "ax1.set_ylabel(\"Stromstärke I [mA]\")\n",
    "ax1.set_title(\"Vergleich: Blätteranzahl\\n3-Blatt vs 4-Blatt\")\n",
    "ax1.grid(True, alpha=0.3)\n",
    "ax1.legend()\n",
    "\n",
    "# ============================================================================\n",
    "# VERGLEICH 2: 3-BLATT OPTIMIERT vs 3-BLATT FLACH\n",
    "# ============================================================================\n",
    "\n",
    "ax2.plot(df_3blatt['U [V]'], df_3blatt['I [mA]'], \"o\", label=\"3-Blatt-Rotor (optimiert)\", \n",
    "         markersize=6, color='blue')\n",
    "ax2.plot(df_3flach['U [V]'], df_3flach['I [mA]'], \"^\", label=\"3-Blatt-Rotor (flach)\", \n",
    "         markersize=6, color='orange')\n",
    "\n",
    "ax2.set_xlabel(\"Spannung U [V]\")\n",
    "ax2.set_ylabel(\"Stromstärke I [mA]\")\n",
    "ax2.set_title(\"Vergleich: Blattprofile\\nOptimiert vs Flach\")\n",
    "ax2.grid(True, alpha=0.3)\n",
    "ax2.legend()\n",
    "\n",
    "# ============================================================================\n",
    "# VERGLEICH 3: 3-BLATT OPTIMIERT vs SAVONIUS\n",
    "# ============================================================================\n",
    "\n",
    "ax3.plot(df_3blatt['U [V]'], df_3blatt['I [mA]'], \"o\", label=\"3-Blatt-Rotor (optimiert)\", \n",
    "         markersize=6, color='blue')\n",
    "ax3.plot(df_savonius['U [V]'], df_savonius['I [mA]'], \"d\", label=\"Savonius-Rotor\", \n",
    "         markersize=6, color='red')\n",
    "\n",
    "ax3.set_xlabel(\"Spannung U [V]\")\n",
    "ax3.set_ylabel(\"Stromstärke I [mA]\")\n",
    "ax3.set_title(\"Vergleich: Bauarten\\nAuftrieb vs Widerstand\")\n",
    "ax3.grid(True, alpha=0.3)\n",
    "ax3.legend()\n",
    "\n",
    "# Layout optimieren\n",
    "plt.tight_layout()\n",
    "plt.show()\n",
    "\n",
    "# ============================================================================\n",
    "# ANALYSE DER VERGLEICHE\n",
    "# ============================================================================\n",
    "\n",
    "print(\"=\" * 70)\n",
    "print(\"ANALYSE DER U-I-KENNLINIEN-VERGLEICHE\")\n",
    "print(\"=\" * 70)\n",
    "\n",
    "print(\"VERGLEICH 1 - Blätteranzahl (3 vs 4):\")\n",
    "print(\"- Spannungsbereich:\")\n",
    "print(f\"  3-Blatt: {min(df_3blatt['U [V]']):.2f} V bis {max(df_3blatt['U [V]']):.2f} V\")\n",
    "print(f\"  4-Blatt: {min(df_4blatt['U [V]']):.2f} V bis {max(df_4blatt['U [V]']):.2f} V\")\n",
    "print(\"- Maximaler Strom:\")\n",
    "print(f\"  3-Blatt: {max(df_3blatt['I [mA]']):.1f} mA\")\n",
    "print(f\"  4-Blatt: {max(df_4blatt['I [mA]']):.1f} mA\")\n",
    "\n",
    "print()\n",
    "print(\"VERGLEICH 2 - Blattprofile (optimiert vs flach):\")\n",
    "print(\"- Spannungsbereich:\")\n",
    "print(f\"  Optimiert: {min(df_3blatt['U [V]']):.2f} V bis {max(df_3blatt['U [V]']):.2f} V\")\n",
    "print(f\"  Flach:     {min(df_3flach['U [V]']):.3f} V bis {max(df_3flach['U [V]']):.2f} V\")\n",
    "print(\"- Maximaler Strom:\")\n",
    "print(f\"  Optimiert: {max(df_3blatt['I [mA]']):.1f} mA\")\n",
    "print(f\"  Flach:     {max(df_3flach['I [mA]']):.1f} mA\")\n",
    "\n",
    "print()\n",
    "print(\"VERGLEICH 3 - Bauarten (Auftrieb vs Widerstand):\")\n",
    "print(\"- Spannungsbereich:\")\n",
    "print(f\"  3-Blatt:  {min(df_3blatt['U [V]']):.2f} V bis {max(df_3blatt['U [V]']):.2f} V\")\n",
    "print(f\"  Savonius: {min(df_savonius['U [V]']):.3f} V bis {max(df_savonius['U [V]']):.2f} V\")\n",
    "print(\"- Maximaler Strom:\")\n",
    "print(f\"  3-Blatt:  {max(df_3blatt['I [mA]']):.1f} mA\")\n",
    "print(f\"  Savonius: {max(df_savonius['I [mA]']):.1f} mA\")\n",
    "\n",
    "print()\n",
    "print(\"SCHLUSSFOLGERUNGEN:\")\n",
    "print(\"- Der 3-Blatt optimierte Rotor zeigt in allen Vergleichen die höchsten Spannungen\")\n",
    "print(\"- Blattprofile haben enormen Einfluss auf die Leistungsfähigkeit\")\n",
    "print(\"- Savonius-Rotoren arbeiten in einem völlig anderen Betriebsbereich\")\n",
    "print(\"=\" * 70)"
   ]
  },
  {
   "cell_type": "markdown",
   "id": "815013f5-18d0-4ef8-bc61-1a9856103dd8",
   "metadata": {
    "jupyter": {
     "source_hidden": true
    }
   },
   "source": [
    "### Schritt 3: D-P-Diagramme (Drehzahl-Leistung)\n",
    "\n",
    "**Grundlagen**\n",
    "Das D-P-Diagramm zeigt den Zusammenhang zwischen Drehzahl ($D$) und elektrischer Leistung ($P$). Es ist besonders wichtig, da aus diesem der **Punkt maximaler Leistung (MPP - Maximum Power Point)** für jeden Rotor abgeleitet werden kann.\n",
    "\n",
    "**Wichtig: Der MPP ist nicht der von Ihnen höchste gemessener Wert, sondern liegt in der Regel zwischen Ihren Messwerten. Sie müssen den MPP also rechnerisch bestimmen!**\n",
    "\n",
    "**Warum D-P-Diagramme wichtig sind:**\n",
    "- Sie zeigen bei welcher Drehzahl die höchste Leistung erreicht wird\n",
    "- Verschiedene Rotortypen haben unterschiedliche Leistungscharakteristika\n",
    "- Basis für die Bewertung der Effizienz verschiedener Bauarten"
   ]
  },
  {
   "cell_type": "code",
   "execution_count": 25,
   "id": "d58ddf06-1f9d-4452-8803-4f3eb5da212d",
   "metadata": {
    "collapsed": true,
    "jupyter": {
     "outputs_hidden": true,
     "source_hidden": true
    }
   },
   "outputs": [
    {
     "data": {
      "image/png": "[encoded data removed]",
      "text/plain": [
       "<Figure size 1800x600 with 3 Axes>"
      ]
     },
     "metadata": {},
     "output_type": "display_data"
    },
    {
     "name": "stdout",
     "output_type": "stream",
     "text": [
      "======================================================================\n",
      "ANALYSE DER D-P-DIAGRAMM-VERGLEICHE\n",
      "======================================================================\n",
      "VERGLEICH 1 - Blätteranzahl (3 vs 4):\n",
      "- Drehzahlbereich:\n",
      "  3-Blatt: 599 1/min bis 4860 1/min\n",
      "  4-Blatt: 3015 1/min bis 4712 1/min\n",
      "- Maximale Leistung:\n",
      "  3-Blatt: 144.98 mW\n",
      "  4-Blatt: 155.79 mW\n",
      "\n",
      "VERGLEICH 2 - Blattprofile (optimiert vs flach):\n",
      "- Drehzahlbereich:\n",
      "  Optimiert: 599 1/min bis 4860 1/min\n",
      "  Flach:     835 1/min bis 1608 1/min\n",
      "- Maximale Leistung:\n",
      "  Optimiert: 144.98 mW\n",
      "  Flach:     18.80 mW\n",
      "\n",
      "VERGLEICH 3 - Bauarten (Auftrieb vs Widerstand):\n",
      "- Drehzahlbereich:\n",
      "  3-Blatt:  599 1/min bis 4860 1/min\n",
      "  Savonius: 487 1/min bis 663 1/min\n",
      "- Maximale Leistung:\n",
      "  3-Blatt:  144.98 mW\n",
      "  Savonius: 3.40 mW\n",
      "\n",
      "SCHLUSSFOLGERUNGEN:\n",
      "- Optimierte Profile zeigen deutlich höhere Leistungen als flache Profile\n",
      "- 3-Blatt und 4-Blatt Rotoren erreichen ähnliche Maximalleistungen\n",
      "- Savonius-Rotoren arbeiten bei niedrigeren Drehzahlen mit geringerer Leistung\n",
      "- Die Diagramme zeigen unterschiedliche Leistungscharakteristika der Bauarten\n",
      "======================================================================\n"
     ]
    }
   ],
   "source": [
    "# SCHRITT 3a: D-P-DIAGRAMME - VERGLEICHE\n",
    "\n",
    "# Drei Vergleichsdiagramme nebeneinander\n",
    "fig, (ax1, ax2, ax3) = plt.subplots(1, 3, figsize=(18, 6))\n",
    "\n",
    "# ============================================================================\n",
    "# VERGLEICH 1: 3-BLATT OPTIMIERT vs 4-BLATT\n",
    "# ============================================================================\n",
    "\n",
    "ax1.plot(df_3blatt['D [1/min]'], df_3blatt['P [mW]'], \"o\", label=\"3-Blatt-Rotor (optimiert)\", \n",
    "         markersize=6, color='blue')\n",
    "ax1.plot(df_4blatt['D [1/min]'], df_4blatt['P [mW]'], \"s\", label=\"4-Blatt-Rotor\", \n",
    "         markersize=6, color='green')\n",
    "\n",
    "ax1.set_xlabel(\"Drehzahl D [1/min]\")\n",
    "ax1.set_ylabel(\"Leistung P [mW]\")\n",
    "ax1.set_title(\"Vergleich: Blätteranzahl\\n3-Blatt vs 4-Blatt\")\n",
    "ax1.grid(True, alpha=0.3)\n",
    "ax1.legend()\n",
    "\n",
    "# ============================================================================\n",
    "# VERGLEICH 2: 3-BLATT OPTIMIERT vs 3-BLATT FLACH\n",
    "# ============================================================================\n",
    "\n",
    "ax2.plot(df_3blatt['D [1/min]'], df_3blatt['P [mW]'], \"o\", label=\"3-Blatt-Rotor (optimiert)\", \n",
    "         markersize=6, color='blue')\n",
    "ax2.plot(df_3flach['D [1/min]'], df_3flach['P [mW]'], \"^\", label=\"3-Blatt-Rotor (flach)\", \n",
    "         markersize=6, color='orange')\n",
    "\n",
    "ax2.set_xlabel(\"Drehzahl D [1/min]\")\n",
    "ax2.set_ylabel(\"Leistung P [mW]\")\n",
    "ax2.set_title(\"Vergleich: Blattprofile\\nOptimiert vs Flach\")\n",
    "ax2.grid(True, alpha=0.3)\n",
    "ax2.legend()\n",
    "\n",
    "# ============================================================================\n",
    "# VERGLEICH 3: 3-BLATT OPTIMIERT vs SAVONIUS\n",
    "# ============================================================================\n",
    "\n",
    "ax3.plot(df_3blatt['D [1/min]'], df_3blatt['P [mW]'], \"o\", label=\"3-Blatt-Rotor (optimiert)\", \n",
    "         markersize=6, color='blue')\n",
    "ax3.plot(df_savonius['D [1/min]'], df_savonius['P [mW]'], \"d\", label=\"Savonius-Rotor\", \n",
    "         markersize=6, color='red')\n",
    "\n",
    "ax3.set_xlabel(\"Drehzahl D [1/min]\")\n",
    "ax3.set_ylabel(\"Leistung P [mW]\")\n",
    "ax3.set_title(\"Vergleich: Bauarten\\nAuftrieb vs Widerstand\")\n",
    "ax3.grid(True, alpha=0.3)\n",
    "ax3.legend()\n",
    "\n",
    "# Layout optimieren\n",
    "plt.tight_layout()\n",
    "plt.show()\n",
    "\n",
    "# ============================================================================\n",
    "# ANALYSE DER D-P-VERGLEICHE\n",
    "# ============================================================================\n",
    "\n",
    "print(\"=\" * 70)\n",
    "print(\"ANALYSE DER D-P-DIAGRAMM-VERGLEICHE\")\n",
    "print(\"=\" * 70)\n",
    "\n",
    "print(\"VERGLEICH 1 - Blätteranzahl (3 vs 4):\")\n",
    "print(\"- Drehzahlbereich:\")\n",
    "print(f\"  3-Blatt: {min(df_3blatt['D [1/min]']):.0f} 1/min bis {max(df_3blatt['D [1/min]']):.0f} 1/min\")\n",
    "print(f\"  4-Blatt: {min(df_4blatt['D [1/min]']):.0f} 1/min bis {max(df_4blatt['D [1/min]']):.0f} 1/min\")\n",
    "print(\"- Maximale Leistung:\")\n",
    "print(f\"  3-Blatt: {max(df_3blatt['P [mW]']):.2f} mW\")\n",
    "print(f\"  4-Blatt: {max(df_4blatt['P [mW]']):.2f} mW\")\n",
    "\n",
    "print()\n",
    "print(\"VERGLEICH 2 - Blattprofile (optimiert vs flach):\")\n",
    "print(\"- Drehzahlbereich:\")\n",
    "print(f\"  Optimiert: {min(df_3blatt['D [1/min]']):.0f} 1/min bis {max(df_3blatt['D [1/min]']):.0f} 1/min\")\n",
    "print(f\"  Flach:     {min(df_3flach['D [1/min]']):.0f} 1/min bis {max(df_3flach['D [1/min]']):.0f} 1/min\")\n",
    "print(\"- Maximale Leistung:\")\n",
    "print(f\"  Optimiert: {max(df_3blatt['P [mW]']):.2f} mW\")\n",
    "print(f\"  Flach:     {max(df_3flach['P [mW]']):.2f} mW\")\n",
    "\n",
    "print()\n",
    "print(\"VERGLEICH 3 - Bauarten (Auftrieb vs Widerstand):\")\n",
    "print(\"- Drehzahlbereich:\")\n",
    "print(f\"  3-Blatt:  {min(df_3blatt['D [1/min]']):.0f} 1/min bis {max(df_3blatt['D [1/min]']):.0f} 1/min\")\n",
    "print(f\"  Savonius: {min(df_savonius['D [1/min]']):.0f} 1/min bis {max(df_savonius['D [1/min]']):.0f} 1/min\")\n",
    "print(\"- Maximale Leistung:\")\n",
    "print(f\"  3-Blatt:  {max(df_3blatt['P [mW]']):.2f} mW\")\n",
    "print(f\"  Savonius: {max(df_savonius['P [mW]']):.2f} mW\")\n",
    "\n",
    "print()\n",
    "print(\"SCHLUSSFOLGERUNGEN:\")\n",
    "print(\"- Optimierte Profile zeigen deutlich höhere Leistungen als flache Profile\")\n",
    "print(\"- 3-Blatt und 4-Blatt Rotoren erreichen ähnliche Maximalleistungen\")\n",
    "print(\"- Savonius-Rotoren arbeiten bei niedrigeren Drehzahlen mit geringerer Leistung\")\n",
    "print(\"- Die Diagramme zeigen unterschiedliche Leistungscharakteristika der Bauarten\")\n",
    "print(\"=\" * 70)"
   ]
  },
  {
   "cell_type": "code",
   "execution_count": 42,
   "id": "a9f6e195-1e00-429b-910a-6d02a9eaa805",
   "metadata": {
    "collapsed": true,
    "jupyter": {
     "outputs_hidden": true,
     "source_hidden": true
    }
   },
   "outputs": [
    {
     "name": "stdout",
     "output_type": "stream",
     "text": [
      "======================================================================\n",
      "EXTREMSTELLEN-ANALYSE\n",
      "======================================================================\n",
      "3-Blatt-Rotor (optimiert):\n",
      "D = 3666.09 1/min ist ein Maximum (f''(x) = -0.0001)\n",
      "D = 1081.67 1/min ist ein Minimum (f''(x) = 0.0001)\n",
      "\n",
      "4-Blatt-Rotor:\n",
      "D = 3749.42 1/min ist ein Maximum (f''(x) = -0.0002)\n",
      "D = 1310.11 1/min ist ein Minimum (f''(x) = 0.0002)\n",
      "\n",
      "3-Blatt-Rotor (flach):\n",
      "D = 1274.51 1/min ist ein Maximum (f''(x) = -0.0002)\n",
      "D = 732.12 1/min ist ein Minimum (f''(x) = 0.0002)\n",
      "\n",
      "Savonius-Rotor:\n",
      "D = 2600.96 1/min ist ein Minimum (f''(x) = 0.0005)\n",
      "D = 551.55 1/min ist ein Maximum (f''(x) = -0.0005)\n",
      "\n",
      "======================================================================\n",
      "MAXIMUM POWER POINTS\n",
      "======================================================================\n",
      "Der MPP des 3-Blatt-Rotors (optimiert) liegt bei 142.83 mW\n",
      "Der MPP des 4-Blatt-Rotors liegt bei 156.19 mW\n",
      "Der MPP des 3-Blatt-Rotors (flach) liegt bei 19.55 mW\n",
      "Der MPP des Savonius-Rotors liegt bei -324.65 mW\n"
     ]
    },
    {
     "data": {
      "image/png": "[encoded data removed]",
      "text/plain": [
       "<Figure size 1800x600 with 3 Axes>"
      ]
     },
     "metadata": {},
     "output_type": "display_data"
    },
    {
     "name": "stdout",
     "output_type": "stream",
     "text": [
      "\n"
     ]
    }
   ],
   "source": [
    "# SCHRITT 3b: MAXIMUM POWER POINT (MPP) BERECHNEN - KUBISCHE REGRESSION\n",
    "\n",
    "# Kubische Regressionskurven für alle vier Rotoren\n",
    "reg_3blatt = np.poly1d(np.polyfit(df_3blatt['D [1/min]'], df_3blatt['P [mW]'], 3))\n",
    "reg_4blatt = np.poly1d(np.polyfit(df_4blatt['D [1/min]'], df_4blatt['P [mW]'], 3))\n",
    "reg_3flach = np.poly1d(np.polyfit(df_3flach['D [1/min]'], df_3flach['P [mW]'], 3))\n",
    "reg_savonius = np.poly1d(np.polyfit(df_savonius['D [1/min]'], df_savonius['P [mW]'], 3))\n",
    "\n",
    "# Erste Ableitungen berechnen\n",
    "ableitung_3blatt = np.polyder(reg_3blatt)\n",
    "ableitung_4blatt = np.polyder(reg_4blatt)\n",
    "ableitung_3flach = np.polyder(reg_3flach)\n",
    "ableitung_savonius = np.polyder(reg_savonius)\n",
    "\n",
    "# Zweite Ableitungen berechnen\n",
    "zweite_ableitung_3blatt = np.polyder(ableitung_3blatt)\n",
    "zweite_ableitung_4blatt = np.polyder(ableitung_4blatt)\n",
    "zweite_ableitung_3flach = np.polyder(ableitung_3flach)\n",
    "zweite_ableitung_savonius = np.polyder(ableitung_savonius)\n",
    "\n",
    "# Nullstellen der ersten Ableitung finden\n",
    "nullstellen_3blatt = np.roots(ableitung_3blatt)\n",
    "nullstellen_4blatt = np.roots(ableitung_4blatt)\n",
    "nullstellen_3flach = np.roots(ableitung_3flach)\n",
    "nullstellen_savonius = np.roots(ableitung_savonius)\n",
    "\n",
    "print(\"=\" * 70)\n",
    "print(\"EXTREMSTELLEN-ANALYSE\")\n",
    "print(\"=\" * 70)\n",
    "\n",
    "# 3-Blatt-Rotor (optimiert) analysieren\n",
    "print(\"3-Blatt-Rotor (optimiert):\")\n",
    "for x in nullstellen_3blatt:\n",
    "    wert_zweite_ableitung = zweite_ableitung_3blatt(x)\n",
    "    if wert_zweite_ableitung > 0:\n",
    "        print(f\"D = {x:.2f} 1/min ist ein Minimum (f''(x) = {wert_zweite_ableitung:.4f})\")\n",
    "    elif wert_zweite_ableitung < 0:\n",
    "        print(f\"D = {x:.2f} 1/min ist ein Maximum (f''(x) = {wert_zweite_ableitung:.4f})\")\n",
    "    else:\n",
    "        print(f\"D = {x:.2f} 1/min könnte ein Sattelpunkt sein (f''(x) = {wert_zweite_ableitung:.4f})\")\n",
    "\n",
    "print(\"\")\n",
    "\n",
    "# 4-Blatt-Rotor analysieren\n",
    "print(\"4-Blatt-Rotor:\")\n",
    "for x in nullstellen_4blatt:\n",
    "    wert_zweite_ableitung = zweite_ableitung_4blatt(x)\n",
    "    if wert_zweite_ableitung > 0:\n",
    "        print(f\"D = {x:.2f} 1/min ist ein Minimum (f''(x) = {wert_zweite_ableitung:.4f})\")\n",
    "    elif wert_zweite_ableitung < 0:\n",
    "        print(f\"D = {x:.2f} 1/min ist ein Maximum (f''(x) = {wert_zweite_ableitung:.4f})\")\n",
    "    else:\n",
    "        print(f\"D = {x:.2f} 1/min könnte ein Sattelpunkt sein (f''(x) = {wert_zweite_ableitung:.4f})\")\n",
    "\n",
    "print(\"\")\n",
    "\n",
    "# 3-Blatt-Rotor (flach) analysieren\n",
    "print(\"3-Blatt-Rotor (flach):\")\n",
    "for x in nullstellen_3flach:\n",
    "    wert_zweite_ableitung = zweite_ableitung_3flach(x)\n",
    "    if wert_zweite_ableitung > 0:\n",
    "        print(f\"D = {x:.2f} 1/min ist ein Minimum (f''(x) = {wert_zweite_ableitung:.4f})\")\n",
    "    elif wert_zweite_ableitung < 0:\n",
    "        print(f\"D = {x:.2f} 1/min ist ein Maximum (f''(x) = {wert_zweite_ableitung:.4f})\")\n",
    "    else:\n",
    "        print(f\"D = {x:.2f} 1/min könnte ein Sattelpunkt sein (f''(x) = {wert_zweite_ableitung:.4f})\")\n",
    "\n",
    "print(\"\")\n",
    "\n",
    "# Savonius-Rotor analysieren\n",
    "print(\"Savonius-Rotor:\")\n",
    "for x in nullstellen_savonius:\n",
    "    wert_zweite_ableitung = zweite_ableitung_savonius(x)\n",
    "    if wert_zweite_ableitung > 0:\n",
    "        print(f\"D = {x:.2f} 1/min ist ein Minimum (f''(x) = {wert_zweite_ableitung:.4f})\")\n",
    "    elif wert_zweite_ableitung < 0:\n",
    "        print(f\"D = {x:.2f} 1/min ist ein Maximum (f''(x) = {wert_zweite_ableitung:.4f})\")\n",
    "    else:\n",
    "        print(f\"D = {x:.2f} 1/min könnte ein Sattelpunkt sein (f''(x) = {wert_zweite_ableitung:.4f})\")\n",
    "\n",
    "print(\"\")\n",
    "\n",
    "# MPP berechnen - EXAKT WIE IN DER PV-VORLAGE (erste Nullstelle nehmen)\n",
    "MPP_3blatt = reg_3blatt(nullstellen_3blatt[0])\n",
    "MPP_4blatt = reg_4blatt(nullstellen_4blatt[0])\n",
    "MPP_3flach = reg_3flach(nullstellen_3flach[0])\n",
    "MPP_savonius = reg_savonius(nullstellen_savonius[0])\n",
    "\n",
    "print(\"=\" * 70)\n",
    "print(\"MAXIMUM POWER POINTS\")\n",
    "print(\"=\" * 70)\n",
    "\n",
    "print(\"Der MPP des 3-Blatt-Rotors (optimiert) liegt bei\", f\"{MPP_3blatt:.2f}\", \"mW\")\n",
    "print(\"Der MPP des 4-Blatt-Rotors liegt bei\", f\"{MPP_4blatt:.2f}\", \"mW\")\n",
    "print(\"Der MPP des 3-Blatt-Rotors (flach) liegt bei\", f\"{MPP_3flach:.2f}\", \"mW\")\n",
    "print(\"Der MPP des Savonius-Rotors liegt bei\", f\"{MPP_savonius:.2f}\", \"mW\")\n",
    "\n",
    "# ============================================================================\n",
    "# DIAGRAMME MIT REGRESSIONSKURVEN UND MPP\n",
    "# ============================================================================\n",
    "\n",
    "# Bereich für glatte Regressionskurven\n",
    "reg_bereich_3blatt = np.linspace(500, 5000, 200)\n",
    "reg_bereich_4blatt = np.linspace(3000, 4800, 100)\n",
    "reg_bereich_3flach = np.linspace(800, 1700, 100)\n",
    "reg_bereich_savonius = np.linspace(480, 700, 100)\n",
    "\n",
    "# Drei Diagramme erstellen\n",
    "fig, (ax1, ax2, ax3) = plt.subplots(1, 3, figsize=(18, 6))\n",
    "\n",
    "# ============================================================================\n",
    "# DIAGRAMM 1: 3-Blatt optimiert vs 4-Blatt\n",
    "# ============================================================================\n",
    "\n",
    "ax1.plot(df_3blatt['D [1/min]'], df_3blatt['P [mW]'], \"o\", label=\"3-Blatt (optimiert) Messdaten\", color='blue')\n",
    "ax1.plot(reg_bereich_3blatt, reg_3blatt(reg_bereich_3blatt), \"--\", color=\"lightblue\", label=\"Regression 3-Blatt\")\n",
    "ax1.plot(df_4blatt['D [1/min]'], df_4blatt['P [mW]'], \"s\", color=\"green\", label=\"4-Blatt Messdaten\")\n",
    "ax1.plot(reg_bereich_4blatt, reg_4blatt(reg_bereich_4blatt), \":\", color=\"lightgreen\", label=\"Regression 4-Blatt\")\n",
    "\n",
    "# MPP markieren - EXAKT WIE IN PV-VORLAGE\n",
    "ax1.plot(nullstellen_3blatt[0], MPP_3blatt, \"o\", label=\"MPP 3-Blatt\", color=\"darkblue\", markersize=8)\n",
    "ax1.plot(nullstellen_4blatt[0], MPP_4blatt, \"s\", label=\"MPP 4-Blatt\", color=\"darkgreen\", markersize=8)\n",
    "\n",
    "ax1.set_xlabel(\"Drehzahl D [1/min]\")\n",
    "ax1.set_ylabel(\"Leistung P [mW]\")\n",
    "ax1.set_title(\"D-P-Diagramm: 3-Blatt vs 4-Blatt (mit MPP)\")\n",
    "ax1.grid()\n",
    "ax1.legend()\n",
    "\n",
    "# ============================================================================\n",
    "# DIAGRAMM 2: 3-Blatt optimiert vs 3-Blatt flach\n",
    "# ============================================================================\n",
    "\n",
    "ax2.plot(df_3blatt['D [1/min]'], df_3blatt['P [mW]'], \"o\", label=\"3-Blatt (optimiert) Messdaten\", color='blue')\n",
    "ax2.plot(reg_bereich_3blatt, reg_3blatt(reg_bereich_3blatt), \"--\", color=\"lightblue\", label=\"Regression 3-Blatt optimiert\")\n",
    "ax2.plot(df_3flach['D [1/min]'], df_3flach['P [mW]'], \"^\", color=\"orange\", label=\"3-Blatt (flach) Messdaten\")\n",
    "ax2.plot(reg_bereich_3flach, reg_3flach(reg_bereich_3flach), \"-.\", color=\"orange\", alpha=0.7, label=\"Regression 3-Blatt flach\")\n",
    "\n",
    "# MPP markieren\n",
    "ax2.plot(nullstellen_3blatt[0], MPP_3blatt, \"o\", label=\"MPP optimiert\", color=\"darkblue\", markersize=8)\n",
    "ax2.plot(nullstellen_3flach[0], MPP_3flach, \"^\", label=\"MPP flach\", color=\"darkorange\", markersize=8)\n",
    "\n",
    "ax2.set_xlabel(\"Drehzahl D [1/min]\")\n",
    "ax2.set_ylabel(\"Leistung P [mW]\")\n",
    "ax2.set_title(\"D-P-Diagramm: Optimiert vs Flach (mit MPP)\")\n",
    "ax2.grid()\n",
    "ax2.legend()\n",
    "\n",
    "# ============================================================================\n",
    "# DIAGRAMM 3: 3-Blatt optimiert vs Savonius\n",
    "# ============================================================================\n",
    "\n",
    "ax3.plot(df_3blatt['D [1/min]'], df_3blatt['P [mW]'], \"o\", label=\"3-Blatt (optimiert) Messdaten\", color='blue')\n",
    "ax3.plot(reg_bereich_3blatt, reg_3blatt(reg_bereich_3blatt), \"--\", color=\"lightblue\", label=\"Regression 3-Blatt\")\n",
    "ax3.plot(df_savonius['D [1/min]'], df_savonius['P [mW]'], \"d\", color=\"red\", label=\"Savonius Messdaten\")\n",
    "ax3.plot(reg_bereich_savonius, reg_savonius(reg_bereich_savonius), \"-.\", color=\"orange\", label=\"Regression Savonius\")\n",
    "\n",
    "# MPP markieren\n",
    "ax3.plot(nullstellen_3blatt[0], MPP_3blatt, \"o\", label=\"MPP 3-Blatt\", color=\"darkblue\", markersize=8)\n",
    "ax3.plot(nullstellen_savonius[0], MPP_savonius, \"d\", label=\"MPP Savonius\", color=\"darkred\", markersize=8)\n",
    "\n",
    "ax3.set_xlabel(\"Drehzahl D [1/min]\")\n",
    "ax3.set_ylabel(\"Leistung P [mW]\")\n",
    "ax3.set_title(\"D-P-Diagramm: 3-Blatt vs Savonius (mit MPP)\")\n",
    "ax3.grid()\n",
    "ax3.legend()\n",
    "\n",
    "plt.tight_layout()\n",
    "plt.show()\n",
    "\n",
    "print(\"\")"
   ]
  },
  {
   "cell_type": "markdown",
   "id": "e859282b-07eb-494b-b7d1-79a6c86317f6",
   "metadata": {
    "jupyter": {
     "source_hidden": true
    }
   },
   "source": [
    "### Kritische Analyse der MPP-Berechnung\n",
    "\n",
    "Die kubische Regression zeigt fundamentale Probleme: Overfitting bei wenigen Datenpunkten (5-15 pro Läufer), automatische Verwendung der ersten Nullstelle ohne Maximum-Prüfung, und MPP-Werte teilweise unter den maximalen Messwerten. Für präzise MPP-Bestimmung sind zusätzliche Messpunkte um die vermuteten Maxima oder robustere Anpassungsverfahren erforderlich.\n",
    "\n",
    "---\n",
    "\n",
    "### Auswertung und Diskussion der Ergebnisse\n",
    "\n",
    "#### a) Flügelanzahl und Leistungsvergleich\n",
    "\n",
    "**Messergebnis:** 3-Blatt- und 4-Blatt-Läufer mit optimierten Profilen erreichen ähnliche Maximalleistungen.\n",
    "\n",
    "**Warum verwenden große Windkraftanlagen 3-Blatt-Läufer?**\n",
    "\n",
    "Technisch-wirtschaftliches Optimum: Drei Blätter gewährleisten ausreichende Läufersymmetrie bei minimalem Materialaufwand. Die ungerade Blattzahl verhindert Resonanzeffekte zwischen Läufer- und Turmfrequenz. Der aerodynamische Wirkungsgrad erreicht bei drei Blättern einen Sättigungsbereich - zusätzliche Blätter bringen proportional geringere Leistungssteigerungen bei höheren Kosten.\n",
    "\n",
    "#### b) Läuferbauarten für verschiedene Windverhältnisse\n",
    "\n",
    "**Hohe Windgeschwindigkeit:** Auftriebsläufer (3-Blatt, optimiertes Profil) erreichen höchste spezifische Leistungen durch hohe Schnelllaufzahlen. Schutz vor Überlastung durch aktive Blattverstellung.\n",
    "\n",
    "**Niedrige Windgeschwindigkeit:** Widerstandsläufer (Savonius-Typ) haben niedrigere Anlaufwindgeschwindigkeit (1-2 m/s) und verfügbares Anlaufdrehmoment bei geringen Drehzahlen. Auftriebsläufer benötigen 3-4 m/s Anfahrwindgeschwindigkeit. Richtungsunabhängigkeit eliminiert Windrichtungsnachführung.\n",
    "\n",
    "**Stark wechselnde Windgeschwindigkeit:** Savonius-Läufer zeigen höhere Läuferträgheit (glättet Leistungsschwankungen), geringere strukturelle Beanspruchung durch einfachen Aufbau, und omnidirektionale Funktionalität ohne Leistungseinbußen bei Windrichtungsänderungen.\n",
    "\n",
    "**Messbeschränkungen:** Die Laborversuche simulieren konstante Anströmbedingungen. Reale atmosphärische Turbulenz und variable Anströmwinkel können die Leistungscharakteristika erheblich verändern."
   ]
  },
  {
   "cell_type": "markdown",
   "id": "ab1f9cb4-f612-47a9-81f2-ef222d160798",
   "metadata": {},
   "source": [
    "---"
   ]
  },
  {
   "cell_type": "markdown",
   "id": "b246ad67-db61-4f20-b98c-21e9771ba4e8",
   "metadata": {
    "jupyter": {
     "source_hidden": true
    }
   },
   "source": [
    "## 2.2 Versuch 2: Abhängigkeit der Leistung vom Anstellwinkel der Flügel\n",
    "\n",
    "In diesem Versuch wird untersucht, wie sich die elektrische Leistung des Windkraftmodells in Abhängigkeit vom Anstellwinkel der Rotorblätter verändert. Dazu wird bei einem 3-Blatt-Rotor (optimiertes Profil) der Winkel der Flügel in mehreren Stufen variiert. Ziel ist es, den Einfluss des Anstellwinkels auf Spannung $(U)$, Stromstärke $(I)$ und die daraus berechnete Leistung $(P = U \\cdot I)$ zu analysieren.\n",
    "\n",
    "---\n",
    "\n",
    "**Aufbau, Geräte & Komponenten:**\n",
    "- Grundeinheit  \n",
    "- Winderzeugermodul  \n",
    "- Windgeneratormodul mit 3-Blatt-Rotor (optimiertes Profil, verstellbarer Anstellwinkel)  \n",
    "- Potentiometermodul  \n",
    "- AV-Modul  \n",
    "- Drehzahlmessgerät  \n",
    "- Power-Modul (9 V)  \n",
    "\n",
    "---\n",
    "\n",
    "**Schaltplan:**\n",
    "\n",
    "![Schaltplan Versuch2](Data/Schaltplan_Wind_Versuch_2.png \"Schaltplan\")\n",
    "\n",
    "---\n",
    "\n",
    "**Durchführung**\n",
    "\n",
    "1. Bauen Sie den Versuchsaufbau mit dem 3-Blatt-Rotor (optimiertes Profil) auf.\n",
    "   1. Stellen Sie eine feste Netzspannung von $U_\\text{Netz} = 9\\ \\text{V}$ ein.\n",
    "   2. Stellen Sie den Anstellwinkel der Flügel nacheinander auf 15°, 30°, 45°, 60°, 75° und 90° ein.\n",
    "   3. Messen Sie bei jedem Winkel die Spannung $U$, Stromstärke $I$ und die Drehzahl $D$.\n",
    "2. Berechnen Sie für jeden Messpunkt die Leistung $P = U \\cdot I$.\n",
    "\n",
    "---\n",
    "\n",
    "**Messgrößen:**  \n",
    "- Die elektrische Spannung $U$ in $\\text{[V]}$  \n",
    "- Die Stromstärke $I$ in $\\text{[mA]}$  \n",
    "- Die Leistung $P = U \\cdot I$ in $\\text{[mW]}$  \n",
    "- Die Drehzahl $D$ in $\\text{[min}^{-1}\\text{]}$  \n",
    "\n",
    "---\n",
    "\n",
    "**Messdaten:**\n",
    "\n",
    "Notieren Sie hier Ihre Messdaten in einfachen Listen. Nutzen Sie dafür eindeutige Bezeichnungen, ähnlich wie im folgenden Beispiel:"
   ]
  },
  {
   "cell_type": "code",
   "execution_count": 27,
   "id": "c5e6e251-ba8a-425d-a8d0-1236b92ee43d",
   "metadata": {
    "collapsed": true,
    "jupyter": {
     "outputs_hidden": true,
     "source_hidden": true
    }
   },
   "outputs": [
    {
     "name": "stdout",
     "output_type": "stream",
     "text": [
      "Daten erfolgreich geladen!\n",
      "Verfügbare Datensätze für Anstellwinkel-Vergleich:\n",
      "   - α = 20°: 12 Messpunkte\n",
      "   - α = 25°: 15 Messpunkte\n",
      "   - α = 30°: 13 Messpunkte\n",
      "   - α = 50°: 6 Messpunkte\n",
      "Bereit für eigenständige Auswertung!\n"
     ]
    }
   ],
   "source": [
    "# DATENERFASSUNG - NUR MESSWERTE EINTRAGEN!\n",
    "\n",
    "# Messwerte für 3-Blatt-Rotor, Anstellwinkel α = 20°\n",
    "u_20grad = [3.67, 3.47, 3.26, 3.06, 2.86, 2.65, 2.46, 2.25, 2.06, 1.85, 1.62, 1.49]  # Spannung in V\n",
    "i_20grad = [3.9, 12.7, 21.5, 29.7, 37.0, 45.9, 52.0, 58.9, 65.2, 71.7, 77.2, 77.2]  # Strom in mA\n",
    "D_20grad = [4733, 4593, 4476, 4351, 4203, 4071, 3888, 3779, 3637, 3465, 3112, 3065]  # Drehzahl in 1/min\n",
    "\n",
    "# Messwerte für 3-Blatt-Rotor, Anstellwinkel α = 25° (aus Versuch 1 übernehmen)\n",
    "u_25grad = u_3blatt\n",
    "i_25grad = i_3blatt\n",
    "D_25grad = D_3blatt\n",
    "\n",
    "# Messwerte für 3-Blatt-Rotor, Anstellwinkel α = 30°\n",
    "u_30grad = [2.88, 2.68, 2.49, 2.28, 2.08, 1.85, 1.65, 1.47, 1.23, 1.05, 0.805, 0.671, 0.625]  # Spannung in V\n",
    "i_30grad = [3.2, 13.1, 22.7, 32.0, 40.7, 50.8, 59.3, 66.9, 75.6, 82.2, 90.2, 93.3, 93.6]  # Strom in mA\n",
    "D_30grad = [3706, 3593, 3496, 3351, 3228, 3116, 2967, 2881, 2710, 2567, 2375, 2242, 2188]  # Drehzahl in 1/min\n",
    "\n",
    "# Messwerte für 3-Blatt-Rotor, Anstellwinkel α = 50°\n",
    "u_50grad = [1.24, 1.04, 0.84, 0.615, 0.394, 0.351]  # Spannung in V\n",
    "i_50grad = [1.8, 13.4, 24.7, 37.4, 48.7, 50.7]  # Strom in mA\n",
    "D_50grad = [1570, 1485, 1395, 1297, 1176, 1146]  # Drehzahl in 1/min\n",
    "\n",
    "print(\"Daten erfolgreich geladen!\")\n",
    "print(\"Verfügbare Datensätze für Anstellwinkel-Vergleich:\")\n",
    "print(f\"   - α = 20°: {len(u_20grad)} Messpunkte\")\n",
    "print(f\"   - α = 25°: {len(u_25grad)} Messpunkte\")\n",
    "print(f\"   - α = 30°: {len(u_30grad)} Messpunkte\")\n",
    "print(f\"   - α = 50°: {len(u_50grad)} Messpunkte\")\n",
    "print(\"Bereit für eigenständige Auswertung!\")"
   ]
  },
  {
   "cell_type": "markdown",
   "id": "a8e48f1c-be8c-4166-9af9-3e016d139676",
   "metadata": {
    "jupyter": {
     "source_hidden": true
    }
   },
   "source": [
    "Aus diesen Messwerten werden nun Tabellen mit `pandas` `DataFrames` erstellt.\n",
    "Wichtige Hinweise:\n",
    "\n",
    "- Die Messwerte müssen nicht nochmal eingegeben werden, solange die Zelle mit den Listen zuvor ausgeführt wurde\n",
    "- Python beginnt die Indexierung bei [0] - der erste Wert hat Index 0, der zweite Index 1, usw.\n",
    "- DataFrames ermöglichen professionelle Tabellendarstellung und einfache Berechnungen\n",
    "\n",
    "Im folgenden Code werden alle Listen aus Messdaten in `DataFrames`umgewandelt:"
   ]
  },
  {
   "cell_type": "code",
   "execution_count": 34,
   "id": "f5722190-068a-48f5-948e-0a6e21efa0e7",
   "metadata": {
    "collapsed": true,
    "jupyter": {
     "outputs_hidden": true,
     "source_hidden": true
    }
   },
   "outputs": [
    {
     "ename": "SyntaxError",
     "evalue": "expression expected after dictionary key and ':' (2784997363.py, line 5)",
     "output_type": "error",
     "traceback": [
      "  \u001b[36mCell\u001b[39m\u001b[36m \u001b[39m\u001b[32mIn[34]\u001b[39m\u001b[32m, line 5\u001b[39m\n\u001b[31m    \u001b[39m\u001b[31m'U [V]': ,\u001b[39m\n           ^\n\u001b[31mSyntaxError\u001b[39m\u001b[31m:\u001b[39m expression expected after dictionary key and ':'\n"
     ]
    }
   ],
   "source": [
    "# DATAFRAMES AUS DEN LISTEN ERSTELLEN  \n",
    "\n",
    "# 3-Blatt-Rotor, Anstellwinkel α = 20°\n",
    "df_20grad = pd.DataFrame({\n",
    "    'U [V]': ,\n",
    "    'I [mA]': ,\n",
    "    'D [1/min]': \n",
    "})\n",
    "\n",
    "# 3-Blatt-Rotor, Anstellwinkel α = 25°\n",
    "df_25grad = pd.DataFrame({\n",
    "    'U [V]': ,\n",
    "    'I [mA]': ,\n",
    "    'D [1/min]': \n",
    "})\n",
    "\n",
    "# 3-Blatt-Rotor, Anstellwinkel α = 30°\n",
    "df_30grad = pd.DataFrame({\n",
    "    'U [V]': ,\n",
    "    'I [mA]': ,\n",
    "    'D [1/min]': \n",
    "})\n",
    "\n",
    "# 3-Blatt-Rotor, Anstellwinkel α = 50°\n",
    "df_50grad = pd.DataFrame({\n",
    "    'U [V]': ,\n",
    "    'I [mA]': ,\n",
    "    'D [1/min]': \n",
    "})\n",
    "\n",
    "# Indizes als \"Messpunkte\" umbenennen (Zählung bei 1 starten)\n",
    "for df in [df_20grad, df_25grad, df_30grad, df_50grad]:\n",
    "    df.index = [f\"Messpunkt {i+1}\" for i in range(len(df))]\n",
    "\n",
    "print(\"DataFrames erfolgreich erstellt:\")\n",
    "print(f\"- df_20grad: {len(df_20grad)} Messpunkte\")\n",
    "print(f\"- df_25grad: {len(df_25grad)} Messpunkte\") \n",
    "print(f\"- df_30grad: {len(df_30grad)} Messpunkte\")\n",
    "print(f\"- df_50grad: {len(df_50grad)} Messpunkte\")"
   ]
  },
  {
   "cell_type": "code",
   "execution_count": 35,
   "id": "b7435d1f-368c-46c9-aa22-98ea907811ed",
   "metadata": {
    "collapsed": true,
    "jupyter": {
     "outputs_hidden": true,
     "source_hidden": true
    },
    "scrolled": true
   },
   "outputs": [
    {
     "name": "stdout",
     "output_type": "stream",
     "text": [
      "Tabelle 9: Messdaten – 3-Blatt-Rotor, Anstellwinkel α = 20°)\n"
     ]
    },
    {
     "ename": "NameError",
     "evalue": "name 'df_' is not defined",
     "output_type": "error",
     "traceback": [
      "\u001b[31m---------------------------------------------------------------------------\u001b[39m",
      "\u001b[31mNameError\u001b[39m                                 Traceback (most recent call last)",
      "\u001b[36mCell\u001b[39m\u001b[36m \u001b[39m\u001b[32mIn[35]\u001b[39m\u001b[32m, line 4\u001b[39m\n\u001b[32m      1\u001b[39m \u001b[38;5;66;03m# MESSDATENTABELLEN ANZEIGEN\u001b[39;00m\n\u001b[32m      3\u001b[39m \u001b[38;5;28mprint\u001b[39m(\u001b[33m\"\u001b[39m\u001b[33mTabelle 9: Messdaten – 3-Blatt-Rotor, Anstellwinkel α = 20°)\u001b[39m\u001b[33m\"\u001b[39m)\n\u001b[32m----> \u001b[39m\u001b[32m4\u001b[39m \u001b[38;5;28mprint\u001b[39m(tabulate(\u001b[43mdf_\u001b[49m, headers=df_.columns, tablefmt=\u001b[33m'\u001b[39m\u001b[33mfancy_grid\u001b[39m\u001b[33m'\u001b[39m, \n\u001b[32m      5\u001b[39m                floatfmt=\u001b[33m\"\u001b[39m\u001b[33m.2f\u001b[39m\u001b[33m\"\u001b[39m))\n\u001b[32m      6\u001b[39m \u001b[38;5;28mprint\u001b[39m(\u001b[33m\"\u001b[39m\u001b[38;5;130;01m\\n\u001b[39;00m\u001b[33m\"\u001b[39m)\n\u001b[32m      8\u001b[39m \u001b[38;5;28mprint\u001b[39m(\u001b[33m\"\u001b[39m\u001b[33mTabelle 10: Messdaten – 3-Blatt-Rotor, Anstellwinkel α = 25°)\u001b[39m\u001b[33m\"\u001b[39m)\n",
      "\u001b[31mNameError\u001b[39m: name 'df_' is not defined"
     ]
    }
   ],
   "source": [
    "# MESSDATENTABELLEN ANZEIGEN\n",
    "\n",
    "print(\"Tabelle 9: Messdaten – 3-Blatt-Rotor, Anstellwinkel α = 20°)\")\n",
    "print(tabulate(df_, headers=df_.columns, tablefmt='fancy_grid', \n",
    "               floatfmt=\".2f\"))\n",
    "print(\"\\n\")\n",
    "\n",
    "print(\"Tabelle 10: Messdaten – 3-Blatt-Rotor, Anstellwinkel α = 25°)\")\n",
    "print(tabulate(df_, headers=df_.columns, tablefmt='fancy_grid',\n",
    "               floatfmt=\".2f\"))\n",
    "print(\"\\n\")\n",
    "\n",
    "print(\"Tabelle 11: Messdaten – 3-Blatt-Rotor, Anstellwinkel α = 30°\")\n",
    "print(tabulate(df_, headers=df_.columns, tablefmt='fancy_grid', \n",
    "               floatfmt=\".2f\"))\n",
    "print(\"\\n\")\n",
    "\n",
    "print(\"Tabelle 12: Messdaten – 3-Blatt-Rotor, Anstellwinkel α = 50°\")\n",
    "print(tabulate(df_, headers=df_.columns, tablefmt='fancy_grid',\n",
    "               floatfmt=\".2f\"))"
   ]
  },
  {
   "cell_type": "markdown",
   "id": "196f7e59-55de-484d-ae1e-4c9ecb2bce8a",
   "metadata": {
    "jupyter": {
     "source_hidden": true
    }
   },
   "source": [
    "### Beobachtungen während des Versuchs\n",
    "Beschreiben Sie hier **in eigenen Worten** den Aufbau, die Durchführung und Ihre Beobachtungen:\n",
    "\n",
    "- Welche Anstellwinkel haben Sie bei dem 3-Blatt-Rotor untersucht und warum ist diese Variation wichtig?\n",
    "- Wie haben sich Spannung, Strom und Drehzahl bei den verschiedenen Anstellwinkeln verändert?\n",
    "- Bei welchem Anstellwinkel haben Sie die höchsten bzw. niedrigsten Leistungswerte gemessen?\n",
    "- Welche praktischen Auswirkungen könnte die Verstellbarkeit des Anstellwinkels für reale Windkraftanlagen haben?\n",
    "- Gab es bei einem bestimmten Anstellwinkel besondere Auffälligkeiten in der Drehzahl oder im Betriebsverhalten?\n",
    "\n",
    "> *Hinweis: Denken Sie an die aerodynamischen Grundlagen - warum beeinflusst der Anstellwinkel die Leistung so stark?*\n",
    "\n",
    "---\n",
    "\n",
    "**Im folgenden Feld Ihre eigene Beschreibung und Beobachtungen eintragen:**"
   ]
  },
  {
   "cell_type": "code",
   "execution_count": null,
   "id": "ced99033-a368-4fd1-8a91-969104ffbd1e",
   "metadata": {},
   "outputs": [],
   "source": []
  },
  {
   "cell_type": "markdown",
   "id": "c11e0a5c-ee2a-4719-b42e-625c80788e8a",
   "metadata": {
    "jupyter": {
     "source_hidden": true
    }
   },
   "source": [
    "### Auswertung\n",
    "1. Berechnen Sie die Leistung des Generators für jeden Messpunkt.\n",
    "2. Zeichnen Sie die jeweiligen U-I-Kennlinien und die D-P-Diagramme und vergleichen Sie die verschiedenen Anstellwinkel miteinander.\n",
    "3. Bestimmen Sie für jeden Anstellwinkel den Punkt maximaler Leistung (Maximum Power Point, MPP).\n",
    "4. Welchen Einfluss hat der Anstellwinkel auf die maximal erzielte Leistung?  \n",
    "   Wie kann das beobachtete Verhalten für den Betrieb realer Windkraftanlagen genutzt werden, um Schäden an der Anlage zu vermeiden?  \n",
    "   Wie heißt die entsprechende Regelung?"
   ]
  },
  {
   "cell_type": "markdown",
   "id": "7b3e6d5e-4373-4de0-b7cc-08e162e01798",
   "metadata": {
    "jupyter": {
     "source_hidden": true
    }
   },
   "source": [
    "### Schritt 1: Leistungsberechnung\n",
    "**Grundlagen:**\n",
    "Die elektrische Leistung $P$ eines Generators berechnet sich aus dem Produkt von Spannung $U$ und Stromstärke $I$:\n",
    "$$P = U \\cdot I$$\n",
    "Da unsere Messgrößen\n",
    "- Spannung $U$ in [V] (Volt)\n",
    "- Stromstärke $I$ in [mA] (Milliampere)\n",
    "\n",
    "sind, ergibt sich die Leistung in [mW] (Milliwatt).\n",
    "\n",
    "Bei der Untersuchung verschiedener Anstellwinkel können wir durch die Leistungsberechnung erkennen, wie sich die aerodynamische Effizienz der Rotorblätter verändert. Der Anstellwinkel beeinflusst den Auftrieb und Widerstand der Blätter und damit direkt die übertragene mechanische Leistung auf den Generator.\n",
    "\n",
    "**Was passiert im folgenden Code:**\n",
    "- Für jeden Anstellwinkel wird dem `DataFrame` eine neue Spalte 'P [mW]' hinzugefügt und in dieser die Leistung berechnet\n",
    "- Die Berechnung erfolgt automatisch für alle Messpunkte gleichzeitig\n",
    "- Die erweiterten DataFrames werden zur Kontrolle angezeigt"
   ]
  },
  {
   "cell_type": "code",
   "execution_count": null,
   "id": "e0fcd0a9-6f72-430f-b6d5-f92eccc85202",
   "metadata": {
    "jupyter": {
     "source_hidden": true
    }
   },
   "outputs": [],
   "source": [
    "# SCHRITT 1: LEISTUNGSBERECHNUNG FÜR ALLE ROTOREN\n",
    "\n",
    "# Leistung P = U × I für jeden Rotor berechnen\n",
    "df_['P [mW]'] = df_['U [V]'] * df_'I [mA]']\n",
    "df_['P [mW]'] = df_['U [V]'] * df_['I [mA]']\n",
    "df_['P [mW]'] = df_['U [V]'] * df_['I [mA]']\n",
    "df_['P [mW]'] = df_['U [V]'] * df_['I [mA]']\n",
    "\n",
    "print(\"Leistung erfolgreich berechnet!\")"
   ]
  },
  {
   "cell_type": "code",
   "execution_count": 36,
   "id": "23c72b5a-c702-46a3-95b8-ecf4143662e8",
   "metadata": {
    "collapsed": true,
    "jupyter": {
     "outputs_hidden": true,
     "source_hidden": true
    }
   },
   "outputs": [
    {
     "name": "stdout",
     "output_type": "stream",
     "text": [
      "Tabelle 13: Messdaten und berechnete Leistung – 3-Blatt-Rotor, Anstellwinkel α = 20°)\n"
     ]
    },
    {
     "ename": "NameError",
     "evalue": "name 'df_' is not defined",
     "output_type": "error",
     "traceback": [
      "\u001b[31m---------------------------------------------------------------------------\u001b[39m",
      "\u001b[31mNameError\u001b[39m                                 Traceback (most recent call last)",
      "\u001b[36mCell\u001b[39m\u001b[36m \u001b[39m\u001b[32mIn[36]\u001b[39m\u001b[32m, line 4\u001b[39m\n\u001b[32m      1\u001b[39m \u001b[38;5;66;03m# ERWEITERTE TABELLEN MIT LEISTUNG ANZEIGEN\u001b[39;00m\n\u001b[32m      3\u001b[39m \u001b[38;5;28mprint\u001b[39m(\u001b[33m\"\u001b[39m\u001b[33mTabelle 13: Messdaten und berechnete Leistung – 3-Blatt-Rotor, Anstellwinkel α = 20°)\u001b[39m\u001b[33m\"\u001b[39m)\n\u001b[32m----> \u001b[39m\u001b[32m4\u001b[39m \u001b[38;5;28mprint\u001b[39m(tabulate(\u001b[43mdf_\u001b[49m, headers=df_.columns, tablefmt=\u001b[33m'\u001b[39m\u001b[33mfancy_grid\u001b[39m\u001b[33m'\u001b[39m, \n\u001b[32m      5\u001b[39m                floatfmt=\u001b[33m\"\u001b[39m\u001b[33m.2f\u001b[39m\u001b[33m\"\u001b[39m))\n\u001b[32m      6\u001b[39m \u001b[38;5;28mprint\u001b[39m(\u001b[33m\"\u001b[39m\u001b[38;5;130;01m\\n\u001b[39;00m\u001b[33m\"\u001b[39m)\n\u001b[32m      8\u001b[39m \u001b[38;5;28mprint\u001b[39m(\u001b[33m\"\u001b[39m\u001b[33mTabelle 14: Messdaten und berechnete Leistung – 3-Blatt-Rotor, Anstellwinkel α = 25°)\u001b[39m\u001b[33m\"\u001b[39m)\n",
      "\u001b[31mNameError\u001b[39m: name 'df_' is not defined"
     ]
    }
   ],
   "source": [
    "# ERWEITERTE TABELLEN MIT LEISTUNG ANZEIGEN\n",
    "\n",
    "print(\"Tabelle 13: Messdaten und berechnete Leistung – 3-Blatt-Rotor, Anstellwinkel α = 20°)\")\n",
    "print(tabulate(df_, headers=df_.columns, tablefmt='fancy_grid', \n",
    "               floatfmt=\".2f\"))\n",
    "print(\"\\n\")\n",
    "\n",
    "print(\"Tabelle 14: Messdaten und berechnete Leistung – 3-Blatt-Rotor, Anstellwinkel α = 25°)\")\n",
    "print(tabulate(df_, headers=df_.columns, tablefmt='fancy_grid',\n",
    "               floatfmt=\".2f\"))\n",
    "print(\"\\n\")\n",
    "\n",
    "print(\"Tabelle 15: Messdaten und berechnete Leistung – 3-Blatt-Rotor, Anstellwinkel α = 30°\")\n",
    "print(tabulate(df_, headers=df_.columns, tablefmt='fancy_grid', \n",
    "               floatfmt=\".2f\"))\n",
    "print(\"\\n\")\n",
    "\n",
    "print(\"Tabelle 16: Messdaten und berechnete Leistung – 3-Blatt-Rotor, Anstellwinkel α = 50°\")\n",
    "print(tabulate(df_, headers=df_.columns, tablefmt='fancy_grid',\n",
    "               floatfmt=\".2f\"))"
   ]
  },
  {
   "cell_type": "markdown",
   "id": "71c7912a-e18a-4a5a-a7b0-12b6e9fb60c8",
   "metadata": {
    "jupyter": {
     "source_hidden": true
    }
   },
   "source": [
    "### Schritt 2: U-I-Kennlinien\n",
    "\n",
    "**Grundlagen:**\n",
    "Die U-I-Kennlinie zeigt das Verhältnis zwischen Spannung $(U)$ und Stromstärke $(I)$ eines Generators. Sie ist charakteristisch für jede Rotorbauart und hilft beim Vergleich der elektrischen Eigenschaften.\n",
    "\n",
    "**Was zeigen U-I-Kennlinien:**\n",
    "- Wie sich die Spannung bei steigender Stromstärke verhält\n",
    "- Unterschiede zwischen verschiedenen Rotortypen\n",
    "- Elektrische Charakteristika der Generatoren"
   ]
  },
  {
   "cell_type": "code",
   "execution_count": 38,
   "id": "db51c11e-30ab-42eb-8959-ba37f85ea72f",
   "metadata": {
    "collapsed": true,
    "jupyter": {
     "outputs_hidden": true,
     "source_hidden": true
    }
   },
   "outputs": [
    {
     "ename": "NameError",
     "evalue": "name 'df_' is not defined",
     "output_type": "error",
     "traceback": [
      "\u001b[31m---------------------------------------------------------------------------\u001b[39m",
      "\u001b[31mNameError\u001b[39m                                 Traceback (most recent call last)",
      "\u001b[36mCell\u001b[39m\u001b[36m \u001b[39m\u001b[32mIn[38]\u001b[39m\u001b[32m, line 10\u001b[39m\n\u001b[32m      4\u001b[39m fig, ((ax1, ax2), (ax3, ax4)) = plt.subplots(\u001b[32m2\u001b[39m, \u001b[32m2\u001b[39m, figsize=(\u001b[32m14\u001b[39m, \u001b[32m10\u001b[39m))\n\u001b[32m      6\u001b[39m \u001b[38;5;66;03m# ============================================================================\u001b[39;00m\n\u001b[32m      7\u001b[39m \u001b[38;5;66;03m# DIAGRAMM 1: 3-BLATT-ROTOR, Anstellwinkel α = 20°\u001b[39;00m\n\u001b[32m      8\u001b[39m \u001b[38;5;66;03m# ============================================================================\u001b[39;00m\n\u001b[32m---> \u001b[39m\u001b[32m10\u001b[39m ax1.plot(\u001b[43mdf_\u001b[49m[\u001b[33m'\u001b[39m\u001b[33mU [V]\u001b[39m\u001b[33m'\u001b[39m], df_[\u001b[33m'\u001b[39m\u001b[33mI [mA]\u001b[39m\u001b[33m'\u001b[39m], \u001b[33m\"\u001b[39m\u001b[33mo\u001b[39m\u001b[33m\"\u001b[39m, label=\u001b[33m\"\u001b[39m\u001b[33m3-Blatt-Rotor, Anstellwinkel α = 20°\u001b[39m\u001b[33m\"\u001b[39m, \n\u001b[32m     11\u001b[39m          markersize=\u001b[32m6\u001b[39m, color=\u001b[33m'\u001b[39m\u001b[33mblue\u001b[39m\u001b[33m'\u001b[39m)\n\u001b[32m     13\u001b[39m ax1.set_xlabel(\u001b[33m\"\u001b[39m\u001b[33mSpannung U [V]\u001b[39m\u001b[33m\"\u001b[39m)\n\u001b[32m     14\u001b[39m ax1.set_ylabel(\u001b[33m\"\u001b[39m\u001b[33mStromstärke I [mA]\u001b[39m\u001b[33m\"\u001b[39m)\n",
      "\u001b[31mNameError\u001b[39m: name 'df_' is not defined"
     ]
    },
    {
     "data": {
      "image/png": "[encoded data removed]",
      "text/plain": [
       "<Figure size 1400x1000 with 4 Axes>"
      ]
     },
     "metadata": {},
     "output_type": "display_data"
    }
   ],
   "source": [
    "# SCHRITT 2a: U-I-KENNLINIEN - VIER SEPARATE DIAGRAMME\n",
    "\n",
    "# Vier Diagramme in 2x2 Anordnung erstellen\n",
    "fig, ((ax1, ax2), (ax3, ax4)) = plt.subplots(2, 2, figsize=(14, 10))\n",
    "\n",
    "# ============================================================================\n",
    "# DIAGRAMM 1: 3-BLATT-ROTOR, Anstellwinkel α = 20°\n",
    "# ============================================================================\n",
    "ax1.plot(df_20grad['U [V]'], df_20grad['I [mA]'], \"o\", label=\"3-Blatt-Rotor, α = 20°\", \n",
    "         markersize=6, color='blue')\n",
    "ax1.set_xlabel(\"Spannung U [V]\")\n",
    "ax1.set_ylabel(\"Stromstärke I [mA]\")\n",
    "ax1.set_title(\"U-I-Kennlinie: 3-Blatt-Rotor, α = 20°\")\n",
    "ax1.grid(True, alpha=0.3)\n",
    "ax1.legend()\n",
    "\n",
    "# ============================================================================\n",
    "# DIAGRAMM 2: 3-BLATT-ROTOR, Anstellwinkel α = 25°\n",
    "# ============================================================================\n",
    "ax2.plot(df_25grad['U [V]'], df_25grad['I [mA]'], \"s\", label=\"3-Blatt-Rotor, α = 25°\", \n",
    "         markersize=6, color='green')\n",
    "# TODO: Ergänzen Sie xlabel, ylabel, title, grid, legend\n",
    "\n",
    "# ============================================================================\n",
    "# DIAGRAMM 3: 3-BLATT-ROTOR, Anstellwinkel α = 30°\n",
    "# ============================================================================\n",
    "# TODO: Vervollständigen Sie dieses Diagramm analog zu den oberen\n",
    "# Verwenden Sie \"^\" als Marker und 'orange' als Farbe\n",
    "\n",
    "# ============================================================================\n",
    "# DIAGRAMM 4: 3-BLATT-ROTOR, Anstellwinkel α = 50°\n",
    "# ============================================================================  \n",
    "# TODO: Vervollständigen Sie dieses Diagramm analog zu den oberen\n",
    "# Verwenden Sie \"d\" als Marker und 'red' als Farbe\n",
    "\n",
    "# Layout optimieren und anzeigen\n",
    "plt.tight_layout()\n",
    "plt.show()\n",
    "\n",
    "# ============================================================================\n",
    "# ANALYSE DER U-I-KENNLINIEN\n",
    "# ============================================================================\n",
    "print(\"=\" * 60)\n",
    "print(\"ANALYSE DER U-I-KENNLINIEN\")\n",
    "print(\"=\" * 60)\n",
    "print(\"Spannungsbereiche:\")\n",
    "print(f\"α = 20°: {min(df_20grad['U [V]']):.2f} V bis {max(df_20grad['U [V]']):.2f} V\")\n",
    "print(f\"α = 25°: {min(df_25grad['U [V]']):.2f} V bis {max(df_25grad['U [V]']):.2f} V\")\n",
    "# TODO: Ergänzen Sie die Ausgabe für α = 30° und α = 50°\n",
    "\n",
    "print()\n",
    "print(\"Strombereiche:\")\n",
    "print(f\"α = 20°: {min(df_20grad['I [mA]']):.1f} mA bis {max(df_20grad['I [mA]']):.1f} mA\")\n",
    "# TODO: Ergänzen Sie die Ausgabe für die anderen Anstellwinkel\n",
    "\n",
    "print()\n",
    "print(\"Charakteristische Unterschiede:\")\n",
    "print(\"- TODO: Analysieren Sie die Unterschiede zwischen den Anstellwinkeln\")\n",
    "print(\"- TODO: Welcher Anstellwinkel zeigt die besten Eigenschaften?\")\n",
    "print(\"- TODO: Wie wirkt sich der Anstellwinkel auf die Kennlinie aus?\")\n",
    "print(\"=\" * 60)"
   ]
  },
  {
   "cell_type": "code",
   "execution_count": 40,
   "id": "b0501c50-0785-49de-b1d1-36e27bd1eb76",
   "metadata": {
    "collapsed": true,
    "jupyter": {
     "outputs_hidden": true,
     "source_hidden": true
    }
   },
   "outputs": [
    {
     "ename": "NameError",
     "evalue": "name 'df_20grad' is not defined",
     "output_type": "error",
     "traceback": [
      "\u001b[31m---------------------------------------------------------------------------\u001b[39m",
      "\u001b[31mNameError\u001b[39m                                 Traceback (most recent call last)",
      "\u001b[36mCell\u001b[39m\u001b[36m \u001b[39m\u001b[32mIn[40]\u001b[39m\u001b[32m, line 7\u001b[39m\n\u001b[32m      1\u001b[39m \u001b[38;5;66;03m# SCHRITT 2b: VERGLEICH DER U-I-KENNLINIEN\u001b[39;00m\n\u001b[32m      2\u001b[39m \u001b[38;5;66;03m# ============================================================================\u001b[39;00m\n\u001b[32m      3\u001b[39m \u001b[38;5;66;03m# VERGLEICH: ALLE ANSTELLWINKEL\u001b[39;00m\n\u001b[32m      4\u001b[39m \u001b[38;5;66;03m# ============================================================================\u001b[39;00m\n\u001b[32m      5\u001b[39m fig, ax1 = plt.subplots(\u001b[32m1\u001b[39m, \u001b[32m1\u001b[39m, figsize=(\u001b[32m10\u001b[39m, \u001b[32m6\u001b[39m))\n\u001b[32m----> \u001b[39m\u001b[32m7\u001b[39m ax1.plot(\u001b[43mdf_20grad\u001b[49m[\u001b[33m'\u001b[39m\u001b[33mU [V]\u001b[39m\u001b[33m'\u001b[39m], df_20grad[\u001b[33m'\u001b[39m\u001b[33mI [mA]\u001b[39m\u001b[33m'\u001b[39m], \u001b[33m\"\u001b[39m\u001b[33mo\u001b[39m\u001b[33m\"\u001b[39m, label=\u001b[33m\"\u001b[39m\u001b[33m3-Blatt-Rotor, Anstellwinkel α = 20°\u001b[39m\u001b[33m\"\u001b[39m, \n\u001b[32m      8\u001b[39m          markersize=\u001b[32m6\u001b[39m, color=\u001b[33m'\u001b[39m\u001b[33mblue\u001b[39m\u001b[33m'\u001b[39m)\n\u001b[32m      9\u001b[39m \u001b[38;5;66;03m# TODO: Vervollständigen Sie die anderen Plots\u001b[39;00m\n\u001b[32m     10\u001b[39m ax1.plot(df_25grad[\u001b[33m'\u001b[39m\u001b[33mU [V]\u001b[39m\u001b[33m'\u001b[39m], df_25grad[\u001b[33m'\u001b[39m\u001b[33mI [mA]\u001b[39m\u001b[33m'\u001b[39m], \u001b[33m\"\u001b[39m\u001b[33ms\u001b[39m\u001b[33m\"\u001b[39m, label=\u001b[33m\"\u001b[39m\u001b[33m3-Blatt-Rotor, Anstellwinkel α = 25°\u001b[39m\u001b[33m\"\u001b[39m, \n\u001b[32m     11\u001b[39m          markersize=\u001b[32m6\u001b[39m, color=\u001b[33m'\u001b[39m\u001b[33mgreen\u001b[39m\u001b[33m'\u001b[39m)\n",
      "\u001b[31mNameError\u001b[39m: name 'df_20grad' is not defined"
     ]
    },
    {
     "data": {
      "image/png": "[encoded data removed]",
      "text/plain": [
       "<Figure size 1000x600 with 1 Axes>"
      ]
     },
     "metadata": {},
     "output_type": "display_data"
    }
   ],
   "source": [
    "# SCHRITT 2b: VERGLEICH DER U-I-KENNLINIEN\n",
    "# ============================================================================\n",
    "# VERGLEICH: ALLE ANSTELLWINKEL\n",
    "# ============================================================================\n",
    "fig, ax1 = plt.subplots(1, 1, figsize=(10, 6))\n",
    "\n",
    "ax1.plot(df_20grad['U [V]'], df_20grad['I [mA]'], \"o\", label=\"3-Blatt-Rotor, Anstellwinkel α = 20°\", \n",
    "         markersize=6, color='blue')\n",
    "# TODO: Vervollständigen Sie die anderen Plots\n",
    "ax1.plot(df_25grad['U [V]'], df_25grad['I [mA]'], \"s\", label=\"3-Blatt-Rotor, Anstellwinkel α = 25°\", \n",
    "         markersize=6, color='green')\n",
    "# TODO: Ergänzen Sie df_30grad mit \"^\" als Marker und 'orange' als Farbe\n",
    "# TODO: Ergänzen Sie df_50grad mit \"d\" als Marker und 'red' als Farbe\n",
    "\n",
    "ax1.set_xlabel(\"Spannung U [V]\")\n",
    "ax1.set_ylabel(\"Stromstärke I [mA]\")\n",
    "ax1.set_title(\"Vergleich: Anstellwinkel von 20°, 25°, 30° und 50°\")\n",
    "ax1.grid(True, alpha=0.3)\n",
    "ax1.legend()\n",
    "\n",
    "# Layout optimieren\n",
    "plt.tight_layout()\n",
    "plt.show()\n",
    "\n",
    "# ============================================================================\n",
    "# ANALYSE DER VERGLEICHE\n",
    "# ============================================================================\n",
    "print(\"=\" * 70)\n",
    "print(\"ANALYSE DER U-I-KENNLINIEN-VERGLEICHE\")\n",
    "print(\"=\" * 70)\n",
    "print(\"VERGLEICH - Anstellwinkel von 20°, 25°, 30° und 50°:\")\n",
    "print(\"- Spannungsbereich:\")\n",
    "print(f\"  α = 20°: {min(df_20grad['U [V]']):.2f} V bis {max(df_20grad['U [V]']):.2f} V\")\n",
    "# TODO: Ergänzen Sie die Ausgabe für die anderen Anstellwinkel\n",
    "\n",
    "print(\"- Maximaler Strom:\")\n",
    "print(f\"  α = 20°: {max(df_20grad['I [mA]']):.1f} mA\")\n",
    "# TODO: Ergänzen Sie die Ausgabe für die anderen Anstellwinkel\n",
    "\n",
    "print()\n",
    "print(\"SCHLUSSFOLGERUNGEN:\")\n",
    "print(\"- TODO: Welcher Anstellwinkel zeigt die besten Eigenschaften?\")\n",
    "print(\"- TODO: Wie wirkt sich der Anstellwinkel auf die Kennlinie aus?\")\n",
    "print(\"=\" * 70)"
   ]
  },
  {
   "cell_type": "markdown",
   "id": "561f63f6-3f1a-4999-9880-5e28fd0d7d31",
   "metadata": {
    "jupyter": {
     "source_hidden": true
    }
   },
   "source": [
    "### Schritt 3: D-P-Diagramme (Drehzahl-Leistung)\n",
    "\n",
    "**Grundlagen**\n",
    "Das D-P-Diagramm zeigt den Zusammenhang zwischen Drehzahl ($D$) und elektrischer Leistung ($P$). Es ist besonders wichtig, da aus diesem der **Punkt maximaler Leistung (MPP - Maximum Power Point)** für jeden Rotor abgeleitet werden kann.\n",
    "\n",
    "**Wichtig: Der MPP ist nicht der von Ihnen höchste gemessener Wert, sondern liegt in der Regel zwischen Ihren Messwerten. Sie müssen den MPP also rechnerisch bestimmen!**\n",
    "\n",
    "**Warum D-P-Diagramme wichtig sind:**\n",
    "- Sie zeigen bei welcher Drehzahl die höchste Leistung erreicht wird\n",
    "- Verschiedene Rotortypen haben unterschiedliche Leistungscharakteristika\n",
    "- Basis für die Bewertung der Effizienz verschiedener Bauarten"
   ]
  },
  {
   "cell_type": "code",
   "execution_count": 41,
   "id": "3443be42-f447-46c2-9a8b-552230f01cff",
   "metadata": {
    "collapsed": true,
    "jupyter": {
     "outputs_hidden": true,
     "source_hidden": true
    },
    "scrolled": true
   },
   "outputs": [
    {
     "ename": "NameError",
     "evalue": "name 'df_20grad' is not defined",
     "output_type": "error",
     "traceback": [
      "\u001b[31m---------------------------------------------------------------------------\u001b[39m",
      "\u001b[31mNameError\u001b[39m                                 Traceback (most recent call last)",
      "\u001b[36mCell\u001b[39m\u001b[36m \u001b[39m\u001b[32mIn[41]\u001b[39m\u001b[32m, line 8\u001b[39m\n\u001b[32m      3\u001b[39m fig, ((ax1, ax2), (ax3, ax4)) = plt.subplots(\u001b[32m2\u001b[39m, \u001b[32m2\u001b[39m, figsize=(\u001b[32m14\u001b[39m, \u001b[32m10\u001b[39m))\n\u001b[32m      5\u001b[39m \u001b[38;5;66;03m# ============================================================================\u001b[39;00m\n\u001b[32m      6\u001b[39m \u001b[38;5;66;03m# DIAGRAMM 1: 3-BLATT-ROTOR, Anstellwinkel α = 20°\u001b[39;00m\n\u001b[32m      7\u001b[39m \u001b[38;5;66;03m# ============================================================================\u001b[39;00m\n\u001b[32m----> \u001b[39m\u001b[32m8\u001b[39m ax1.plot(\u001b[43mdf_20grad\u001b[49m[\u001b[33m'\u001b[39m\u001b[33mD [1/min]\u001b[39m\u001b[33m'\u001b[39m], df_20grad[\u001b[33m'\u001b[39m\u001b[33mP [mW]\u001b[39m\u001b[33m'\u001b[39m], \u001b[33m\"\u001b[39m\u001b[33mo\u001b[39m\u001b[33m\"\u001b[39m, label=\u001b[33m\"\u001b[39m\u001b[33m3-Blatt-Rotor, α = 20°\u001b[39m\u001b[33m\"\u001b[39m, \n\u001b[32m      9\u001b[39m          markersize=\u001b[32m6\u001b[39m, color=\u001b[33m'\u001b[39m\u001b[33mblue\u001b[39m\u001b[33m'\u001b[39m)\n\u001b[32m     10\u001b[39m ax1.set_xlabel(\u001b[33m\"\u001b[39m\u001b[33mDrehzahl D [1/min]\u001b[39m\u001b[33m\"\u001b[39m)\n\u001b[32m     11\u001b[39m ax1.set_ylabel(\u001b[33m\"\u001b[39m\u001b[33mLeistung P [mW]\u001b[39m\u001b[33m\"\u001b[39m)\n",
      "\u001b[31mNameError\u001b[39m: name 'df_20grad' is not defined"
     ]
    },
    {
     "data": {
      "image/png": "[encoded data removed]",
      "text/plain": [
       "<Figure size 1400x1000 with 4 Axes>"
      ]
     },
     "metadata": {},
     "output_type": "display_data"
    }
   ],
   "source": [
    "# SCHRITT 3a: D-P-DIAGRAMME - VIER SEPARATE DIAGRAMME\n",
    "# Vier Diagramme in 2x2 Anordnung erstellen\n",
    "fig, ((ax1, ax2), (ax3, ax4)) = plt.subplots(2, 2, figsize=(14, 10))\n",
    "\n",
    "# ============================================================================\n",
    "# DIAGRAMM 1: 3-BLATT-ROTOR, Anstellwinkel α = 20°\n",
    "# ============================================================================\n",
    "ax1.plot(df_20grad['D [1/min]'], df_20grad['P [mW]'], \"o\", label=\"3-Blatt-Rotor, α = 20°\", \n",
    "         markersize=6, color='blue')\n",
    "ax1.set_xlabel(\"Drehzahl D [1/min]\")\n",
    "ax1.set_ylabel(\"Leistung P [mW]\")\n",
    "ax1.set_title(\"D-P-Diagramm: 3-Blatt-Rotor, α = 20°\")\n",
    "ax1.grid(True, alpha=0.3)\n",
    "ax1.legend()\n",
    "\n",
    "# ============================================================================\n",
    "# DIAGRAMM 2: 3-BLATT-ROTOR, Anstellwinkel α = 25°\n",
    "# ============================================================================\n",
    "ax2.plot(df_25grad['D [1/min]'], df_25grad['P [mW]'], \"s\", label=\"3-Blatt-Rotor, α = 25°\", \n",
    "         markersize=6, color='green')\n",
    "# TODO: Ergänzen Sie xlabel, ylabel, title, grid, legend\n",
    "\n",
    "# ============================================================================\n",
    "# DIAGRAMM 3: 3-BLATT-ROTOR, Anstellwinkel α = 30°\n",
    "# ============================================================================\n",
    "# TODO: Vervollständigen Sie dieses Diagramm analog zu den oberen\n",
    "# Verwenden Sie \"^\" als Marker und 'orange' als Farbe\n",
    "\n",
    "# ============================================================================\n",
    "# DIAGRAMM 4: 3-BLATT-ROTOR, Anstellwinkel α = 50°\n",
    "# ============================================================================  \n",
    "# TODO: Vervollständigen Sie dieses Diagramm analog zu den oberen\n",
    "# Verwenden Sie \"d\" als Marker und 'red' als Farbe\n",
    "\n",
    "# Layout optimieren und anzeigen\n",
    "plt.tight_layout()\n",
    "plt.show()\n",
    "\n",
    "# ============================================================================\n",
    "# ANALYSE DER D-P-DIAGRAMME\n",
    "# ============================================================================\n",
    "print(\"=\" * 70)\n",
    "print(\"ANALYSE DER D-P-DIAGRAMME\")\n",
    "print(\"=\" * 70)\n",
    "print(\"Drehzahlbereiche:\")\n",
    "print(f\"α = 20°: {min(df_20grad['D [1/min]']):.0f} 1/min bis {max(df_20grad['D [1/min]']):.0f} 1/min\")\n",
    "# TODO: Ergänzen Sie die Ausgabe für die anderen Anstellwinkel\n",
    "\n",
    "print()\n",
    "print(\"Maximale Leistung:\")\n",
    "print(f\"α = 20°: {max(df_20grad['P [mW]']):.2f} mW\")\n",
    "# TODO: Ergänzen Sie die Ausgabe für die anderen Anstellwinkel\n",
    "\n",
    "print()\n",
    "print(\"Charakteristische Unterschiede:\")\n",
    "print(\"- TODO: Analysieren Sie die Unterschiede zwischen den Anstellwinkeln\")\n",
    "print(\"=\" * 70)"
   ]
  },
  {
   "cell_type": "code",
   "execution_count": 43,
   "id": "d78db2cf-f71b-4228-8c65-d72a0091016e",
   "metadata": {
    "collapsed": true,
    "jupyter": {
     "outputs_hidden": true,
     "source_hidden": true
    }
   },
   "outputs": [
    {
     "ename": "NameError",
     "evalue": "name 'df_20grad' is not defined",
     "output_type": "error",
     "traceback": [
      "\u001b[31m---------------------------------------------------------------------------\u001b[39m",
      "\u001b[31mNameError\u001b[39m                                 Traceback (most recent call last)",
      "\u001b[36mCell\u001b[39m\u001b[36m \u001b[39m\u001b[32mIn[43]\u001b[39m\u001b[32m, line 4\u001b[39m\n\u001b[32m      1\u001b[39m \u001b[38;5;66;03m# SCHRITT 3: MAXIMUM POWER POINT (MPP) BERECHNEN - KUBISCHE REGRESSION\u001b[39;00m\n\u001b[32m      2\u001b[39m \n\u001b[32m      3\u001b[39m \u001b[38;5;66;03m# Kubische Regressionskurven für alle vier Anstellwinkel\u001b[39;00m\n\u001b[32m----> \u001b[39m\u001b[32m4\u001b[39m reg_20grad = np.poly1d(np.polyfit(\u001b[43mdf_20grad\u001b[49m[\u001b[33m'\u001b[39m\u001b[33mD [1/min]\u001b[39m\u001b[33m'\u001b[39m], df_20grad[\u001b[33m'\u001b[39m\u001b[33mP [mW]\u001b[39m\u001b[33m'\u001b[39m], \u001b[32m3\u001b[39m))\n\u001b[32m      5\u001b[39m reg_25grad = np.poly1d(np.polyfit(df_25grad[\u001b[33m'\u001b[39m\u001b[33mD [1/min]\u001b[39m\u001b[33m'\u001b[39m], df_25grad[\u001b[33m'\u001b[39m\u001b[33mP [mW]\u001b[39m\u001b[33m'\u001b[39m], \u001b[32m3\u001b[39m))\n\u001b[32m      6\u001b[39m reg_30grad = np.poly1d(np.polyfit(df_30grad[\u001b[33m'\u001b[39m\u001b[33mD [1/min]\u001b[39m\u001b[33m'\u001b[39m], df_30grad[\u001b[33m'\u001b[39m\u001b[33mP [mW]\u001b[39m\u001b[33m'\u001b[39m], \u001b[32m3\u001b[39m))\n",
      "\u001b[31mNameError\u001b[39m: name 'df_20grad' is not defined"
     ]
    }
   ],
   "source": [
    "# SCHRITT 3: MAXIMUM POWER POINT (MPP) BERECHNEN - KUBISCHE REGRESSION\n",
    "\n",
    "# Kubische Regressionskurven für alle vier Anstellwinkel\n",
    "reg_20grad = np.poly1d(np.polyfit(df_20grad['D [1/min]'], df_20grad['P [mW]'], 3))\n",
    "reg_25grad = np.poly1d(np.polyfit(df_25grad['D [1/min]'], df_25grad['P [mW]'], 3))\n",
    "reg_30grad = np.poly1d(np.polyfit(df_30grad['D [1/min]'], df_30grad['P [mW]'], 3))\n",
    "reg_50grad = np.poly1d(np.polyfit(df_50grad['D [1/min]'], df_50grad['P [mW]'], 3))\n",
    "\n",
    "# Erste Ableitungen berechnen\n",
    "ableitung_20grad = np.polyder(reg_20grad)\n",
    "ableitung_25grad = np.polyder(reg_25grad)\n",
    "ableitung_30grad = np.polyder(reg_30grad)\n",
    "ableitung_50grad = np.polyder(reg_50grad)\n",
    "\n",
    "# Zweite Ableitungen berechnen\n",
    "zweite_ableitung_20grad = np.polyder(ableitung_20grad)\n",
    "zweite_ableitung_25grad = np.polyder(ableitung_25grad)\n",
    "zweite_ableitung_30grad = np.polyder(ableitung_30grad)\n",
    "zweite_ableitung_50grad = np.polyder(ableitung_50grad)\n",
    "\n",
    "# Nullstellen der ersten Ableitung finden\n",
    "nullstellen_20grad = np.roots(ableitung_20grad)\n",
    "nullstellen_25grad = np.roots(ableitung_25grad)\n",
    "nullstellen_30grad = np.roots(ableitung_30grad)\n",
    "nullstellen_50grad = np.roots(ableitung_50grad)\n",
    "\n",
    "print(\"=\" * 70)\n",
    "print(\"EXTREMSTELLEN-ANALYSE\")\n",
    "print(\"=\" * 70)\n",
    "\n",
    "# α = 20° analysieren\n",
    "print(\"α = 20°:\")\n",
    "for x in nullstellen_20grad:\n",
    "    wert_zweite_ableitung = zweite_ableitung_20grad(x)\n",
    "    if wert_zweite_ableitung > 0:\n",
    "        print(f\"D = {x:.2f} 1/min ist ein Minimum (f''(x) = {wert_zweite_ableitung:.4f})\")\n",
    "    elif wert_zweite_ableitung < 0:\n",
    "        print(f\"D = {x:.2f} 1/min ist ein Maximum (f''(x) = {wert_zweite_ableitung:.4f})\")\n",
    "    else:\n",
    "        print(f\"D = {x:.2f} 1/min könnte ein Sattelpunkt sein (f''(x) = {wert_zweite_ableitung:.4f})\")\n",
    "\n",
    "print(\"\")\n",
    "\n",
    "# α = 25° analysieren\n",
    "print(\"α = 25°:\")\n",
    "for x in nullstellen_25grad:\n",
    "    wert_zweite_ableitung = zweite_ableitung_25grad(x)\n",
    "    if wert_zweite_ableitung > 0:\n",
    "        print(f\"D = {x:.2f} 1/min ist ein Minimum (f''(x) = {wert_zweite_ableitung:.4f})\")\n",
    "    elif wert_zweite_ableitung < 0:\n",
    "        print(f\"D = {x:.2f} 1/min ist ein Maximum (f''(x) = {wert_zweite_ableitung:.4f})\")\n",
    "    else:\n",
    "        print(f\"D = {x:.2f} 1/min könnte ein Sattelpunkt sein (f''(x) = {wert_zweite_ableitung:.4f})\")\n",
    "\n",
    "print(\"\")\n",
    "\n",
    "# α = 30° analysieren\n",
    "print(\"α = 30°:\")\n",
    "for x in nullstellen_30grad:\n",
    "    wert_zweite_ableitung = zweite_ableitung_30grad(x)\n",
    "    if wert_zweite_ableitung > 0:\n",
    "        print(f\"D = {x:.2f} 1/min ist ein Minimum (f''(x) = {wert_zweite_ableitung:.4f})\")\n",
    "    elif wert_zweite_ableitung < 0:\n",
    "        print(f\"D = {x:.2f} 1/min ist ein Maximum (f''(x) = {wert_zweite_ableitung:.4f})\")\n",
    "    else:\n",
    "        print(f\"D = {x:.2f} 1/min könnte ein Sattelpunkt sein (f''(x) = {wert_zweite_ableitung:.4f})\")\n",
    "\n",
    "print(\"\")\n",
    "\n",
    "# α = 50° analysieren\n",
    "print(\"α = 50°:\")\n",
    "for x in nullstellen_50grad:\n",
    "    wert_zweite_ableitung = zweite_ableitung_50grad(x)\n",
    "    if wert_zweite_ableitung > 0:\n",
    "        print(f\"D = {x:.2f} 1/min ist ein Minimum (f''(x) = {wert_zweite_ableitung:.4f})\")\n",
    "    elif wert_zweite_ableitung < 0:\n",
    "        print(f\"D = {x:.2f} 1/min ist ein Maximum (f''(x) = {wert_zweite_ableitung:.4f})\")\n",
    "    else:\n",
    "        print(f\"D = {x:.2f} 1/min könnte ein Sattelpunkt sein (f''(x) = {wert_zweite_ableitung:.4f})\")\n",
    "\n",
    "print(\"\")\n",
    "\n",
    "# MPP berechnen - erste Nullstelle nehmen\n",
    "MPP_20grad = reg_20grad(nullstellen_20grad[0])\n",
    "MPP_25grad = reg_25grad(nullstellen_25grad[0])\n",
    "MPP_30grad = reg_30grad(nullstellen_30grad[0])\n",
    "MPP_50grad = reg_50grad(nullstellen_50grad[0])\n",
    "\n",
    "print(\"=\" * 70)\n",
    "print(\"MAXIMUM POWER POINTS\")\n",
    "print(\"=\" * 70)\n",
    "\n",
    "print(\"Der MPP bei α = 20° liegt bei\", f\"{MPP_20grad:.2f}\", \"mW\")\n",
    "print(\"Der MPP bei α = 25° liegt bei\", f\"{MPP_25grad:.2f}\", \"mW\")\n",
    "print(\"Der MPP bei α = 30° liegt bei\", f\"{MPP_30grad:.2f}\", \"mW\")\n",
    "print(\"Der MPP bei α = 50° liegt bei\", f\"{MPP_50grad:.2f}\", \"mW\")\n",
    "\n",
    "# ============================================================================\n",
    "# DIAGRAMM MIT REGRESSIONSKURVEN UND MPP\n",
    "# ============================================================================\n",
    "\n",
    "# Bereiche für glatte Regressionskurven (müssen an tatsächliche Messbereiche angepasst werden)\n",
    "reg_bereich_20grad = np.linspace(min(df_20grad['D [1/min]']), max(df_20grad['D [1/min]']), 100)\n",
    "reg_bereich_25grad = np.linspace(min(df_25grad['D [1/min]']), max(df_25grad['D [1/min]']), 100)\n",
    "reg_bereich_30grad = np.linspace(min(df_30grad['D [1/min]']), max(df_30grad['D [1/min]']), 100)\n",
    "reg_bereich_50grad = np.linspace(min(df_50grad['D [1/min]']), max(df_50grad['D [1/min]']), 100)\n",
    "\n",
    "# Vergleichsdiagramm erstellen\n",
    "fig, ax = plt.subplots(1, 1, figsize=(12, 8))\n",
    "\n",
    "# Messdaten plotten\n",
    "ax.plot(df_20grad['D [1/min]'], df_20grad['P [mW]'], \"o\", label=\"α = 20° Messdaten\", color='blue')\n",
    "ax.plot(df_25grad['D [1/min]'], df_25grad['P [mW]'], \"s\", label=\"α = 25° Messdaten\", color='green')\n",
    "ax.plot(df_30grad['D [1/min]'], df_30grad['P [mW]'], \"^\", label=\"α = 30° Messdaten\", color='orange')\n",
    "ax.plot(df_50grad['D [1/min]'], df_50grad['P [mW]'], \"d\", label=\"α = 50° Messdaten\", color='red')\n",
    "\n",
    "# Regressionskurven plotten\n",
    "ax.plot(reg_bereich_20grad, reg_20grad(reg_bereich_20grad), \"--\", color=\"lightblue\", label=\"Regression α = 20°\")\n",
    "ax.plot(reg_bereich_25grad, reg_25grad(reg_bereich_25grad), \":\", color=\"lightgreen\", label=\"Regression α = 25°\")\n",
    "ax.plot(reg_bereich_30grad, reg_30grad(reg_bereich_30grad), \"-.\", color=\"orange\", alpha=0.7, label=\"Regression α = 30°\")\n",
    "ax.plot(reg_bereich_50grad, reg_50grad(reg_bereich_50grad), \"-\", color=\"pink\", alpha=0.7, label=\"Regression α = 50°\")\n",
    "\n",
    "# MPP markieren\n",
    "ax.plot(nullstellen_20grad[0], MPP_20grad, \"o\", label=\"MPP α = 20°\", color=\"darkblue\", markersize=8)\n",
    "ax.plot(nullstellen_25grad[0], MPP_25grad, \"s\", label=\"MPP α = 25°\", color=\"darkgreen\", markersize=8)\n",
    "ax.plot(nullstellen_30grad[0], MPP_30grad, \"^\", label=\"MPP α = 30°\", color=\"darkorange\", markersize=8)\n",
    "ax.plot(nullstellen_50grad[0], MPP_50grad, \"d\", label=\"MPP α = 50°\", color=\"darkred\", markersize=8)\n",
    "\n",
    "ax.set_xlabel(\"Drehzahl D [1/min]\")\n",
    "ax.set_ylabel(\"Leistung P [mW]\")\n",
    "ax.set_title(\"D-P-Diagramm: Vergleich aller Anstellwinkel (mit MPP)\")\n",
    "ax.grid()\n",
    "ax.legend()\n",
    "\n",
    "plt.tight_layout()\n",
    "plt.show()\n",
    "\n",
    "print(\"\")\n",
    "print(\"=\" * 70)\n",
    "print(\"ANALYSE UND BEWERTUNG:\")\n",
    "print(\"=\" * 70)\n",
    "print(\"TODO: Ergänzen Sie Ihre Analyse:\")\n",
    "print(\"1. Welcher Anstellwinkel zeigt die höchste MPP-Leistung?\")\n",
    "print(\"2. Wie verändert sich die optimale Drehzahl mit dem Anstellwinkel?\")\n",
    "print(\"3. Welche aerodynamischen Effekte erklären die Unterschiede?\")\n",
    "print(\"4. Wie kann das beobachtete Verhalten für den Betrieb realer Windkraftanlagen genutzt werden?\")\n",
    "print(\"5. Wie heißt die entsprechende Regelung bei Windkraftanlagen?\")\n",
    "print(\"=\" * 70)"
   ]
  },
  {
   "cell_type": "markdown",
   "id": "2afecbdf-02c4-4392-b0b8-34de97e50ad8",
   "metadata": {},
   "source": [
    "### Kritische Analyse der MPP-Berechnung\n",
    "\n",
    "**TODO: Beschreiben Sie die Plausibilität der Ergebnissen**\n",
    "\n",
    "---\n",
    "\n",
    "### Auswertung und Diskussion der Ergebnisse\n",
    "\n",
    "#### Anstellwinkel-Einfluss auf die Leistung\n",
    "\n",
    "**TODO: Vervollständigen Sie basierend auf Ihren Messergebnissen**\n",
    "\n",
    "**Messergebnis:** Der Anstellwinkel α = __° erreicht die höchste Maximalleistung von __ mW, während α = __° die niedrigste Leistung von __ mW zeigt.\n",
    "\n",
    "**Warum beeinflusst der Anstellwinkel die Leistung so stark?**\n",
    "\n",
    "TODO: Erklären Sie die aerodynamischen Grundlagen:\n",
    "- Wie wirkt sich der Anstellwinkel auf Auftrieb und Widerstand aus?\n",
    "- Warum gibt es einen optimalen Anstellwinkel?\n",
    "- Was passiert bei zu kleinen bzw. zu großen Anstellwinkeln?\n",
    "\n",
    "#### Praktische Anwendung für reale Windkraftanlagen\n",
    "\n",
    "**Schutz vor Überlastung**\n",
    "TODO: Erklären Sie, wie die Anstellwinkel-Verstellung bei Starkwind genutzt wird:\n",
    "- Welche Regelung nutzt die Anstellwinkel-Verstellung?\n",
    "- Wie wird die Anlage vor Schäden geschützt?\n",
    "- Warum ist dies bei modernen Windkraftanlagen wichtig?"
   ]
  },
  {
   "cell_type": "markdown",
   "id": "6776f4c9-1013-4c7d-9a14-c42627e70ebf",
   "metadata": {},
   "source": [
    "## 2.3 Versuch 3: Energiebilanz, Wirkungsgrad und Schnelllaufzahl einer Windkraftanlage\n",
    "In diesem Versuch werden Energiebilanz, Wirkungsgrad und Schnelllaufzahl einer Windkraftanlage experimentell bestimmt. Ziel ist es, die erzeugte elektrische Leistung mit der Windleistung zu vergleichen, den Wirkungsgrad zu berechnen und die Schnelllaufzahl zu ermitteln.\n",
    "Die Messungen erfolgen bei verschiedenen Netzspannungen mit einem AV-Modul, Windgeschwindigkeitsmessgerät und Drehzahlmessgerät.\n",
    "\n",
    "---\n",
    "\n",
    "**Aufbau, Geräte & Komponenten:**\n",
    "\n",
    "- Grundeinheit  \n",
    "- Winderzeugermodul  \n",
    "- Power-Modul  \n",
    "- Windgeneratormodul (3-Flügeler, 25°, optimiertes Profil)  \n",
    "- Widerstandsmodul mit 100 Ω Steckelement  \n",
    "- AV-Modul  \n",
    "- Windgeschwindigkeitsmessgerät  \n",
    "- Maßband  \n",
    "- Drehzahlmessgerät  \n",
    "- Thermometer\n",
    "\n",
    "---\n",
    "\n",
    "**Schaltpläne:**\n",
    "\n",
    "Aufbau zur Ermittlung von Energiebilanz und Wirkungsgrad:\n",
    "\n",
    "![Schaltplan Versuch3.1](Data/Schaltplan_Wind_Versuch_3-1.png \"Energiebilanz & Wirkungsgrad\")\n",
    "\n",
    "Aufbau zur Ermittlung der Schnelllaufzahl:\n",
    "\n",
    "![Schaltplan Versuch3.2](Data/Schaltplan_Wind_Versuch_3-2.png \"Schnelllaufzahl\")\n",
    "\n",
    "---\n",
    "\n",
    "**Durchführung**\n",
    "\n",
    "1. Bauen Sie den Versuchsaufbau zur Ermittlung der Energiebilanz und des Wirkungsgrades auf.\n",
    "   1. Stellen Sie eine Netzspannung von $U_\\text{Netz} = 9\\ \\text{V}$ ein.\n",
    "   2. Verwenden Sie zunächst das Windgeschwindigkeitsmessgerät anstelle des Windgenerators und messen Sie die Windgeschwindigkeit $v_\\text{Wind}$.\n",
    "   3. Setzen Sie den Windgenerator ein und ermitteln Sie Spannung $U$ und Stromstärke $I$ mit dem AV-Modul.\n",
    "   4. Messen Sie den Rotordurchmesser $d$ und die Temperatur $\\vartheta$.\n",
    "2. Bauen Sie den zweiten Versuchsaufbau zur Bestimmung der Schnelllaufzahl auf.\n",
    "   1. Stellen Sie eine Netzspannung von $U_\\text{Netz} = 12\\ \\text{V}$ ein.\n",
    "   2. Platzieren Sie das Windgeschwindigkeitsmessgerät und messen Sie die Windgeschwindigkeit $v_\\text{Wind}$.\n",
    "   3. Setzen Sie den Windgenerator ein und messen Sie die Drehzahl $D$.\n",
    "\n",
    "---\n",
    "\n",
    "**Messgrößen:**  \n",
    "\n",
    "- Die Windgeschwindigkeit $v_\\text{Wind}$ bei 9 V und 12 V in $\\text{[m/s]}$  \n",
    "- Die elektrische Spannung $U$ in $\\text{[V]}$  \n",
    "- Die Stromstärke $I$ in $\\text{[mA]}$  \n",
    "- Die Leistung $P = U \\cdot I$ in $\\text{[mW]}$  \n",
    "- Die Temperatur $\\vartheta$ in $\\text{[°C]}$  \n",
    "- Der Rotordurchmesser $d$ in $\\text{[mm]}$  \n",
    "- Die Drehzahl $D$ in $\\text{[min}^{-1}\\text{]}$  \n",
    "- Die Luftdichte $\\rho_\\text{Luft}$ in $\\text{[kg/m}^3\\text{]}$ (aus Diagramm)  \n",
    "\n",
    "---\n",
    "\n",
    "**Messdaten:**\n",
    "\n",
    "Notieren Sie hier Ihre Messdaten in einfachen Listen. Nutzen Sie dafür eindeutige Bezeichnungen, ähnlich wie im folgenden Beispiel:"
   ]
  },
  {
   "cell_type": "code",
   "execution_count": 46,
   "id": "cba62b87-f2b7-4326-bc96-a358dca50872",
   "metadata": {},
   "outputs": [
    {
     "name": "stdout",
     "output_type": "stream",
     "text": [
      "Bereit für die Auswertung!\n"
     ]
    }
   ],
   "source": [
    "# DATENERFASSUNG - NUR MESSWERTE EINTRAGEN!\n",
    "\n",
    "# =============================================================================\n",
    "# TEIL 1: ENERGIEBILANZ UND WIRKUNGSGRAD (bei 9V Netzspannung)\n",
    "# =============================================================================\n",
    "\n",
    "# Windgeschwindigkeit bei 9V (vor Einbau des Generators)\n",
    "v_9v = [5.06]  # Windgeschwindigkeit in m/s\n",
    "\n",
    "# Elektrische Messgrößen bei 9V\n",
    "u_9v = [3.09]       # Spannung in V\n",
    "i_9v = [31.5]       # Stromstärke in mA\n",
    "\n",
    "# Geometrische und Umgebungsdaten\n",
    "d_rotor = [131]             # Rotordurchmesser in mm\n",
    "temperatur = [22.1]         # Temperatur in °C\n",
    "\n",
    "# =============================================================================\n",
    "# TEIL 2: SCHNELLLAUFZAHL (bei 12V Netzspannung)\n",
    "# =============================================================================\n",
    "\n",
    "# Windgeschwindigkeit bei 12V\n",
    "v_12v = [5.65]  # Windgeschwindigkeit in m/s\n",
    "\n",
    "# Drehzahl bei 12V \n",
    "D_12v = [6096]       # Drehzahl in min^-1\n",
    "\n",
    "print(\"Bereit für die Auswertung!\")"
   ]
  },
  {
   "cell_type": "markdown",
   "id": "bc4cd9d5-79e5-437d-801d-89676353aeb1",
   "metadata": {
    "jupyter": {
     "source_hidden": true
    }
   },
   "source": [
    "Aus diesen Messwerten werden nun Tabellen mit `pandas` `DataFrames` erstellt.\n",
    "Wichtige Hinweise:\n",
    "\n",
    "- Die Messwerte müssen nicht nochmal eingegeben werden, solange die Zelle mit den Listen zuvor ausgeführt wurde\n",
    "- Python beginnt die Indexierung bei [0] - der erste Wert hat Index 0, der zweite Index 1, usw.\n",
    "- DataFrames ermöglichen professionelle Tabellendarstellung und einfache Berechnungen\n",
    "\n",
    "Im folgenden Code werden alle Listen aus Messdaten in `DataFrames`umgewandelt:"
   ]
  },
  {
   "cell_type": "code",
   "execution_count": 47,
   "id": "a8d02568-6bb1-4bf2-9987-892cf3d4d312",
   "metadata": {
    "collapsed": true,
    "jupyter": {
     "outputs_hidden": true
    },
    "scrolled": true
   },
   "outputs": [
    {
     "ename": "SyntaxError",
     "evalue": "expression expected after dictionary key and ':' (1346368227.py, line 5)",
     "output_type": "error",
     "traceback": [
      "  \u001b[36mCell\u001b[39m\u001b[36m \u001b[39m\u001b[32mIn[47]\u001b[39m\u001b[32m, line 5\u001b[39m\n\u001b[31m    \u001b[39m\u001b[31m'v_Wind [m/s]': ,\u001b[39m\n                  ^\n\u001b[31mSyntaxError\u001b[39m\u001b[31m:\u001b[39m expression expected after dictionary key and ':'\n"
     ]
    }
   ],
   "source": [
    "# DATAFRAMES AUS DEN LISTEN ERSTELLEN  \n",
    "\n",
    "# Teil 1: Energiebilanz und Wirkungsgrad\n",
    "df_energiebilanz = pd.DataFrame({\n",
    "    'v_Wind [m/s]': ,\n",
    "    'U [V]': ,\n",
    "    'I [mA]': ,\n",
    "    'd_Rotor [mm]': ,\n",
    "    'Temperatur [°C]': \n",
    "})\n",
    "\n",
    "# Teil 2: Schnelllaufzahl\n",
    "df_schnelllaufzahl = pd.DataFrame({\n",
    "    'v_Wind [m/s]': ,\n",
    "    'D [1/min]': \n",
    "})\n",
    "\n",
    "# Indizes als \"Messpunkte\" umbenennen (Zählung bei 1 starten)\n",
    "for df in [df_energiebilanz, df_schnelllaufzahl]:\n",
    "    df.index = [f\"Messpunkt {i+1}\" for i in range(len(df))]\n",
    "\n",
    "print(\"DataFrames erfolgreich erstellt:\")"
   ]
  },
  {
   "cell_type": "code",
   "execution_count": 59,
   "id": "9ea38236-8f60-4b47-b778-8eb1b0fb5f39",
   "metadata": {
    "collapsed": true,
    "jupyter": {
     "outputs_hidden": true
    }
   },
   "outputs": [
    {
     "name": "stdout",
     "output_type": "stream",
     "text": [
      "Tabelle 17: Messdaten zur Bestimmung der Energiebilanz und des Wirkungsgrads\n"
     ]
    },
    {
     "ename": "NameError",
     "evalue": "name 'df_' is not defined",
     "output_type": "error",
     "traceback": [
      "\u001b[31m---------------------------------------------------------------------------\u001b[39m",
      "\u001b[31mNameError\u001b[39m                                 Traceback (most recent call last)",
      "\u001b[36mCell\u001b[39m\u001b[36m \u001b[39m\u001b[32mIn[59]\u001b[39m\u001b[32m, line 4\u001b[39m\n\u001b[32m      1\u001b[39m \u001b[38;5;66;03m# MESSDATENTABELLEN ANZEIGEN\u001b[39;00m\n\u001b[32m      3\u001b[39m \u001b[38;5;28mprint\u001b[39m(\u001b[33m\"\u001b[39m\u001b[33mTabelle 17: Messdaten zur Bestimmung der Energiebilanz und des Wirkungsgrads\u001b[39m\u001b[33m\"\u001b[39m)\n\u001b[32m----> \u001b[39m\u001b[32m4\u001b[39m \u001b[38;5;28mprint\u001b[39m(tabulate(\u001b[43mdf_\u001b[49m, headers=df_.columns, tablefmt=\u001b[33m'\u001b[39m\u001b[33mfancy_grid\u001b[39m\u001b[33m'\u001b[39m, \n\u001b[32m      5\u001b[39m                floatfmt=\u001b[33m\"\u001b[39m\u001b[33m.2f\u001b[39m\u001b[33m\"\u001b[39m))\n\u001b[32m      6\u001b[39m \u001b[38;5;28mprint\u001b[39m(\u001b[33m\"\u001b[39m\u001b[38;5;130;01m\\n\u001b[39;00m\u001b[33m\"\u001b[39m)\n\u001b[32m      8\u001b[39m \u001b[38;5;28mprint\u001b[39m(\u001b[33m\"\u001b[39m\u001b[33mTabelle 18: Messdaten zur Bestimmung der Schnelllaufzahl\u001b[39m\u001b[33m\"\u001b[39m)\n",
      "\u001b[31mNameError\u001b[39m: name 'df_' is not defined"
     ]
    }
   ],
   "source": [
    "# MESSDATENTABELLEN ANZEIGEN\n",
    "\n",
    "print(\"Tabelle 17: Messdaten zur Bestimmung der Energiebilanz und des Wirkungsgrads\")\n",
    "print(tabulate(df_, headers=df_.columns, tablefmt='fancy_grid', \n",
    "               floatfmt=\".2f\"))\n",
    "print(\"\\n\")\n",
    "\n",
    "print(\"Tabelle 18: Messdaten zur Bestimmung der Schnelllaufzahl\")\n",
    "print(tabulate(df_, headers=df_.columns, tablefmt='fancy_grid',\n",
    "               floatfmt=\".2f\"))"
   ]
  },
  {
   "cell_type": "markdown",
   "id": "670fba10-eb0e-4f48-af0e-1a2b39416a4b",
   "metadata": {},
   "source": [
    "### Beobachtungen während des Versuchs\n",
    "Beschreiben Sie hier **in eigenen Worten** den Aufbau, die Durchführung und Ihre Beobachtungen:\n",
    "\n",
    "- Wie unterschieden sich die Windgeschwindigkeiten bei 9V und 12V Netzspannung und welchen Einfluss hatte das auf die Messungen?\n",
    "- Welche Unterschiede stellten Sie zwischen der theoretischen Windleistung und der tatsächlich erzeugten elektrischen Leistung fest?\n",
    "- Was konnten Sie über den Wirkungsgrad der Windkraftanlage beobachten?\n",
    "- Welche Schlüsse ziehen Sie aus der berechneten Schnelllaufzahl bezüglich der Rotorgeschwindigkeit?\n",
    "\n",
    "> *Hinweis: Denken Sie an die physikalischen Grundlagen - warum kann nie die gesamte Windenergie umgewandelt werden?*\n",
    "\n",
    "---\n",
    "\n",
    "**Im folgenden Feld Ihre eigene Beschreibung und Beobachtungen eintragen:**"
   ]
  },
  {
   "cell_type": "code",
   "execution_count": null,
   "id": "d40adc45-6463-4b63-a8a2-4aea6d151577",
   "metadata": {},
   "outputs": [],
   "source": []
  },
  {
   "cell_type": "markdown",
   "id": "12ae2491-f420-4cb7-9e2a-afe8e13d91af",
   "metadata": {},
   "source": [
    "# Auswertung\n",
    "1. Berechnen Sie aus den **9V-Messungen** die Angriffsfläche und die Windenergie vor dem Rotor $P_\\text{Wind}$.  \n",
    "   Ermitteln Sie die Dichte $\\rho$ der Luft anhand des beigefügten Diagramms aus der gemessenen Temperatur.\n",
    "2. Berechnen Sie aus den **9V-Messungen** die Nennleistung $P_N$ der Windkraftanlage.\n",
    "3. Ermitteln Sie aus den **9V-Messungen** den Energiebilanzquotienten $\\varepsilon$ und den Wirkungsgrad $\\eta$ der Windkraftanlage.\n",
    "4. Berechnen Sie aus den **12V-Messungen** die Schnelllaufzahl $\\lambda$ der Windkraftanlage."
   ]
  },
  {
   "cell_type": "markdown",
   "id": "0c2884da-87e3-430b-9f0c-bd3d241bb998",
   "metadata": {},
   "source": [
    "### Schritt 1: Angriffsfläche und Windenergie berechnen\n",
    "**Grundlagen:**\n",
    "Die **Angriffsfläche** $A$ entspricht der vom Rotor überstrichenen Kreisfläche und berechnet sich aus dem Durchmesser:\n",
    "$$A = \\frac{\\pi \\cdot d^2}{4}$$\n",
    "\n",
    "Die **Windenergie**, die einem Rotor zur Verfügung steht, berechnet sich nach der Formel:\n",
    "$$P_\\text{Wind} = \\frac{1}{2} \\cdot \\rho \\cdot A \\cdot v^3$$\n",
    "\n",
    "Dabei ist:\n",
    "- $\\rho$ die Luftdichte in [kg/m³] (aus Diagramm bei gemessener Temperatur)\n",
    "- $A$ die Angriffsfläche des Rotors in [m²] \n",
    "- $v$ die Windgeschwindigkeit in [m/s]\n",
    "- $d$ der Rotordurchmesser in [m]\n",
    "\n",
    "Die **Luftdichte** $\\rho$ ist Abhängig voN Druck und Temperatur und kann für Umgebungsdruck (1,01325 bar) händisch aus dem dem folgenden Diagramm abgelesen:\n",
    "\n",
    "![Luftdichte-Temperatur-Diagramm](Data/Luftdichte_Diagramm.png \"Dichte der Luft in Abhängigkeit von der Raumtemperatur\")\n",
    "\n",
    "Die Windleistung steigt mit der **dritten Potenz** der Windgeschwindigkeit - eine Verdopplung der Windgeschwindigkeit führt zu einer achtfachen Windleistung!\n",
    "\n",
    "**Was passiert im folgenden Code:**\n",
    "- Aus der gemessenen Temperatur wird die Luftdichte $\\rho$ über das Diagramm bestimmt\n",
    "- Die Angriffsfläche $A$ wird aus dem Rotordurchmesser berechnet\n",
    "- Die theoretisch verfügbare Windleistung $P_\\text{Wind}$ wird für die **9V-Messungen** ermittelt\n",
    "\n",
    "#### Alternative: Berechnung der Luftdichte mithilfe von CoolProp\n",
    "\n",
    "CoolProp ist eine Open-Source-Bibliothek für die Berechnung thermodynamischer Stoffdaten von Fluiden. Die Bibliothek wird in der Industrie und Forschung weit verbreitet eingesetzt und enthält präzise Zustandsgleichungen für über 100 Fluide, einschließlich feuchter Luft.\n",
    "\n",
    "**Vorteile von CoolProp**\n",
    "- Berechnungen basierend auf wissenschaftlichen Zustandsgleichungen\n",
    "- Berücksichtigung verschiedener Drücke und Luftfeuchtigkeit möglich\n",
    "\n",
    "**Verwendung zur Berechnung der Luftdichte aus der gemessen Temperatur bei kosntantem Druck:**\n",
    "```python\n",
    "from CoolProp.CoolProp import PropsSI\n",
    "\n",
    "# Luftdichte bei gegebener Temperatur und Standarddruck berechnen\n",
    "t_kelvin = df_energiebilanz['Temperatur [°C]'] + 273.15  # Umrechnung nach Kelvin\n",
    "druck = 101325  # Standarddruck in Pascal (1013.25 mbar)\n",
    "\n",
    "# PropsSI(Output, Input1, Value1, Input2, Value2, Fluid)\n",
    "rho_luft = PropsSI('D', 'T', t_kelvin, 'P', druck, 'Air')\n",
    "print(f\"Luftdichte bei {temperatur_celsius}°C: {rho_luft:.3f} kg/m³\")\n",
    "```\n",
    "---"
   ]
  },
  {
   "cell_type": "markdown",
   "id": "709fbbeb-f246-4f8c-869a-7686b38a9e87",
   "metadata": {},
   "source": [
    "#### Alternative: Berechnung der Luftdichte mithilfe von CoolProp\n",
    "\n",
    "CoolProp ist eine Open-Source-Bibliothek für die Berechnung thermodynamischer Stoffdaten von Fluiden. Die Bibliothek wird in der Industrie und Forschung weit verbreitet eingesetzt und enthält präzise Zustandsgleichungen für über 100 Fluide, einschließlich feuchter Luft.\n",
    "\n",
    "**Vorteile von CoolProp**\n",
    "- Berechnungen basierend auf wissenschaftlichen Zustandsgleichungen\n",
    "- Berücksichtigung verschiedener Drücke und Luftfeuchtigkeit möglich\n",
    "\n",
    "**Verwendung zur Berechnung der Luftdichte aus der gemessen Temperatur bei kosntantem Druck:**\n",
    "```python\n",
    "from CoolProp.CoolProp import PropsSI\n",
    "\n",
    "# Luftdichte bei gegebener Temperatur und Standarddruck berechnen\n",
    "t_kelvin = df_energiebilanz['Temperatur [°C]'] + 273.15  # Umrechnung nach Kelvin\n",
    "druck = 101325  # Standarddruck in Pascal (1013.25 mbar)\n",
    "\n",
    "# PropsSI(Output, Input1, Value1, Input2, Value2, Fluid)\n",
    "rho_luft = PropsSI('D', 'T', t_kelvin, 'P', druck, 'Air')\n",
    "print(f\"Luftdichte bei df_energiebilanz['Temperatur [°C]'] °C: {rho_luft:.3f} kg/m³\")\n",
    "```\n",
    "---"
   ]
  },
  {
   "cell_type": "code",
   "execution_count": 55,
   "id": "248cfcad-9e2a-45c9-82aa-d0ef94b7edf8",
   "metadata": {
    "collapsed": true,
    "jupyter": {
     "outputs_hidden": true
    }
   },
   "outputs": [
    {
     "ename": "NameError",
     "evalue": "name 'df_energiebilanz' is not defined",
     "output_type": "error",
     "traceback": [
      "\u001b[31m---------------------------------------------------------------------------\u001b[39m",
      "\u001b[31mNameError\u001b[39m                                 Traceback (most recent call last)",
      "\u001b[36mCell\u001b[39m\u001b[36m \u001b[39m\u001b[32mIn[55]\u001b[39m\u001b[32m, line 4\u001b[39m\n\u001b[32m      1\u001b[39m \u001b[38;5;66;03m# SCHRITT 1: ANGRIFFSFLÄCHE UND WINDENERGIE BERECHNEN\u001b[39;00m\n\u001b[32m      2\u001b[39m \n\u001b[32m      3\u001b[39m \u001b[38;5;66;03m# Luftdichte aus Temperatur bestimmen (aus Diagramm ablesen)\u001b[39;00m\n\u001b[32m----> \u001b[39m\u001b[32m4\u001b[39m \u001b[43mdf_energiebilanz\u001b[49m[\u001b[33m'\u001b[39m\u001b[33mrho [kg/m³]\u001b[39m\u001b[33m'\u001b[39m] = _  \u001b[38;5;66;03m# Luftdichte aus Diagramm bei gemessener Temperatur\u001b[39;00m\n\u001b[32m      6\u001b[39m \u001b[38;5;66;03m# Durchmesser von mm in m umrechnen\u001b[39;00m\n\u001b[32m      7\u001b[39m df_energiebilanz[\u001b[33m'\u001b[39m\u001b[33md_Rotor [m]\u001b[39m\u001b[33m'\u001b[39m] = df_energiebilanz[\u001b[33m'\u001b[39m\u001b[33md_Rotor [mm]\u001b[39m\u001b[33m'\u001b[39m] / _\n",
      "\u001b[31mNameError\u001b[39m: name 'df_energiebilanz' is not defined"
     ]
    }
   ],
   "source": [
    "# SCHRITT 1: ANGRIFFSFLÄCHE UND WINDENERGIE BERECHNEN\n",
    "\n",
    "# Luftdichte aus Temperatur bestimmen (aus Diagramm ablesen)\n",
    "df_energiebilanz['rho [kg/m³]'] = _  # Luftdichte aus Diagramm bei gemessener Temperatur\n",
    "\n",
    "# Durchmesser von mm in m umrechnen\n",
    "df_energiebilanz['d_Rotor [m]'] = df_energiebilanz['d_Rotor [mm]'] / _\n",
    "\n",
    "# Angriffsfläche berechnen: A = π * d² / 4\n",
    "df_energiebilanz['A_Rotor [m²]'] = np.pi * df_energiebilanz['_']**2 / _\n",
    "\n",
    "# Windleistung berechnen: P_Wind = 1/2 * ρ * A * v³\n",
    "df_energiebilanz['P_Wind [W]'] = 0.5 * df_energiebilanz['_'] * df_energiebilanz['_'] * df_energiebilanz['_']**_\n",
    "\n",
    "# Ergebnis anzeigen\n",
    "print(\"Berechnungen erfolgreich durchgeführt:\")\n",
    "print(tabulate(df_energiebilanz, headers=df_energiebilanz.columns, tablefmt='fancy_grid', floatfmt=\".4f\"))"
   ]
  },
  {
   "cell_type": "markdown",
   "id": "afac77fb-ab6a-48df-b3f4-d641c604266f",
   "metadata": {},
   "source": [
    "### Schritt 2: Nennleistung der Windkraftanlage berechnen\n",
    "**Grundlagen:**\n",
    "Die **Nennleistung** $P_N$ ist die tatsächlich vom Generator erzeugte elektrische Leistung:\n",
    "$$P_N = U \\cdot I$$\n",
    "\n",
    "Diese wird aus den elektrischen Messgrößen der **9V-Messungen** berechnet:\n",
    "- Spannung $U$ in [V] (Volt)\n",
    "- Stromstärke $I$ in [mA] (Milliampere)\n",
    "- Ergebnis: Nennleistung in [mW] (Milliwatt)\n",
    "\n",
    "Die Nennleistung ist immer kleiner als die theoretisch verfügbare Windleistung, da Verluste durch Aerodynamik, Mechanik und Elektrik auftreten.\n",
    "\n",
    "**Was passiert im folgenden Code:**\n",
    "- Die elektrische Leistung wird aus Spannung und Stromstärke berechnet\n",
    "- Das Ergebnis wird dem DataFrame hinzugefügt\n",
    "- Die erweiterte Tabelle wird zur Kontrolle angezeigt"
   ]
  },
  {
   "cell_type": "code",
   "execution_count": null,
   "id": "ee48836f-24ed-4245-ab0f-c1b0ed8d41bf",
   "metadata": {},
   "outputs": [],
   "source": [
    "# SCHRITT 2: NENNLEISTUNG BERECHNEN\n",
    "\n",
    "# Nennleistung P_N = U × I berechnen\n",
    "df_energiebilanz['P_N [mW]'] = df_energiebilanz['_'] * df_energiebilanz['_']\n",
    "\n",
    "# Nennleistung auch in Watt für Vergleich mit Windleistung\n",
    "df_energiebilanz['P_N [W]'] = df_energiebilanz['P_N [mW]'] / _\n",
    "\n",
    "print(\"Nennleistung erfolgreich berechnet:\")\n",
    "print(tabulate(df_energiebilanz, headers=df_energiebilanz.columns, tablefmt='fancy_grid', floatfmt=\".4f\"))"
   ]
  },
  {
   "cell_type": "markdown",
   "id": "be0c5cea-e3cc-4f3f-84d7-4145bedae3a2",
   "metadata": {},
   "source": [
    "### Schritt 3: Energiebilanzquotient und Wirkungsgrad ermitteln\n",
    "**Grundlagen:**\n",
    "Der **Energiebilanzquotient** $\\varepsilon$ und der **Wirkungsgrad** $\\eta$ beschreiben, wie effizient die Windkraftanlage arbeitet:\n",
    "$$\\varepsilon = \\eta = \\frac{P_N}{P_\\text{Wind}}$$\n",
    "\n",
    "Theoretisch kann nach dem **Betz'schen Gesetz** maximal 59,3% der Windenergie genutzt werden. In der Praxis liegen die Wirkungsgrade moderner Windkraftanlagen bei 35-45% aufgrund weiterer Verluste:\n",
    "- Aerodynamische Verluste an den Rotorblättern\n",
    "- Mechanische Verluste im Getriebe\n",
    "- Elektrische Verluste im Generator und der Leistungselektronik\n",
    "\n",
    "**Was passiert im folgenden Code:**\n",
    "- Der Quotient aus Nennleistung und Windleistung wird berechnet\n",
    "- Das Ergebnis wird als Dezimalzahl und in Prozent ausgegeben\n",
    "- Eine Bewertung der Effizienz erfolgt im Vergleich zu theoretischen Werten"
   ]
  },
  {
   "cell_type": "code",
   "execution_count": 62,
   "id": "8564930c-04cf-41c1-8194-0a79447cf596",
   "metadata": {
    "collapsed": true,
    "jupyter": {
     "outputs_hidden": true
    }
   },
   "outputs": [
    {
     "ename": "NameError",
     "evalue": "name 'df_energiebilanz' is not defined",
     "output_type": "error",
     "traceback": [
      "\u001b[31m---------------------------------------------------------------------------\u001b[39m",
      "\u001b[31mNameError\u001b[39m                                 Traceback (most recent call last)",
      "\u001b[36mCell\u001b[39m\u001b[36m \u001b[39m\u001b[32mIn[62]\u001b[39m\u001b[32m, line 4\u001b[39m\n\u001b[32m      1\u001b[39m \u001b[38;5;66;03m# SCHRITT 3: ENERGIEBILANZQUOTIENT UND WIRKUNGSGRAD BERECHNEN\u001b[39;00m\n\u001b[32m      2\u001b[39m \n\u001b[32m      3\u001b[39m \u001b[38;5;66;03m# Wirkungsgrad η = P_N / P_Wind berechnen\u001b[39;00m\n\u001b[32m----> \u001b[39m\u001b[32m4\u001b[39m df_energiebilanz[\u001b[33m'\u001b[39m\u001b[33mWirkungsgrad [-]\u001b[39m\u001b[33m'\u001b[39m] = \u001b[43mdf_energiebilanz\u001b[49m[\u001b[33m'\u001b[39m\u001b[33m_\u001b[39m\u001b[33m'\u001b[39m] / df_energiebilanz[\u001b[33m'\u001b[39m\u001b[33m_\u001b[39m\u001b[33m'\u001b[39m]\n\u001b[32m      6\u001b[39m \u001b[38;5;66;03m# Wirkungsgrad auch in Prozent\u001b[39;00m\n\u001b[32m      7\u001b[39m df_energiebilanz[\u001b[33m'\u001b[39m\u001b[33mWirkungsgrad [\u001b[39m\u001b[33m%\u001b[39m\u001b[33m]\u001b[39m\u001b[33m'\u001b[39m] = df_energiebilanz[\u001b[33m'\u001b[39m\u001b[33mWirkungsgrad [-]\u001b[39m\u001b[33m'\u001b[39m] * _\n",
      "\u001b[31mNameError\u001b[39m: name 'df_energiebilanz' is not defined"
     ]
    }
   ],
   "source": [
    "# SCHRITT 3: ENERGIEBILANZQUOTIENT UND WIRKUNGSGRAD BERECHNEN\n",
    "\n",
    "# Wirkungsgrad η = P_N / P_Wind berechnen\n",
    "df_energiebilanz['Wirkungsgrad [-]'] = df_energiebilanz['_'] / df_energiebilanz['_']\n",
    "\n",
    "# Wirkungsgrad auch in Prozent\n",
    "df_energiebilanz['Wirkungsgrad [%]'] = df_energiebilanz['Wirkungsgrad [-]'] * _\n",
    "\n",
    "print(\"Wirkungsgrad erfolgreich berechnet:\")\n",
    "print(tabulate(df_energiebilanz, headers=df_energiebilanz.columns, tablefmt='fancy_grid', floatfmt=\".4f\"))\n",
    "\n",
    "# Bewertung des Wirkungsgrades\n",
    "eta_prozent = df_energiebilanz['Wirkungsgrad [%]'].iloc[0]\n",
    "print(\"Bewertung des Wirkungsgrades:\")\n",
    "print(f\"Der gemessener Wirkungsgrad liegt bei {eta_prozent:.2f} %\")\n",
    "print(\"Das theoretische Limit nach Betz liegt bei 59.3 %\")\n",
    "print(\"Daraus lässt sich ableiten, dass...\")"
   ]
  },
  {
   "cell_type": "markdown",
   "id": "48b6d6a1-18d5-465a-a24c-815b460e55ff",
   "metadata": {},
   "source": [
    "### Schritt 4: Schnelllaufzahl berechnen\n",
    "**Grundlagen:**\n",
    "Die **Schnelllaufzahl** $\\lambda$ (Lambda) beschreibt das Verhältnis zwischen der Umfangsgeschwindigkeit der Rotorblätter und der Windgeschwindigkeit:\n",
    "$$\\lambda = \\frac{v_\\text{Blattspitze}}{v_\\text{Wind}} = \\frac{\\omega \\cdot r}{v_\\text{Wind}}$$\n",
    "\n",
    "Dabei ist die Umfangsgeschwindigkeit:\n",
    "$$v_\\text{Blattspitze} = \\omega \\cdot r = \\frac{2\\pi \\cdot D}{60} \\cdot \\frac{d}{2}$$\n",
    "\n",
    "Für die Berechnung werden die **12V-Messungen** verwendet:\n",
    "- $D$ = Drehzahl in [min⁻¹] \n",
    "- $d$ = Rotordurchmesser in [m]\n",
    "- $v_\\text{Wind}$ = Windgeschwindigkeit in [m/s]\n",
    "\n",
    "Moderne Windkraftanlagen arbeiten bei optimalen Schnelllaufzahlen zwischen 6-8. Zu niedrige Werte bedeuten schlechte Windausnutzung, zu hohe Werte führen zu erhöhtem Verschleiß und Lärm.\n",
    "\n",
    "**Was passiert im folgenden Code:**\n",
    "- Die Umfangsgeschwindigkeit der Blattspitzen wird berechnet\n",
    "- Die Schnelllaufzahl wird als Verhältnis zur Windgeschwindigkeit der **12V-Messungen** ermittelt\n",
    "- Eine Bewertung der Schnelllaufzahl erfolgt im Vergleich zu optimalen Betriebsbereichen"
   ]
  },
  {
   "cell_type": "code",
   "execution_count": 63,
   "id": "67baf056-eceb-453d-b811-b22ff28f74fb",
   "metadata": {},
   "outputs": [
    {
     "ename": "NameError",
     "evalue": "name 'df_energiebilanz' is not defined",
     "output_type": "error",
     "traceback": [
      "\u001b[31m---------------------------------------------------------------------------\u001b[39m",
      "\u001b[31mNameError\u001b[39m                                 Traceback (most recent call last)",
      "\u001b[36mCell\u001b[39m\u001b[36m \u001b[39m\u001b[32mIn[63]\u001b[39m\u001b[32m, line 5\u001b[39m\n\u001b[32m      1\u001b[39m \u001b[38;5;66;03m# SCHRITT 4: SCHNELLLAUFZAHL BERECHNEN\u001b[39;00m\n\u001b[32m      2\u001b[39m \n\u001b[32m      3\u001b[39m \u001b[38;5;66;03m# Umfangsgeschwindigkeit der Blattspitzen: v = ω * r = (2π * D / 60) * (d / 2)\u001b[39;00m\n\u001b[32m      4\u001b[39m \u001b[38;5;66;03m# Rotordurchmesser aus 9V-Messung verwenden (in m)\u001b[39;00m\n\u001b[32m----> \u001b[39m\u001b[32m5\u001b[39m d_rotor_m = \u001b[43mdf_energiebilanz\u001b[49m[\u001b[33m'\u001b[39m\u001b[33md_Rotor [m]\u001b[39m\u001b[33m'\u001b[39m][\u001b[32m0\u001b[39m]\n\u001b[32m      7\u001b[39m \u001b[38;5;66;03m# Umfangsgeschwindigkeit berechnen\u001b[39;00m\n\u001b[32m      8\u001b[39m df_schnelllaufzahl[\u001b[33m'\u001b[39m\u001b[33mv_Blattspitze [m/s]\u001b[39m\u001b[33m'\u001b[39m] = (\u001b[32m2\u001b[39m * np.pi * df_schnelllaufzahl[\u001b[33m'\u001b[39m\u001b[33m_\u001b[39m\u001b[33m'\u001b[39m] / _) * (d_rotor_m / _)\n",
      "\u001b[31mNameError\u001b[39m: name 'df_energiebilanz' is not defined"
     ]
    }
   ],
   "source": [
    "# SCHRITT 4: SCHNELLLAUFZAHL BERECHNEN\n",
    "\n",
    "# Umfangsgeschwindigkeit der Blattspitzen: v = ω * r = (2π * D / 60) * (d / 2)\n",
    "# Rotordurchmesser aus 9V-Messung verwenden (in m)\n",
    "d_rotor_m = df_energiebilanz['d_Rotor [m]'][0]\n",
    "\n",
    "# Umfangsgeschwindigkeit berechnen\n",
    "df_schnelllaufzahl['v_Blattspitze [m/s]'] = (2 * np.pi * df_schnelllaufzahl['_'] / _) * (d_rotor_m / _)\n",
    "\n",
    "# Schnelllaufzahl λ = v_Blattspitze / v_Wind berechnen\n",
    "df_schnelllaufzahl['Lambda [-]'] = df_schnelllaufzahl['_'] / df_schnelllaufzahl['_']\n",
    "\n",
    "print(\"Schnelllaufzahl erfolgreich berechnet:\")\n",
    "print(tabulate(df_schnelllaufzahl, headers=df_schnelllaufzahl.columns, tablefmt='fancy_grid', floatfmt=\".3f\"))\n",
    "\n",
    "# Bewertung der Schnelllaufzahl\n",
    "lambda_wert = df_schnelllaufzahl['Lambda [-]'].iloc[0]\n",
    "print(f\"\\nBewertung der Schnelllaufzahl:\")\n",
    "print(f\"Gemessene Schnelllaufzahl: {lambda_wert:.2f}\")\n",
    "print(\"Schlussfolgerung:\")"
   ]
  },
  {
   "cell_type": "markdown",
   "id": "ae08ac2c-9f23-4028-b3f4-89218af5cb21",
   "metadata": {},
   "source": [
    "### Auswertung und Diskussion der Ergebnisse\n",
    "\n",
    "#### Energiebilanz und Wirkungsgrad\n",
    "\n",
    "**TODO: Vervollständigen Sie basierend auf Ihren Messergebnissen**\n",
    "\n",
    "**Messergebnis:** Bei einer Windgeschwindigkeit von __ m/s steht eine theoretische Windleistung von __ W zur Verfügung. Die tatsächlich erzeugte elektrische Leistung beträgt __ mW, was einem Wirkungsgrad von __% entspricht.\n",
    "\n",
    "**Warum kann nie die gesamte Windenergie genutzt werden?**\n",
    "\n",
    "TODO: Erklären Sie die physikalischen Grundlagen:\n",
    "- Was besagt das Betz'sche Gesetz und warum liegt das theoretische Maximum bei 59,3%?\n",
    "- Welche zusätzlichen Verluste treten in realen Windkraftanlagen auf?\n",
    "- Wie bewerten Sie Ihren gemessenen Wirkungsgrad im Vergleich zu modernen Anlagen (35-45%)?\n",
    "\n",
    "#### Schnelllaufzahl und Rotorgeschwindigkeit\n",
    "\n",
    "**Messergebnis:** Bei einer Windgeschwindigkeit von __ m/s und einer Drehzahl von __ min⁻¹ ergibt sich eine Schnelllaufzahl von λ = __.\n",
    "\n",
    "**Bedeutung der Schnelllaufzahl für den Anlagenbetrieb**\n",
    "TODO: Erklären Sie die praktische Relevanz:\n",
    "- Liegt Ihre Schnelllaufzahl im optimalen Bereich (6-8) für Windkraftanlagen?\n",
    "- Was sind die Auswirkungen von zu niedrigen bzw. zu hohen Schnelllaufzahlen?\n",
    "- Warum ist die Schnelllaufzahl ein wichtiger Auslegungsparameter?\n",
    "\n",
    "#### Praktische Anwendung für reale Windkraftanlagen\n",
    "\n",
    "**Leistungsregelung und Effizienzoptimierung**\n",
    "TODO: Erklären Sie, wie die Erkenntnisse in der Praxis genutzt werden:\n",
    "- Wie werden moderne Windkraftanlagen geregelt, um den optimalen Wirkungsgrad zu erreichen?\n",
    "- Welche Rolle spielt die Schnelllaufzahl bei der Anlagenauslegung?\n",
    "- Warum ist die Energiebilanz wichtig für die Wirtschaftlichkeit von Windparks?"
   ]
  },
  {
   "cell_type": "markdown",
   "id": "cd1e4ca8-7e85-45b2-bf97-95b29cce4dcd",
   "metadata": {},
   "source": [
    "\n",
    " \n",
    "---"
   ]
  },
  {
   "cell_type": "markdown",
   "id": "b134b0e4-f401-494e-b4f6-6121d493f671",
   "metadata": {},
   "source": [
    "# 3. Quellen"
   ]
  }
 ],
 "metadata": {
  "kernelspec": {
   "display_name": "Python 3 (ipykernel)",
   "language": "python",
   "name": "python3"
  },
  "language_info": {
   "codemirror_mode": {
    "name": "ipython",
    "version": 3
   },
   "file_extension": ".py",
   "mimetype": "text/x-python",
   "name": "python",
   "nbconvert_exporter": "python",
   "pygments_lexer": "ipython3",
   "version": "3.13.5"
  }
 },
 "nbformat": 4,
 "nbformat_minor": 5
}
