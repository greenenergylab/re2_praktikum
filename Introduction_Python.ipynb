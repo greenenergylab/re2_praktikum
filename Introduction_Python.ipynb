{
 "cells": [
  {
   "cell_type": "markdown",
   "id": "a517b815-502a-486d-8250-935f57120623",
   "metadata": {
    "@deathbeds/jupyterlab-fonts": {
     "styles": {
      "": {
       "body[data-jp-deck-mode='presenting'] &": {
        "zoom": null
       }
      }
     }
    },
    "editable": true,
    "id": "a517b815-502a-486d-8250-935f57120623",
    "slideshow": {
     "slide_type": "slide"
    },
    "tags": []
   },
   "source": [
    "#  Einführung in den Umgang mit Python und Jupyter Notebook\n",
    "\n",
    "---"
   ]
  },
  {
   "cell_type": "markdown",
   "id": "060766c5-972f-4e89-84ff-372288e1cc1b",
   "metadata": {
    "@deathbeds/jupyterlab-fonts": {
     "styles": {
      "": {
       "body[data-jp-deck-mode='presenting'] &": {
        "z-index": "0"
       }
      }
     }
    },
    "editable": true,
    "id": "060766c5-972f-4e89-84ff-372288e1cc1b",
    "slideshow": {
     "slide_type": "subslide"
    },
    "tags": []
   },
   "source": [
    "## Was ist Python?\n",
    "Python ist eine universelle Programmiersprache, die eine Logik enthält, die das Coden einfacher macht als in vielen anderen Programmiersprachen. Zu beachten ist, dass Python standartisierte Befehle enthält, die teilweise nicht abwärtskompatibel sind. Sie sollten also immer mit einer aktuellen Python-Version arbeiten, damit es zu keinen Fehlern kommt. Ein Beispiel hierfür ist der `print` Befehl. Dieser schreibt standartmäßig den Text, der im Anschluss in runde Klammern `()` und in Anführungszeichen `\"\"` eingefügt ist auf den Bildschirm.\n",
    "So erzeugt `print (\"Willkommen zum Praktikum Regenerative Energien 2\")` die entsprechende Ausgabe."
   ]
  },
  {
   "cell_type": "code",
   "execution_count": null,
   "id": "4b702eea-ce4a-45e0-9287-fe79028eef77",
   "metadata": {
    "colab": {
     "base_uri": "https://localhost:8080/"
    },
    "editable": true,
    "id": "4b702eea-ce4a-45e0-9287-fe79028eef77",
    "outputId": "4c0cd590-1466-44d0-906e-4a657967f252",
    "slideshow": {
     "slide_type": "subslide"
    },
    "tags": []
   },
   "outputs": [],
   "source": [
    "print (\"Willkommen zum Praktikum Regenerative Energien 2\")"
   ]
  },
  {
   "cell_type": "markdown",
   "id": "dad75d80-0e43-459b-a678-7bdd56daba9c",
   "metadata": {
    "@deathbeds/jupyterlab-fonts": {
     "styles": {
      "": {
       "body[data-jp-deck-mode='presenting'] &": {
        "height": "128.9474954818009%",
        "left": "2.5800777137279507%",
        "position": "fixed",
        "top": "24.488527692951905%",
        "width": "196.19921875%",
        "z-index": "10",
        "zoom": "207%"
       }
      }
     }
    },
    "editable": true,
    "id": "dad75d80-0e43-459b-a678-7bdd56daba9c",
    "slideshow": {
     "slide_type": "slide"
    },
    "tags": []
   },
   "source": [
    "Wie jede Programmiersprache folgt auch Python einer bestimmten Syntax. Betrachten wir das obere Beispiel\n",
    "`print (\"Willkommen zum Praktikum Regenerative Energien 2\")`\n",
    "\n",
    "\n",
    "Hier ist, wie bereits gezeigt, der ausgeführte Befehl `print`\n",
    "Das Argument, das ausgeführt werden soll, kommt anschließend in runde Klammern `( )`\n",
    "Damit Python zwischen Code und reinem Text unterscheiden kann, wird nun der Text in Anführungsstriche `\" \"`eingerahmt, sodass die Syntax versteht, dass es ein einfacher Text ist und nicht ein anderer Befehl.\n",
    "> Denn: *prinzipiell kann **alles** als Befehl oder Variable definiert werden*.\n",
    "\n",
    "Auch voreingestellte Befehle, wie z.B. `print` können neu definiert werden, dies führt jedoch zu einer schlechteren Lesbarkeit des Codes für andere und sollte daher stets vermieden werden.\n",
    "Außerdem gilt: Variablen sollten möglichst genau benannt werden, damit der Code besser lesbar wird. Also nicht `x1 = 2` und `x2 = 5` wenn x1 eigentlich für eine Spannung und x2 für eine Stromstärke steht. Dafür bietet sich an x1 als voltage und x2 als current zu bezeichnen:\n",
    "`voltage = 2` und `current = 5`\n",
    "Wie Sie sehen können, sind alle voreingestellten Python-Befehle generell auf englisch geschrieben. Sie können jedoch Ihre Variablen und Befehle bennen wie Sie wollen. Wir können also auch `Spannung = 2`und `Stromstärke = 5` für x1 und x2 als Benennung nehmen. und haben somit Spannung und Stromstärke als Variable.\n",
    "\n",
    "Außerdem können Sie Ihren Code mit Kommentaren versehen indem Sie `#` vor dem Text schreiben. Sinnvolle Kommentare erleichtern Ihnen und anderen das Lesen des Codes!\n",
    "\n",
    "---"
   ]
  },
  {
   "cell_type": "markdown",
   "id": "b2-hNndtc9Ro",
   "metadata": {
    "editable": true,
    "id": "b2-hNndtc9Ro",
    "slideshow": {
     "slide_type": "slide"
    },
    "tags": []
   },
   "source": [
    "## Programmieren und Datentypen in Python\n",
    "\n",
    "Ein Beispiel zum Programmieren in Python:"
   ]
  },
  {
   "cell_type": "code",
   "execution_count": null,
   "id": "e1e5aeaf-a4b5-462d-bc87-cd46ed42a7b2",
   "metadata": {
    "colab": {
     "base_uri": "https://localhost:8080/"
    },
    "editable": true,
    "id": "e1e5aeaf-a4b5-462d-bc87-cd46ed42a7b2",
    "outputId": "44939794-4ea0-44bd-b595-eaa2588b6beb",
    "slideshow": {
     "slide_type": "subslide"
    },
    "tags": []
   },
   "outputs": [],
   "source": [
    "# Hier definieren wir die Variablen 'Spannung' und 'Stromstärke'\n",
    "Spannung = 2\n",
    "Stromstärke = 5\n",
    "\n",
    "# Mit dem type Befehl können wir einsehen, welchen Typ unsere Variablen haben. Mit dem print Befehl können wir dies entsprechend ausgeben\n",
    "print (type (Spannung))\n",
    "print (type (Stromstärke))"
   ]
  },
  {
   "cell_type": "markdown",
   "id": "4b84afc3-c6cb-4c0e-82f1-f703f46eca20",
   "metadata": {
    "editable": true,
    "id": "4b84afc3-c6cb-4c0e-82f1-f703f46eca20",
    "slideshow": {
     "slide_type": "slide"
    },
    "tags": []
   },
   "source": [
    "`int` steht dabei für Integer. Die Datentypen sind:\n",
    "\n",
    "<table style=\"width:60%\">\n",
    "    <tr>\n",
    "        <th>Datentyp</th>\n",
    "        <th>Bedeutung</th>\n",
    "        <th>Beispiel</th>\n",
    "    </tr>\n",
    "    <tr>\n",
    "        <td style=\"text-align:center;\">  int </td>\n",
    "        <td style=\"text-align:center;\">integer, ganze Zahlen</td>\n",
    "        <td style=\"text-align:center;\">7 | 89 | -10820</td>\n",
    "    </tr>\n",
    "    <tr>\n",
    "        <td style=\"text-align:center;\"> float </td>\n",
    "        <td style=\"text-align:center;\">Kommazahlen</td>\n",
    "        <td style=\"text-align:center;\">2.3 | 0.0 | -1.7e-20</td>\n",
    "    </tr>\n",
    "    <tr>\n",
    "        <td style=\"text-align:center;\"> bool </td>\n",
    "        <td style=\"text-align:center;\">boolean, wahr/falsch</td>\n",
    "        <td style=\"text-align:center;\">true | false</td>\n",
    "    </tr>\n",
    "    <tr>\n",
    "        <td style=\"text-align:center;\"> str </td>\n",
    "        <td style=\"text-align:center;\">string, Text</td>\n",
    "        <td style=\"text-align:center;\">Hallo</td>\n",
    "    </tr>\n",
    "        <tr>\n",
    "        <td style=\"text-align:center;\"> tuple </td>\n",
    "        <td style=\"text-align:center;\">Vektoren</td>\n",
    "        <td style=\"text-align:center;\">(1 2)</td>\n",
    "    </tr>\n",
    "     <tr>\n",
    "        <td style=\"text-align:center;\"> bytes </td>\n",
    "        <td style=\"text-align:center;\"></td>\n",
    "        <td style=\"text-align:center;\"></td>\n",
    "    </tr>\n",
    "</table>"
   ]
  },
  {
   "cell_type": "markdown",
   "id": "f9583280-2af4-4f85-abe8-0938f6086c12",
   "metadata": {
    "editable": true,
    "id": "f9583280-2af4-4f85-abe8-0938f6086c12",
    "slideshow": {
     "slide_type": "slide"
    },
    "tags": []
   },
   "source": [
    "### Variablen\n",
    "\n",
    "Bei Variablen und Befehlen ist prinzipiell auf Groß- und Kleinschreibung zu achten (case sensitive!). Variablen können also frei benannt werden, dürfen jedoch\n",
    "- nicht mit einer Zahl beginnen (`x1`ist in Ordnung, `1x` jedoch nicht)\n",
    "- keine Sonderzeichen enthalten, außer _ (`x_1`ist in Ordnung, `x-1`jedoch nicht)\n",
    "\n",
    "Wir haben die Variable für die Spannung als `Spannung`bezeichnet. Wenn wir nun den Wert, den die Variable angenommen hat ausgeben lassen wollen durch den `print` Befehl, sehen wir, dass `spannung`nicht definiert ist:"
   ]
  },
  {
   "cell_type": "code",
   "execution_count": null,
   "id": "fcf06194-c55b-44cf-9d98-82be28e16f95",
   "metadata": {
    "editable": true,
    "id": "fcf06194-c55b-44cf-9d98-82be28e16f95",
    "outputId": "38a0f87e-650f-4e91-e74d-87c0870cf202",
    "slideshow": {
     "slide_type": "fragment"
    },
    "tags": []
   },
   "outputs": [],
   "source": [
    "print (Spannung)"
   ]
  },
  {
   "cell_type": "code",
   "execution_count": null,
   "id": "c81fb85e-cbc3-43b0-b7d7-317b786e308d",
   "metadata": {
    "editable": true,
    "id": "c81fb85e-cbc3-43b0-b7d7-317b786e308d",
    "outputId": "74cbfdc0-ca12-4a79-dd85-e9fe4f91be0e",
    "slideshow": {
     "slide_type": "fragment"
    },
    "tags": []
   },
   "outputs": [],
   "source": [
    "print (spannung)"
   ]
  },
  {
   "cell_type": "markdown",
   "id": "74b71881-3a72-493a-919a-1c039217ecb6",
   "metadata": {
    "editable": true,
    "id": "74b71881-3a72-493a-919a-1c039217ecb6",
    "slideshow": {
     "slide_type": "slide"
    },
    "tags": []
   },
   "source": [
    "In Pyhton kann direkt in einer Codezeile gerechnet werden. Dies gilt sowohl für klassische Berechnungen wie:"
   ]
  },
  {
   "cell_type": "code",
   "execution_count": null,
   "id": "9b493d5a-a460-4978-9a12-40608a48037a",
   "metadata": {
    "editable": true,
    "id": "9b493d5a-a460-4978-9a12-40608a48037a",
    "outputId": "1f7c8707-3160-474a-b51b-6ad715f1d465",
    "slideshow": {
     "slide_type": "fragment"
    },
    "tags": []
   },
   "outputs": [],
   "source": [
    "3+12"
   ]
  },
  {
   "cell_type": "markdown",
   "id": "fc7043a1-0ff6-4d3c-b147-dee182a36a5a",
   "metadata": {
    "editable": true,
    "id": "fc7043a1-0ff6-4d3c-b147-dee182a36a5a",
    "slideshow": {
     "slide_type": "fragment"
    },
    "tags": []
   },
   "source": [
    "Das Ergebnis wird in einer neuen Zeile ausgegeben. Ebenso können auch Berechnungen mit Variablen durchgeführt werden, wie zum Beispiel:"
   ]
  },
  {
   "cell_type": "code",
   "execution_count": null,
   "id": "01173e28-d606-4283-b31c-7146eb3729c8",
   "metadata": {
    "editable": true,
    "id": "01173e28-d606-4283-b31c-7146eb3729c8",
    "outputId": "0b33ec69-1815-417d-b723-415c0105406d",
    "slideshow": {
     "slide_type": "fragment"
    },
    "tags": []
   },
   "outputs": [],
   "source": [
    "Leistung = Spannung * Stromstärke\n",
    "# Um das Ergebnis auszugeben, können wir einfach nur den Variablen-Namen schreiben, oder wie oben den print() Befehl verwenden\n",
    "Leistung"
   ]
  },
  {
   "cell_type": "markdown",
   "id": "49762a8d-8d26-49d2-8002-5c0e07866654",
   "metadata": {
    "editable": true,
    "id": "49762a8d-8d26-49d2-8002-5c0e07866654",
    "slideshow": {
     "slide_type": "slide"
    },
    "tags": []
   },
   "source": [
    "Dies funktioniert mit den Grundoperationen:\n",
    "\n",
    "- Addition: `+`\n",
    "- Substraktion `-`\n",
    "- Multiplikation `*`\n",
    "- Division `/`\n",
    "- Potenzieren `**`\n",
    "\n",
    "\n",
    "Variablen können auch mehr als ein Argument enthalten. Die Argumente werden dann in Listen gespeichert.\n",
    "```python\n",
    "Spannung = 1, 4, 6, 4, 5, 2\n",
    "```\n",
    "ist demnach eine Liste mit 6 Einträgen."
   ]
  },
  {
   "cell_type": "code",
   "execution_count": null,
   "id": "0a3c3a77-273b-4562-bb4c-6d3ac24e9f51",
   "metadata": {
    "colab": {
     "base_uri": "https://localhost:8080/"
    },
    "editable": true,
    "id": "0a3c3a77-273b-4562-bb4c-6d3ac24e9f51",
    "outputId": "0c197f60-ca1d-41a4-b15f-a3d499d39cbd",
    "slideshow": {
     "slide_type": "subslide"
    },
    "tags": []
   },
   "outputs": [],
   "source": [
    "Spannung = 1, 4, 6, 4, 5, 2\n",
    "\n",
    "print (Spannung)\n",
    "\n",
    "print (type (Spannung))"
   ]
  },
  {
   "cell_type": "markdown",
   "id": "4b2b5653-b8a2-4c83-9629-fb9315f116b1",
   "metadata": {
    "editable": true,
    "id": "4b2b5653-b8a2-4c83-9629-fb9315f116b1",
    "slideshow": {
     "slide_type": "slide"
    },
    "tags": []
   },
   "source": [
    "Dies ist wichtig für die Datenerfassung und -auswertung. Diese Listen können händisch, also wie im oberen Beispiel, erstellt werden, oder aus Dateien importiert werden. Außerdem können einzelne Inhalte der Liste oder Teile einer Liste abgerufen werden mit dem Befehl `Listenname[n]`:"
   ]
  },
  {
   "cell_type": "code",
   "execution_count": null,
   "id": "8ef46403-48af-4a26-9d54-d5ec6e219eee",
   "metadata": {
    "editable": true,
    "id": "8ef46403-48af-4a26-9d54-d5ec6e219eee",
    "outputId": "1aa94f58-a11f-4843-e53b-4fa6acad7b2f",
    "slideshow": {
     "slide_type": "fragment"
    },
    "tags": []
   },
   "outputs": [],
   "source": [
    "Spannung[0]"
   ]
  },
  {
   "cell_type": "markdown",
   "id": "c55210f3-2d03-4f3e-b03f-a456999a1b59",
   "metadata": {
    "editable": true,
    "id": "c55210f3-2d03-4f3e-b03f-a456999a1b59",
    "slideshow": {
     "slide_type": "fragment"
    },
    "tags": []
   },
   "source": [
    "Zu beachten ist, dass Python mit dem Index 0 beginnt, nicht mit 1. Der Befehl"
   ]
  },
  {
   "cell_type": "code",
   "execution_count": null,
   "id": "59e7da45-eb83-422b-b6d5-0ec4f2e93ac1",
   "metadata": {
    "editable": true,
    "id": "59e7da45-eb83-422b-b6d5-0ec4f2e93ac1",
    "outputId": "4a441c23-6612-4b5c-e439-61d53d78ce42",
    "slideshow": {
     "slide_type": "fragment"
    },
    "tags": []
   },
   "outputs": [],
   "source": [
    "Spannung[1]"
   ]
  },
  {
   "cell_type": "markdown",
   "id": "9399b584-17f4-4bcb-b243-8c875aa27cd4",
   "metadata": {
    "editable": true,
    "id": "9399b584-17f4-4bcb-b243-8c875aa27cd4",
    "slideshow": {
     "slide_type": "fragment"
    },
    "tags": []
   },
   "source": [
    "Gibt also den zweiten Eintrag der Liste aus (in diesem Fall die Zahl `4`). Mit dem Index `[-1]` kann auch der letzte Eintrag abgerufen werden."
   ]
  },
  {
   "cell_type": "code",
   "execution_count": null,
   "id": "0162cdcf-05e4-434e-a005-5904d048686b",
   "metadata": {
    "editable": true,
    "id": "0162cdcf-05e4-434e-a005-5904d048686b",
    "outputId": "3b42cac2-5c5b-4c4f-f5e4-7d2613d1827e",
    "slideshow": {
     "slide_type": "fragment"
    },
    "tags": []
   },
   "outputs": [],
   "source": [
    "Spannung[-1]"
   ]
  },
  {
   "cell_type": "markdown",
   "id": "53a372e7-be6b-4cfd-986f-eaf7df2bfaf5",
   "metadata": {
    "editable": true,
    "id": "53a372e7-be6b-4cfd-986f-eaf7df2bfaf5",
    "slideshow": {
     "slide_type": "slide"
    },
    "tags": []
   },
   "source": [
    "Um mehrere Einträge abzurufen können wir die Funktion mit der Syntax\n",
    "```python\n",
    "Listenname[Start:Ende:Schrittweite]\n",
    "```\n",
    "\n",
    "verwenden. So gibt der Befehl"
   ]
  },
  {
   "cell_type": "code",
   "execution_count": null,
   "id": "c77bc4d6-9c8e-40f4-bc6f-3e138b6592be",
   "metadata": {
    "editable": true,
    "id": "c77bc4d6-9c8e-40f4-bc6f-3e138b6592be",
    "outputId": "d7c04050-4811-45fb-d5ff-12585d9cccda",
    "slideshow": {
     "slide_type": "fragment"
    },
    "tags": []
   },
   "outputs": [],
   "source": [
    "Spannung[0:6:2]"
   ]
  },
  {
   "cell_type": "markdown",
   "id": "d4fe05ee-81d7-4c38-bc63-b2db36580f1e",
   "metadata": {
    "editable": true,
    "id": "d4fe05ee-81d7-4c38-bc63-b2db36580f1e",
    "slideshow": {
     "slide_type": "fragment"
    },
    "tags": []
   },
   "source": [
    "Den ersten, dritten und fünften Listenwert aus (jeden 2. Wert, beginnend bei dem ersten und endend bei dem 7. Wert)."
   ]
  },
  {
   "cell_type": "markdown",
   "id": "822f8fde-0b7f-4aab-a6fd-d982ce9ae27d",
   "metadata": {
    "editable": true,
    "id": "5df5056e-a288-48a5-83f2-e9ff175a6dcc",
    "slideshow": {
     "slide_type": "slide"
    },
    "tags": []
   },
   "source": [
    "---\n",
    "\n",
    "Alle benötigten Pakete für das Praktikum erhalten Sie, indem Sie folgende Anweisung befolgen:\n",
    "\n",
    "### Konfiguration der Arbeitsumgebung\n",
    "**Hinweis zur Ausführung:**\n",
    "\n",
    "Der Folgende Code stellt sicher, dass alle notwendigen Software-Bibliotheken installiert und verfügbar sind. Diese sogenannten „Pakete“ (z. B. `ipywidgets` für die interaktiven Eingabefelder) sind erforderlich, damit das Notebook korrekt funktioniert.\n",
    "\n",
    "**Was in dieser Zelle passiert:**\n",
    "- Es wird geprüft, ob alle benötigten Pakete bereits in Ihrer Jupyter-Umgebung installiert sind.\n",
    "- Falls ein Paket fehlt, wird es automatisch installiert.\n",
    "- Dies funktioniert unabhängig davon, ob Sie mit Jupyter Lab, Anaconda (Windows) oder venv (macOS/Linux) arbeiten.\n",
    "\n",
    "**Was Sie tun müssen:**\n",
    "- Führen Sie diese Zelle **einmalig aus**, bevor Sie mit dem Protokoll arbeiten.\n",
    "- Es ist **keine manuelle Installation** in der Konsole notwendig.\n",
    "- Falls eine Installation erfolgt, kann es kurz dauern – warten Sie bitte, bis die Zelle vollständig durchgelaufen ist.\n",
    "\n",
    "**Hinweis:** Falls Sie das Notebook ohne Internetverbindung verwenden, können fehlende Pakete nicht nachgeladen werden.\n",
    "\n",
    "**Führen Sie jetzt die folgende Zelle aus:** "
   ]
  },
  {
   "cell_type": "code",
   "execution_count": null,
   "id": "89218ab1-2548-4a5c-aa4a-23a816825c27",
   "metadata": {
    "editable": true,
    "slideshow": {
     "slide_type": ""
    },
    "tags": []
   },
   "outputs": [],
   "source": [
    "import sys\n",
    "import subprocess\n",
    "\n",
    "# Benötigte Pakete\n",
    "pakete = [\"numpy\", \"pandas\", \"matplotlib\", \"tabulate\", \"prettytable\", \"ipywidgets\", \"requests\", \"coolprop\"]\n",
    "\n",
    "installiert = 0\n",
    "fehler = []\n",
    "\n",
    "# Pakete prüfen und installieren\n",
    "for paket in pakete:\n",
    "    try:\n",
    "        __import__(paket)\n",
    "    except ImportError:\n",
    "        try:\n",
    "            print(f\"Installiere {paket}...\")\n",
    "            subprocess.check_call([sys.executable, \"-m\", \"pip\", \"install\", paket], \n",
    "                                 stdout=subprocess.DEVNULL)\n",
    "            installiert += 1\n",
    "        except:\n",
    "            fehler.append(paket)\n",
    "\n",
    "# Pakete importieren\n",
    "import numpy as np\n",
    "import pandas as pd\n",
    "import matplotlib.pyplot as plt\n",
    "from tabulate import tabulate\n",
    "import ipywidgets as widgets\n",
    "import requests, json, os\n",
    "from CoolProp.CoolProp import PropsSI\n",
    "\n",
    "# Status anzeigen\n",
    "if fehler:\n",
    "    print(f\"FEHLER bei: {\", \".join(fehler)}\")\n",
    "    print(\"-> Bitte manuell installieren: pip install <paketname>\")\n",
    "elif installiert > 0:\n",
    "    print(f\"{installiert} Pakete erfolgreich installiert!\")\n",
    "else:\n",
    "    print(\"Alle Pakete bereits vorhanden!\")\n",
    "\n",
    "print(\"Setup abgeschlossen - bereit für das Praktikum!\")"
   ]
  },
  {
   "cell_type": "code",
   "execution_count": null,
   "id": "485b2f51-bcc1-49c4-957e-24be14ae6351",
   "metadata": {
    "editable": true,
    "slideshow": {
     "slide_type": ""
    },
    "tags": []
   },
   "outputs": [],
   "source": []
  }
 ],
 "metadata": {
  "@deathbeds/jupyterlab-fonts": {
   "fontLicenses": {},
   "fonts": {},
   "styles": {
    ":root": {}
   }
  },
  "colab": {
   "provenance": []
  },
  "kernelspec": {
   "display_name": "Python 3 (ipykernel)",
   "language": "python",
   "name": "python3"
  },
  "language_info": {
   "codemirror_mode": {
    "name": "ipython",
    "version": 3
   },
   "file_extension": ".py",
   "mimetype": "text/x-python",
   "name": "python",
   "nbconvert_exporter": "python",
   "pygments_lexer": "ipython3",
   "version": "3.13.7"
  },
  "widgets": {
   "application/vnd.jupyter.widget-state+json": {
    "state": {},
    "version_major": 2,
    "version_minor": 0
   }
  }
 },
 "nbformat": 4,
 "nbformat_minor": 5
}
