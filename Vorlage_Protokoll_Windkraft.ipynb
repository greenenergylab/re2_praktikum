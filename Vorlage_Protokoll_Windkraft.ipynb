{
 "cells": [
  {
   "cell_type": "markdown",
   "id": "807a0b44-cdd8-4667-a29b-a8832936fea9",
   "metadata": {},
   "source": [
    "# 0. Konfiguration der Arbeitsumgebung\n",
    "**Hinweis zur Ausführung:**\n",
    "\n",
    "Bevor Sie mit dem Ausfüllen des Protokolls beginnen, stellt diese Zelle sicher, dass alle notwendigen Software-Bibliotheken installiert und verfügbar sind. Diese sogenannten „Pakete“ (z. B. `ipywidgets` für die interaktiven Eingabefelder) sind erforderlich, damit das Notebook korrekt funktioniert.\n",
    "\n",
    "**Was in dieser Zelle passiert:**\n",
    "- Es wird geprüft, ob alle benötigten Pakete bereits in Ihrer Jupyter-Umgebung installiert sind.\n",
    "- Falls ein Paket fehlt, wird es automatisch installiert.\n",
    "- Dies funktioniert unabhängig davon, ob Sie mit Anaconda (Windows) oder venv (macOS/Linux) arbeiten.\n",
    "\n",
    "**Was Sie tun müssen:**\n",
    "- Führen Sie diese Zelle **einmalig aus**, bevor Sie mit dem Protokoll arbeiten.\n",
    "- Es ist **keine manuelle Installation** in der Konsole notwendig.\n",
    "- Falls eine Installation erfolgt, kann es kurz dauern – warten Sie bitte, bis die Zelle vollständig durchgelaufen ist.\n",
    "\n",
    "**Hinweis:** Falls Sie das Notebook ohne Internetverbindung verwenden, können fehlende Pakete nicht nachgeladen werden.\n",
    "\n",
    "**Führen Sie jetzt die folgende Zelle aus:**"
   ]
  },
  {
   "cell_type": "code",
   "execution_count": 1,
   "id": "28e198c7-af9a-4510-939c-26d3a59d84ff",
   "metadata": {
    "ExecuteTime": {
     "end_time": "2025-09-16T08:40:54.406731Z",
     "start_time": "2025-09-16T08:40:54.393085Z"
    }
   },
   "outputs": [
    {
     "name": "stdout",
     "output_type": "stream",
     "text": [
      "Installiere coolprop...\n",
      "1 Pakete erfolgreich installiert!\n",
      "Setup abgeschlossen - bereit für das Praktikum!\n"
     ]
    }
   ],
   "source": [
    "import sys\n",
    "import subprocess\n",
    "\n",
    "# Benötigte Pakete\n",
    "pakete = [\"numpy\", \"pandas\", \"matplotlib\", \"tabulate\", \"prettytable\", \"ipywidgets\", \"requests\", \"coolprop\"]\n",
    "\n",
    "installiert = 0\n",
    "fehler = []\n",
    "\n",
    "# Pakete prüfen und installieren\n",
    "for paket in pakete:\n",
    "    try:\n",
    "        __import__(paket)\n",
    "    except ImportError:\n",
    "        try:\n",
    "            print(f\"Installiere {paket}...\")\n",
    "            subprocess.check_call([sys.executable, \"-m\", \"pip\", \"install\", paket], \n",
    "                                 stdout=subprocess.DEVNULL)\n",
    "            installiert += 1\n",
    "        except:\n",
    "            fehler.append(paket)\n",
    "\n",
    "# Pakete importieren\n",
    "import numpy as np\n",
    "import pandas as pd\n",
    "import matplotlib.pyplot as plt\n",
    "from tabulate import tabulate\n",
    "import ipywidgets as widgets\n",
    "import requests, json, os\n",
    "from CoolProp.CoolProp import PropsSI\n",
    "\n",
    "# Status anzeigen\n",
    "if fehler:\n",
    "    print(f\"FEHLER bei: {\', \'.join(fehler)}\")\n",
    "    print(\"-> Bitte manuell installieren: pip install <paketname>\")\n",
    "elif installiert > 0:\n",
    "    print(f\"{installiert} Pakete erfolgreich installiert!\")\n",
    "else:\n",
    "    print(\"Alle Pakete bereits vorhanden!\")\n",
    "\n",
    "print(\"Setup abgeschlossen - bereit für das Praktikum!\")"
   ]
  },
  {
   "cell_type": "code",
   "execution_count": 2,
   "id": "31a07495-0b96-4bc4-ae90-b06a42473639",
   "metadata": {
    "ExecuteTime": {
     "end_time": "2025-09-16T08:40:57.136266Z",
     "start_time": "2025-09-16T08:40:56.762299Z"
    }
   },
   "outputs": [
    {
     "data": {
      "application/vnd.jupyter.widget-view+json": {
       "model_id": "2af902105a0f4433b9c8ec5edb5968d4",
       "version_major": 2,
       "version_minor": 0
      },
      "text/plain": [
       "HBox(children=(VBox(children=(HTML(value='<div style=\"font-size: 20pt; font-weight: bold;\">Protokoll zum Versu…"
      ]
     },
     "metadata": {},
     "output_type": "display_data"
    },
    {
     "data": {
      "application/vnd.jupyter.widget-view+json": {
       "model_id": "ca914ab492e9490eab2fe11bf4062475",
       "version_major": 2,
       "version_minor": 0
      },
      "text/plain": [
       "HTML(value='<hr>')"
      ]
     },
     "metadata": {},
     "output_type": "display_data"
    },
    {
     "data": {
      "application/vnd.jupyter.widget-view+json": {
       "model_id": "f9385ec6f56c421cb69aba6a11c1dc7e",
       "version_major": 2,
       "version_minor": 0
      },
      "text/plain": [
       "VBox(children=(HBox(children=(Label(value='Name:', layout=Layout(width='160px')), Text(value='Dennis Panke', l…"
      ]
     },
     "metadata": {},
     "output_type": "display_data"
    },
    {
     "data": {
      "application/vnd.jupyter.widget-view+json": {
       "model_id": "6b25155255ce4fba9706596a2c5498fa",
       "version_major": 2,
       "version_minor": 0
      },
      "text/plain": [
       "Button(button_style='success', description='Speichern', style=ButtonStyle())"
      ]
     },
     "metadata": {},
     "output_type": "display_data"
    }
   ],
   "source": [
    "\n",
    "\n",
    "# --- Konfiguration ---\n",
    "VERSUCH = \"Windkraft\"  # ← hier den Versuchsnamen ändern\n",
    "FILENAME = f\"protokoll_{VERSUCH}.json\"\n",
    "FIELD_WIDTH = '500px'\n",
    "LABEL_WIDTH = '160px'\n",
    "LOGO_URL = \"https://thga.sciebo.de/s/PMFfmxdyEcrEr3P/download\"\n",
    "\n",
    "# --- Felder und Standarddaten ---\n",
    "fields = {\n",
    "    \"Name\": \"\",\n",
    "    \"Matrikelnummer\": \"\",\n",
    "    \"Gruppe\": \"\",\n",
    "    \"Versuchstag\": \"\",\n",
    "    \"Praktikumsleitung\": \"\"\n",
    "}\n",
    "\n",
    "# --- Daten aus Datei laden ---\n",
    "if os.path.exists(FILENAME):\n",
    "    with open(FILENAME, \"r\") as f:\n",
    "        fields.update(json.load(f))\n",
    "\n",
    "# --- Logo laden ---\n",
    "try:\n",
    "    resp = requests.get(LOGO_URL)\n",
    "    logo = widgets.Image(\n",
    "        value=resp.content, format='png',\n",
    "        layout=widgets.Layout(width='200px', height='auto')\n",
    "    ) if resp.status_code == 200 else widgets.Label(\"Logo nicht verfügbar.\")\n",
    "except:\n",
    "    logo = widgets.Label(\"Logo konnte nicht geladen werden.\")\n",
    "\n",
    "# --- Überschriftsteil ---\n",
    "headings = widgets.VBox([\n",
    "    widgets.HTML(f'<div style=\"font-size: 20pt; font-weight: bold;\">Protokoll zum Versuch: {VERSUCH.capitalize()}</div>'),\n",
    "    widgets.HTML(f'<div style=\"font-size: 14pt;\"><strong>Praktikum:</strong> Regenerative Energien II</div>'),\n",
    "    widgets.HTML(f'<div style=\"font-size: 14pt;\"><strong>Semester:</strong> Wintersemester 2025/26</div>')\n",
    "], layout=widgets.Layout(align_items='flex-start', gap='2px'))\n",
    "\n",
    "header = widgets.HBox([headings, logo],\n",
    "                      layout=widgets.Layout(justify_content='space-between', align_items='flex-start'))\n",
    "\n",
    "# --- Formularfelder anlegen ---\n",
    "widgets_dict = {\n",
    "    key: widgets.Text(value=fields[key], layout=widgets.Layout(width=FIELD_WIDTH))\n",
    "    for key in fields\n",
    "}\n",
    "\n",
    "def labeled_row(label, widget):\n",
    "    return widgets.HBox([\n",
    "        widgets.Label(label + \":\", layout=widgets.Layout(width=LABEL_WIDTH)),\n",
    "        widget\n",
    "    ])\n",
    "\n",
    "form = widgets.VBox([labeled_row(k, widgets_dict[k]) for k in fields])\n",
    "\n",
    "# --- Speichern ---\n",
    "def save_to_json(_):\n",
    "    data = {k: w.value for k, w in widgets_dict.items()}\n",
    "    with open(FILENAME, \"w\") as f:\n",
    "        json.dump(data, f)\n",
    "    print(f\"Daten gespeichert in '{FILENAME}'.\")\n",
    "\n",
    "save_button = widgets.Button(description=\"Speichern\", button_style='success')\n",
    "save_button.on_click(save_to_json)\n",
    "\n",
    "# --- Anzeige ---\n",
    "display(header, widgets.HTML(\"<hr>\"), form, save_button)"
   ]
  },
  {
   "cell_type": "markdown",
   "id": "beadc0b8-c82e-4f00-aef9-6993a4fc647b",
   "metadata": {},
   "source": [
    "# 1. Einleitung\n",
    "**Hinweis zur Bearbeitung:**\n",
    "\n",
    "Bevor Sie mit dem Versuch beginnen, formulieren Sie bitte eine kurze Einleitung. Beschreiben Sie in eigenen Worten die grundlegenden physikalischen Prinzipien der Windenergienutzung und das Wissen, das benötigt wird, um dieses Protokoll nachvollziehen zu können.\n",
    "\n",
    "\n",
    " **Denkanstöße für Ihre Einleitung:**\n",
    "- Wie entsteht Wind und welche globalen sowie lokalen Faktoren beeinflussen ihn?\n",
    "- Welche physikalischen Größen sind für die Umwandlung von Windenergie in elektrische Energie relevant?\n",
    "- Wie ist eine moderne Windkraftanlage aufgebaut und wie funktioniert sie?\n",
    "- Was unterscheidet Anlagen mit horizontaler und vertikaler Drehachse?\n",
    "- Welche Rolle spielt der Auftrieb an Rotorblättern bei der Energieerzeugung?\n",
    "- Welche Bedeutung hat die Windenergie in der Energiewende?\n",
    "- In welchen geografischen Regionen ist Windenergie besonders effizient nutzbar?\n",
    "- Welche praktischen Anwendungen und aktuellen Entwicklungen der Windkraft kennen Sie?\n",
    "\n",
    " **Tragen Sie Ihre eigene Einleitung im folgenden Feld ein:**"
   ]
  },
  {
   "cell_type": "code",
   "execution_count": null,
   "id": "a5298a50-ea3a-4ee8-86bf-fef56291664a",
   "metadata": {},
   "outputs": [],
   "source": []
  },
  {
   "cell_type": "markdown",
   "id": "90ca833b-16a0-4a19-9c48-f5ef58121fe6",
   "metadata": {},
   "source": [
    "# 2. Durchführung und Auswertung"
   ]
  },
  {
   "cell_type": "markdown",
   "id": "eb25571d-7ffb-4476-a42a-8dee02a20aac",
   "metadata": {},
   "source": [
    "## 2.1 Versuch 1: U-I-Kennlinie und Leistung verschiedener Rotorbauarten und Blattformen\n",
    "\n",
    "In diesem Versuch werden verschiedene Rotoren (3-Blatt, 4-Blatt und Savonius) verwendet, um das Verhalten bei unterschiedlichen Rotorbauarten zu untersuchen. Ziel ist es, die Auswirkungen auf Stromstärke $( I )$, Spannung $( U )$, Leistung $( P )$ und Drehzahl $( D )$ zu erfassen.\n",
    "\n",
    "Die Rotoren werden durch ein Winderzeugermodul mit einstellbarer Netzspannung (9 V) angetrieben. Die Messungen erfolgen mit einem AV-Modul und einem Drehzahlmessgerät.\n",
    "\n",
    "---\n",
    "\n",
    "**Aufbau, Geräte & Komponenten:**\n",
    "- Grundeinheit  \n",
    "- Winderzeugermodul  \n",
    "- Windgeneratormodul (3- und 4-Flügler, optimiertes Profil)  \n",
    "- Savoniusrotormodul  \n",
    "- Potentiometermodul  \n",
    "- AV-Modul  \n",
    "- Drehzahlmessgerät  \n",
    "- Power-Modul (9 V)\n",
    "\n",
    "---\n",
    "\n",
    "**Schaltplan:**\n",
    "\n",
    "![Schaltplan Versuch1.1](Data/Schaltplan_Wind_Versuch_1.png \"Schaltplan\")\n",
    "\n",
    "---\n",
    "\n",
    "**Durchführung**\n",
    "\n",
    "1. Bauen Sie den Versuchsplan mit dem 3-Blatt-Rotor (optimiertes Profil) auf.\n",
    "   1. Stellen Sie eine Netzspannung von $U_\\text{Netz} = 9\\ \\text{V}$ ein.\n",
    "   2.  Messen Sie die Spannung $U$, Stromstärke $I$ und Drehzahl $d$ bei verschiedenen Potentiometerstellungen. Beginnen Sie bei der höchsten Spannung und verringern Sie diese in Schritten von ca. $0{,}2\\ \\text{V}$.\n",
    "2. Wiederholen Sie den Versuch mit dem 4-Blatt-Rotor (optimiertes Profil).\n",
    "3. Wiederholen Sie den Versuch mit dem Savoniusrotor. Verringern Sie die Spannung diesmal in Schritten von ca. $0{,}1\\ \\text{V}$.\n",
    "\n",
    "---\n",
    "\n",
    "**Messgrößen:**  \n",
    "- Die elektrische Spannung $U$ in $\\text{[V]}$  \n",
    "- Die Stromstärke $I$ in $\\text{[mA]}$  \n",
    "- Die Leistung $P = U \\cdot I$ in $\\text{[mW]}$  \n",
    "- Die Drehzahl $D$ in $\\text{[min}^{-1}\\text{]}$  \n",
    "\n",
    "---\n",
    "\n",
    "**Messdaten:**\n",
    "\n",
    "Notieren Sie hier Ihre Messdaten in einfachen Listen. Nutzen Sie dafür eindeutige Bezeichnungen, ähnlich wie im folgenden Beispiel:"
   ]
  },
  {
   "cell_type": "code",
   "execution_count": 3,
   "id": "02e55eec-7922-4316-8f75-97f54f0a5dc8",
   "metadata": {},
   "outputs": [
    {
     "name": "stdout",
     "output_type": "stream",
     "text": [
      "Daten erfolgreich geladen!\n",
      "Verfügbare Datensätze:\n",
      "   - 3-Blatt-Rotor, optimiert:  16 Messpunkte\n",
      "   - 4-Blatt-Rotor:  0 Messpunkte\n",
      "   - Savonius-Rotor: 0 Messpunkte\n",
      "Bereit für die Auswertung in den nächsten Zellen!\n"
     ]
    }
   ],
   "source": [
    "# DATENERFASSUNG - NUR MESSWERTE EINTRAGEN!\n",
    "\n",
    "# Messwerte für 3-Blatt-Rotor (optimiertes Profil)\n",
    "u_3blatt = [3.74, 3.54, 3.33, 3.13, 2.92, 2.73, 2.51, 2.33, 2.12, 1.90, 1.71, 1.53, 1.32, 1.10, 0.855, 0.738]  # Spannung in V\n",
    "i_3blatt = [4.1, 10.5, 20.2, 28.4, 37.2, 45.0, 53.4, 60.4, 68.6, 76.2, 82.6, 88.6, 94.9, 99.3, 101.7, 99.3]     # Strom in mA\n",
    "D_3blatt = [4791, 4678, 4537, 4422, 4297, 4175, 4029, 3900, 3766, 3581, 3465, 3312, 3110, 2923, 2628, 2354]     # Drehzahl in 1/min\n",
    "\n",
    "# Messwerte für 4-Blatt-Rotor (optimiertes Profil) \n",
    "u_4blatt = []  # Spannung in V\n",
    "i_4blatt = []  # Strom in mA\n",
    "D_4blatt = []      # Drehzahl in 1/min\n",
    "\n",
    "# Messwerte für Savonius-Rotor\n",
    "u_savonius = []  # Spannung in V\n",
    "i_savonius = []         # Strom in mA\n",
    "D_savonius = []           # Drehzahl in 1/min\n",
    "\n",
    "print(\"Daten erfolgreich geladen!\")\n",
    "print(\"Verfügbare Datensätze:\")\n",
    "print(f\"   - 3-Blatt-Rotor, optimiert:  {len(u_3blatt)} Messpunkte\")\n",
    "print(f\"   - 4-Blatt-Rotor:  {len(u_4blatt)} Messpunkte\")\n",
    "print(f\"   - Savonius-Rotor: {len(u_savonius)} Messpunkte\")\n",
    "print(\"Bereit für die Auswertung in den nächsten Zellen!\")"
   ]
  },
  {
   "cell_type": "markdown",
   "id": "1bb29e93-95e0-4018-b50b-e7492c0c400b",
   "metadata": {},
   "source": [
    "Aus diesen Messwerten werden nun Tabellen mit `pandas` `DataFrames` erstellt.\n",
    "Wichtige Hinweise:\n",
    "\n",
    "- Die Messwerte müssen nicht nochmal eingegeben werden, solange die Zelle mit den Listen zuvor ausgeführt wurde\n",
    "- Python beginnt die Indexierung bei [0] - der erste Wert hat Index 0, der zweite Index 1, usw.\n",
    "- DataFrames ermöglichen professionelle Tabellendarstellung und einfache Berechnungen\n",
    "\n",
    "Im folgenden Code werden alle Listen aus Messdaten in `DataFrames`umgewandelt:"
   ]
  },
  {
   "cell_type": "code",
   "execution_count": 6,
   "id": "d0389ddc-b7af-4bf3-b718-49214b5ef09c",
   "metadata": {},
   "outputs": [
    {
     "name": "stdout",
     "output_type": "stream",
     "text": [
      "DataFrames erfolgreich erstellt:\n",
      "- df_3blatt: 16 Messpunkte\n",
      "- df_4blatt: 0 Messpunkte\n",
      "- df_savonius: 0 Messpunkte\n"
     ]
    }
   ],
   "source": [
    "# DATAFRAMES AUS DEN LISTEN ERSTELLEN  \n",
    "\n",
    "# 3-Blatt-Rotor, optimiert\n",
    "df_3blatt = pd.DataFrame({\n",
    "    \"U [V]\": u_3blatt,\n",
    "    \"I [mA]\": i_3blatt,\n",
    "    \"D [1/min]\": D_3blatt\n",
    "})\n",
    "\n",
    "# 4-Blatt-Rotor\n",
    "df_4blatt = pd.DataFrame({\n",
    "    \"U [V]\": u_4blatt,\n",
    "    \"I [mA]\": i_4blatt,\n",
    "    \"D [1/min]\": D_4blatt\n",
    "})\n",
    "\n",
    "# Savonius-Rotor\n",
    "df_savonius = pd.DataFrame({\n",
    "    \"U [V]\": u_savonius,\n",
    "    \"I [mA]\": i_savonius,\n",
    "    \"D [1/min]\": D_savonius\n",
    "})\n",
    "\n",
    "# Indizes als \"Messpunkte\" umbenennen (Zählung bei 1 starten)\n",
    "for df in [df_3blatt, df_4blatt, df_savonius]:\n",
    "    df.index = [f\"Messpunkt {i+1}\" for i in range(len(df))]\n",
    "\n",
    "print(\"DataFrames erfolgreich erstellt:\")\n",
    "print(f\"- df_3blatt: {len(df_3blatt)} Messpunkte\")\n",
    "print(f\"- df_4blatt: {len(df_4blatt)} Messpunkte\") \n",
    "print(f\"- df_savonius: {len(df_savonius)} Messpunkte\")"
   ]
  },
  {
   "cell_type": "code",
   "execution_count": 7,
   "id": "30481051-2fee-424d-8d25-0cf0e704e315",
   "metadata": {},
   "outputs": [
    {
     "name": "stdout",
     "output_type": "stream",
     "text": [
      "Tabelle 1: Messdaten – 3-Blatt-Rotor (optimiertes Profil)\n"
     ]
    },
    {
     "data": {
      "text/html": [
       "<style type=\"text/css\">\n",
       "</style>\n",
       "<table id=\"T_67d7f\">\n",
       "  <thead>\n",
       "    <tr>\n",
       "      <th class=\"blank level0\" >&nbsp;</th>\n",
       "      <th id=\"T_67d7f_level0_col0\" class=\"col_heading level0 col0\" >U [V]</th>\n",
       "      <th id=\"T_67d7f_level0_col1\" class=\"col_heading level0 col1\" >I [mA]</th>\n",
       "      <th id=\"T_67d7f_level0_col2\" class=\"col_heading level0 col2\" >D [1/min]</th>\n",
       "    </tr>\n",
       "  </thead>\n",
       "  <tbody>\n",
       "    <tr>\n",
       "      <th id=\"T_67d7f_level0_row0\" class=\"row_heading level0 row0\" >Messpunkt 1</th>\n",
       "      <td id=\"T_67d7f_row0_col0\" class=\"data row0 col0\" >3.74</td>\n",
       "      <td id=\"T_67d7f_row0_col1\" class=\"data row0 col1\" >4.10</td>\n",
       "      <td id=\"T_67d7f_row0_col2\" class=\"data row0 col2\" >4791</td>\n",
       "    </tr>\n",
       "    <tr>\n",
       "      <th id=\"T_67d7f_level0_row1\" class=\"row_heading level0 row1\" >Messpunkt 2</th>\n",
       "      <td id=\"T_67d7f_row1_col0\" class=\"data row1 col0\" >3.54</td>\n",
       "      <td id=\"T_67d7f_row1_col1\" class=\"data row1 col1\" >10.50</td>\n",
       "      <td id=\"T_67d7f_row1_col2\" class=\"data row1 col2\" >4678</td>\n",
       "    </tr>\n",
       "    <tr>\n",
       "      <th id=\"T_67d7f_level0_row2\" class=\"row_heading level0 row2\" >Messpunkt 3</th>\n",
       "      <td id=\"T_67d7f_row2_col0\" class=\"data row2 col0\" >3.33</td>\n",
       "      <td id=\"T_67d7f_row2_col1\" class=\"data row2 col1\" >20.20</td>\n",
       "      <td id=\"T_67d7f_row2_col2\" class=\"data row2 col2\" >4537</td>\n",
       "    </tr>\n",
       "    <tr>\n",
       "      <th id=\"T_67d7f_level0_row3\" class=\"row_heading level0 row3\" >Messpunkt 4</th>\n",
       "      <td id=\"T_67d7f_row3_col0\" class=\"data row3 col0\" >3.13</td>\n",
       "      <td id=\"T_67d7f_row3_col1\" class=\"data row3 col1\" >28.40</td>\n",
       "      <td id=\"T_67d7f_row3_col2\" class=\"data row3 col2\" >4422</td>\n",
       "    </tr>\n",
       "    <tr>\n",
       "      <th id=\"T_67d7f_level0_row4\" class=\"row_heading level0 row4\" >Messpunkt 5</th>\n",
       "      <td id=\"T_67d7f_row4_col0\" class=\"data row4 col0\" >2.92</td>\n",
       "      <td id=\"T_67d7f_row4_col1\" class=\"data row4 col1\" >37.20</td>\n",
       "      <td id=\"T_67d7f_row4_col2\" class=\"data row4 col2\" >4297</td>\n",
       "    </tr>\n",
       "    <tr>\n",
       "      <th id=\"T_67d7f_level0_row5\" class=\"row_heading level0 row5\" >Messpunkt 6</th>\n",
       "      <td id=\"T_67d7f_row5_col0\" class=\"data row5 col0\" >2.73</td>\n",
       "      <td id=\"T_67d7f_row5_col1\" class=\"data row5 col1\" >45.00</td>\n",
       "      <td id=\"T_67d7f_row5_col2\" class=\"data row5 col2\" >4175</td>\n",
       "    </tr>\n",
       "    <tr>\n",
       "      <th id=\"T_67d7f_level0_row6\" class=\"row_heading level0 row6\" >Messpunkt 7</th>\n",
       "      <td id=\"T_67d7f_row6_col0\" class=\"data row6 col0\" >2.51</td>\n",
       "      <td id=\"T_67d7f_row6_col1\" class=\"data row6 col1\" >53.40</td>\n",
       "      <td id=\"T_67d7f_row6_col2\" class=\"data row6 col2\" >4029</td>\n",
       "    </tr>\n",
       "    <tr>\n",
       "      <th id=\"T_67d7f_level0_row7\" class=\"row_heading level0 row7\" >Messpunkt 8</th>\n",
       "      <td id=\"T_67d7f_row7_col0\" class=\"data row7 col0\" >2.33</td>\n",
       "      <td id=\"T_67d7f_row7_col1\" class=\"data row7 col1\" >60.40</td>\n",
       "      <td id=\"T_67d7f_row7_col2\" class=\"data row7 col2\" >3900</td>\n",
       "    </tr>\n",
       "    <tr>\n",
       "      <th id=\"T_67d7f_level0_row8\" class=\"row_heading level0 row8\" >Messpunkt 9</th>\n",
       "      <td id=\"T_67d7f_row8_col0\" class=\"data row8 col0\" >2.12</td>\n",
       "      <td id=\"T_67d7f_row8_col1\" class=\"data row8 col1\" >68.60</td>\n",
       "      <td id=\"T_67d7f_row8_col2\" class=\"data row8 col2\" >3766</td>\n",
       "    </tr>\n",
       "    <tr>\n",
       "      <th id=\"T_67d7f_level0_row9\" class=\"row_heading level0 row9\" >Messpunkt 10</th>\n",
       "      <td id=\"T_67d7f_row9_col0\" class=\"data row9 col0\" >1.90</td>\n",
       "      <td id=\"T_67d7f_row9_col1\" class=\"data row9 col1\" >76.20</td>\n",
       "      <td id=\"T_67d7f_row9_col2\" class=\"data row9 col2\" >3581</td>\n",
       "    </tr>\n",
       "    <tr>\n",
       "      <th id=\"T_67d7f_level0_row10\" class=\"row_heading level0 row10\" >Messpunkt 11</th>\n",
       "      <td id=\"T_67d7f_row10_col0\" class=\"data row10 col0\" >1.71</td>\n",
       "      <td id=\"T_67d7f_row10_col1\" class=\"data row10 col1\" >82.60</td>\n",
       "      <td id=\"T_67d7f_row10_col2\" class=\"data row10 col2\" >3465</td>\n",
       "    </tr>\n",
       "    <tr>\n",
       "      <th id=\"T_67d7f_level0_row11\" class=\"row_heading level0 row11\" >Messpunkt 12</th>\n",
       "      <td id=\"T_67d7f_row11_col0\" class=\"data row11 col0\" >1.53</td>\n",
       "      <td id=\"T_67d7f_row11_col1\" class=\"data row11 col1\" >88.60</td>\n",
       "      <td id=\"T_67d7f_row11_col2\" class=\"data row11 col2\" >3312</td>\n",
       "    </tr>\n",
       "    <tr>\n",
       "      <th id=\"T_67d7f_level0_row12\" class=\"row_heading level0 row12\" >Messpunkt 13</th>\n",
       "      <td id=\"T_67d7f_row12_col0\" class=\"data row12 col0\" >1.32</td>\n",
       "      <td id=\"T_67d7f_row12_col1\" class=\"data row12 col1\" >94.90</td>\n",
       "      <td id=\"T_67d7f_row12_col2\" class=\"data row12 col2\" >3110</td>\n",
       "    </tr>\n",
       "    <tr>\n",
       "      <th id=\"T_67d7f_level0_row13\" class=\"row_heading level0 row13\" >Messpunkt 14</th>\n",
       "      <td id=\"T_67d7f_row13_col0\" class=\"data row13 col0\" >1.10</td>\n",
       "      <td id=\"T_67d7f_row13_col1\" class=\"data row13 col1\" >99.30</td>\n",
       "      <td id=\"T_67d7f_row13_col2\" class=\"data row13 col2\" >2923</td>\n",
       "    </tr>\n",
       "    <tr>\n",
       "      <th id=\"T_67d7f_level0_row14\" class=\"row_heading level0 row14\" >Messpunkt 15</th>\n",
       "      <td id=\"T_67d7f_row14_col0\" class=\"data row14 col0\" >0.86</td>\n",
       "      <td id=\"T_67d7f_row14_col1\" class=\"data row14 col1\" >101.70</td>\n",
       "      <td id=\"T_67d7f_row14_col2\" class=\"data row14 col2\" >2628</td>\n",
       "    </tr>\n",
       "    <tr>\n",
       "      <th id=\"T_67d7f_level0_row15\" class=\"row_heading level0 row15\" >Messpunkt 16</th>\n",
       "      <td id=\"T_67d7f_row15_col0\" class=\"data row15 col0\" >0.74</td>\n",
       "      <td id=\"T_67d7f_row15_col1\" class=\"data row15 col1\" >99.30</td>\n",
       "      <td id=\"T_67d7f_row15_col2\" class=\"data row15 col2\" >2354</td>\n",
       "    </tr>\n",
       "  </tbody>\n",
       "</table>\n"
      ],
      "text/plain": [
       "<pandas.io.formats.style.Styler at 0x18367ecf620>"
      ]
     },
     "metadata": {},
     "output_type": "display_data"
    },
    {
     "name": "stdout",
     "output_type": "stream",
     "text": [
      "\n",
      "Tabelle 2: Messdaten – 4-Blatt-Rotor\n"
     ]
    },
    {
     "data": {
      "text/html": [
       "<style type=\"text/css\">\n",
       "</style>\n",
       "<table id=\"T_0459d\">\n",
       "  <thead>\n",
       "    <tr>\n",
       "      <th class=\"blank level0\" >&nbsp;</th>\n",
       "      <th id=\"T_0459d_level0_col0\" class=\"col_heading level0 col0\" >U [V]</th>\n",
       "      <th id=\"T_0459d_level0_col1\" class=\"col_heading level0 col1\" >I [mA]</th>\n",
       "      <th id=\"T_0459d_level0_col2\" class=\"col_heading level0 col2\" >D [1/min]</th>\n",
       "    </tr>\n",
       "  </thead>\n",
       "  <tbody>\n",
       "  </tbody>\n",
       "</table>\n"
      ],
      "text/plain": [
       "<pandas.io.formats.style.Styler at 0x18367f1c690>"
      ]
     },
     "metadata": {},
     "output_type": "display_data"
    },
    {
     "name": "stdout",
     "output_type": "stream",
     "text": [
      "\n",
      "Tabelle 4: Messdaten – Savonius-Rotor\n"
     ]
    },
    {
     "data": {
      "text/html": [
       "<style type=\"text/css\">\n",
       "</style>\n",
       "<table id=\"T_bd055\">\n",
       "  <thead>\n",
       "    <tr>\n",
       "      <th class=\"blank level0\" >&nbsp;</th>\n",
       "      <th id=\"T_bd055_level0_col0\" class=\"col_heading level0 col0\" >U [V]</th>\n",
       "      <th id=\"T_bd055_level0_col1\" class=\"col_heading level0 col1\" >I [mA]</th>\n",
       "      <th id=\"T_bd055_level0_col2\" class=\"col_heading level0 col2\" >D [1/min]</th>\n",
       "    </tr>\n",
       "  </thead>\n",
       "  <tbody>\n",
       "  </tbody>\n",
       "</table>\n"
      ],
      "text/plain": [
       "<pandas.io.formats.style.Styler at 0x18367f1c690>"
      ]
     },
     "metadata": {},
     "output_type": "display_data"
    }
   ],
   "source": [
    "# MESSDATENTABELLEN ANZEIGEN\n",
    "\n",
    "print(\"Tabelle 1: Messdaten – 3-Blatt-Rotor (optimiertes Profil)\")\n",
    "display(df_3blatt.round(2).style.format(precision=2))\n",
    "\n",
    "print(\"\\nTabelle 2: Messdaten – 4-Blatt-Rotor\")\n",
    "display(df_4blatt.round(2).style.format(precision=2))\n",
    "\n",
    "print(\"\\nTabelle 4: Messdaten – Savonius-Rotor\")\n",
    "display(df_savonius.round(2).style.format(precision=2))"
   ]
  },
  {
   "cell_type": "markdown",
   "id": "00e460bf-6afc-4518-8004-2f27117684a5",
   "metadata": {},
   "source": [
    "### Beobachtungen während des Versuchs\n",
    "Beschreiben Sie hier **in eigenen Worten** den Aufbau, die Durchführung und Ihre Beobachtungen:\n",
    "- Welche Messgrößen haben Sie bei den verschiedenen Rotortypen aufgenommen?  \n",
    "- Wie haben sich Spannung und Strom bei den verschiedenen Rotorbauarten verändert?  \n",
    "- Welche Unterschiede konnten Sie zwischen 3-Blatt-, 4-Blatt- und Savonius-Rotor feststellen?  \n",
    "- Gab es besondere Auffälligkeiten bei einem der Rotoren?\n",
    "\n",
    "> _Hinweis: Denken Sie an die Schritte „Aufbau, Messung und Beobachtung“._\n",
    "\n",
    "---\n",
    "\n",
    "**Im folgenden Feld Ihre eigene Beschreibung und Beobachtungen eintragen:**"
   ]
  },
  {
   "cell_type": "code",
   "execution_count": null,
   "id": "989c4fe2-6191-4f3f-99ea-0e5517168a3c",
   "metadata": {},
   "outputs": [],
   "source": []
  },
  {
   "cell_type": "markdown",
   "id": "9c66bc9f-d1e2-4992-bc21-38022ebd53e3",
   "metadata": {},
   "source": [
    "### Auswertung\n",
    "\n",
    "1. Berechnen Sie die Leistung des Generators für jeden Messpunkt.\n",
    "2. Zeichnen Sie die jeweiligen U-I-Kennlinien. Erstellen Sie einen Vergleich für  \n",
    "   a. die verschiedenen Flügelanzahl (3 vs. 4 Flügel)  \n",
    "   b. die unterschiedlichen Rotorbauarten (3 Flügel, optimiert vs. Savonius-Rotor).\n",
    "3. Zeichnen Sie nun die jeweiligen D-P-Diagramme und vergleichen Sie diese wie in 2. a–b.  \n",
    "   Bestimmen Sie jeweils den Punkt maximaler Leistung.  \n",
    "   a. Mit welcher Flügelanzahl kann die höchste Leistung erzielt werden?  \n",
    "      Warum werden große Windkraftanlagen nahezu ausschließlich mit 3-Flügel-Rotoren gebaut?  \n",
    "   b. Überlegen und begründen Sie, welche Windrotorbauart (Flügel oder Savonius) für den Betrieb in den folgenden Umgebungen am besten geeignet ist:  \n",
    "      - Hohe Windgeschwindigkeit  \n",
    "      - Niedrige Windgeschwindigkeit  \n",
    "      - Stark wechselnde Windgeschwindigkeit\n",
    "\n",
    "---"
   ]
  },
  {
   "cell_type": "markdown",
   "id": "3774a7b7-0e7e-48c3-8833-531d4da1fd8a",
   "metadata": {},
   "source": [
    "### Schritt 1: Leistungsberechnung\n",
    "\n",
    "**Grundlagen:**\n",
    "Die elektrische Leistung $P$ eines Generators berechnet sich aus dem Produkt von Spannung $U$ und Stromstärke $I$:\n",
    "\n",
    "$$P = U \\cdot I$$\n",
    "\n",
    "Da unsere Messgrößen\n",
    "- Spannung $U$ in [V] (Volt)\n",
    "- Stromstärke $I$ in [mA] (Milliampere)\n",
    "\n",
    "sind, ergibt sich die Leistung in [mW] (Milliwatt).\n",
    "\n",
    "Die Leistung zeigt, wie effektiv ein Rotor Windenergie in elektrische Energie umwandelt. Ein Vergleich der Leistungswerte ermöglicht es, die verschiedenen Rotorbauarten zu bewerten.\n",
    "\n",
    "**Was passiert im folgenden Code:**\n",
    "- Für jeden Rotor wird dem `DataFrame`eine neue Spalte \"P [mW]\" hinzugefügt und in dieser die Leistung berechnet\n",
    "- Die Berechnung erfolgt automatisch für alle Messpunkte gleichzeitig\n",
    "- Die erweiterten DataFrames werden zur Kontrolle angezeigt"
   ]
  },
  {
   "cell_type": "code",
   "execution_count": 8,
   "id": "4062bc3e-4ae4-43f8-8cc8-956d1aef6bfe",
   "metadata": {},
   "outputs": [
    {
     "name": "stdout",
     "output_type": "stream",
     "text": [
      "Leistung erfolgreich berechnet!\n"
     ]
    }
   ],
   "source": [
    "# SCHRITT 1: LEISTUNGSBERECHNUNG FÜR ALLE ROTOREN\n",
    "\n",
    "# Leistung P = U × I für jeden Rotor berechnen\n",
    "df_3blatt[\"P [mW]\"] = df_3blatt[\"U [V]\"] * df_3blatt[\"I [mA]\"]\n",
    "\n",
    "\n",
    "print(\"Leistung erfolgreich berechnet!\")"
   ]
  },
  {
   "cell_type": "code",
   "execution_count": 9,
   "id": "b4dc13b5-c71a-42b5-a6d4-7d8e2a5e00dd",
   "metadata": {},
   "outputs": [
    {
     "name": "stdout",
     "output_type": "stream",
     "text": [
      "Tabelle 5: Messdaten und berechnete Leistung – 3-Blatt-Rotor, optimiert\n"
     ]
    },
    {
     "data": {
      "text/html": [
       "<style type=\"text/css\">\n",
       "</style>\n",
       "<table id=\"T_858e6\">\n",
       "  <thead>\n",
       "    <tr>\n",
       "      <th class=\"blank level0\" >&nbsp;</th>\n",
       "      <th id=\"T_858e6_level0_col0\" class=\"col_heading level0 col0\" >U [V]</th>\n",
       "      <th id=\"T_858e6_level0_col1\" class=\"col_heading level0 col1\" >I [mA]</th>\n",
       "      <th id=\"T_858e6_level0_col2\" class=\"col_heading level0 col2\" >D [1/min]</th>\n",
       "      <th id=\"T_858e6_level0_col3\" class=\"col_heading level0 col3\" >P [mW]</th>\n",
       "    </tr>\n",
       "  </thead>\n",
       "  <tbody>\n",
       "    <tr>\n",
       "      <th id=\"T_858e6_level0_row0\" class=\"row_heading level0 row0\" >Messpunkt 1</th>\n",
       "      <td id=\"T_858e6_row0_col0\" class=\"data row0 col0\" >3.74</td>\n",
       "      <td id=\"T_858e6_row0_col1\" class=\"data row0 col1\" >4.10</td>\n",
       "      <td id=\"T_858e6_row0_col2\" class=\"data row0 col2\" >4791</td>\n",
       "      <td id=\"T_858e6_row0_col3\" class=\"data row0 col3\" >15.33</td>\n",
       "    </tr>\n",
       "    <tr>\n",
       "      <th id=\"T_858e6_level0_row1\" class=\"row_heading level0 row1\" >Messpunkt 2</th>\n",
       "      <td id=\"T_858e6_row1_col0\" class=\"data row1 col0\" >3.54</td>\n",
       "      <td id=\"T_858e6_row1_col1\" class=\"data row1 col1\" >10.50</td>\n",
       "      <td id=\"T_858e6_row1_col2\" class=\"data row1 col2\" >4678</td>\n",
       "      <td id=\"T_858e6_row1_col3\" class=\"data row1 col3\" >37.17</td>\n",
       "    </tr>\n",
       "    <tr>\n",
       "      <th id=\"T_858e6_level0_row2\" class=\"row_heading level0 row2\" >Messpunkt 3</th>\n",
       "      <td id=\"T_858e6_row2_col0\" class=\"data row2 col0\" >3.33</td>\n",
       "      <td id=\"T_858e6_row2_col1\" class=\"data row2 col1\" >20.20</td>\n",
       "      <td id=\"T_858e6_row2_col2\" class=\"data row2 col2\" >4537</td>\n",
       "      <td id=\"T_858e6_row2_col3\" class=\"data row2 col3\" >67.27</td>\n",
       "    </tr>\n",
       "    <tr>\n",
       "      <th id=\"T_858e6_level0_row3\" class=\"row_heading level0 row3\" >Messpunkt 4</th>\n",
       "      <td id=\"T_858e6_row3_col0\" class=\"data row3 col0\" >3.13</td>\n",
       "      <td id=\"T_858e6_row3_col1\" class=\"data row3 col1\" >28.40</td>\n",
       "      <td id=\"T_858e6_row3_col2\" class=\"data row3 col2\" >4422</td>\n",
       "      <td id=\"T_858e6_row3_col3\" class=\"data row3 col3\" >88.89</td>\n",
       "    </tr>\n",
       "    <tr>\n",
       "      <th id=\"T_858e6_level0_row4\" class=\"row_heading level0 row4\" >Messpunkt 5</th>\n",
       "      <td id=\"T_858e6_row4_col0\" class=\"data row4 col0\" >2.92</td>\n",
       "      <td id=\"T_858e6_row4_col1\" class=\"data row4 col1\" >37.20</td>\n",
       "      <td id=\"T_858e6_row4_col2\" class=\"data row4 col2\" >4297</td>\n",
       "      <td id=\"T_858e6_row4_col3\" class=\"data row4 col3\" >108.62</td>\n",
       "    </tr>\n",
       "    <tr>\n",
       "      <th id=\"T_858e6_level0_row5\" class=\"row_heading level0 row5\" >Messpunkt 6</th>\n",
       "      <td id=\"T_858e6_row5_col0\" class=\"data row5 col0\" >2.73</td>\n",
       "      <td id=\"T_858e6_row5_col1\" class=\"data row5 col1\" >45.00</td>\n",
       "      <td id=\"T_858e6_row5_col2\" class=\"data row5 col2\" >4175</td>\n",
       "      <td id=\"T_858e6_row5_col3\" class=\"data row5 col3\" >122.85</td>\n",
       "    </tr>\n",
       "    <tr>\n",
       "      <th id=\"T_858e6_level0_row6\" class=\"row_heading level0 row6\" >Messpunkt 7</th>\n",
       "      <td id=\"T_858e6_row6_col0\" class=\"data row6 col0\" >2.51</td>\n",
       "      <td id=\"T_858e6_row6_col1\" class=\"data row6 col1\" >53.40</td>\n",
       "      <td id=\"T_858e6_row6_col2\" class=\"data row6 col2\" >4029</td>\n",
       "      <td id=\"T_858e6_row6_col3\" class=\"data row6 col3\" >134.03</td>\n",
       "    </tr>\n",
       "    <tr>\n",
       "      <th id=\"T_858e6_level0_row7\" class=\"row_heading level0 row7\" >Messpunkt 8</th>\n",
       "      <td id=\"T_858e6_row7_col0\" class=\"data row7 col0\" >2.33</td>\n",
       "      <td id=\"T_858e6_row7_col1\" class=\"data row7 col1\" >60.40</td>\n",
       "      <td id=\"T_858e6_row7_col2\" class=\"data row7 col2\" >3900</td>\n",
       "      <td id=\"T_858e6_row7_col3\" class=\"data row7 col3\" >140.73</td>\n",
       "    </tr>\n",
       "    <tr>\n",
       "      <th id=\"T_858e6_level0_row8\" class=\"row_heading level0 row8\" >Messpunkt 9</th>\n",
       "      <td id=\"T_858e6_row8_col0\" class=\"data row8 col0\" >2.12</td>\n",
       "      <td id=\"T_858e6_row8_col1\" class=\"data row8 col1\" >68.60</td>\n",
       "      <td id=\"T_858e6_row8_col2\" class=\"data row8 col2\" >3766</td>\n",
       "      <td id=\"T_858e6_row8_col3\" class=\"data row8 col3\" >145.43</td>\n",
       "    </tr>\n",
       "    <tr>\n",
       "      <th id=\"T_858e6_level0_row9\" class=\"row_heading level0 row9\" >Messpunkt 10</th>\n",
       "      <td id=\"T_858e6_row9_col0\" class=\"data row9 col0\" >1.90</td>\n",
       "      <td id=\"T_858e6_row9_col1\" class=\"data row9 col1\" >76.20</td>\n",
       "      <td id=\"T_858e6_row9_col2\" class=\"data row9 col2\" >3581</td>\n",
       "      <td id=\"T_858e6_row9_col3\" class=\"data row9 col3\" >144.78</td>\n",
       "    </tr>\n",
       "    <tr>\n",
       "      <th id=\"T_858e6_level0_row10\" class=\"row_heading level0 row10\" >Messpunkt 11</th>\n",
       "      <td id=\"T_858e6_row10_col0\" class=\"data row10 col0\" >1.71</td>\n",
       "      <td id=\"T_858e6_row10_col1\" class=\"data row10 col1\" >82.60</td>\n",
       "      <td id=\"T_858e6_row10_col2\" class=\"data row10 col2\" >3465</td>\n",
       "      <td id=\"T_858e6_row10_col3\" class=\"data row10 col3\" >141.25</td>\n",
       "    </tr>\n",
       "    <tr>\n",
       "      <th id=\"T_858e6_level0_row11\" class=\"row_heading level0 row11\" >Messpunkt 12</th>\n",
       "      <td id=\"T_858e6_row11_col0\" class=\"data row11 col0\" >1.53</td>\n",
       "      <td id=\"T_858e6_row11_col1\" class=\"data row11 col1\" >88.60</td>\n",
       "      <td id=\"T_858e6_row11_col2\" class=\"data row11 col2\" >3312</td>\n",
       "      <td id=\"T_858e6_row11_col3\" class=\"data row11 col3\" >135.56</td>\n",
       "    </tr>\n",
       "    <tr>\n",
       "      <th id=\"T_858e6_level0_row12\" class=\"row_heading level0 row12\" >Messpunkt 13</th>\n",
       "      <td id=\"T_858e6_row12_col0\" class=\"data row12 col0\" >1.32</td>\n",
       "      <td id=\"T_858e6_row12_col1\" class=\"data row12 col1\" >94.90</td>\n",
       "      <td id=\"T_858e6_row12_col2\" class=\"data row12 col2\" >3110</td>\n",
       "      <td id=\"T_858e6_row12_col3\" class=\"data row12 col3\" >125.27</td>\n",
       "    </tr>\n",
       "    <tr>\n",
       "      <th id=\"T_858e6_level0_row13\" class=\"row_heading level0 row13\" >Messpunkt 14</th>\n",
       "      <td id=\"T_858e6_row13_col0\" class=\"data row13 col0\" >1.10</td>\n",
       "      <td id=\"T_858e6_row13_col1\" class=\"data row13 col1\" >99.30</td>\n",
       "      <td id=\"T_858e6_row13_col2\" class=\"data row13 col2\" >2923</td>\n",
       "      <td id=\"T_858e6_row13_col3\" class=\"data row13 col3\" >109.23</td>\n",
       "    </tr>\n",
       "    <tr>\n",
       "      <th id=\"T_858e6_level0_row14\" class=\"row_heading level0 row14\" >Messpunkt 15</th>\n",
       "      <td id=\"T_858e6_row14_col0\" class=\"data row14 col0\" >0.86</td>\n",
       "      <td id=\"T_858e6_row14_col1\" class=\"data row14 col1\" >101.70</td>\n",
       "      <td id=\"T_858e6_row14_col2\" class=\"data row14 col2\" >2628</td>\n",
       "      <td id=\"T_858e6_row14_col3\" class=\"data row14 col3\" >86.95</td>\n",
       "    </tr>\n",
       "    <tr>\n",
       "      <th id=\"T_858e6_level0_row15\" class=\"row_heading level0 row15\" >Messpunkt 16</th>\n",
       "      <td id=\"T_858e6_row15_col0\" class=\"data row15 col0\" >0.74</td>\n",
       "      <td id=\"T_858e6_row15_col1\" class=\"data row15 col1\" >99.30</td>\n",
       "      <td id=\"T_858e6_row15_col2\" class=\"data row15 col2\" >2354</td>\n",
       "      <td id=\"T_858e6_row15_col3\" class=\"data row15 col3\" >73.28</td>\n",
       "    </tr>\n",
       "  </tbody>\n",
       "</table>\n"
      ],
      "text/plain": [
       "<pandas.io.formats.style.Styler at 0x18367f1c690>"
      ]
     },
     "metadata": {},
     "output_type": "display_data"
    },
    {
     "name": "stdout",
     "output_type": "stream",
     "text": [
      "Tabelle 6: Messdaten und berechnete Leistung – 4-Blatt-Rotor\n"
     ]
    },
    {
     "data": {
      "text/html": [
       "<style type=\"text/css\">\n",
       "</style>\n",
       "<table id=\"T_34d58\">\n",
       "  <thead>\n",
       "    <tr>\n",
       "      <th class=\"blank level0\" >&nbsp;</th>\n",
       "      <th id=\"T_34d58_level0_col0\" class=\"col_heading level0 col0\" >U [V]</th>\n",
       "      <th id=\"T_34d58_level0_col1\" class=\"col_heading level0 col1\" >I [mA]</th>\n",
       "      <th id=\"T_34d58_level0_col2\" class=\"col_heading level0 col2\" >D [1/min]</th>\n",
       "    </tr>\n",
       "  </thead>\n",
       "  <tbody>\n",
       "  </tbody>\n",
       "</table>\n"
      ],
      "text/plain": [
       "<pandas.io.formats.style.Styler at 0x18367f1c690>"
      ]
     },
     "metadata": {},
     "output_type": "display_data"
    },
    {
     "name": "stdout",
     "output_type": "stream",
     "text": [
      "Tabelle 8: Messdaten und berechnete Leistung – Savonius-Rotor\n"
     ]
    },
    {
     "data": {
      "text/html": [
       "<style type=\"text/css\">\n",
       "</style>\n",
       "<table id=\"T_48161\">\n",
       "  <thead>\n",
       "    <tr>\n",
       "      <th class=\"blank level0\" >&nbsp;</th>\n",
       "      <th id=\"T_48161_level0_col0\" class=\"col_heading level0 col0\" >U [V]</th>\n",
       "      <th id=\"T_48161_level0_col1\" class=\"col_heading level0 col1\" >I [mA]</th>\n",
       "      <th id=\"T_48161_level0_col2\" class=\"col_heading level0 col2\" >D [1/min]</th>\n",
       "    </tr>\n",
       "  </thead>\n",
       "  <tbody>\n",
       "  </tbody>\n",
       "</table>\n"
      ],
      "text/plain": [
       "<pandas.io.formats.style.Styler at 0x18367f1c690>"
      ]
     },
     "metadata": {},
     "output_type": "display_data"
    }
   ],
   "source": [
    "# TABELLEN DER MESSDATEN MIT BERECHNETEN LEISTUNGEN ERSTELLEN\n",
    "\n",
    "print(\"Tabelle 5: Messdaten und berechnete Leistung – 3-Blatt-Rotor, optimiert\")\n",
    "display(df_3blatt.round(2).style.format(precision=2))\n",
    "\n",
    "print(\"Tabelle 6: Messdaten und berechnete Leistung – 4-Blatt-Rotor\")\n",
    "display(df_4blatt.round(2).style.format(precision=2))\n",
    "\n",
    "print(\"Tabelle 8: Messdaten und berechnete Leistung – Savonius-Rotor\")\n",
    "display(df_savonius.round(2).style.format(precision=2))"
   ]
  },
  {
   "cell_type": "markdown",
   "id": "f742f155-8530-4f5c-b36b-855b5efdbdef",
   "metadata": {},
   "source": [
    "### Schritt 2: U-I-Kennlinien\n",
    "\n",
    "**Grundlagen:**\n",
    "Die U-I-Kennlinie zeigt das Verhältnis zwischen Spannung $(U)$ und Stromstärke $(I)$ eines Generators. Sie ist charakteristisch für jede Rotorbauart und hilft beim Vergleich der elektrischen Eigenschaften.\n",
    "\n",
    "**Was zeigen U-I-Kennlinien:**\n",
    "- Wie sich die Spannung bei steigender Stromstärke verhält\n",
    "- Unterschiede zwischen verschiedenen Rotortypen\n",
    "- Elektrische Charakteristika der Generatoren"
   ]
  },
  {
   "cell_type": "code",
   "execution_count": 10,
   "id": "5018fdde-ec0c-4846-a332-28f23e716913",
   "metadata": {},
   "outputs": [
    {
     "data": {
      "image/png": "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",
      "text/plain": [
       "<Figure size 1800x600 with 3 Axes>"
      ]
     },
     "metadata": {},
     "output_type": "display_data"
    }
   ],
   "source": [
    "# SCHRITT 2a: U-I-KENNLINIEN - VIER SEPARATE DIAGRAMME\n",
    "\n",
    "# Vier Diagramme in 2x2 Anordnung erstellen\n",
    "fig, (ax1, ax2, ax3) = plt.subplots(1, 3, figsize=(18, 6))\n",
    "\n",
    "# ============================================================================\n",
    "# DIAGRAMM 1: 3-BLATT-ROTOR (OPTIMIERT)\n",
    "# ============================================================================\n",
    "\n",
    "ax1.plot(df_3blatt[\"U [V]\"], df_3blatt[\"I [mA]\"], \"o\", label=\"3-Blatt-Rotor (optimiert)\", \n",
    "         markersize=6, color=\"blue\")\n",
    "\n",
    "ax1.set_xlabel(\"Spannung U [V]\")\n",
    "ax1.set_ylabel(\"Stromstärke I [mA]\")\n",
    "ax1.set_title(\"U-I-Kennlinie: 3-Blatt-Rotor (optimiert)\")\n",
    "ax1.grid(True, alpha=0.3)\n",
    "ax1.set_xlim(0)\n",
    "ax1.set_ylim(0)\n",
    "ax1.legend()\n",
    "\n",
    "# ============================================================================\n",
    "# DIAGRAMM 2: 4-BLATT-ROTOR\n",
    "# ============================================================================\n",
    "\n",
    "ax2.plot(df_4blatt[\"U [V]\"], df_4blatt[\"I [mA]\"], \"s\", label=\"4-Blatt-Rotor\", \n",
    "         markersize=6, color=\"green\")\n",
    "\n",
    "ax2.set_xlabel(\"Spannung U [V]\")\n",
    "ax2.set_ylabel(\"Stromstärke I [mA]\")\n",
    "ax2.set_title(\"U-I-Kennlinie: 4-Blatt-Rotor\")\n",
    "ax2.grid(True, alpha=0.3)\n",
    "ax2.set_xlim(0)\n",
    "ax2.set_ylim(0)\n",
    "ax2.legend()\n",
    "\n",
    "# ============================================================================\n",
    "# DIAGRAMM 3: SAVONIUS-ROTOR\n",
    "# ============================================================================\n",
    "\n",
    "ax3.plot(df_savonius[\"U [V]\"], df_savonius[\"I [mA]\"], \"d\", label=\"Savonius-Rotor\", \n",
    "         markersize=6, color=\"red\")\n",
    "\n",
    "ax3.set_xlabel(\"Stromstärke I [mA]\")\n",
    "ax3.set_ylabel(\"Spannung U [V]\")\n",
    "ax3.set_title(\"U-I-Kennlinie: Savonius-Rotor\")\n",
    "ax3.grid(True, alpha=0.3)\n",
    "ax3.set_xlim(0)\n",
    "ax3.set_ylim(0)\n",
    "ax3.legend()\n",
    "\n",
    "# Layout optimieren und anzeigen\n",
    "plt.tight_layout()\n",
    "plt.show()"
   ]
  },
  {
   "cell_type": "code",
   "execution_count": 13,
   "id": "9af055c3-f33a-4dbb-a01b-4b56d0170f88",
   "metadata": {},
   "outputs": [
    {
     "data": {
      "image/png": "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",
      "text/plain": [
       "<Figure size 1200x600 with 2 Axes>"
      ]
     },
     "metadata": {},
     "output_type": "display_data"
    }
   ],
   "source": [
    "# SCHRITT 2b: VERGLEICH DER U-I-KENNLINIEN\n",
    "\n",
    "# Drei Vergleichsdiagramme nebeneinander\n",
    "fig, (ax1, ax2) = plt.subplots(1, 2, figsize=(12, 6))\n",
    "\n",
    "# ============================================================================\n",
    "# VERGLEICH 1: 3-BLATT OPTIMIERT vs 4-BLATT\n",
    "# ============================================================================\n",
    "\n",
    "ax1.plot(df_3blatt[\"U [V]\"], df_3blatt[\"I [mA]\"], \"o\", label=\"3-Blatt-Rotor (optimiert)\", \n",
    "         markersize=6, color=\"blue\")\n",
    "ax1.plot(df_4blatt[\"U [V]\"], df_4blatt[\"I [mA]\"], \"s\", label=\"4-Blatt-Rotor\", \n",
    "         markersize=6, color=\"green\")\n",
    "\n",
    "ax1.set_xlabel(\"Spannung U [V]\")\n",
    "ax1.set_ylabel(\"Stromstärke I [mA]\")\n",
    "ax1.set_title(\"Vergleich: Blätteranzahl\\n3-Blatt vs 4-Blatt\")\n",
    "ax1.grid(True, alpha=0.3)\n",
    "ax1.set_xlim(0)\n",
    "ax1.set_ylim(0)\n",
    "ax1.legend()\n",
    "\n",
    "# ============================================================================\n",
    "# VERGLEICH 2: 3-BLATT OPTIMIERT vs SAVONIUS\n",
    "# ============================================================================\n",
    "\n",
    "\n",
    "plt.tight_layout()\n",
    "plt.show()"
   ]
  },
  {
   "cell_type": "markdown",
   "id": "815013f5-18d0-4ef8-bc61-1a9856103dd8",
   "metadata": {},
   "source": [
    "### Schritt 3: D-P-Diagramme (Drehzahl-Leistung)\n",
    "\n",
    "**Grundlagen**\n",
    "Das D-P-Diagramm zeigt den Zusammenhang zwischen Drehzahl ($D$) und elektrischer Leistung ($P$). Es ist besonders wichtig, da aus diesem der **Punkt maximaler Leistung (MPP - Maximum Power Point)** für jeden Rotor abgeleitet werden kann.\n",
    "\n",
    "**Wichtig: Der MPP ist nicht der von Ihnen höchste gemessener Wert, sondern liegt in der Regel zwischen Ihren Messwerten. Sie müssen den MPP also rechnerisch bestimmen!**\n",
    "\n",
    "**Warum D-P-Diagramme wichtig sind:**\n",
    "- Sie zeigen bei welcher Drehzahl die höchste Leistung erreicht wird\n",
    "- Verschiedene Rotortypen haben unterschiedliche Leistungscharakteristika\n",
    "- Basis für die Bewertung der Effizienz verschiedener Bauarten"
   ]
  },
  {
   "cell_type": "code",
   "execution_count": 14,
   "id": "a9f6e195-1e00-429b-910a-6d02a9eaa805",
   "metadata": {},
   "outputs": [
    {
     "ename": "KeyError",
     "evalue": "'P [mW]'",
     "output_type": "error",
     "traceback": [
      "\u001b[1;31m---------------------------------------------------------------------------\u001b[0m",
      "\u001b[1;31mKeyError\u001b[0m                                  Traceback (most recent call last)",
      "File \u001b[1;32m~\\AppData\\Local\\Programs\\Python\\Python313\\Lib\\site-packages\\pandas\\core\\indexes\\base.py:3805\u001b[0m, in \u001b[0;36mIndex.get_loc\u001b[1;34m(self, key)\u001b[0m\n\u001b[0;32m   3804\u001b[0m \u001b[38;5;28;01mtry\u001b[39;00m:\n\u001b[1;32m-> 3805\u001b[0m     \u001b[38;5;28;01mreturn\u001b[39;00m \u001b[38;5;28;43mself\u001b[39;49m\u001b[38;5;241;43m.\u001b[39;49m\u001b[43m_engine\u001b[49m\u001b[38;5;241;43m.\u001b[39;49m\u001b[43mget_loc\u001b[49m\u001b[43m(\u001b[49m\u001b[43mcasted_key\u001b[49m\u001b[43m)\u001b[49m\n\u001b[0;32m   3806\u001b[0m \u001b[38;5;28;01mexcept\u001b[39;00m \u001b[38;5;167;01mKeyError\u001b[39;00m \u001b[38;5;28;01mas\u001b[39;00m err:\n",
      "File \u001b[1;32mindex.pyx:167\u001b[0m, in \u001b[0;36mpandas._libs.index.IndexEngine.get_loc\u001b[1;34m()\u001b[0m\n",
      "File \u001b[1;32mindex.pyx:196\u001b[0m, in \u001b[0;36mpandas._libs.index.IndexEngine.get_loc\u001b[1;34m()\u001b[0m\n",
      "File \u001b[1;32mpandas\\\\_libs\\\\hashtable_class_helper.pxi:7081\u001b[0m, in \u001b[0;36mpandas._libs.hashtable.PyObjectHashTable.get_item\u001b[1;34m()\u001b[0m\n",
      "File \u001b[1;32mpandas\\\\_libs\\\\hashtable_class_helper.pxi:7089\u001b[0m, in \u001b[0;36mpandas._libs.hashtable.PyObjectHashTable.get_item\u001b[1;34m()\u001b[0m\n",
      "\u001b[1;31mKeyError\u001b[0m: 'P [mW]'",
      "\nThe above exception was the direct cause of the following exception:\n",
      "\u001b[1;31mKeyError\u001b[0m                                  Traceback (most recent call last)",
      "Cell \u001b[1;32mIn[14], line 12\u001b[0m\n\u001b[0;32m      6\u001b[0m \u001b[38;5;66;03m# ============================================================================\u001b[39;00m\n\u001b[0;32m      7\u001b[0m \u001b[38;5;66;03m# VERGLEICH 1: 3-BLATT OPTIMIERT vs 4-BLATT\u001b[39;00m\n\u001b[0;32m      8\u001b[0m \u001b[38;5;66;03m# ============================================================================\u001b[39;00m\n\u001b[0;32m     10\u001b[0m ax1\u001b[38;5;241m.\u001b[39mplot(df_3blatt[\u001b[38;5;124m\"\u001b[39m\u001b[38;5;124mD [1/min]\u001b[39m\u001b[38;5;124m\"\u001b[39m], df_3blatt[\u001b[38;5;124m\"\u001b[39m\u001b[38;5;124mP [mW]\u001b[39m\u001b[38;5;124m\"\u001b[39m], \u001b[38;5;124m\"\u001b[39m\u001b[38;5;124mo\u001b[39m\u001b[38;5;124m\"\u001b[39m, label\u001b[38;5;241m=\u001b[39m\u001b[38;5;124m\"\u001b[39m\u001b[38;5;124m3-Blatt-Rotor (optimiert)\u001b[39m\u001b[38;5;124m\"\u001b[39m, \n\u001b[0;32m     11\u001b[0m          markersize\u001b[38;5;241m=\u001b[39m\u001b[38;5;241m6\u001b[39m, color\u001b[38;5;241m=\u001b[39m\u001b[38;5;124m\"\u001b[39m\u001b[38;5;124mblue\u001b[39m\u001b[38;5;124m\"\u001b[39m)\n\u001b[1;32m---> 12\u001b[0m ax1\u001b[38;5;241m.\u001b[39mplot(df_4blatt[\u001b[38;5;124m\"\u001b[39m\u001b[38;5;124mD [1/min]\u001b[39m\u001b[38;5;124m\"\u001b[39m], \u001b[43mdf_4blatt\u001b[49m\u001b[43m[\u001b[49m\u001b[38;5;124;43m\"\u001b[39;49m\u001b[38;5;124;43mP [mW]\u001b[39;49m\u001b[38;5;124;43m\"\u001b[39;49m\u001b[43m]\u001b[49m, \u001b[38;5;124m\"\u001b[39m\u001b[38;5;124ms\u001b[39m\u001b[38;5;124m\"\u001b[39m, label\u001b[38;5;241m=\u001b[39m\u001b[38;5;124m\"\u001b[39m\u001b[38;5;124m4-Blatt-Rotor\u001b[39m\u001b[38;5;124m\"\u001b[39m, \n\u001b[0;32m     13\u001b[0m          markersize\u001b[38;5;241m=\u001b[39m\u001b[38;5;241m6\u001b[39m, color\u001b[38;5;241m=\u001b[39m\u001b[38;5;124m\"\u001b[39m\u001b[38;5;124mgreen\u001b[39m\u001b[38;5;124m\"\u001b[39m)\n\u001b[0;32m     15\u001b[0m ax1\u001b[38;5;241m.\u001b[39mset_xlabel(\u001b[38;5;124m\"\u001b[39m\u001b[38;5;124mDrehzahl D [1/min]\u001b[39m\u001b[38;5;124m\"\u001b[39m)\n\u001b[0;32m     16\u001b[0m ax1\u001b[38;5;241m.\u001b[39mset_ylabel(\u001b[38;5;124m\"\u001b[39m\u001b[38;5;124mLeistung P [mW]\u001b[39m\u001b[38;5;124m\"\u001b[39m)\n",
      "File \u001b[1;32m~\\AppData\\Local\\Programs\\Python\\Python313\\Lib\\site-packages\\pandas\\core\\frame.py:4102\u001b[0m, in \u001b[0;36mDataFrame.__getitem__\u001b[1;34m(self, key)\u001b[0m\n\u001b[0;32m   4100\u001b[0m \u001b[38;5;28;01mif\u001b[39;00m \u001b[38;5;28mself\u001b[39m\u001b[38;5;241m.\u001b[39mcolumns\u001b[38;5;241m.\u001b[39mnlevels \u001b[38;5;241m>\u001b[39m \u001b[38;5;241m1\u001b[39m:\n\u001b[0;32m   4101\u001b[0m     \u001b[38;5;28;01mreturn\u001b[39;00m \u001b[38;5;28mself\u001b[39m\u001b[38;5;241m.\u001b[39m_getitem_multilevel(key)\n\u001b[1;32m-> 4102\u001b[0m indexer \u001b[38;5;241m=\u001b[39m \u001b[38;5;28;43mself\u001b[39;49m\u001b[38;5;241;43m.\u001b[39;49m\u001b[43mcolumns\u001b[49m\u001b[38;5;241;43m.\u001b[39;49m\u001b[43mget_loc\u001b[49m\u001b[43m(\u001b[49m\u001b[43mkey\u001b[49m\u001b[43m)\u001b[49m\n\u001b[0;32m   4103\u001b[0m \u001b[38;5;28;01mif\u001b[39;00m is_integer(indexer):\n\u001b[0;32m   4104\u001b[0m     indexer \u001b[38;5;241m=\u001b[39m [indexer]\n",
      "File \u001b[1;32m~\\AppData\\Local\\Programs\\Python\\Python313\\Lib\\site-packages\\pandas\\core\\indexes\\base.py:3812\u001b[0m, in \u001b[0;36mIndex.get_loc\u001b[1;34m(self, key)\u001b[0m\n\u001b[0;32m   3807\u001b[0m     \u001b[38;5;28;01mif\u001b[39;00m \u001b[38;5;28misinstance\u001b[39m(casted_key, \u001b[38;5;28mslice\u001b[39m) \u001b[38;5;129;01mor\u001b[39;00m (\n\u001b[0;32m   3808\u001b[0m         \u001b[38;5;28misinstance\u001b[39m(casted_key, abc\u001b[38;5;241m.\u001b[39mIterable)\n\u001b[0;32m   3809\u001b[0m         \u001b[38;5;129;01mand\u001b[39;00m \u001b[38;5;28many\u001b[39m(\u001b[38;5;28misinstance\u001b[39m(x, \u001b[38;5;28mslice\u001b[39m) \u001b[38;5;28;01mfor\u001b[39;00m x \u001b[38;5;129;01min\u001b[39;00m casted_key)\n\u001b[0;32m   3810\u001b[0m     ):\n\u001b[0;32m   3811\u001b[0m         \u001b[38;5;28;01mraise\u001b[39;00m InvalidIndexError(key)\n\u001b[1;32m-> 3812\u001b[0m     \u001b[38;5;28;01mraise\u001b[39;00m \u001b[38;5;167;01mKeyError\u001b[39;00m(key) \u001b[38;5;28;01mfrom\u001b[39;00m\u001b[38;5;250m \u001b[39m\u001b[38;5;21;01merr\u001b[39;00m\n\u001b[0;32m   3813\u001b[0m \u001b[38;5;28;01mexcept\u001b[39;00m \u001b[38;5;167;01mTypeError\u001b[39;00m:\n\u001b[0;32m   3814\u001b[0m     \u001b[38;5;66;03m# If we have a listlike key, _check_indexing_error will raise\u001b[39;00m\n\u001b[0;32m   3815\u001b[0m     \u001b[38;5;66;03m#  InvalidIndexError. Otherwise we fall through and re-raise\u001b[39;00m\n\u001b[0;32m   3816\u001b[0m     \u001b[38;5;66;03m#  the TypeError.\u001b[39;00m\n\u001b[0;32m   3817\u001b[0m     \u001b[38;5;28mself\u001b[39m\u001b[38;5;241m.\u001b[39m_check_indexing_error(key)\n",
      "\u001b[1;31mKeyError\u001b[0m: 'P [mW]'"
     ]
    },
    {
     "data": {
      "image/png": "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",
      "text/plain": [
       "<Figure size 1200x600 with 2 Axes>"
      ]
     },
     "metadata": {},
     "output_type": "display_data"
    }
   ],
   "source": [
    "# SCHRITT 3a: D-P-DIAGRAMME - VERGLEICHE\n",
    "\n",
    "# Drei Vergleichsdiagramme nebeneinander\n",
    "fig, (ax1, ax2) = plt.subplots(1, 2, figsize=(12, 6))\n",
    "\n",
    "# ============================================================================\n",
    "# VERGLEICH 1: 3-BLATT OPTIMIERT vs 4-BLATT\n",
    "# ============================================================================\n",
    "\n",
    "ax1.plot(df_3blatt[\"D [1/min]\"], df_3blatt[\"P [mW]\"], \"o\", label=\"3-Blatt-Rotor (optimiert)\", \n",
    "         markersize=6, color=\"blue\")\n",
    "ax1.plot(df_4blatt[\"D [1/min]\"], df_4blatt[\"P [mW]\"], \"s\", label=\"4-Blatt-Rotor\", \n",
    "         markersize=6, color=\"green\")\n",
    "\n",
    "ax1.set_xlabel(\"Drehzahl D [1/min]\")\n",
    "ax1.set_ylabel(\"Leistung P [mW]\")\n",
    "ax1.set_title(\"Vergleich: Blätteranzahl\\n3-Blatt vs 4-Blatt\")\n",
    "ax1.grid(True, alpha=0.3)\n",
    "ax1.set_xlim(0)\n",
    "ax1.set_ylim(0)\n",
    "ax1.legend()\n",
    "\n",
    "# ============================================================================\n",
    "# VERGLEICH 3: 3-BLATT OPTIMIERT vs SAVONIUS\n",
    "# ============================================================================\n",
    "\n",
    "\n",
    "\n",
    "# Layout optimieren\n",
    "plt.tight_layout()\n",
    "plt.show()\n",
    "\n"
   ]
  },
  {
   "cell_type": "code",
   "execution_count": 15,
   "id": "eafc6253-7b81-4356-a413-f4176d25756a",
   "metadata": {},
   "outputs": [
    {
     "name": "stdout",
     "output_type": "stream",
     "text": [
      "Bestimmtheitsmaß (R²): 0.9974 für 3-Blatt (optimiert)\n",
      " \n",
      "3-Blatt (optimiert):\n",
      "x = 3682.19 ist ein Maximum (f(x) = {wert_zweite_ableitung_3blatt:.4f})\n",
      "x = 1788.49 ist ein Minimum (f(x) = {wert_zweite_ableitung_3blatt:.4f})\n",
      " \n",
      " \n",
      "Der MPP mit 3-Blatt (optimiert) liegt bei 144.46 mW\n",
      " \n"
     ]
    },
    {
     "data": {
      "image/png": "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",
      "text/plain": [
       "<Figure size 1200x600 with 2 Axes>"
      ]
     },
     "metadata": {},
     "output_type": "display_data"
    },
    {
     "name": "stdout",
     "output_type": "stream",
     "text": [
      "\n"
     ]
    }
   ],
   "source": [
    "# SCHRITT 3b: MAXIMUM POWER POINT (MPP) BERECHNEN - KUBISCHE REGRESSION\n",
    "\n",
    "# Fit einer kubischen Regressionskurve\n",
    "reg_3blatt = np.poly1d(np.polyfit(df_3blatt[\"D [1/min]\"], df_3blatt[\"P [mW]\"], 3))\n",
    "\n",
    "\n",
    "# Berechnung des Bestimmtheitsmaßes einer kubischen Funktion\n",
    "regression_kubisch_3blatt = np.poly1d(np.polyfit(df_3blatt[\"D [1/min]\"], df_3blatt[\"P [mW]\"], 3))\n",
    "\n",
    "\n",
    "leistung_pred_kubisch_3blatt = regression_kubisch_3blatt(df_3blatt[\"D [1/min]\"])\n",
    "\n",
    "\n",
    "SSR_kubisch_3blatt = np.sum((df_3blatt[\"P [mW]\"] - leistung_pred_kubisch_3blatt) ** 2)\n",
    "\n",
    "\n",
    "SST_kubisch_3blatt = np.sum((df_3blatt[\"P [mW]\"] - np.mean(df_3blatt[\"P [mW]\"])) ** 2)\n",
    "\n",
    "\n",
    "R_squared_kubisch_3blatt = 1 - (SSR_kubisch_3blatt / SST_kubisch_3blatt)\n",
    "\n",
    "\n",
    "print(f\"Bestimmtheitsmaß (R²): {R_squared_kubisch_3blatt:.4f}\", \"für 3-Blatt (optimiert)\")\n",
    "\n",
    "print(\" \")\n",
    "\n",
    "# Bestimmung des MPP\n",
    "regression_kubisch_3blatt = np.poly1d(np.polyfit(df_3blatt[\"D [1/min]\"], df_3blatt[\"P [mW]\"], 3))\n",
    "\n",
    "\n",
    "ableitung_3blatt=np.polyder(regression_kubisch_3blatt)\n",
    "\n",
    "\n",
    "zweite_ableitung_3blatt=np.polyder(ableitung_3blatt)\n",
    "\n",
    "\n",
    "nullstellen_3blatt=np.roots(ableitung_3blatt)\n",
    "\n",
    "\n",
    "print(\"3-Blatt (optimiert):\")\n",
    "for x in nullstellen_3blatt:\n",
    "    wert_zweite_ableitung_3blatt = zweite_ableitung_3blatt(x)\n",
    "    if wert_zweite_ableitung_3blatt > 0:\n",
    "        print(f\"x = {x:.2f} ist ein Minimum (f\"\"(x) = {wert_zweite_ableitung_3blatt:.4f})\")\n",
    "    elif wert_zweite_ableitung_3blatt < 0:\n",
    "        print(f\"x = {x:.2f} ist ein Maximum (f\"\"(x) = {wert_zweite_ableitung_3blatt:.4f})\")\n",
    "    else:\n",
    "        print(f\"x = {x:.2f} könnte ein Sattelpunkt sein (f\"\"(x) = {wert_zweite_ableitung_3blatt:.4f})\")\n",
    "\n",
    "print(\" \")\n",
    "\n",
    "\n",
    "MPP_3blatt=regression_kubisch_3blatt(nullstellen_3blatt[0])\n",
    "\n",
    "print(\" \")\n",
    "print(\"Der MPP mit 3-Blatt (optimiert) liegt bei\", f\"{MPP_3blatt:.2f}\", \"mW\")\n",
    "\n",
    "print(\" \")\n",
    "\n",
    "# Zwei Diagramme erstellen\n",
    "fig, (ax1, ax2) = plt.subplots(1, 2, figsize=(12, 6))\n",
    "\n",
    "\n",
    "# Bereiche für glatte Regressionskurven (angepasst an tatsächliche Messbereiche)\n",
    "reg_bereich_3blatt = np.linspace(min(df_3blatt[\"D [1/min]\"]), max(df_3blatt[\"D [1/min]\"]), 100)\n",
    "\n",
    "\n",
    "# ============================================================================\n",
    "# DIAGRAMM 1: 3-Blatt optimiert vs 4-Blatt\n",
    "# ============================================================================\n",
    "\n",
    "ax1.plot(df_3blatt[\"D [1/min]\"], df_3blatt[\"P [mW]\"], \"o\", label=\"3-Blatt (optimiert) Messdaten\", color=\"blue\")\n",
    "ax1.plot(reg_bereich_3blatt, reg_3blatt(reg_bereich_3blatt), \"--\", color=\"lightblue\", label=\"Regression 3-Blatt optimiert\")\n",
    "\n",
    "# MPP markieren\n",
    "ax1.plot(nullstellen_3blatt[0], MPP_3blatt, \"o\", label=\"MPP 3-Blatt\", color=\"darkblue\", markersize=8)\n",
    "\n",
    "\n",
    "ax1.set_xlabel(\"Drehzahl D [1/min]\")\n",
    "ax1.set_ylabel(\"Leistung P [mW]\")\n",
    "ax1.set_title(\"D-P-Diagramm: 3-Blatt vs 4-Blatt (mit MPP)\")\n",
    "ax1.grid()\n",
    "ax1.set_xlim(0)\n",
    "ax1.set_ylim(0)\n",
    "ax1.legend()\n",
    "\n",
    "# ============================================================================\n",
    "# DIAGRAMM 2: 3-Blatt optimiert vs Savonius\n",
    "# ============================================================================\n",
    "\n",
    "ax2.plot(df_3blatt[\"D [1/min]\"], df_3blatt[\"P [mW]\"], \"o\", label=\"3-Blatt (optimiert) Messdaten\", color=\"blue\")\n",
    "ax2.plot(reg_bereich_3blatt, reg_3blatt(reg_bereich_3blatt), \"--\", color=\"lightblue\", label=\"Regression 3-Blatt\")\n",
    "\n",
    "\n",
    "# MPP markieren\n",
    "ax2.plot(nullstellen_3blatt[0], MPP_3blatt, \"o\", label=\"MPP 3-Blatt\", color=\"darkblue\", markersize=8)\n",
    "\n",
    "\n",
    "ax2.set_xlabel(\"Drehzahl D [1/min]\")\n",
    "ax2.set_ylabel(\"Leistung P [mW]\")\n",
    "ax2.set_title(\"D-P-Diagramm: 3-Blatt vs Savonius (mit MPP)\")\n",
    "ax2.grid()\n",
    "ax2.set_xlim(0)\n",
    "ax2.set_ylim(0)\n",
    "ax2.legend()\n",
    "\n",
    "plt.tight_layout()\n",
    "plt.show()\n",
    "\n",
    "print(\"\")"
   ]
  },
  {
   "cell_type": "markdown",
   "id": "e859282b-07eb-494b-b7d1-79a6c86317f6",
   "metadata": {},
   "source": [
    "### Auswertung und Diskussion der Ergebnisse\n",
    "\n",
    "#### a) Flügelanzahl und Leistungsvergleich\n",
    "\n",
    "**Messergebnis:** 3-Blatt- und 4-Blatt-Läufer mit optimierten Profilen erreichen ähnliche Maximalleistungen.\n",
    "\n",
    "**Warum verwenden große Windkraftanlagen 3-Blatt-Läufer?**\n",
    "\n",
    "Technisch-wirtschaftliches Optimum: Drei Blätter gewährleisten ausreichende Läufersymmetrie bei minimalem Materialaufwand. Die ungerade Blattzahl verhindert Resonanzeffekte zwischen Läufer- und Turmfrequenz. Der aerodynamische Wirkungsgrad erreicht bei drei Blättern einen Sättigungsbereich - zusätzliche Blätter bringen proportional geringere Leistungssteigerungen bei höheren Kosten.\n",
    "\n",
    "#### b) Läuferbauarten für verschiedene Windverhältnisse\n",
    "\n",
    "**Hohe Windgeschwindigkeit:** Auftriebsläufer (3-Blatt, optimiertes Profil) erreichen höchste spezifische Leistungen durch hohe Schnelllaufzahlen. Schutz vor Überlastung durch aktive Blattverstellung.\n",
    "\n",
    "**Niedrige Windgeschwindigkeit:** Widerstandsläufer (Savonius-Typ) haben niedrigere Anlaufwindgeschwindigkeit (1-2 m/s) und verfügbares Anlaufdrehmoment bei geringen Drehzahlen. Auftriebsläufer benötigen 3-4 m/s Anfahrwindgeschwindigkeit. Richtungsunabhängigkeit eliminiert Windrichtungsnachführung.\n",
    "\n",
    "**Stark wechselnde Windgeschwindigkeit:** Savonius-Läufer zeigen höhere Läuferträgheit (glättet Leistungsschwankungen), geringere strukturelle Beanspruchung durch einfachen Aufbau, und omnidirektionale Funktionalität ohne Leistungseinbußen bei Windrichtungsänderungen.\n",
    "\n",
    "**Messbeschränkungen:** Die Laborversuche simulieren konstante Anströmbedingungen. Reale atmosphärische Turbulenz und variable Anströmwinkel können die Leistungscharakteristika erheblich verändern."
   ]
  },
  {
   "cell_type": "markdown",
   "id": "ab1f9cb4-f612-47a9-81f2-ef222d160798",
   "metadata": {},
   "source": [
    "---"
   ]
  },
  {
   "cell_type": "markdown",
   "id": "b246ad67-db61-4f20-b98c-21e9771ba4e8",
   "metadata": {},
   "source": [
    "## 2.2 Versuch 2: Abhängigkeit der Leistung vom Anstellwinkel der Flügel\n",
    "\n",
    "In diesem Versuch wird untersucht, wie sich die elektrische Leistung des Windkraftmodells in Abhängigkeit vom Anstellwinkel der Rotorblätter verändert. Dazu wird bei einem 3-Blatt-Rotor (optimiertes Profil) der Winkel der Flügel in mehreren Stufen variiert. Ziel ist es, den Einfluss des Anstellwinkels auf Spannung $(U)$, Stromstärke $(I)$ und die daraus berechnete Leistung $(P = U \\cdot I)$ zu analysieren.\n",
    "\n",
    "---\n",
    "\n",
    "**Aufbau, Geräte & Komponenten:**\n",
    "- Grundeinheit  \n",
    "- Winderzeugermodul  \n",
    "- Windgeneratormodul mit 3-Blatt-Rotor (optimiertes Profil, verstellbarer Anstellwinkel)  \n",
    "- Potentiometermodul  \n",
    "- AV-Modul  \n",
    "- Drehzahlmessgerät  \n",
    "- Power-Modul (9 V)  \n",
    "\n",
    "---\n",
    "\n",
    "**Schaltplan:**\n",
    "\n",
    "![Schaltplan Versuch2](Data/Schaltplan_Wind_Versuch_2.png \"Schaltplan\")\n",
    "\n",
    "---\n",
    "\n",
    "**Durchführung**\n",
    "\n",
    "1. Bauen Sie den Versuchsaufbau mit dem 3-Blatt-Rotor (optimiertes Profil) auf.\n",
    "   1. Stellen Sie eine feste Netzspannung von $U_\\text{Netz} = 9\\ \\text{V}$ ein.\n",
    "   2. Stellen Sie den Anstellwinkel der Flügel nacheinander auf 15°, 30°, 45°, 60°, 75° und 90° ein.\n",
    "   3. Messen Sie bei jedem Winkel die Spannung $U$, Stromstärke $I$ und die Drehzahl $D$.\n",
    "2. Berechnen Sie für jeden Messpunkt die Leistung $P = U \\cdot I$.\n",
    "\n",
    "---\n",
    "\n",
    "**Messgrößen:**  \n",
    "- Die elektrische Spannung $U$ in $\\text{[V]}$  \n",
    "- Die Stromstärke $I$ in $\\text{[mA]}$  \n",
    "- Die Leistung $P = U \\cdot I$ in $\\text{[mW]}$  \n",
    "- Die Drehzahl $D$ in $\\text{[min}^{-1}\\text{]}$  \n",
    "\n",
    "---\n",
    "\n",
    "**Messdaten:**\n",
    "\n",
    "Notieren Sie hier Ihre Messdaten in einfachen Listen. Nutzen Sie dafür eindeutige Bezeichnungen, ähnlich wie im folgenden Beispiel:"
   ]
  },
  {
   "cell_type": "code",
   "execution_count": null,
   "id": "c5e6e251-ba8a-425d-a8d0-1236b92ee43d",
   "metadata": {},
   "outputs": [],
   "source": [
    "# DATENERFASSUNG - NUR MESSWERTE EINTRAGEN!\n",
    "\n",
    "# Messwerte für 3-Blatt-Rotor, Anstellwinkel α = 20°\n",
    "u_20grad = [3.67, 3.47, 3.26, 3.06, 2.86, 2.65, 2.46, 2.25, 2.06, 1.85, 1.62, 1.49]  # Spannung in V\n",
    "i_20grad = [3.9, 12.7, 21.5, 29.7, 37.0, 45.9, 52.0, 58.9, 65.2, 71.7, 77.2, 77.2]   # Strom in mA\n",
    "D_20grad = [4733, 4593, 4476, 4351, 4203, 4071, 3888, 3779, 3637, 3465, 3112, 3065]  # Drehzahl in 1/min\n",
    "\n",
    "# Messwerte für 3-Blatt-Rotor, Anstellwinkel α = 25° (aus Versuch 1 übernehmen)\n",
    "u_25grad = u_3blatt\n",
    "i_25grad = i_3blatt\n",
    "D_25grad = D_3blatt\n",
    "\n",
    "# Messwerte für 3-Blatt-Rotor, Anstellwinkel α = 30°\n",
    "u_30grad = [2.88, 2.68, 2.49, 2.28, 2.08, 1.85, 1.65, 1.47, 1.23, 1.05, 0.805, 0.671, 0.625]  # Spannung in V\n",
    "i_30grad = [3.2, 13.1, 22.7, 32.0, 40.7, 50.8, 59.3, 66.9, 75.6, 82.2, 90.2, 93.3, 93.6]       # Strom in mA\n",
    "D_30grad = [3706, 3593, 3496, 3351, 3228, 3116, 2967, 2881, 2710, 2567, 2375, 2242, 2188]     # Drehzahl in 1/min\n",
    "\n",
    "# Messwerte für 3-Blatt-Rotor, Anstellwinkel α = 50°\n",
    "u_50grad = [1.24, 1.04, 0.84, 0.615, 0.394, 0.351]  # Spannung in V\n",
    "i_50grad = [1.8, 13.4, 24.7, 37.4, 48.7, 50.7]       # Strom in mA\n",
    "D_50grad = [1570, 1485, 1395, 1297, 1176, 1146]      # Drehzahl in 1/min\n",
    "\n",
    "print(\"Daten erfolgreich geladen!\")\n",
    "print(\"Verfügbare Datensätze für Anstellwinkel-Vergleich:\")\n",
    "print(f\"   - α = 20°: {len(u_20grad)} Messpunkte\")\n",
    "print(f\"   - α = 25°: {len(u_25grad)} Messpunkte\")\n",
    "print(f\"   - α = 30°: {len(u_30grad)} Messpunkte\")\n",
    "print(f\"   - α = 50°: {len(u_50grad)} Messpunkte\")\n",
    "print(\"Bereit für die Auswertung in den nächsten Zellen!\")"
   ]
  },
  {
   "cell_type": "markdown",
   "id": "a8e48f1c-be8c-4166-9af9-3e016d139676",
   "metadata": {},
   "source": [
    "Aus diesen Messwerten werden nun Tabellen mit `pandas` `DataFrames` erstellt.\n",
    "Wichtige Hinweise:\n",
    "\n",
    "- Die Messwerte müssen nicht nochmal eingegeben werden, solange die Zelle mit den Listen zuvor ausgeführt wurde\n",
    "- Python beginnt die Indexierung bei [0] - der erste Wert hat Index 0, der zweite Index 1, usw.\n",
    "- DataFrames ermöglichen professionelle Tabellendarstellung und einfache Berechnungen\n",
    "\n",
    "Im folgenden Code werden alle Listen aus Messdaten in `DataFrames`umgewandelt:"
   ]
  },
  {
   "cell_type": "code",
   "execution_count": null,
   "id": "f5722190-068a-48f5-948e-0a6e21efa0e7",
   "metadata": {},
   "outputs": [],
   "source": [
    "# DATAFRAMES AUS DEN LISTEN ERSTELLEN  \n",
    "\n",
    "# 3-Blatt-Rotor, Anstellwinkel α = 20°\n",
    "df_20grad = pd.DataFrame({\n",
    "    \"U [V]\": ,\n",
    "    \"I [mA]\": ,\n",
    "    \"D [1/min]\": \n",
    "})\n",
    "\n",
    "# 3-Blatt-Rotor, Anstellwinkel α = 25°\n",
    "df_25grad = pd.DataFrame({\n",
    "    \"U [V]\": ,\n",
    "    \"I [mA]\": ,\n",
    "    \"D [1/min]\": \n",
    "})\n",
    "\n",
    "# 3-Blatt-Rotor, Anstellwinkel α = 30°\n",
    "df_30grad = pd.DataFrame({\n",
    "    \"U [V]\": ,\n",
    "    \"I [mA]\": ,\n",
    "    \"D [1/min]\": \n",
    "})\n",
    "\n",
    "# 3-Blatt-Rotor, Anstellwinkel α = 50°\n",
    "df_50grad = pd.DataFrame({\n",
    "    \"U [V]\": ,\n",
    "    \"I [mA]\": ,\n",
    "    \"D [1/min]\": \n",
    "})\n",
    "\n",
    "# Indizes als \"Messpunkte\" umbenennen (Zählung bei 1 starten)\n",
    "for df in [df_20grad, df_25grad, df_30grad, df_50grad]:\n",
    "    df.index = [f\"Messpunkt {i+1}\" for i in range(len(df))]\n",
    "\n",
    "print(\"DataFrames erfolgreich erstellt:\")\n",
    "print(f\"- df_20grad: {len(df_20grad)} Messpunkte\")\n",
    "print(f\"- df_25grad: {len(df_25grad)} Messpunkte\") \n",
    "print(f\"- df_30grad: {len(df_30grad)} Messpunkte\")\n",
    "print(f\"- df_50grad: {len(df_50grad)} Messpunkte\")"
   ]
  },
  {
   "cell_type": "code",
   "execution_count": null,
   "id": "b7435d1f-368c-46c9-aa22-98ea907811ed",
   "metadata": {
    "scrolled": true
   },
   "outputs": [],
   "source": [
    "# MESSDATENTABELLEN ANZEIGEN\n",
    "print(\"Tabelle 9: Messdaten – 3-Blatt-Rotor, Anstellwinkel α = 20°\")\n",
    "print(tabulate(df_, headers=df_.columns, tablefmt=\"fancy_grid\", \n",
    "               floatfmt=\".2f\"))\n",
    "print(\"\\n\")\n",
    "print(\"Tabelle 10: Messdaten – 3-Blatt-Rotor, Anstellwinkel α = 25°\")\n",
    "print(tabulate(df_, headers=df_.columns, tablefmt=\"fancy_grid\",\n",
    "               floatfmt=\".2f\"))\n",
    "print(\"\\n\")\n",
    "print(\"Tabelle 11: Messdaten – 3-Blatt-Rotor, Anstellwinkel α = 30°\")\n",
    "print(tabulate(df_, headers=df_.columns, tablefmt=\"fancy_grid\", \n",
    "               floatfmt=\".2f\"))\n",
    "print(\"\\n\")\n",
    "print(\"Tabelle 12: Messdaten – 3-Blatt-Rotor, Anstellwinkel α = 50°\")\n",
    "print(tabulate(df_, headers=df_.columns, tablefmt=\"fancy_grid\",\n",
    "               floatfmt=\".2f\"))"
   ]
  },
  {
   "cell_type": "markdown",
   "id": "196f7e59-55de-484d-ae1e-4c9ecb2bce8a",
   "metadata": {},
   "source": [
    "### Beobachtungen während des Versuchs\n",
    "Beschreiben Sie hier **in eigenen Worten** den Aufbau, die Durchführung und Ihre Beobachtungen:\n",
    "\n",
    "- Welche Anstellwinkel haben Sie bei dem 3-Blatt-Rotor untersucht und warum ist diese Variation wichtig?\n",
    "- Wie haben sich Spannung, Strom und Drehzahl bei den verschiedenen Anstellwinkeln verändert?\n",
    "- Bei welchem Anstellwinkel haben Sie die höchsten bzw. niedrigsten Leistungswerte gemessen?\n",
    "- Welche praktischen Auswirkungen könnte die Verstellbarkeit des Anstellwinkels für reale Windkraftanlagen haben?\n",
    "- Gab es bei einem bestimmten Anstellwinkel besondere Auffälligkeiten in der Drehzahl oder im Betriebsverhalten?\n",
    "\n",
    "> *Hinweis: Denken Sie an die aerodynamischen Grundlagen - warum beeinflusst der Anstellwinkel die Leistung so stark?*\n",
    "\n",
    "---\n",
    "\n",
    "**Im folgenden Feld Ihre eigene Beschreibung und Beobachtungen eintragen:**"
   ]
  },
  {
   "cell_type": "code",
   "execution_count": null,
   "id": "ced99033-a368-4fd1-8a91-969104ffbd1e",
   "metadata": {},
   "outputs": [],
   "source": []
  },
  {
   "cell_type": "markdown",
   "id": "c11e0a5c-ee2a-4719-b42e-625c80788e8a",
   "metadata": {},
   "source": [
    "### Auswertung\n",
    "1. Berechnen Sie die Leistung des Generators für jeden Messpunkt.\n",
    "2. Zeichnen Sie die jeweiligen U-I-Kennlinien und die D-P-Diagramme und vergleichen Sie die verschiedenen Anstellwinkel miteinander.\n",
    "3. Bestimmen Sie für jeden Anstellwinkel den Punkt maximaler Leistung (Maximum Power Point, MPP).\n",
    "4. Welchen Einfluss hat der Anstellwinkel auf die maximal erzielte Leistung?  \n",
    "   Wie kann das beobachtete Verhalten für den Betrieb realer Windkraftanlagen genutzt werden, um Schäden an der Anlage zu vermeiden?  \n",
    "   Wie heißt die entsprechende Regelung?"
   ]
  },
  {
   "cell_type": "markdown",
   "id": "7b3e6d5e-4373-4de0-b7cc-08e162e01798",
   "metadata": {},
   "source": [
    "### Schritt 1: Leistungsberechnung\n",
    "**Grundlagen:**\n",
    "Die elektrische Leistung $P$ eines Generators berechnet sich aus dem Produkt von Spannung $U$ und Stromstärke $I$:\n",
    "$$P = U \\cdot I$$\n",
    "Da unsere Messgrößen\n",
    "- Spannung $U$ in [V] (Volt)\n",
    "- Stromstärke $I$ in [mA] (Milliampere)\n",
    "\n",
    "sind, ergibt sich die Leistung in [mW] (Milliwatt).\n",
    "\n",
    "Bei der Untersuchung verschiedener Anstellwinkel können wir durch die Leistungsberechnung erkennen, wie sich die aerodynamische Effizienz der Rotorblätter verändert. Der Anstellwinkel beeinflusst den Auftrieb und Widerstand der Blätter und damit direkt die übertragene mechanische Leistung auf den Generator.\n",
    "\n",
    "**Was passiert im folgenden Code:**\n",
    "- Für jeden Anstellwinkel wird dem `DataFrame` eine neue Spalte \"P [mW]\" hinzugefügt und in dieser die Leistung berechnet\n",
    "- Die Berechnung erfolgt automatisch für alle Messpunkte gleichzeitig\n",
    "- Die erweiterten DataFrames werden zur Kontrolle angezeigt"
   ]
  },
  {
   "cell_type": "code",
   "execution_count": null,
   "id": "e0fcd0a9-6f72-430f-b6d5-f92eccc85202",
   "metadata": {},
   "outputs": [],
   "source": [
    "# SCHRITT 1: LEISTUNGSBERECHNUNG FÜR ALLE ROTOREN\n",
    "\n",
    "# Leistung P = U × I für jeden Rotor berechnen\n",
    "df_[\"P [mW]\"] = df_[\"U [V]\"] * df_\"I [mA]\"]\n",
    "df_[\"P [mW]\"] = df_[\"U [V]\"] * df_[\"I [mA]\"]\n",
    "df_[\"P [mW]\"] = df_[\"U [V]\"] * df_[\"I [mA]\"]\n",
    "df_[\"P [mW]\"] = df_[\"U [V]\"] * df_[\"I [mA]\"]\n",
    "\n",
    "print(\"Leistung erfolgreich berechnet!\")"
   ]
  },
  {
   "cell_type": "code",
   "execution_count": null,
   "id": "23c72b5a-c702-46a3-95b8-ecf4143662e8",
   "metadata": {},
   "outputs": [],
   "source": [
    "# ERWEITERTE TABELLEN MIT LEISTUNG ANZEIGEN\n",
    "print(\"Tabelle 13: Messdaten und berechnete Leistung – 3-Blatt-Rotor, Anstellwinkel α = 20°\")\n",
    "print(tabulate(df_, headers=df_.columns, tablefmt=\"fancy_grid\", \n",
    "               floatfmt=\".2f\"))\n",
    "print(\"\\n\")\n",
    "print(\"Tabelle 14: Messdaten und berechnete Leistung – 3-Blatt-Rotor, Anstellwinkel α = 25°\")\n",
    "print(tabulate(df_, headers=df_.columns, tablefmt=\"fancy_grid\",\n",
    "               floatfmt=\".2f\"))\n",
    "print(\"\\n\")\n",
    "print(\"Tabelle 15: Messdaten und berechnete Leistung – 3-Blatt-Rotor, Anstellwinkel α = 30°\")\n",
    "print(tabulate(df_, headers=df_.columns, tablefmt=\"fancy_grid\", \n",
    "               floatfmt=\".2f\"))\n",
    "print(\"\\n\")\n",
    "print(\"Tabelle 16: Messdaten und berechnete Leistung – 3-Blatt-Rotor, Anstellwinkel α = 50°\")\n",
    "print(tabulate(df_, headers=df_.columns, tablefmt=\"fancy_grid\",\n",
    "               floatfmt=\".2f\"))"
   ]
  },
  {
   "cell_type": "markdown",
   "id": "71c7912a-e18a-4a5a-a7b0-12b6e9fb60c8",
   "metadata": {},
   "source": [
    "### Schritt 2: U-I-Kennlinien\n",
    "\n",
    "**Grundlagen:**\n",
    "Die U-I-Kennlinie zeigt das Verhältnis zwischen Spannung $(U)$ und Stromstärke $(I)$ eines Generators. Sie ist charakteristisch für jede Rotorbauart und hilft beim Vergleich der elektrischen Eigenschaften.\n",
    "\n",
    "**Was zeigen U-I-Kennlinien:**\n",
    "- Wie sich die Spannung bei steigender Stromstärke verhält\n",
    "- Unterschiede zwischen verschiedenen Rotortypen\n",
    "- Elektrische Charakteristika der Generatoren"
   ]
  },
  {
   "cell_type": "code",
   "execution_count": null,
   "id": "db51c11e-30ab-42eb-8959-ba37f85ea72f",
   "metadata": {},
   "outputs": [],
   "source": [
    "# SCHRITT 2a: U-I-KENNLINIEN - VIER SEPARATE DIAGRAMME\n",
    "\n",
    "# Vier Diagramme in 2x2 Anordnung erstellen\n",
    "fig, ((ax1, ax2), (ax3, ax4)) = plt.subplots(2, 2, figsize=(14, 10))\n",
    "\n",
    "# ============================================================================\n",
    "# DIAGRAMM 1: 3-BLATT-ROTOR, Anstellwinkel α = 20°\n",
    "# ============================================================================\n",
    "ax1.plot(df_20grad[\"U [V]\"], df_20grad[\"I [mA]\"], \"o\", label=\"3-Blatt-Rotor, α = 20°\", \n",
    "         markersize=6, color=\"blue\")\n",
    "ax1.set_xlabel(\"Spannung U [V]\")\n",
    "ax1.set_ylabel(\"Stromstärke I [mA]\")\n",
    "ax1.set_title(\"U-I-Kennlinie: 3-Blatt-Rotor, α = 20°\")\n",
    "ax1.grid(True, alpha=0.3)\n",
    "ax1.set_xlim(0)\n",
    "ax1.set_ylim(0)\n",
    "ax1.legend()\n",
    "\n",
    "# ============================================================================\n",
    "# DIAGRAMM 2: 3-BLATT-ROTOR, Anstellwinkel α = 25°\n",
    "# ============================================================================\n",
    "ax2.plot(df_25grad[\"U [V]\"], df_25grad[\"I [mA]\"], \"s\", label=\"3-Blatt-Rotor, α = 25°\", \n",
    "         markersize=6, color=\"green\")\n",
    "# TODO: Ergänzen Sie xlabel, ylabel, title, grid, legend\n",
    "\n",
    "# ============================================================================\n",
    "# DIAGRAMM 3: 3-BLATT-ROTOR, Anstellwinkel α = 30°\n",
    "# ============================================================================\n",
    "# TODO: Vervollständigen Sie dieses Diagramm analog zu den oberen\n",
    "# Verwenden Sie \"^\" als Marker und \"orange\" als Farbe\n",
    "\n",
    "# ============================================================================\n",
    "# DIAGRAMM 4: 3-BLATT-ROTOR, Anstellwinkel α = 50°\n",
    "# ============================================================================  \n",
    "# TODO: Vervollständigen Sie dieses Diagramm analog zu den oberen\n",
    "# Verwenden Sie \"d\" als Marker und \"red\" als Farbe\n",
    "\n",
    "# Layout optimieren und anzeigen\n",
    "plt.tight_layout()\n",
    "plt.show()\n",
    "\n",
    "# ============================================================================\n",
    "# ANALYSE DER U-I-KENNLINIEN\n",
    "# ============================================================================\n",
    "print(\"=\" * 60)\n",
    "print(\"ANALYSE DER U-I-KENNLINIEN\")\n",
    "print(\"=\" * 60)\n",
    "print(\"Spannungsbereiche:\")\n",
    "print(f\"α = 20°: {min(df_20grad[\"U [V]\"]):.2f} V bis {max(df_20grad[\"U [V]\"]):.2f} V\")\n",
    "print(f\"α = 25°: {min(df_25grad[\"U [V]\"]):.2f} V bis {max(df_25grad[\"U [V]\"]):.2f} V\")\n",
    "# TODO: Ergänzen Sie die Ausgabe für α = 30° und α = 50°\n",
    "\n",
    "print()\n",
    "print(\"Strombereiche:\")\n",
    "print(f\"α = 20°: {min(df_20grad[\"I [mA]\"]):.1f} mA bis {max(df_20grad[\"I [mA]\"]):.1f} mA\")\n",
    "# TODO: Ergänzen Sie die Ausgabe für die anderen Anstellwinkel\n",
    "\n",
    "print()\n",
    "print(\"Charakteristische Unterschiede:\")\n",
    "print(\"- TODO: Analysieren Sie die Unterschiede zwischen den Anstellwinkeln\")\n",
    "print(\"- TODO: Welcher Anstellwinkel zeigt die besten Eigenschaften?\")\n",
    "print(\"- TODO: Wie wirkt sich der Anstellwinkel auf die Kennlinie aus?\")\n",
    "print(\"=\" * 60)"
   ]
  },
  {
   "cell_type": "code",
   "execution_count": null,
   "id": "b0501c50-0785-49de-b1d1-36e27bd1eb76",
   "metadata": {},
   "outputs": [],
   "source": [
    "# SCHRITT 2b: VERGLEICH DER U-I-KENNLINIEN\n",
    "# ============================================================================\n",
    "# VERGLEICH: ALLE ANSTELLWINKEL\n",
    "# ============================================================================\n",
    "fig, ax1 = plt.subplots(1, 1, figsize=(10, 6))\n",
    "\n",
    "ax1.plot(df_20grad[\"U [V]\"], df_20grad[\"I [mA]\"], \"o\", label=\"3-Blatt-Rotor, Anstellwinkel α = 20°\", \n",
    "         markersize=6, color=\"blue\")\n",
    "# TODO: Vervollständigen Sie die anderen Plots\n",
    "ax1.plot(df_25grad[\"U [V]\"], df_25grad[\"I [mA]\"], \"s\", label=\"3-Blatt-Rotor, Anstellwinkel α = 25°\", \n",
    "         markersize=6, color=\"green\")\n",
    "# TODO: Ergänzen Sie df_30grad mit \"^\" als Marker und \"orange\" als Farbe\n",
    "# TODO: Ergänzen Sie df_50grad mit \"d\" als Marker und \"red\" als Farbe\n",
    "\n",
    "ax1.set_xlabel(\"Spannung U [V]\")\n",
    "ax1.set_ylabel(\"Stromstärke I [mA]\")\n",
    "ax1.set_title(\"Vergleich: Anstellwinkel von 20°, 25°, 30° und 50°\")\n",
    "ax1.grid(True, alpha=0.3)\n",
    "ax1.set_xlim(0)\n",
    "ax1.set_ylim(0)\n",
    "ax1.legend()\n",
    "\n",
    "# Layout optimieren\n",
    "plt.tight_layout()\n",
    "plt.show()\n",
    "\n",
    "# ============================================================================\n",
    "# ANALYSE DER VERGLEICHE\n",
    "# ============================================================================\n",
    "print(\"=\" * 70)\n",
    "print(\"ANALYSE DER U-I-KENNLINIEN-VERGLEICHE\")\n",
    "print(\"=\" * 70)\n",
    "print(\"VERGLEICH - Anstellwinkel von 20°, 25°, 30° und 50°:\")\n",
    "print(\"- Spannungsbereich:\")\n",
    "print(f\"  α = 20°: {min(df_20grad[\"U [V]\"]):.2f} V bis {max(df_20grad[\"U [V]\"]):.2f} V\")\n",
    "# TODO: Ergänzen Sie die Ausgabe für die anderen Anstellwinkel\n",
    "\n",
    "print(\"- Maximaler Strom:\")\n",
    "print(f\"  α = 20°: {max(df_20grad[\"I [mA]\"]):.1f} mA\")\n",
    "# TODO: Ergänzen Sie die Ausgabe für die anderen Anstellwinkel\n",
    "\n",
    "print()\n",
    "print(\"SCHLUSSFOLGERUNGEN:\")\n",
    "print(\"- TODO: Welcher Anstellwinkel zeigt die besten Eigenschaften?\")\n",
    "print(\"- TODO: Wie wirkt sich der Anstellwinkel auf die Kennlinie aus?\")\n",
    "print(\"=\" * 70)"
   ]
  },
  {
   "cell_type": "markdown",
   "id": "561f63f6-3f1a-4999-9880-5e28fd0d7d31",
   "metadata": {},
   "source": [
    "### Schritt 3: D-P-Diagramme (Drehzahl-Leistung)\n",
    "\n",
    "**Grundlagen**\n",
    "Das D-P-Diagramm zeigt den Zusammenhang zwischen Drehzahl ($D$) und elektrischer Leistung ($P$). Es ist besonders wichtig, da aus diesem der **Punkt maximaler Leistung (MPP - Maximum Power Point)** für jeden Rotor abgeleitet werden kann.\n",
    "\n",
    "**Wichtig: Der MPP ist nicht der von Ihnen höchste gemessener Wert, sondern liegt in der Regel zwischen Ihren Messwerten. Sie müssen den MPP also rechnerisch bestimmen!**\n",
    "\n",
    "**Warum D-P-Diagramme wichtig sind:**\n",
    "- Sie zeigen bei welcher Drehzahl die höchste Leistung erreicht wird\n",
    "- Verschiedene Rotortypen haben unterschiedliche Leistungscharakteristika\n",
    "- Basis für die Bewertung der Effizienz verschiedener Bauarten"
   ]
  },
  {
   "cell_type": "code",
   "execution_count": null,
   "id": "3443be42-f447-46c2-9a8b-552230f01cff",
   "metadata": {
    "scrolled": true
   },
   "outputs": [],
   "source": [
    "# SCHRITT 3a: D-P-DIAGRAMME - VIER SEPARATE DIAGRAMME\n",
    "# Vier Diagramme in 2x2 Anordnung erstellen\n",
    "fig, ((ax1, ax2), (ax3, ax4)) = plt.subplots(2, 2, figsize=(14, 10))\n",
    "\n",
    "# ============================================================================\n",
    "# DIAGRAMM 1: 3-BLATT-ROTOR, Anstellwinkel α = 20°\n",
    "# ============================================================================\n",
    "ax1.plot(df_20grad[\"D [1/min]\"], df_20grad[\"P [mW]\"], \"o\", label=\"3-Blatt-Rotor, α = 20°\", \n",
    "         markersize=6, color=\"blue\")\n",
    "ax1.set_xlabel(\"Drehzahl D [1/min]\")\n",
    "ax1.set_ylabel(\"Leistung P [mW]\")\n",
    "ax1.set_title(\"D-P-Diagramm: 3-Blatt-Rotor, α = 20°\")\n",
    "ax1.grid(True, alpha=0.3)\n",
    "ax1.set_xlim(0)\n",
    "ax1.set_ylim(0)\n",
    "ax1.legend()\n",
    "\n",
    "# ============================================================================\n",
    "# DIAGRAMM 2: 3-BLATT-ROTOR, Anstellwinkel α = 25°\n",
    "# ============================================================================\n",
    "ax2.plot(df_25grad[\"D [1/min]\"], df_25grad[\"P [mW]\"], \"s\", label=\"3-Blatt-Rotor, α = 25°\", \n",
    "         markersize=6, color=\"green\")\n",
    "# TODO: Ergänzen Sie xlabel, ylabel, title, grid, legend\n",
    "\n",
    "# ============================================================================\n",
    "# DIAGRAMM 3: 3-BLATT-ROTOR, Anstellwinkel α = 30°\n",
    "# ============================================================================\n",
    "# TODO: Vervollständigen Sie dieses Diagramm analog zu den oberen\n",
    "# Verwenden Sie \"^\" als Marker und \"orange\" als Farbe\n",
    "\n",
    "# ============================================================================\n",
    "# DIAGRAMM 4: 3-BLATT-ROTOR, Anstellwinkel α = 50°\n",
    "# ============================================================================  \n",
    "# TODO: Vervollständigen Sie dieses Diagramm analog zu den oberen\n",
    "# Verwenden Sie \"d\" als Marker und \"red\" als Farbe\n",
    "\n",
    "# Layout optimieren und anzeigen\n",
    "plt.tight_layout()\n",
    "plt.show()\n",
    "\n",
    "# ============================================================================\n",
    "# ANALYSE DER D-P-DIAGRAMME\n",
    "# ============================================================================\n",
    "print(\"=\" * 70)\n",
    "print(\"ANALYSE DER D-P-DIAGRAMME\")\n",
    "print(\"=\" * 70)\n",
    "print(\"Drehzahlbereiche:\")\n",
    "print(f\"α = 20°: {min(df_20grad[\"D [1/min]\"]):.0f} 1/min bis {max(df_20grad[\"D [1/min]\"]):.0f} 1/min\")\n",
    "# TODO: Ergänzen Sie die Ausgabe für die anderen Anstellwinkel\n",
    "\n",
    "print()\n",
    "print(\"Maximale Leistung:\")\n",
    "print(f\"α = 20°: {max(df_20grad[\"P [mW]\"]):.2f} mW\")\n",
    "# TODO: Ergänzen Sie die Ausgabe für die anderen Anstellwinkel\n",
    "\n",
    "print()\n",
    "print(\"Charakteristische Unterschiede:\")\n",
    "print(\"- TODO: Analysieren Sie die Unterschiede zwischen den Anstellwinkeln\")\n",
    "print(\"=\" * 70)"
   ]
  },
  {
   "cell_type": "code",
   "execution_count": null,
   "id": "d78db2cf-f71b-4228-8c65-d72a0091016e",
   "metadata": {},
   "outputs": [],
   "source": [
    "# SCHRITT 3b: MAXIMUM POWER POINT (MPP) BERECHNEN - KUBISCHE REGRESSION\n",
    "\n",
    "# Fit einer kubischen Regressionskurve\n",
    "reg_20grad = np.poly1d(np.polyfit(df_20grad[\"D [1/min]\"], df_20grad[\"P [mW]\"], 3))\n",
    "reg_25grad = np.poly1d(np.polyfit(df_25grad[\"D [1/min]\"], df_25grad[\"P [mW]\"], 3))\n",
    "reg_30grad = np.poly1d(np.polyfit(df_30grad[\"D [1/min]\"], df_30grad[\"P [mW]\"], 3))\n",
    "reg_50grad = np.poly1d(np.polyfit(df_50grad[\"D [1/min]\"], df_50grad[\"P [mW]\"], 3))\n",
    "\n",
    "# Berechnung des Bestimmtheitsmaßes einer kubischen Funktion\n",
    "regression_kubisch_20grad = np.poly1d(np.polyfit(df_20grad[\"D [1/min]\"], df_20grad[\"P [mW]\"], 3))\n",
    "regression_kubisch_25grad = np.poly1d(np.polyfit(df_25grad[\"D [1/min]\"], df_25grad[\"P [mW]\"], 3))\n",
    "regression_kubisch_30grad = np.poly1d(np.polyfit(df_30grad[\"D [1/min]\"], df_30grad[\"P [mW]\"], 3))\n",
    "regression_kubisch_50grad = np.poly1d(np.polyfit(df_50grad[\"D [1/min]\"], df_50grad[\"P [mW]\"], 3))\n",
    "\n",
    "leistung_pred_kubisch_20grad = regression_kubisch_20grad(df_20grad[\"D [1/min]\"])\n",
    "leistung_pred_kubisch_25grad = regression_kubisch_25grad(df_25grad[\"D [1/min]\"])\n",
    "leistung_pred_kubisch_30grad = regression_kubisch_30grad(df_30grad[\"D [1/min]\"])\n",
    "leistung_pred_kubisch_50grad = regression_kubisch_50grad(df_50grad[\"D [1/min]\"])\n",
    "\n",
    "SSR_kubisch_20grad = np.sum((df_20grad[\"P [mW]\"] - leistung_pred_kubisch_20grad) ** 2)\n",
    "SSR_kubisch_25grad = np.sum((df_25grad[\"P [mW]\"] - leistung_pred_kubisch_25grad) ** 2)\n",
    "SSR_kubisch_30grad = np.sum((df_30grad[\"P [mW]\"] - leistung_pred_kubisch_30grad) ** 2)\n",
    "SSR_kubisch_50grad = np.sum((df_50grad[\"P [mW]\"] - leistung_pred_kubisch_50grad) ** 2)\n",
    "\n",
    "SST_kubisch_20grad = np.sum((df_20grad[\"P [mW]\"] - np.mean(df_20grad[\"P [mW]\"])) ** 2)\n",
    "SST_kubisch_25grad = np.sum((df_25grad[\"P [mW]\"] - np.mean(df_25grad[\"P [mW]\"])) ** 2)\n",
    "SST_kubisch_30grad = np.sum((df_30grad[\"P [mW]\"] - np.mean(df_30grad[\"P [mW]\"])) ** 2)\n",
    "SST_kubisch_50grad = np.sum((df_50grad[\"P [mW]\"] - np.mean(df_50grad[\"P [mW]\"])) ** 2)\n",
    "\n",
    "R_squared_kubisch_20grad = 1 - (SSR_kubisch_20grad / SST_kubisch_20grad)\n",
    "R_squared_kubisch_25grad = 1 - (SSR_kubisch_25grad / SST_kubisch_25grad)\n",
    "R_squared_kubisch_30grad = 1 - (SSR_kubisch_30grad / SST_kubisch_30grad)\n",
    "R_squared_kubisch_50grad = 1 - (SSR_kubisch_50grad / SST_kubisch_50grad)\n",
    "\n",
    "print(f\"Bestimmtheitsmaß (R²): {R_squared_kubisch_20grad:.4f}\", \"für α = 20°\")\n",
    "print(f\"Bestimmtheitsmaß (R²): {R_squared_kubisch_25grad:.4f}\", \"für α = 25°\")\n",
    "print(f\"Bestimmtheitsmaß (R²): {R_squared_kubisch_30grad:.4f}\", \"für α = 30°\")\n",
    "print(f\"Bestimmtheitsmaß (R²): {R_squared_kubisch_50grad:.4f}\", \"für α = 50°\")\n",
    "print(\" \")\n",
    "\n",
    "# Bestimmung des MPP\n",
    "regression_kubisch_20grad = np.poly1d(np.polyfit(df_20grad[\"D [1/min]\"], df_20grad[\"P [mW]\"], 3))\n",
    "regression_kubisch_25grad = np.poly1d(np.polyfit(df_25grad[\"D [1/min]\"], df_25grad[\"P [mW]\"], 3))\n",
    "regression_kubisch_30grad = np.poly1d(np.polyfit(df_30grad[\"D [1/min]\"], df_30grad[\"P [mW]\"], 3))\n",
    "regression_kubisch_50grad = np.poly1d(np.polyfit(df_50grad[\"D [1/min]\"], df_50grad[\"P [mW]\"], 3))\n",
    "\n",
    "ableitung_20grad=np.polyder(regression_kubisch_20grad)\n",
    "ableitung_25grad=np.polyder(regression_kubisch_25grad)\n",
    "ableitung_30grad=np.polyder(regression_kubisch_30grad)\n",
    "ableitung_50grad=np.polyder(regression_kubisch_50grad)\n",
    "\n",
    "zweite_ableitung_20grad=np.polyder(ableitung_20grad)\n",
    "zweite_ableitung_25grad=np.polyder(ableitung_25grad)\n",
    "zweite_ableitung_30grad=np.polyder(ableitung_30grad)\n",
    "zweite_ableitung_50grad=np.polyder(ableitung_50grad)\n",
    "\n",
    "nullstellen_20grad=np.roots(ableitung_20grad)\n",
    "nullstellen_25grad=np.roots(ableitung_25grad)\n",
    "nullstellen_30grad=np.roots(ableitung_30grad)\n",
    "nullstellen_50grad=np.roots(ableitung_50grad)\n",
    "\n",
    "print(\"α = 20°:\")\n",
    "for x in nullstellen_20grad:\n",
    "    wert_zweite_ableitung_20grad = zweite_ableitung_20grad(x)\n",
    "    if wert_zweite_ableitung_20grad > 0:\n",
    "        print(f\"x = {x:.2f} ist ein Minimum (f\"\"(x) = {wert_zweite_ableitung_20grad:.4f})\")\n",
    "    elif wert_zweite_ableitung_20grad < 0:\n",
    "        print(f\"x = {x:.2f} ist ein Maximum (f\"\"(x) = {wert_zweite_ableitung_20grad:.4f})\")\n",
    "    else:\n",
    "        print(f\"x = {x:.2f} könnte ein Sattelpunkt sein (f\"\"(x) = {wert_zweite_ableitung_20grad:.4f})\")\n",
    "\n",
    "print(\" \")\n",
    "print(\"α = 25°:\")\n",
    "for x in nullstellen_25grad:\n",
    "    wert_zweite_ableitung_25grad = zweite_ableitung_25grad(x)\n",
    "    if wert_zweite_ableitung_25grad > 0:\n",
    "        print(f\"x = {x:.2f} 1/min ist ein Minimum (f\"\"(x) = {wert_zweite_ableitung_25grad:.4f})\")\n",
    "    elif wert_zweite_ableitung_25grad < 0:\n",
    "        print(f\"x = {x:.2f} 1/min ist ein Maximum (f\"\"(x) = {wert_zweite_ableitung_25grad:.4f})\")\n",
    "    else:\n",
    "        print(f\"x = {x:.2f} 1/min könnte ein Sattelpunkt sein (f\"\"(x) = {wert_zweite_ableitung_25grad:.4f})\")\n",
    "\n",
    "print(\" \")\n",
    "print(\"α = 30°:\")\n",
    "for x in nullstellen_30grad:\n",
    "    wert_zweite_ableitung_30grad = zweite_ableitung_30grad(x)\n",
    "    if wert_zweite_ableitung_30grad > 0:\n",
    "        print(f\"x = {x:.2f} 1/min ist ein Minimum (f\"\"(x) = {wert_zweite_ableitung_30grad:.4f})\")\n",
    "    elif wert_zweite_ableitung_30grad < 0:\n",
    "        print(f\"x = {x:.2f} 1/min ist ein Maximum (f\"\"(x) = {wert_zweite_ableitung_30grad:.4f})\")\n",
    "    else:\n",
    "        print(f\"x = {x:.2f} 1/min könnte ein Sattelpunkt sein (f\"\"(x) = {wert_zweite_ableitung_30grad:.4f})\")\n",
    "\n",
    "print(\" \")\n",
    "print(\"α = 50°:\")\n",
    "for x in nullstellen_50grad:\n",
    "    wert_zweite_ableitung_50grad = zweite_ableitung_50grad(x)\n",
    "    if wert_zweite_ableitung_50grad > 0:\n",
    "        print(f\"x = {x:.2f} 1/min ist ein Minimum (f\"\"(x) = {wert_zweite_ableitung_50grad:.4f})\")\n",
    "    elif wert_zweite_ableitung_50grad < 0:\n",
    "        print(f\"x = {x:.2f} 1/min ist ein Maximum (f\"\"(x) = {wert_zweite_ableitung_50grad:.4f})\")\n",
    "    else:\n",
    "        print(f\"x = {x:.2f} 1/min könnte ein Sattelpunkt sein (f\"\"(x) = {wert_zweite_ableitung_50grad:.4f})\")\n",
    "\n",
    "MPP_20grad=regression_kubisch_20grad(nullstellen_20grad[0])\n",
    "MPP_25grad=regression_kubisch_25grad(nullstellen_25grad[0])\n",
    "MPP_30grad=regression_kubisch_30grad(nullstellen_30grad[0])\n",
    "MPP_50grad=regression_kubisch_50grad(nullstellen_50grad[0])\n",
    "print(\" \")\n",
    "print(\"Der MPP mit α = 20° liegt bei\", f\"{MPP_20grad:.2f}\", \"mW\")\n",
    "print(\"Der MPP mit α = 25° liegt bei\", f\"{MPP_25grad:.2f}\", \"mW\")\n",
    "print(\"Der MPP mit α = 30° liegt bei\", f\"{MPP_30grad:.2f}\", \"mW\")\n",
    "print(\"Der MPP mit α = 50° liegt bei\", f\"{MPP_50grad:.2f}\", \"mW\")\n",
    "\n",
    "# Diagramme plotten\n",
    "\n",
    "# Bereiche für glatte Regressionskurven (angepasst an tatsächliche Messbereiche)\n",
    "reg_bereich_20grad = np.linspace(min(df_20grad[\"D [1/min]\"]), max(df_20grad[\"D [1/min]\"]), 100)\n",
    "reg_bereich_25grad = np.linspace(min(df_25grad[\"D [1/min]\"]), max(df_25grad[\"D [1/min]\"]), 100)\n",
    "reg_bereich_30grad = np.linspace(min(df_30grad[\"D [1/min]\"]), max(df_30grad[\"D [1/min]\"]), 100)\n",
    "reg_bereich_50grad = np.linspace(min(df_50grad[\"D [1/min]\"]), max(df_50grad[\"D [1/min]\"]), 100)\n",
    "\n",
    "# Vergleichsdiagramm erstellen\n",
    "fig, ax = plt.subplots(1, 1, figsize=(12, 8))\n",
    "\n",
    "# Messdaten plotten\n",
    "ax.plot(df_20grad[\"D [1/min]\"], df_20grad[\"P [mW]\"], \"o\", label=\"α = 20° Messdaten\", color=\"blue\")\n",
    "ax.plot(df_25grad[\"D [1/min]\"], df_25grad[\"P [mW]\"], \"s\", label=\"α = 25° Messdaten\", color=\"green\")\n",
    "ax.plot(df_30grad[\"D [1/min]\"], df_30grad[\"P [mW]\"], \"^\", label=\"α = 30° Messdaten\", color=\"orange\")\n",
    "ax.plot(df_50grad[\"D [1/min]\"], df_50grad[\"P [mW]\"], \"d\", label=\"α = 50° Messdaten\", color=\"red\")\n",
    "\n",
    "# Regressionskurven plotten\n",
    "ax.plot(reg_bereich_20grad, reg_20grad(reg_bereich_20grad), \"--\", color=\"lightblue\", label=\"Regression α = 20°\")\n",
    "ax.plot(reg_bereich_25grad, reg_25grad(reg_bereich_25grad), \":\", color=\"lightgreen\", label=\"Regression α = 25°\")\n",
    "ax.plot(reg_bereich_30grad, reg_30grad(reg_bereich_30grad), \"-.\", color=\"orange\", alpha=0.7, label=\"Regression α = 30°\")\n",
    "ax.plot(reg_bereich_50grad, reg_50grad(reg_bereich_50grad), \"-\", color=\"pink\", alpha=0.7, label=\"Regression α = 50°\")\n",
    "\n",
    "# MPP markieren\n",
    "ax.plot(nullstellen_20grad[0], MPP_20grad, \"o\", label=\"MPP α = 20°\", color=\"darkblue\", markersize=8)\n",
    "ax.plot(nullstellen_25grad[0], MPP_25grad, \"s\", label=\"MPP α = 25°\", color=\"darkgreen\", markersize=8)\n",
    "ax.plot(nullstellen_30grad[0], MPP_30grad, \"^\", label=\"MPP α = 30°\", color=\"darkorange\", markersize=8)\n",
    "ax.plot(nullstellen_50grad[0], MPP_50grad, \"d\", label=\"MPP α = 50°\", color=\"darkred\", markersize=8)\n",
    "\n",
    "ax.set_xlabel(\"Drehzahl D [1/min]\")\n",
    "ax.set_ylabel(\"Leistung P [mW]\")\n",
    "ax.set_title(\"D-P-Diagramm: Vergleich aller Anstellwinkel (mit MPP)\")\n",
    "ax.grid()\n",
    "ax.set_xlim(0)\n",
    "ax.set_ylim(0)\n",
    "ax.legend()\n",
    "\n",
    "plt.tight_layout()\n",
    "plt.show()\n",
    "\n",
    "print(\"\")\n",
    "\n",
    "print(\"\")\n",
    "print(\"=\" * 70)\n",
    "print(\"ANALYSE UND BEWERTUNG:\")\n",
    "print(\"=\" * 70)\n",
    "print(\"TODO: Ergänzen Sie Ihre Analyse:\")\n",
    "print(\"1. Welcher Anstellwinkel zeigt die höchste MPP-Leistung?\")\n",
    "print(\"2. Wie verändert sich die optimale Drehzahl mit dem Anstellwinkel?\")\n",
    "print(\"3. Welche aerodynamischen Effekte erklären die Unterschiede?\")\n",
    "print(\"4. Wie kann das beobachtete Verhalten für den Betrieb realer Windkraftanlagen genutzt werden?\")\n",
    "print(\"5. Wie heißt die entsprechende Regelung bei Windkraftanlagen?\")\n",
    "print(\"=\" * 70)"
   ]
  },
  {
   "cell_type": "markdown",
   "id": "2afecbdf-02c4-4392-b0b8-34de97e50ad8",
   "metadata": {},
   "source": [
    "### Kritische Analyse der MPP-Berechnung\n",
    "\n",
    "**TODO: Beschreiben Sie die Plausibilität der Ergebnissen**\n",
    "\n",
    "---\n",
    "\n",
    "### Auswertung und Diskussion der Ergebnisse\n",
    "\n",
    "#### Anstellwinkel-Einfluss auf die Leistung\n",
    "\n",
    "**TODO: Vervollständigen Sie basierend auf Ihren Messergebnissen**\n",
    "\n",
    "**Messergebnis:** Der Anstellwinkel α = __° erreicht die höchste Maximalleistung von __ mW, während α = __° die niedrigste Leistung von __ mW zeigt.\n",
    "\n",
    "**Warum beeinflusst der Anstellwinkel die Leistung so stark?**\n",
    "\n",
    "TODO: Erklären Sie die aerodynamischen Grundlagen:\n",
    "- Wie wirkt sich der Anstellwinkel auf Auftrieb und Widerstand aus?\n",
    "- Warum gibt es einen optimalen Anstellwinkel?\n",
    "- Was passiert bei zu kleinen bzw. zu großen Anstellwinkeln?\n",
    "\n",
    "#### Praktische Anwendung für reale Windkraftanlagen\n",
    "\n",
    "**Schutz vor Überlastung**\n",
    "TODO: Erklären Sie, wie die Anstellwinkel-Verstellung bei Starkwind genutzt wird:\n",
    "- Welche Regelung nutzt die Anstellwinkel-Verstellung?\n",
    "- Wie wird die Anlage vor Schäden geschützt?\n",
    "- Warum ist dies bei modernen Windkraftanlagen wichtig?"
   ]
  },
  {
   "cell_type": "markdown",
   "id": "6776f4c9-1013-4c7d-9a14-c42627e70ebf",
   "metadata": {},
   "source": [
    "## 2.3 Versuch 3: Energiebilanz, Wirkungsgrad und Schnelllaufzahl einer Windkraftanlage\n",
    "In diesem Versuch werden Energiebilanz, Wirkungsgrad und Schnelllaufzahl einer Windkraftanlage experimentell bestimmt. Ziel ist es, die erzeugte elektrische Leistung mit der Windleistung zu vergleichen, den Wirkungsgrad zu berechnen und die Schnelllaufzahl zu ermitteln.\n",
    "Die Messungen erfolgen bei verschiedenen Netzspannungen mit einem AV-Modul, Windgeschwindigkeitsmessgerät und Drehzahlmessgerät.\n",
    "\n",
    "---\n",
    "\n",
    "**Aufbau, Geräte & Komponenten:**\n",
    "\n",
    "- Grundeinheit  \n",
    "- Winderzeugermodul  \n",
    "- Power-Modul  \n",
    "- Windgeneratormodul (3-Flügeler, 25°, optimiertes Profil)  \n",
    "- Widerstandsmodul mit 100 Ω Steckelement  \n",
    "- AV-Modul  \n",
    "- Windgeschwindigkeitsmessgerät  \n",
    "- Maßband  \n",
    "- Drehzahlmessgerät  \n",
    "- Thermometer\n",
    "\n",
    "---\n",
    "\n",
    "**Schaltpläne:**\n",
    "\n",
    "Aufbau zur Ermittlung von Energiebilanz und Wirkungsgrad:\n",
    "\n",
    "![Schaltplan Versuch3.1](Data/Schaltplan_Wind_Versuch_3-1.png \"Energiebilanz & Wirkungsgrad\")\n",
    "\n",
    "Aufbau zur Ermittlung der Schnelllaufzahl:\n",
    "\n",
    "![Schaltplan Versuch3.2](Data/Schaltplan_Wind_Versuch_3-2.png \"Schnelllaufzahl\")\n",
    "\n",
    "---\n",
    "\n",
    "**Durchführung**\n",
    "\n",
    "1. Bauen Sie den Versuchsaufbau zur Ermittlung der Energiebilanz und des Wirkungsgrades auf.\n",
    "   1. Stellen Sie eine Netzspannung von $U_\\text{Netz} = 9\\ \\text{V}$ ein.\n",
    "   2. Verwenden Sie zunächst das Windgeschwindigkeitsmessgerät anstelle des Windgenerators und messen Sie die Windgeschwindigkeit $v_\\text{Wind}$.\n",
    "   3. Setzen Sie den Windgenerator ein und ermitteln Sie Spannung $U$ und Stromstärke $I$ mit dem AV-Modul.\n",
    "   4. Messen Sie den Rotordurchmesser $d$ und die Temperatur $\\vartheta$.\n",
    "2. Bauen Sie den zweiten Versuchsaufbau zur Bestimmung der Schnelllaufzahl auf.\n",
    "   1. Stellen Sie eine Netzspannung von $U_\\text{Netz} = 12\\ \\text{V}$ ein.\n",
    "   2. Platzieren Sie das Windgeschwindigkeitsmessgerät und messen Sie die Windgeschwindigkeit $v_\\text{Wind}$.\n",
    "   3. Setzen Sie den Windgenerator ein und messen Sie die Drehzahl $D$.\n",
    "\n",
    "---\n",
    "\n",
    "**Messgrößen:**  \n",
    "\n",
    "- Die Windgeschwindigkeit $v_\\text{Wind}$ bei 9 V und 12 V in $\\text{[m/s]}$  \n",
    "- Die elektrische Spannung $U$ in $\\text{[V]}$  \n",
    "- Die Stromstärke $I$ in $\\text{[mA]}$  \n",
    "- Die Leistung $P = U \\cdot I$ in $\\text{[mW]}$  \n",
    "- Die Temperatur $\\vartheta$ in $\\text{[°C]}$  \n",
    "- Der Rotordurchmesser $d$ in $\\text{[mm]}$  \n",
    "- Die Drehzahl $D$ in $\\text{[min}^{-1}\\text{]}$  \n",
    "- Die Luftdichte $\\rho_\\text{Luft}$ in $\\text{[kg/m}^3\\text{]}$ (aus Diagramm)  \n",
    "\n",
    "---\n",
    "\n",
    "**Messdaten:**\n",
    "\n",
    "Notieren Sie hier Ihre Messdaten in einfachen Listen. Nutzen Sie dafür eindeutige Bezeichnungen, ähnlich wie im folgenden Beispiel:"
   ]
  },
  {
   "cell_type": "code",
   "execution_count": null,
   "id": "cba62b87-f2b7-4326-bc96-a358dca50872",
   "metadata": {},
   "outputs": [],
   "source": [
    "# DATENERFASSUNG - NUR MESSWERTE EINTRAGEN!\n",
    "\n",
    "# =============================================================================\n",
    "# TEIL 1: ENERGIEBILANZ UND WIRKUNGSGRAD (bei 9V Netzspannung)\n",
    "# =============================================================================\n",
    "\n",
    "# Windgeschwindigkeit bei 9V (vor Einbau des Generators)\n",
    "v_9v = [5.01]  # Windgeschwindigkeit in m/s\n",
    "\n",
    "# Elektrische Messgrößen bei 9V\n",
    "u_9v = [3.06]       # Spannung in V\n",
    "i_9v = [31.3]       # Stromstärke in mA\n",
    "\n",
    "# Geometrische und Umgebungsdaten\n",
    "d_rotor = [126.6]           # Rotordurchmesser in mm\n",
    "temperatur = [21.6]         # Temperatur in °C\n",
    "\n",
    "# =============================================================================\n",
    "# TEIL 2: SCHNELLLAUFZAHL (bei 12V Netzspannung)\n",
    "# =============================================================================\n",
    "\n",
    "# Windgeschwindigkeit bei 12V\n",
    "v_12v = [6.18]  # Windgeschwindigkeit in m/s\n",
    "\n",
    "# Drehzahl bei 12V \n",
    "D_12v = [5764]  # Drehzahl in 1/min\n",
    "\n",
    "print(\"Bereit für die Auswertung in den nächsten Zellen!\")"
   ]
  },
  {
   "cell_type": "markdown",
   "id": "bc4cd9d5-79e5-437d-801d-89676353aeb1",
   "metadata": {},
   "source": [
    "Aus diesen Messwerten werden nun Tabellen mit `pandas` `DataFrames` erstellt.\n",
    "Wichtige Hinweise:\n",
    "\n",
    "- Die Messwerte müssen nicht nochmal eingegeben werden, solange die Zelle mit den Listen zuvor ausgeführt wurde\n",
    "- Python beginnt die Indexierung bei [0] - der erste Wert hat Index 0, der zweite Index 1, usw.\n",
    "- DataFrames ermöglichen professionelle Tabellendarstellung und einfache Berechnungen\n",
    "\n",
    "Im folgenden Code werden alle Listen aus Messdaten in `DataFrames`umgewandelt:"
   ]
  },
  {
   "cell_type": "code",
   "execution_count": null,
   "id": "a8d02568-6bb1-4bf2-9987-892cf3d4d312",
   "metadata": {
    "scrolled": true
   },
   "outputs": [],
   "source": [
    "# DATAFRAMES AUS DEN LISTEN ERSTELLEN  \n",
    "\n",
    "# Teil 1: Energiebilanz und Wirkungsgrad\n",
    "df_energiebilanz = pd.DataFrame({\n",
    "    \"v_Wind [m/s]\": ,\n",
    "    \"U [V]\": ,\n",
    "    \"I [mA]\": ,\n",
    "    \"d_Rotor [mm]\": ,\n",
    "    \"Temperatur [°C]\": \n",
    "})\n",
    "\n",
    "# Teil 2: Schnelllaufzahl\n",
    "df_schnelllaufzahl = pd.DataFrame({\n",
    "    \"v_Wind [m/s]\": ,\n",
    "    \"D [1/min]\": \n",
    "})\n",
    "\n",
    "# Indizes als \"Messpunkte\" umbenennen (Zählung bei 1 starten)\n",
    "for df in [df_energiebilanz, df_schnelllaufzahl]:\n",
    "    df.index = [f\"Messpunkt {i+1}\" for i in range(len(df))]\n",
    "\n",
    "print(\"DataFrames erfolgreich erstellt:\")"
   ]
  },
  {
   "cell_type": "code",
   "execution_count": null,
   "id": "9ea38236-8f60-4b47-b778-8eb1b0fb5f39",
   "metadata": {},
   "outputs": [],
   "source": [
    "# MESSDATENTABELLEN ANZEIGEN\n",
    "\n",
    "print(\"Tabelle 17: Messdaten zur Bestimmung der Energiebilanz und des Wirkungsgrads\")\n",
    "display(df_.round(2).style.format(precision=2))\n",
    "\n",
    "print(\"\\nTabelle 18: Messdaten zur Bestimmung der Schnelllaufzahl\")\n",
    "display(df_.round(2).style.format(precision=2))"
   ]
  },
  {
   "cell_type": "markdown",
   "id": "670fba10-eb0e-4f48-af0e-1a2b39416a4b",
   "metadata": {},
   "source": [
    "### Beobachtungen während des Versuchs\n",
    "Beschreiben Sie hier **in eigenen Worten** den Aufbau, die Durchführung und Ihre Beobachtungen:\n",
    "\n",
    "- Wie unterschieden sich die Windgeschwindigkeiten bei 9V und 12V Netzspannung und welchen Einfluss hatte das auf die Messungen?\n",
    "- Welche Unterschiede stellten Sie zwischen der theoretischen Windleistung und der tatsächlich erzeugten elektrischen Leistung fest?\n",
    "- Was konnten Sie über den Wirkungsgrad der Windkraftanlage beobachten?\n",
    "- Welche Schlüsse ziehen Sie aus der berechneten Schnelllaufzahl bezüglich der Rotorgeschwindigkeit?\n",
    "\n",
    "> *Hinweis: Denken Sie an die physikalischen Grundlagen - warum kann nie die gesamte Windenergie umgewandelt werden?*\n",
    "\n",
    "---\n",
    "\n",
    "**Im folgenden Feld Ihre eigene Beschreibung und Beobachtungen eintragen:**"
   ]
  },
  {
   "cell_type": "code",
   "execution_count": null,
   "id": "d40adc45-6463-4b63-a8a2-4aea6d151577",
   "metadata": {},
   "outputs": [],
   "source": []
  },
  {
   "cell_type": "markdown",
   "id": "12ae2491-f420-4cb7-9e2a-afe8e13d91af",
   "metadata": {},
   "source": [
    "# Auswertung\n",
    "1. Berechnen Sie aus den **9V-Messungen** die Angriffsfläche und die Windenergie vor dem Rotor $P_\\text{Wind}$.  \n",
    "   Ermitteln Sie die Dichte $\\rho$ der Luft anhand des beigefügten Diagramms aus der gemessenen Temperatur.\n",
    "2. Berechnen Sie aus den **9V-Messungen** die Nennleistung $P_N$ der Windkraftanlage.\n",
    "3. Ermitteln Sie aus den **9V-Messungen** den Energiebilanzquotienten $\\varepsilon$ und den Wirkungsgrad $\\eta$ der Windkraftanlage.\n",
    "4. Berechnen Sie aus den **12V-Messungen** die Schnelllaufzahl $\\lambda$ der Windkraftanlage."
   ]
  },
  {
   "cell_type": "markdown",
   "id": "0c2884da-87e3-430b-9f0c-bd3d241bb998",
   "metadata": {},
   "source": [
    "### Schritt 1: Angriffsfläche und Windenergie berechnen\n",
    "**Grundlagen:**\n",
    "Die **Angriffsfläche** $A$ entspricht der vom Rotor überstrichenen Kreisfläche und berechnet sich aus dem Durchmesser:\n",
    "$$A = \\frac{\\pi \\cdot d^2}{4}$$\n",
    "\n",
    "Die **Windenergie**, die einem Rotor zur Verfügung steht, berechnet sich nach der Formel:\n",
    "$$P_\\text{Wind} = \\frac{1}{2} \\cdot \\rho \\cdot A \\cdot v^3$$\n",
    "\n",
    "Dabei ist:\n",
    "- $\\rho$ die Luftdichte in [kg/m³] (aus Diagramm bei gemessener Temperatur)\n",
    "- $A$ die Angriffsfläche des Rotors in [m²] \n",
    "- $v$ die Windgeschwindigkeit in [m/s]\n",
    "- $d$ der Rotordurchmesser in [m]\n",
    "\n",
    "Die **Luftdichte** $\\rho$ ist Abhängig voN Druck und Temperatur und kann für Umgebungsdruck (1,01325 bar) händisch aus dem dem folgenden Diagramm abgelesen:\n",
    "\n",
    "![Luftdichte-Temperatur-Diagramm](Data/Luftdichte_Diagramm.png \"Dichte der Luft in Abhängigkeit von der Raumtemperatur\")\n",
    "\n",
    "Die Windleistung steigt mit der **dritten Potenz** der Windgeschwindigkeit - eine Verdopplung der Windgeschwindigkeit führt zu einer achtfachen Windleistung!\n",
    "\n",
    "**Was passiert im folgenden Code:**\n",
    "- Aus der gemessenen Temperatur wird die Luftdichte $\\rho$ über das Diagramm bestimmt\n",
    "- Die Angriffsfläche $A$ wird aus dem Rotordurchmesser berechnet\n",
    "- Die theoretisch verfügbare Windleistung $P_\\text{Wind}$ wird für die **9V-Messungen** ermittelt\n",
    "\n",
    "#### Alternative: Berechnung der Luftdichte mithilfe von CoolProp\n",
    "\n",
    "CoolProp ist eine Open-Source-Bibliothek für die Berechnung thermodynamischer Stoffdaten von Fluiden. Die Bibliothek wird in der Industrie und Forschung weit verbreitet eingesetzt und enthält präzise Zustandsgleichungen für über 100 Fluide, einschließlich feuchter Luft.\n",
    "\n",
    "**Vorteile von CoolProp**\n",
    "- Berechnungen basierend auf wissenschaftlichen Zustandsgleichungen\n",
    "- Berücksichtigung verschiedener Drücke und Luftfeuchtigkeit möglich\n",
    "\n",
    "**Verwendung zur Berechnung der Luftdichte aus der gemessen Temperatur bei kosntantem Druck:**\n",
    "```python\n",
    "from CoolProp.CoolProp import PropsSI\n",
    "\n",
    "# Luftdichte bei gegebener Temperatur und Standarddruck berechnen\n",
    "t_kelvin = df_energiebilanz[\"Temperatur [°C]\"] + 273.15  # Umrechnung nach Kelvin\n",
    "druck = 101325  # Standarddruck in Pascal (1013.25 mbar)\n",
    "\n",
    "# PropsSI(Output, Input1, Value1, Input2, Value2, Fluid)\n",
    "rho_luft = PropsSI(\"D\", \"T\", t_kelvin, \"P\", druck, \"Air\")\n",
    "print(f\"Luftdichte bei {temperatur_celsius}°C: {rho_luft:.3f} kg/m³\")\n",
    "```\n",
    "---"
   ]
  },
  {
   "cell_type": "markdown",
   "id": "709fbbeb-f246-4f8c-869a-7686b38a9e87",
   "metadata": {},
   "source": [
    "#### Alternative: Berechnung der Luftdichte mithilfe von CoolProp\n",
    "\n",
    "CoolProp ist eine Open-Source-Bibliothek für die Berechnung thermodynamischer Stoffdaten von Fluiden. Die Bibliothek wird in der Industrie und Forschung weit verbreitet eingesetzt und enthält präzise Zustandsgleichungen für über 100 Fluide, einschließlich feuchter Luft.\n",
    "\n",
    "**Vorteile von CoolProp**\n",
    "- Berechnungen basierend auf wissenschaftlichen Zustandsgleichungen\n",
    "- Berücksichtigung verschiedener Drücke und Luftfeuchtigkeit möglich\n",
    "\n",
    "**Verwendung zur Berechnung der Luftdichte aus der gemessen Temperatur bei kosntantem Druck:**\n",
    "```python\n",
    "from CoolProp.CoolProp import PropsSI\n",
    "\n",
    "# Luftdichte bei gegebener Temperatur und Standarddruck berechnen\n",
    "t_kelvin = df_energiebilanz[\"Temperatur [°C]\"] + 273.15  # Umrechnung nach Kelvin\n",
    "druck = 101325  # Standarddruck in Pascal (1013.25 mbar)\n",
    "\n",
    "# PropsSI(Output, Input1, Value1, Input2, Value2, Fluid)\n",
    "rho_luft = PropsSI(\"D\", \"T\", t_kelvin, \"P\", druck, \"Air\")\n",
    "print(f\"Luftdichte bei df_energiebilanz[\"Temperatur [°C]\"] °C: {rho_luft:.3f} kg/m³\")\n",
    "```\n",
    "---"
   ]
  },
  {
   "cell_type": "code",
   "execution_count": null,
   "id": "248cfcad-9e2a-45c9-82aa-d0ef94b7edf8",
   "metadata": {},
   "outputs": [],
   "source": [
    "# SCHRITT 1: ANGRIFFSFLÄCHE UND WINDENERGIE BERECHNEN\n",
    "\n",
    "# Luftdichte aus Temperatur bestimmen (aus Diagramm ablesen)\n",
    "df_energiebilanz[\"rho [kg/m³]\"] = _  # Luftdichte aus Diagramm bei gemessener Temperatur\n",
    "\n",
    "# Durchmesser von mm in m umrechnen\n",
    "df_energiebilanz[\"d_Rotor [m]\"] = df_energiebilanz[\"d_Rotor [mm]\"] / _\n",
    "\n",
    "# Angriffsfläche berechnen: A = π * d² / 4\n",
    "df_energiebilanz[\"A_Rotor [m²]\"] = np.pi * df_energiebilanz[\"_\"]**2 / _\n",
    "\n",
    "# Windleistung berechnen: P_Wind = 1/2 * ρ * A * v³\n",
    "df_energiebilanz[\"P_Wind [W]\"] = 0.5 * df_energiebilanz[\"_\"] * df_energiebilanz[\"_\"] * df_energiebilanz[\"_\"]**_\n",
    "\n",
    "# Ergebnis anzeigen\n",
    "print(\"Berechnungen erfolgreich durchgeführt:\")\n",
    "display(df_energiebilanz.round(4).style.format(precision=4))"
   ]
  },
  {
   "cell_type": "markdown",
   "id": "afac77fb-ab6a-48df-b3f4-d641c604266f",
   "metadata": {},
   "source": [
    "### Schritt 2: Nennleistung der Windkraftanlage berechnen\n",
    "**Grundlagen:**\n",
    "Die **Nennleistung** $P_N$ ist die tatsächlich vom Generator erzeugte elektrische Leistung:\n",
    "$$P_N = U \\cdot I$$\n",
    "\n",
    "Diese wird aus den elektrischen Messgrößen der **9V-Messungen** berechnet:\n",
    "- Spannung $U$ in [V] (Volt)\n",
    "- Stromstärke $I$ in [mA] (Milliampere)\n",
    "- Ergebnis: Nennleistung in [mW] (Milliwatt)\n",
    "\n",
    "Die Nennleistung ist immer kleiner als die theoretisch verfügbare Windleistung, da Verluste durch Aerodynamik, Mechanik und Elektrik auftreten.\n",
    "\n",
    "**Was passiert im folgenden Code:**\n",
    "- Die elektrische Leistung wird aus Spannung und Stromstärke berechnet\n",
    "- Das Ergebnis wird dem DataFrame hinzugefügt\n",
    "- Die erweiterte Tabelle wird zur Kontrolle angezeigt"
   ]
  },
  {
   "cell_type": "code",
   "execution_count": null,
   "id": "ee48836f-24ed-4245-ab0f-c1b0ed8d41bf",
   "metadata": {},
   "outputs": [],
   "source": [
    "# SCHRITT 2: NENNLEISTUNG BERECHNEN\n",
    "\n",
    "# Nennleistung P_N = U × I berechnen\n",
    "df_energiebilanz[\"P_N [mW]\"] = df_energiebilanz[\"_\"] * df_energiebilanz[\"_\"]\n",
    "\n",
    "# Nennleistung auch in Watt für Vergleich mit Windleistung\n",
    "df_energiebilanz[\"P_N [W]\"] = df_energiebilanz[\"P_N [mW]\"] / _\n",
    "\n",
    "print(\"Nennleistung erfolgreich berechnet:\")\n",
    "display(df_energiebilanz.round(4).style.format(precision=4))"
   ]
  },
  {
   "cell_type": "markdown",
   "id": "be0c5cea-e3cc-4f3f-84d7-4145bedae3a2",
   "metadata": {},
   "source": [
    "### Schritt 3: Energiebilanzquotient und Wirkungsgrad ermitteln\n",
    "**Grundlagen:**\n",
    "Der **Energiebilanzquotient** $\\varepsilon$ und der **Wirkungsgrad** $\\eta$ beschreiben, wie effizient die Windkraftanlage arbeitet:\n",
    "$$\\varepsilon = \\eta = \\frac{P_N}{P_\\text{Wind}}$$\n",
    "\n",
    "Theoretisch kann nach dem **Betz\"schen Gesetz** maximal 59,3% der Windenergie genutzt werden. In der Praxis liegen die Wirkungsgrade moderner Windkraftanlagen bei 35-45% aufgrund weiterer Verluste:\n",
    "- Aerodynamische Verluste an den Rotorblättern\n",
    "- Mechanische Verluste im Getriebe\n",
    "- Elektrische Verluste im Generator und der Leistungselektronik\n",
    "\n",
    "**Was passiert im folgenden Code:**\n",
    "- Der Quotient aus Nennleistung und Windleistung wird berechnet\n",
    "- Das Ergebnis wird als Dezimalzahl und in Prozent ausgegeben\n",
    "- Eine Bewertung der Effizienz erfolgt im Vergleich zu theoretischen Werten"
   ]
  },
  {
   "cell_type": "code",
   "execution_count": null,
   "id": "8564930c-04cf-41c1-8194-0a79447cf596",
   "metadata": {},
   "outputs": [],
   "source": [
    "# SCHRITT 3: ENERGIEBILANZQUOTIENT UND WIRKUNGSGRAD BERECHNEN\n",
    "\n",
    "# Wirkungsgrad η = P_N / P_Wind berechnen\n",
    "df_energiebilanz[\"Wirkungsgrad [-]\"] = df_energiebilanz[\"_\"] / df_energiebilanz[\"_\"]\n",
    "\n",
    "# Wirkungsgrad auch in Prozent\n",
    "df_energiebilanz[\"Wirkungsgrad [%]\"] = df_energiebilanz[\"Wirkungsgrad [-]\"] * _\n",
    "\n",
    "print(\"Wirkungsgrad erfolgreich berechnet:\")\n",
    "display(df_energiebilanz.round(4).style.format(precision=4))\n",
    "\n",
    "# Bewertung des Wirkungsgrades\n",
    "eta_prozent = df_energiebilanz[\"Wirkungsgrad [%]\"].iloc[0]\n",
    "print(\"Bewertung des Wirkungsgrades:\")\n",
    "print(f\"Der gemessener Wirkungsgrad liegt bei {eta_prozent:.2f} %\")\n",
    "print(\"Das theoretische Limit nach Betz liegt bei 59.3 %\")\n",
    "print(\"Daraus lässt sich ableiten, dass...\")"
   ]
  },
  {
   "cell_type": "markdown",
   "id": "48b6d6a1-18d5-465a-a24c-815b460e55ff",
   "metadata": {},
   "source": [
    "### Schritt 4: Schnelllaufzahl berechnen\n",
    "**Grundlagen:**\n",
    "Die **Schnelllaufzahl** $\\lambda$ (Lambda) beschreibt das Verhältnis zwischen der Umfangsgeschwindigkeit der Rotorblätter und der Windgeschwindigkeit:\n",
    "$$\\lambda = \\frac{v_\\text{Blattspitze}}{v_\\text{Wind}} = \\frac{\\omega \\cdot r}{v_\\text{Wind}}$$\n",
    "\n",
    "Dabei ist die Umfangsgeschwindigkeit:\n",
    "$$v_\\text{Blattspitze} = \\omega \\cdot r = \\frac{2\\pi \\cdot D}{60} \\cdot \\frac{d}{2}$$\n",
    "\n",
    "Für die Berechnung werden die **12V-Messungen** verwendet:\n",
    "- $D$ = Drehzahl in [min⁻¹] \n",
    "- $d$ = Rotordurchmesser in [m]\n",
    "- $v_\\text{Wind}$ = Windgeschwindigkeit in [m/s]\n",
    "\n",
    "Moderne Windkraftanlagen arbeiten bei optimalen Schnelllaufzahlen zwischen 6-8. Zu niedrige Werte bedeuten schlechte Windausnutzung, zu hohe Werte führen zu erhöhtem Verschleiß und Lärm.\n",
    "\n",
    "**Was passiert im folgenden Code:**\n",
    "- Die Umfangsgeschwindigkeit der Blattspitzen wird berechnet\n",
    "- Die Schnelllaufzahl wird als Verhältnis zur Windgeschwindigkeit der **12V-Messungen** ermittelt\n",
    "- Eine Bewertung der Schnelllaufzahl erfolgt im Vergleich zu optimalen Betriebsbereichen"
   ]
  },
  {
   "cell_type": "code",
   "execution_count": null,
   "id": "67baf056-eceb-453d-b811-b22ff28f74fb",
   "metadata": {},
   "outputs": [],
   "source": [
    "# SCHRITT 4: SCHNELLLAUFZAHL BERECHNEN\n",
    "\n",
    "# Umfangsgeschwindigkeit der Blattspitzen: v = ω * r = (2π * D / 60) * (d / 2)\n",
    "# Rotordurchmesser aus 9V-Messung verwenden (in m)\n",
    "d_rotor_m = df_energiebilanz[\"d_Rotor [m]\"][0]\n",
    "\n",
    "# Umfangsgeschwindigkeit berechnen\n",
    "df_schnelllaufzahl[\"v_Blattspitze [m/s]\"] = (2 * np.pi * df_schnelllaufzahl[\"_\"] / _) * (d_rotor_m / _)\n",
    "\n",
    "# Schnelllaufzahl λ = v_Blattspitze / v_Wind berechnen\n",
    "df_schnelllaufzahl[\"Lambda [-]\"] = df_schnelllaufzahl[\"_\"] / df_schnelllaufzahl[\"_\"]\n",
    "\n",
    "print(\"Schnelllaufzahl erfolgreich berechnet:\")\n",
    "display(df_energiebilanz.round(4).style.format(precision=3))\n",
    "\n",
    "# Bewertung der Schnelllaufzahl\n",
    "lambda_wert = df_schnelllaufzahl[\"Lambda [-]\"].iloc[0]\n",
    "print(f\"\\nBewertung der Schnelllaufzahl:\")\n",
    "print(f\"Gemessene Schnelllaufzahl: {lambda_wert:.2f}\")\n",
    "print(\"Schlussfolgerung:\")"
   ]
  },
  {
   "cell_type": "markdown",
   "id": "ae08ac2c-9f23-4028-b3f4-89218af5cb21",
   "metadata": {},
   "source": [
    "### Auswertung und Diskussion der Ergebnisse\n",
    "\n",
    "#### Energiebilanz und Wirkungsgrad\n",
    "\n",
    "**TODO: Vervollständigen Sie basierend auf Ihren Messergebnissen**\n",
    "\n",
    "**Messergebnis:** Bei einer Windgeschwindigkeit von __ m/s steht eine theoretische Windleistung von __ W zur Verfügung. Die tatsächlich erzeugte elektrische Leistung beträgt __ mW, was einem Wirkungsgrad von __% entspricht.\n",
    "\n",
    "**Warum kann nie die gesamte Windenergie genutzt werden?**\n",
    "\n",
    "TODO: Erklären Sie die physikalischen Grundlagen:\n",
    "- Was besagt das Betz'sche Gesetz und warum liegt das theoretische Maximum bei 59,3%?\n",
    "- Welche zusätzlichen Verluste treten in realen Windkraftanlagen auf?\n",
    "- Wie bewerten Sie Ihren gemessenen Wirkungsgrad im Vergleich zu modernen Anlagen (35-45%)?\n",
    "\n",
    "#### Schnelllaufzahl und Rotorgeschwindigkeit\n",
    "\n",
    "**Messergebnis:** Bei einer Windgeschwindigkeit von __ m/s und einer Drehzahl von __ min⁻¹ ergibt sich eine Schnelllaufzahl von λ = __.\n",
    "\n",
    "**Bedeutung der Schnelllaufzahl für den Anlagenbetrieb**\n",
    "TODO: Erklären Sie die praktische Relevanz:\n",
    "- Liegt Ihre Schnelllaufzahl im optimalen Bereich (6-8) für Windkraftanlagen?\n",
    "- Was sind die Auswirkungen von zu niedrigen bzw. zu hohen Schnelllaufzahlen?\n",
    "- Warum ist die Schnelllaufzahl ein wichtiger Auslegungsparameter?\n",
    "\n",
    "#### Praktische Anwendung für reale Windkraftanlagen\n",
    "\n",
    "**Leistungsregelung und Effizienzoptimierung**\n",
    "TODO: Erklären Sie, wie die Erkenntnisse in der Praxis genutzt werden:\n",
    "- Wie werden moderne Windkraftanlagen geregelt, um den optimalen Wirkungsgrad zu erreichen?\n",
    "- Welche Rolle spielt die Schnelllaufzahl bei der Anlagenauslegung?\n",
    "- Warum ist die Energiebilanz wichtig für die Wirtschaftlichkeit von Windparks?"
   ]
  },
  {
   "cell_type": "markdown",
   "id": "cd1e4ca8-7e85-45b2-bf97-95b29cce4dcd",
   "metadata": {},
   "source": [
    "\n",
    " \n",
    "---"
   ]
  },
  {
   "cell_type": "markdown",
   "id": "b134b0e4-f401-494e-b4f6-6121d493f671",
   "metadata": {},
   "source": [
    "# 3. Quellen"
   ]
  },
  {
   "cell_type": "code",
   "execution_count": null,
   "id": "239e5c8d-b2ef-4f8d-815b-c3e2f48158f8",
   "metadata": {},
   "outputs": [],
   "source": []
  },
  {
   "cell_type": "code",
   "execution_count": null,
   "id": "7eb24026-b2c6-4dcb-bb27-3ef2ae056c10",
   "metadata": {},
   "outputs": [],
   "source": []
  },
  {
   "cell_type": "code",
   "execution_count": null,
   "id": "b2a57228-1e5c-40e5-85d0-fdb510a102a7",
   "metadata": {},
   "outputs": [],
   "source": []
  }
 ],
 "metadata": {
  "kernelspec": {
   "display_name": "Python 3 (ipykernel)",
   "language": "python",
   "name": "python3"
  },
  "language_info": {
   "codemirror_mode": {
    "name": "ipython",
    "version": 3
   },
   "file_extension": ".py",
   "mimetype": "text/x-python",
   "name": "python",
   "nbconvert_exporter": "python",
   "pygments_lexer": "ipython3",
   "version": "3.13.2"
  },
  "widgets": {
   "application/vnd.jupyter.widget-state+json": {
    "state": {
     "0110968628b54660995f6bad182f9129": {
      "model_module": "@jupyter-widgets/base",
      "model_module_version": "2.0.0",
      "model_name": "LayoutModel",
      "state": {
       "width": "160px"
      }
     },
     "123908f02a2040639e67c726b7c38be5": {
      "model_module": "@jupyter-widgets/base",
      "model_module_version": "2.0.0",
      "model_name": "LayoutModel",
      "state": {}
     },
     "1a425f4a10ab47409bdbc3a50f3817ee": {
      "model_module": "@jupyter-widgets/base",
      "model_module_version": "2.0.0",
      "model_name": "LayoutModel",
      "state": {}
     },
     "2af902105a0f4433b9c8ec5edb5968d4": {
      "model_module": "@jupyter-widgets/controls",
      "model_module_version": "2.0.0",
      "model_name": "HBoxModel",
      "state": {
       "children": [
        "IPY_MODEL_5b5b68674b764995ac67f0a0e1de35ad",
        "IPY_MODEL_99ad4c1c785241ef9a61eeabca40c2bb"
       ],
       "layout": "IPY_MODEL_b92c714d499445b19cfca1ceb5751273"
      }
     },
     "2f39e39665df459cae4de87153909dae": {
      "model_module": "@jupyter-widgets/controls",
      "model_module_version": "2.0.0",
      "model_name": "LabelStyleModel",
      "state": {
       "description_width": "",
       "font_family": null,
       "font_size": null,
       "font_style": null,
       "font_variant": null,
       "font_weight": null,
       "text_color": null,
       "text_decoration": null
      }
     },
     "333a9c08f89d4b00a074eb2bd92a19e3": {
      "model_module": "@jupyter-widgets/controls",
      "model_module_version": "2.0.0",
      "model_name": "TextStyleModel",
      "state": {
       "description_width": "",
       "font_size": null,
       "text_color": null
      }
     },
     "34aa735efe8d4a448e07d2ab32818ecd": {
      "model_module": "@jupyter-widgets/base",
      "model_module_version": "2.0.0",
      "model_name": "LayoutModel",
      "state": {}
     },
     "358ad5d8b3dc43e798a7e9ce0c4f18f6": {
      "model_module": "@jupyter-widgets/controls",
      "model_module_version": "2.0.0",
      "model_name": "LabelModel",
      "state": {
       "layout": "IPY_MODEL_0110968628b54660995f6bad182f9129",
       "style": "IPY_MODEL_487e5bcf7ed34786a5b246a2011daf80",
       "value": "Praktikumsleitung:"
      }
     },
     "383a15d9053c4ebd94524931ec9af85a": {
      "model_module": "@jupyter-widgets/controls",
      "model_module_version": "2.0.0",
      "model_name": "TextModel",
      "state": {
       "layout": "IPY_MODEL_a07d9845b494409ea34b32edf067deeb",
       "style": "IPY_MODEL_94f7b1af19c049b99009d7bf37f592ac",
       "value": "25.09.2025"
      }
     },
     "3f416872076e4bd5b6ec155068c6012e": {
      "model_module": "@jupyter-widgets/controls",
      "model_module_version": "2.0.0",
      "model_name": "LabelStyleModel",
      "state": {
       "description_width": "",
       "font_family": null,
       "font_size": null,
       "font_style": null,
       "font_variant": null,
       "font_weight": null,
       "text_color": null,
       "text_decoration": null
      }
     },
     "401a53e332644a4dad60d946ec25ef22": {
      "model_module": "@jupyter-widgets/base",
      "model_module_version": "2.0.0",
      "model_name": "LayoutModel",
      "state": {}
     },
     "477d1e0075434454bbda33da4cf1937a": {
      "model_module": "@jupyter-widgets/base",
      "model_module_version": "2.0.0",
      "model_name": "LayoutModel",
      "state": {}
     },
     "487e5bcf7ed34786a5b246a2011daf80": {
      "model_module": "@jupyter-widgets/controls",
      "model_module_version": "2.0.0",
      "model_name": "LabelStyleModel",
      "state": {
       "description_width": "",
       "font_family": null,
       "font_size": null,
       "font_style": null,
       "font_variant": null,
       "font_weight": null,
       "text_color": null,
       "text_decoration": null
      }
     },
     "53427be4851049209d516b126dc2ed5f": {
      "model_module": "@jupyter-widgets/controls",
      "model_module_version": "2.0.0",
      "model_name": "HBoxModel",
      "state": {
       "children": [
        "IPY_MODEL_358ad5d8b3dc43e798a7e9ce0c4f18f6",
        "IPY_MODEL_a52265c1061240f9aae2c5977d72d2b2"
       ],
       "layout": "IPY_MODEL_1a425f4a10ab47409bdbc3a50f3817ee"
      }
     },
     "5563647a7a154b9eb5e47980b877cf4b": {
      "model_module": "@jupyter-widgets/base",
      "model_module_version": "2.0.0",
      "model_name": "LayoutModel",
      "state": {
       "width": "160px"
      }
     },
     "55aadf4156654c54b4e0a4aaebf17439": {
      "model_module": "@jupyter-widgets/controls",
      "model_module_version": "2.0.0",
      "model_name": "LabelModel",
      "state": {
       "layout": "IPY_MODEL_87b876e6119a454387db22176240ef9a",
       "style": "IPY_MODEL_7ff8e23909c945b397b1639c970f3b50",
       "value": "Gruppe:"
      }
     },
     "587dfff515a6470fa62d33e37b002b12": {
      "model_module": "@jupyter-widgets/base",
      "model_module_version": "2.0.0",
      "model_name": "LayoutModel",
      "state": {}
     },
     "589207fa059441a89ffc97b8584cbe16": {
      "model_module": "@jupyter-widgets/base",
      "model_module_version": "2.0.0",
      "model_name": "LayoutModel",
      "state": {
       "width": "500px"
      }
     },
     "59ed8f408cc34223b4831aaff53f8f5c": {
      "model_module": "@jupyter-widgets/controls",
      "model_module_version": "2.0.0",
      "model_name": "HTMLStyleModel",
      "state": {
       "description_width": "",
       "font_size": null,
       "text_color": null
      }
     },
     "5b143fea3f64475cac6b792acc2693aa": {
      "model_module": "@jupyter-widgets/base",
      "model_module_version": "2.0.0",
      "model_name": "LayoutModel",
      "state": {
       "width": "160px"
      }
     },
     "5b53cd87067e4909b068e013d4373bba": {
      "model_module": "@jupyter-widgets/controls",
      "model_module_version": "2.0.0",
      "model_name": "HTMLStyleModel",
      "state": {
       "description_width": "",
       "font_size": null,
       "text_color": null
      }
     },
     "5b5b68674b764995ac67f0a0e1de35ad": {
      "model_module": "@jupyter-widgets/controls",
      "model_module_version": "2.0.0",
      "model_name": "VBoxModel",
      "state": {
       "children": [
        "IPY_MODEL_ff919780c721442a9e803a222fed5857",
        "IPY_MODEL_c6f49393e8514114b3a3b96b626f606c",
        "IPY_MODEL_dfeac69d67b04b07b7bf7eaa1f9cbd90"
       ],
       "layout": "IPY_MODEL_7f886648f5334d0d9885baa04b0ef78b"
      }
     },
     "5b70e9ea0b234354bcdf6e189a84a128": {
      "model_module": "@jupyter-widgets/base",
      "model_module_version": "2.0.0",
      "model_name": "LayoutModel",
      "state": {}
     },
     "635250fc091b48e39db62d2eafb277c0": {
      "model_module": "@jupyter-widgets/controls",
      "model_module_version": "2.0.0",
      "model_name": "TextModel",
      "state": {
       "layout": "IPY_MODEL_589207fa059441a89ffc97b8584cbe16",
       "style": "IPY_MODEL_f9b1a92a1087473f992ff1f123428037",
       "value": "X"
      }
     },
     "6b25155255ce4fba9706596a2c5498fa": {
      "model_module": "@jupyter-widgets/controls",
      "model_module_version": "2.0.0",
      "model_name": "ButtonModel",
      "state": {
       "button_style": "success",
       "description": "Speichern",
       "layout": "IPY_MODEL_8e3bb7901811444184d647f8283931e8",
       "style": "IPY_MODEL_8a4ace2f96e74f4baa678807aa4a15c0",
       "tooltip": null
      }
     },
     "6f2b929b76e046d1a5ffd29e17a61cc2": {
      "model_module": "@jupyter-widgets/controls",
      "model_module_version": "2.0.0",
      "model_name": "LabelStyleModel",
      "state": {
       "description_width": "",
       "font_family": null,
       "font_size": null,
       "font_style": null,
       "font_variant": null,
       "font_weight": null,
       "text_color": null,
       "text_decoration": null
      }
     },
     "76a6f9bd972049c28117cd86aba15618": {
      "model_module": "@jupyter-widgets/base",
      "model_module_version": "2.0.0",
      "model_name": "LayoutModel",
      "state": {}
     },
     "7abbf2cb7777411680f3f5320ddaa86a": {
      "model_module": "@jupyter-widgets/controls",
      "model_module_version": "2.0.0",
      "model_name": "TextModel",
      "state": {
       "layout": "IPY_MODEL_8de373b625aa413888bba730592e797b",
       "style": "IPY_MODEL_a4d120d8a65d452a9df08d2ce1135ae2",
       "value": "123"
      }
     },
     "7f886648f5334d0d9885baa04b0ef78b": {
      "model_module": "@jupyter-widgets/base",
      "model_module_version": "2.0.0",
      "model_name": "LayoutModel",
      "state": {
       "align_items": "flex-start"
      }
     },
     "7ff8e23909c945b397b1639c970f3b50": {
      "model_module": "@jupyter-widgets/controls",
      "model_module_version": "2.0.0",
      "model_name": "LabelStyleModel",
      "state": {
       "description_width": "",
       "font_family": null,
       "font_size": null,
       "font_style": null,
       "font_variant": null,
       "font_weight": null,
       "text_color": null,
       "text_decoration": null
      }
     },
     "87b876e6119a454387db22176240ef9a": {
      "model_module": "@jupyter-widgets/base",
      "model_module_version": "2.0.0",
      "model_name": "LayoutModel",
      "state": {
       "width": "160px"
      }
     },
     "8a4ace2f96e74f4baa678807aa4a15c0": {
      "model_module": "@jupyter-widgets/controls",
      "model_module_version": "2.0.0",
      "model_name": "ButtonStyleModel",
      "state": {
       "font_family": null,
       "font_size": null,
       "font_style": null,
       "font_variant": null,
       "font_weight": null,
       "text_color": null,
       "text_decoration": null
      }
     },
     "8de373b625aa413888bba730592e797b": {
      "model_module": "@jupyter-widgets/base",
      "model_module_version": "2.0.0",
      "model_name": "LayoutModel",
      "state": {
       "width": "500px"
      }
     },
     "8e3bb7901811444184d647f8283931e8": {
      "model_module": "@jupyter-widgets/base",
      "model_module_version": "2.0.0",
      "model_name": "LayoutModel",
      "state": {}
     },
     "8e9cf80185b74caeade9e2817bf09291": {
      "model_module": "@jupyter-widgets/base",
      "model_module_version": "2.0.0",
      "model_name": "LayoutModel",
      "state": {}
     },
     "94f7b1af19c049b99009d7bf37f592ac": {
      "model_module": "@jupyter-widgets/controls",
      "model_module_version": "2.0.0",
      "model_name": "TextStyleModel",
      "state": {
       "description_width": "",
       "font_size": null,
       "text_color": null
      }
     },
     "99ad4c1c785241ef9a61eeabca40c2bb": {
      "buffers": [
       {
        "data": "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",
        "encoding": "base64",
        "path": [
         "value"
        ]
       }
      ],
      "model_module": "@jupyter-widgets/controls",
      "model_module_version": "2.0.0",
      "model_name": "ImageModel",
      "state": {
       "layout": "IPY_MODEL_b3f51580454349b5af743c2a541db46d"
      }
     },
     "9e3792e74c714facaacab2bdba2b12c2": {
      "model_module": "@jupyter-widgets/controls",
      "model_module_version": "2.0.0",
      "model_name": "LabelModel",
      "state": {
       "layout": "IPY_MODEL_d62f21203c1a468db5d6c65fd21ab4ca",
       "style": "IPY_MODEL_3f416872076e4bd5b6ec155068c6012e",
       "value": "Matrikelnummer:"
      }
     },
     "9efac2bb19eb47b9aecd4c174c6e9fad": {
      "model_module": "@jupyter-widgets/controls",
      "model_module_version": "2.0.0",
      "model_name": "LabelModel",
      "state": {
       "layout": "IPY_MODEL_5563647a7a154b9eb5e47980b877cf4b",
       "style": "IPY_MODEL_2f39e39665df459cae4de87153909dae",
       "value": "Versuchstag:"
      }
     },
     "a07d9845b494409ea34b32edf067deeb": {
      "model_module": "@jupyter-widgets/base",
      "model_module_version": "2.0.0",
      "model_name": "LayoutModel",
      "state": {
       "width": "500px"
      }
     },
     "a3e68aba195e4bb08338efd4f4c37d3d": {
      "model_module": "@jupyter-widgets/controls",
      "model_module_version": "2.0.0",
      "model_name": "HTMLStyleModel",
      "state": {
       "description_width": "",
       "font_size": null,
       "text_color": null
      }
     },
     "a4d120d8a65d452a9df08d2ce1135ae2": {
      "model_module": "@jupyter-widgets/controls",
      "model_module_version": "2.0.0",
      "model_name": "TextStyleModel",
      "state": {
       "description_width": "",
       "font_size": null,
       "text_color": null
      }
     },
     "a52265c1061240f9aae2c5977d72d2b2": {
      "model_module": "@jupyter-widgets/controls",
      "model_module_version": "2.0.0",
      "model_name": "TextModel",
      "state": {
       "layout": "IPY_MODEL_aecf8954f9844545a6f7a8c365162e8b",
       "style": "IPY_MODEL_a6e49ca891ee42119a2b59861097a54a",
       "value": "Dr.-Ing. Dennis Panke"
      }
     },
     "a6e49ca891ee42119a2b59861097a54a": {
      "model_module": "@jupyter-widgets/controls",
      "model_module_version": "2.0.0",
      "model_name": "TextStyleModel",
      "state": {
       "description_width": "",
       "font_size": null,
       "text_color": null
      }
     },
     "aecf8954f9844545a6f7a8c365162e8b": {
      "model_module": "@jupyter-widgets/base",
      "model_module_version": "2.0.0",
      "model_name": "LayoutModel",
      "state": {
       "width": "500px"
      }
     },
     "b3f51580454349b5af743c2a541db46d": {
      "model_module": "@jupyter-widgets/base",
      "model_module_version": "2.0.0",
      "model_name": "LayoutModel",
      "state": {
       "height": "auto",
       "width": "200px"
      }
     },
     "b92c714d499445b19cfca1ceb5751273": {
      "model_module": "@jupyter-widgets/base",
      "model_module_version": "2.0.0",
      "model_name": "LayoutModel",
      "state": {
       "align_items": "flex-start",
       "justify_content": "space-between"
      }
     },
     "be199704eee847d3ac24270dec482ca1": {
      "model_module": "@jupyter-widgets/controls",
      "model_module_version": "2.0.0",
      "model_name": "HBoxModel",
      "state": {
       "children": [
        "IPY_MODEL_55aadf4156654c54b4e0a4aaebf17439",
        "IPY_MODEL_635250fc091b48e39db62d2eafb277c0"
       ],
       "layout": "IPY_MODEL_401a53e332644a4dad60d946ec25ef22"
      }
     },
     "c2eaa27911ee46e982ad9917af425114": {
      "model_module": "@jupyter-widgets/controls",
      "model_module_version": "2.0.0",
      "model_name": "LabelModel",
      "state": {
       "layout": "IPY_MODEL_5b143fea3f64475cac6b792acc2693aa",
       "style": "IPY_MODEL_6f2b929b76e046d1a5ffd29e17a61cc2",
       "value": "Name:"
      }
     },
     "c41194da8d9041cc813bb8d6a60c856a": {
      "model_module": "@jupyter-widgets/controls",
      "model_module_version": "2.0.0",
      "model_name": "HBoxModel",
      "state": {
       "children": [
        "IPY_MODEL_9e3792e74c714facaacab2bdba2b12c2",
        "IPY_MODEL_7abbf2cb7777411680f3f5320ddaa86a"
       ],
       "layout": "IPY_MODEL_8e9cf80185b74caeade9e2817bf09291"
      }
     },
     "c6f49393e8514114b3a3b96b626f606c": {
      "model_module": "@jupyter-widgets/controls",
      "model_module_version": "2.0.0",
      "model_name": "HTMLModel",
      "state": {
       "layout": "IPY_MODEL_d5eac2ac3c43445f8e3551866bd45cb6",
       "style": "IPY_MODEL_5b53cd87067e4909b068e013d4373bba",
       "value": "<div style=\"font-size: 14pt;\"><strong>Praktikum:</strong> Regenerative Energien II</div>"
      }
     },
     "ca61e76fda7b4fd9b4ad7c137103ca46": {
      "model_module": "@jupyter-widgets/controls",
      "model_module_version": "2.0.0",
      "model_name": "HBoxModel",
      "state": {
       "children": [
        "IPY_MODEL_9efac2bb19eb47b9aecd4c174c6e9fad",
        "IPY_MODEL_383a15d9053c4ebd94524931ec9af85a"
       ],
       "layout": "IPY_MODEL_76a6f9bd972049c28117cd86aba15618"
      }
     },
     "ca914ab492e9490eab2fe11bf4062475": {
      "model_module": "@jupyter-widgets/controls",
      "model_module_version": "2.0.0",
      "model_name": "HTMLModel",
      "state": {
       "layout": "IPY_MODEL_123908f02a2040639e67c726b7c38be5",
       "style": "IPY_MODEL_a3e68aba195e4bb08338efd4f4c37d3d",
       "value": "<hr>"
      }
     },
     "d5eac2ac3c43445f8e3551866bd45cb6": {
      "model_module": "@jupyter-widgets/base",
      "model_module_version": "2.0.0",
      "model_name": "LayoutModel",
      "state": {}
     },
     "d62f21203c1a468db5d6c65fd21ab4ca": {
      "model_module": "@jupyter-widgets/base",
      "model_module_version": "2.0.0",
      "model_name": "LayoutModel",
      "state": {
       "width": "160px"
      }
     },
     "dda273005e6c4f5286ceb41695450558": {
      "model_module": "@jupyter-widgets/controls",
      "model_module_version": "2.0.0",
      "model_name": "HBoxModel",
      "state": {
       "children": [
        "IPY_MODEL_c2eaa27911ee46e982ad9917af425114",
        "IPY_MODEL_fe91e6185aa645d0955dce1fe983cbc2"
       ],
       "layout": "IPY_MODEL_34aa735efe8d4a448e07d2ab32818ecd"
      }
     },
     "dfeac69d67b04b07b7bf7eaa1f9cbd90": {
      "model_module": "@jupyter-widgets/controls",
      "model_module_version": "2.0.0",
      "model_name": "HTMLModel",
      "state": {
       "layout": "IPY_MODEL_477d1e0075434454bbda33da4cf1937a",
       "style": "IPY_MODEL_e13b1c1161b643288385872270443cd9",
       "value": "<div style=\"font-size: 14pt;\"><strong>Semester:</strong> Wintersemester 2025/26</div>"
      }
     },
     "e13b1c1161b643288385872270443cd9": {
      "model_module": "@jupyter-widgets/controls",
      "model_module_version": "2.0.0",
      "model_name": "HTMLStyleModel",
      "state": {
       "description_width": "",
       "font_size": null,
       "text_color": null
      }
     },
     "f638cffe841f4e4894411ab1c0b3115b": {
      "model_module": "@jupyter-widgets/base",
      "model_module_version": "2.0.0",
      "model_name": "LayoutModel",
      "state": {
       "width": "500px"
      }
     },
     "f9385ec6f56c421cb69aba6a11c1dc7e": {
      "model_module": "@jupyter-widgets/controls",
      "model_module_version": "2.0.0",
      "model_name": "VBoxModel",
      "state": {
       "children": [
        "IPY_MODEL_dda273005e6c4f5286ceb41695450558",
        "IPY_MODEL_c41194da8d9041cc813bb8d6a60c856a",
        "IPY_MODEL_be199704eee847d3ac24270dec482ca1",
        "IPY_MODEL_ca61e76fda7b4fd9b4ad7c137103ca46",
        "IPY_MODEL_53427be4851049209d516b126dc2ed5f"
       ],
       "layout": "IPY_MODEL_587dfff515a6470fa62d33e37b002b12"
      }
     },
     "f9b1a92a1087473f992ff1f123428037": {
      "model_module": "@jupyter-widgets/controls",
      "model_module_version": "2.0.0",
      "model_name": "TextStyleModel",
      "state": {
       "description_width": "",
       "font_size": null,
       "text_color": null
      }
     },
     "fe91e6185aa645d0955dce1fe983cbc2": {
      "model_module": "@jupyter-widgets/controls",
      "model_module_version": "2.0.0",
      "model_name": "TextModel",
      "state": {
       "layout": "IPY_MODEL_f638cffe841f4e4894411ab1c0b3115b",
       "style": "IPY_MODEL_333a9c08f89d4b00a074eb2bd92a19e3",
       "value": "Dennis Panke"
      }
     },
     "ff919780c721442a9e803a222fed5857": {
      "model_module": "@jupyter-widgets/controls",
      "model_module_version": "2.0.0",
      "model_name": "HTMLModel",
      "state": {
       "layout": "IPY_MODEL_5b70e9ea0b234354bcdf6e189a84a128",
       "style": "IPY_MODEL_59ed8f408cc34223b4831aaff53f8f5c",
       "value": "<div style=\"font-size: 20pt; font-weight: bold;\">Protokoll zum Versuch: Windkraft</div>"
      }
     }
    },
    "version_major": 2,
    "version_minor": 0
   }
  }
 },
 "nbformat": 4,
 "nbformat_minor": 5
}
