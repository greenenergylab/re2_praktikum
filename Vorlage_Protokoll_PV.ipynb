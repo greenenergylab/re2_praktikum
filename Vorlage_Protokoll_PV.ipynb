{
 "cells": [
  {
   "cell_type": "markdown",
   "id": "52127514-aaf9-4e98-baeb-321f004598c7",
   "metadata": {},
   "source": [
    "# 0. Konfiguration der Arbeitsumgebung\n",
    "**Hinweis zur Ausführung:**\n",
    "\n",
    "Bevor Sie mit dem Ausfüllen des Protokolls beginnen, stellt diese Zelle sicher, dass alle notwendigen Software-Bibliotheken installiert und verfügbar sind. Diese sogenannten „Pakete“ (z. B. `ipywidgets` für die interaktiven Eingabefelder) sind erforderlich, damit das Notebook korrekt funktioniert.\n",
    "\n",
    "**Was in dieser Zelle passiert:**\n",
    "- Es wird geprüft, ob alle benötigten Pakete bereits in Ihrer Jupyter-Umgebung installiert sind.\n",
    "- Falls ein Paket fehlt, wird es automatisch installiert.\n",
    "- Dies funktioniert unabhängig davon, ob Sie mit Anaconda (Windows) oder venv (macOS/Linux) arbeiten.\n",
    "\n",
    "**Was Sie tun müssen:**\n",
    "- Führen Sie diese Zelle **einmalig aus**, bevor Sie mit dem Protokoll arbeiten.\n",
    "- Es ist **keine manuelle Installation** in der Konsole notwendig.\n",
    "- Falls eine Installation erfolgt, kann es kurz dauern – warten Sie bitte, bis die Zelle vollständig durchgelaufen ist.\n",
    "\n",
    "**Hinweis:** Falls Sie das Notebook ohne Internetverbindung verwenden, können fehlende Pakete nicht nachgeladen werden.\n",
    "\n",
    "**Führen Sie jetzt die folgende Zelle aus:** "
   ]
  },
  {
   "cell_type": "code",
   "execution_count": 1,
   "id": "8abdaa79-c85b-4fe6-94b1-abfcf1bc4e76",
   "metadata": {},
   "outputs": [
    {
     "name": "stdout",
     "output_type": "stream",
     "text": [
      "Alle Pakete bereits vorhanden!\n",
      "Setup abgeschlossen - bereit für das Praktikum!\n"
     ]
    }
   ],
   "source": [
    "import sys\n",
    "import subprocess\n",
    "\n",
    "# Benötigte Pakete\n",
    "pakete = [\"numpy\", \"pandas\", \"matplotlib\", \"ipywidgets\", \"requests\"]\n",
    "\n",
    "installiert = 0\n",
    "fehler = []\n",
    "\n",
    "# Pakete prüfen und installieren\n",
    "for paket in pakete:\n",
    "    try:\n",
    "        __import__(paket)\n",
    "    except ImportError:\n",
    "        try:\n",
    "            print(f\"Installiere {paket}...\")\n",
    "            subprocess.check_call([sys.executable, \"-m\", \"pip\", \"install\", paket], \n",
    "                                 stdout=subprocess.DEVNULL)\n",
    "            installiert += 1\n",
    "        except:\n",
    "            fehler.append(paket)\n",
    "\n",
    "# Pakete importieren\n",
    "import numpy as np\n",
    "import pandas as pd\n",
    "import matplotlib.pyplot as plt\n",
    "import ipywidgets as widgets\n",
    "from IPython.display import display\n",
    "import requests, json, os\n",
    "\n",
    "# Status anzeigen\n",
    "if fehler:\n",
    "    print(f\"FEHLER bei: {\", \".join(fehler)}\")\n",
    "    print(\"-> Bitte manuell installieren: pip install <paketname>\")\n",
    "elif installiert > 0:\n",
    "    print(f\"{installiert} Paket/e erfolgreich installiert!\")\n",
    "else:\n",
    "    print(\"Alle Pakete bereits vorhanden!\")\n",
    "\n",
    "print(\"Setup abgeschlossen - bereit für das Praktikum!\")"
   ]
  },
  {
   "cell_type": "code",
   "execution_count": 2,
   "id": "49d7c680-933a-47ad-b9f1-2da44802fb20",
   "metadata": {
    "ExecuteTime": {
     "end_time": "2025-09-16T08:37:41.273320Z",
     "start_time": "2025-09-16T08:37:40.790574Z"
    }
   },
   "outputs": [
    {
     "data": {
      "application/vnd.jupyter.widget-view+json": {
       "model_id": "3a791803bbc74018a8eeaeb009762841",
       "version_major": 2,
       "version_minor": 0
      },
      "text/plain": [
       "HBox(children=(VBox(children=(HTML(value='<div style=\"font-size: 20pt; font-weight: bold;\">Protokoll zum Versu…"
      ]
     },
     "metadata": {},
     "output_type": "display_data"
    },
    {
     "data": {
      "application/vnd.jupyter.widget-view+json": {
       "model_id": "1f367a06ac1b404ebe402e7cb01d9d61",
       "version_major": 2,
       "version_minor": 0
      },
      "text/plain": [
       "HTML(value='<hr>')"
      ]
     },
     "metadata": {},
     "output_type": "display_data"
    },
    {
     "data": {
      "application/vnd.jupyter.widget-view+json": {
       "model_id": "b88d6bad16ad4993a96f3e2c8a3cd751",
       "version_major": 2,
       "version_minor": 0
      },
      "text/plain": [
       "VBox(children=(HBox(children=(Label(value='Name:', layout=Layout(width='160px')), Text(value='', layout=Layout…"
      ]
     },
     "metadata": {},
     "output_type": "display_data"
    },
    {
     "data": {
      "application/vnd.jupyter.widget-view+json": {
       "model_id": "977c04b561fb4899ad65cfbde488cbc4",
       "version_major": 2,
       "version_minor": 0
      },
      "text/plain": [
       "Button(button_style='success', description='Speichern', style=ButtonStyle())"
      ]
     },
     "metadata": {},
     "output_type": "display_data"
    }
   ],
   "source": [
    "import ipywidgets as widgets\n",
    "from IPython.display import display\n",
    "import requests, json, os\n",
    "\n",
    "# --- Konfiguration ---\n",
    "VERSUCH = \"Photovoltaik\"  # ← hier den Versuchsnamen ändern\n",
    "FILENAME = f\"protokoll_{VERSUCH}.json\"\n",
    "FIELD_WIDTH = '500px'\n",
    "LABEL_WIDTH = '160px'\n",
    "LOGO_URL = \"https://thga.sciebo.de/s/PMFfmxdyEcrEr3P/download\"\n",
    "\n",
    "# --- Felder und Standarddaten ---\n",
    "fields = {\n",
    "    \"Name\": \"\",\n",
    "    \"Matrikelnummer\": \"\",\n",
    "    \"Gruppe\": \"\",\n",
    "    \"Versuchstag\": \"\",\n",
    "    \"Praktikumsleitung\": \"\"\n",
    "}\n",
    "\n",
    "# --- Daten aus Datei laden ---\n",
    "if os.path.exists(FILENAME):\n",
    "    with open(FILENAME, \"r\") as f:\n",
    "        fields.update(json.load(f))\n",
    "\n",
    "# --- Logo laden ---\n",
    "try:\n",
    "    resp = requests.get(LOGO_URL)\n",
    "    logo = widgets.Image(\n",
    "        value=resp.content, format='png',\n",
    "        layout=widgets.Layout(width='200px', height='auto')\n",
    "    ) if resp.status_code == 200 else widgets.Label(\"Logo nicht verfügbar.\")\n",
    "except:\n",
    "    logo = widgets.Label(\"Logo konnte nicht geladen werden.\")\n",
    "\n",
    "# --- Überschriftsteil ---\n",
    "headings = widgets.VBox([\n",
    "    widgets.HTML(f'<div style=\"font-size: 20pt; font-weight: bold;\">Protokoll zum Versuch: {VERSUCH.capitalize()}</div>'),\n",
    "    widgets.HTML(f'<div style=\"font-size: 14pt;\"><strong>Praktikum:</strong> Regenerative Energien II</div>'),\n",
    "    widgets.HTML(f'<div style=\"font-size: 14pt;\"><strong>Semester:</strong> Wintersemester 2025/26</div>')\n",
    "], layout=widgets.Layout(align_items='flex-start', gap='2px'))\n",
    "\n",
    "header = widgets.HBox([headings, logo],\n",
    "                      layout=widgets.Layout(justify_content='space-between', align_items='flex-start'))\n",
    "\n",
    "# --- Formularfelder anlegen ---\n",
    "widgets_dict = {\n",
    "    key: widgets.Text(value=fields[key], layout=widgets.Layout(width=FIELD_WIDTH))\n",
    "    for key in fields\n",
    "}\n",
    "\n",
    "def labeled_row(label, widget):\n",
    "    return widgets.HBox([\n",
    "        widgets.Label(label + \":\", layout=widgets.Layout(width=LABEL_WIDTH)),\n",
    "        widget\n",
    "    ])\n",
    "\n",
    "form = widgets.VBox([labeled_row(k, widgets_dict[k]) for k in fields])\n",
    "\n",
    "# --- Speichern ---\n",
    "def save_to_json(_):\n",
    "    data = {k: w.value for k, w in widgets_dict.items()}\n",
    "    with open(FILENAME, \"w\") as f:\n",
    "        json.dump(data, f)\n",
    "    print(f\"Daten gespeichert in '{FILENAME}'.\")\n",
    "\n",
    "save_button = widgets.Button(description=\"Speichern\", button_style='success')\n",
    "save_button.on_click(save_to_json)\n",
    "\n",
    "# --- Anzeige ---\n",
    "display(header, widgets.HTML(\"<hr>\"), form, save_button)"
   ]
  },
  {
   "cell_type": "markdown",
   "id": "ab5f21f2-c198-4c6c-9830-d113f040c1d6",
   "metadata": {},
   "source": [
    "---"
   ]
  },
  {
   "cell_type": "markdown",
   "id": "9221698d-06a9-4bae-bcb8-817e0e47fc51",
   "metadata": {
    "editable": true,
    "slideshow": {
     "slide_type": ""
    },
    "tags": []
   },
   "source": [
    "# 1. Einleitung\n",
    "**Hinweis zur Bearbeitung:**\n",
    "\n",
    "Bevor Sie mit dem Versuch beginnen, formulieren Sie bitte eine kurze Einleitung. Beschreiben Sie in eigenen Worten die grundlegenden Prinzipien der Photovoltaik und das Wissen, dass benötigt wird um dieses Protokoll nachvollziehen zu können.\n",
    "\n",
    "\n",
    " **Denkanstöße für Ihre Einleitung:**\n",
    "- Auf welchen Prinzipien beruht die Photovoltaik?\n",
    "- Welche Materialien spielen dabei eine Rolle und warum?\n",
    "- Welche Rolle spielt Photovoltaik in der Energiewende? \n",
    "- Wie sieht der Aufbau und die Funktion einer Solarzelle aus?\n",
    "- Welche praktischen Anwendungen von Photovoltaik kennen Sie?\n",
    "- Wofür wird Photovoltaik überwiegend eingesetzt?\n",
    "\n",
    " **Tragen Sie Ihre eigene Einleitung im folgenden Feld ein:**"
   ]
  },
  {
   "cell_type": "code",
   "execution_count": null,
   "id": "82d32f2d-1ef1-406d-867c-9e8fdc4c98ae",
   "metadata": {
    "editable": true,
    "slideshow": {
     "slide_type": ""
    },
    "tags": []
   },
   "outputs": [],
   "source": []
  },
  {
   "cell_type": "markdown",
   "id": "1e2798f2-55d5-4954-a990-dcade9640033",
   "metadata": {},
   "source": [
    "---"
   ]
  },
  {
   "cell_type": "markdown",
   "id": "c94558ac-6d3a-49fd-b8e6-4b5aa38f06d5",
   "metadata": {
    "editable": true,
    "slideshow": {
     "slide_type": ""
    },
    "tags": []
   },
   "source": [
    "# 2. Durchführung und Auswertung"
   ]
  },
  {
   "cell_type": "markdown",
   "id": "4e21847d-2239-4411-b52a-20811f667d90",
   "metadata": {
    "editable": true,
    "slideshow": {
     "slide_type": ""
    },
    "tags": []
   },
   "source": [
    "## 2.1 Versuch 1: Reihen und Parallelschaltung von Solarzellen\n",
    "\n",
    "In diesem Versuch werden mehrere Solarzellen (mittlere und eine kleine) verwendet, um das Verhalten bei Reihen und Parallelschaltung zu untersuchen. Ziel ist es, die Auswirkung der Schaltungsart auf die Leerlaufspannung $( U_\\text{L} )$ und Kurzschlussstromstärke $( I_\\text{K} )$ zu erfassen.\n",
    "\n",
    "Die Solarzellen werden durch ein Beleuchtungsmodul mit Powermodul (6 V) beleuchtet. Die Messungen erfolgen mit einem AV-Modul.\n",
    "\n",
    "---\n",
    "\n",
    " **Aufbau, Geräte & Komponenten:**\n",
    "- Grundeinheit\n",
    "- 3 mittlere Solarzellen  \n",
    "- 1 kleine Solarzelle  \n",
    "- 3 Beleuchtungsmodule  \n",
    "- AV-Modul  \n",
    "- Powermodul (6 V)\n",
    "\n",
    "---\n",
    "\n",
    "**Schaltplan:**\n",
    "\n",
    "Parallelschaltung:\n",
    "\n",
    "![Schaltplan Versuch1.1](https://thga.sciebo.de/s/EtdjPDGps7PSN9D/download \"Parallelschaltung\")\n",
    "\n",
    "Reihenschaltung:\n",
    "\n",
    "![Schaltplan Versuch1.1](https://thga.sciebo.de/s/Ax88W8tiQNcFKRw/download \"Reihenschaltung\")\n",
    "\n",
    "---\n",
    "\n",
    "**Durchführung**\n",
    "\n",
    "1. Bauen Sie den Versuchsplan für die Parallelschaltung auf, zunächst jedoch nur mit 1 mittleren Solarzelle.\n",
    "   1. Messen Sie die Leerlaufspannung $U_\\mathrm{L}$ und die Kurzschlussstromstärke $I_\\mathrm{K}$ einer Solarzelle. Verändern Sie die Schaltung danach so, dass zwei bzw. drei Solarzellen parallelgeschaltet sind (siehe Schaltplan). Nehmen Sie jeweils $U_\\mathrm{L}$ und $I_\\mathrm{K}$ auf.\n",
    "   2. Schalten Sie nun 2 mittlere und 1 kleine Solarzelle parallel und messen Sie erneut Leerlaufspannung $U_\\mathrm{L}$ und die Kurzschlussstromstärke $I_\\mathrm{K}$.\n",
    "2. Bauen Sie den Versuchsaufbau für die Reihenschaltung auf, zunächst jedoch mit nur 1 Solarzelle.\n",
    "    1. Messen Sie die Leerlaufspannung $U_\\mathrm{L}$ und die Kurzschlussstromstärke $I_\\mathrm{K}$ einer Solarzelle. Verändern Sie die Schaltung danach so, dass zwei bzw. drei Solarzellen in Reihe geschaltet sind (siehe Schaltplan). Nehmen Sie jeweils $U_\\mathrm{L}$ und $I_\\mathrm{K}$ auf.\n",
    "    2. Schalten Sie nun 2 mittlere Solarzellen und eine kleine Solarzelle in Reihe und messen Sie erneut Kurzschlussstrom $U_\\mathrm{L}$ und Leerlaufspannung $I_\\mathrm{K}$.\n",
    "    3. Messen Sie Kurzschlussstrom $U_\\mathrm{L}$ und Leerlaufspannung $I_\\mathrm{K}$ einer kleinen Solarzelle zum Vergleich.\n",
    "---\n",
    "\n",
    " **Messgrößen:** \n",
    "- Die Leerlaufspannung $U_\\mathrm{L}$  in $\\text{[V]}$\n",
    "- Der Kurzschlussstrom $I_\\mathrm{K}$ in $\\text{[mA]}$\n",
    "\n",
    "---\n",
    "\n",
    "**Messdaten:**\n",
    "\n",
    "Notieren Sie hier Ihre Messdaten in Listen. Nutzen Sie dafür eindeutige Bezeichnungen, ähnlich wie im folgenden Beispiel, und zeichnen Sie daraus eine Tabelle:"
   ]
  },
  {
   "cell_type": "code",
   "execution_count": 29,
   "id": "bb76e8d2-59c3-458d-8b51-7d54f90c40c8",
   "metadata": {},
   "outputs": [],
   "source": [
    "# Beispiel-Messwerte für Aufgabe 1-1:\n",
    "u_1a = [537, 534, 532, 531]\n",
    "i_1a = [17.2, 35.3, 51.3, 45]\n",
    "m_1a = [\"1 mittlere Solarzelle\", \"2 mittlere Solarzellen\", \"3 mittlere Solarzellen\", \"2 mittlere 1 kleine Solarzelle\"]\n",
    "\n",
    "# Beispiel-Messwerte für Aufgabe 1-2:\n",
    "u_1b = [541, 1070, 1570, 1570, 530]\n",
    "i_1b = [22.0, 21.3, 17.2, 11.1, 10.5]\n",
    "m_1b = [\"1 mittlere Solarzelle\", \"2 mittlere Solarzellen\", \"3 mittlere Solarzellen\", \"2 mittlere 1 kleine Solarzelle\", \"1 kleine Solarzelle\"]"
   ]
  },
  {
   "cell_type": "markdown",
   "id": "35d173f3-c77c-47f3-9078-18fd90468636",
   "metadata": {},
   "source": [
    "Aus diesen Messwerten wird nun mit folgendem Beispielhaften Code eine Tabelle erzeugt:\n",
    "\n",
    "> Die Messwerte müssen nicht nochmal in den Code eingefügt werden, solange die Zelle mit den Messwerten zuvor prozessiert wird. Bedenken Sie außerdem, dass der Index für den ersten Wert eine Reihe bei Python bei `[0]` beginnt."
   ]
  },
  {
   "cell_type": "code",
   "execution_count": 34,
   "id": "2adef5eb-c641-4fe4-88d0-b056b5de317a",
   "metadata": {
    "editable": true,
    "slideshow": {
     "slide_type": ""
    },
    "tags": []
   },
   "outputs": [
    {
     "name": "stdout",
     "output_type": "stream",
     "text": [
      "Tabelle 1: Messdaten – Parallelschaltung\n"
     ]
    },
    {
     "data": {
      "text/html": [
       "<style type=\"text/css\">\n",
       "</style>\n",
       "<table id=\"T_6c7e2\">\n",
       "  <thead>\n",
       "    <tr>\n",
       "      <th class=\"blank level0\" >&nbsp;</th>\n",
       "      <th id=\"T_6c7e2_level0_col0\" class=\"col_heading level0 col0\" >Anzahl Solarzellen</th>\n",
       "      <th id=\"T_6c7e2_level0_col1\" class=\"col_heading level0 col1\" >U [V]</th>\n",
       "      <th id=\"T_6c7e2_level0_col2\" class=\"col_heading level0 col2\" >I [mA]</th>\n",
       "    </tr>\n",
       "  </thead>\n",
       "  <tbody>\n",
       "    <tr>\n",
       "      <th id=\"T_6c7e2_level0_row0\" class=\"row_heading level0 row0\" >Messpunkt 1</th>\n",
       "      <td id=\"T_6c7e2_row0_col0\" class=\"data row0 col0\" >1 mittlere Solarzelle</td>\n",
       "      <td id=\"T_6c7e2_row0_col1\" class=\"data row0 col1\" >537</td>\n",
       "      <td id=\"T_6c7e2_row0_col2\" class=\"data row0 col2\" >17.2</td>\n",
       "    </tr>\n",
       "    <tr>\n",
       "      <th id=\"T_6c7e2_level0_row1\" class=\"row_heading level0 row1\" >Messpunkt 2</th>\n",
       "      <td id=\"T_6c7e2_row1_col0\" class=\"data row1 col0\" >2 mittlere Solarzellen</td>\n",
       "      <td id=\"T_6c7e2_row1_col1\" class=\"data row1 col1\" >534</td>\n",
       "      <td id=\"T_6c7e2_row1_col2\" class=\"data row1 col2\" >35.3</td>\n",
       "    </tr>\n",
       "    <tr>\n",
       "      <th id=\"T_6c7e2_level0_row2\" class=\"row_heading level0 row2\" >Messpunkt 3</th>\n",
       "      <td id=\"T_6c7e2_row2_col0\" class=\"data row2 col0\" >3 mittlere Solarzellen</td>\n",
       "      <td id=\"T_6c7e2_row2_col1\" class=\"data row2 col1\" >532</td>\n",
       "      <td id=\"T_6c7e2_row2_col2\" class=\"data row2 col2\" >51.3</td>\n",
       "    </tr>\n",
       "    <tr>\n",
       "      <th id=\"T_6c7e2_level0_row3\" class=\"row_heading level0 row3\" >Messpunkt 4</th>\n",
       "      <td id=\"T_6c7e2_row3_col0\" class=\"data row3 col0\" >2 mittlere 1 kleine Solarzelle</td>\n",
       "      <td id=\"T_6c7e2_row3_col1\" class=\"data row3 col1\" >531</td>\n",
       "      <td id=\"T_6c7e2_row3_col2\" class=\"data row3 col2\" >45.0</td>\n",
       "    </tr>\n",
       "  </tbody>\n",
       "</table>\n"
      ],
      "text/plain": [
       "<pandas.io.formats.style.Styler at 0x229647e9f90>"
      ]
     },
     "metadata": {},
     "output_type": "display_data"
    },
    {
     "name": "stdout",
     "output_type": "stream",
     "text": [
      "Tabelle 2: Messdaten – Reihenschaltung\n"
     ]
    },
    {
     "data": {
      "text/html": [
       "<style type=\"text/css\">\n",
       "</style>\n",
       "<table id=\"T_a2a72\">\n",
       "  <thead>\n",
       "    <tr>\n",
       "      <th class=\"blank level0\" >&nbsp;</th>\n",
       "      <th id=\"T_a2a72_level0_col0\" class=\"col_heading level0 col0\" >Anzahl Solarzellen</th>\n",
       "      <th id=\"T_a2a72_level0_col1\" class=\"col_heading level0 col1\" >U [V]</th>\n",
       "      <th id=\"T_a2a72_level0_col2\" class=\"col_heading level0 col2\" >I [mA]</th>\n",
       "    </tr>\n",
       "  </thead>\n",
       "  <tbody>\n",
       "    <tr>\n",
       "      <th id=\"T_a2a72_level0_row0\" class=\"row_heading level0 row0\" >Messpunkt 1</th>\n",
       "      <td id=\"T_a2a72_row0_col0\" class=\"data row0 col0\" >1 mittlere Solarzelle</td>\n",
       "      <td id=\"T_a2a72_row0_col1\" class=\"data row0 col1\" >541</td>\n",
       "      <td id=\"T_a2a72_row0_col2\" class=\"data row0 col2\" >22.0</td>\n",
       "    </tr>\n",
       "    <tr>\n",
       "      <th id=\"T_a2a72_level0_row1\" class=\"row_heading level0 row1\" >Messpunkt 2</th>\n",
       "      <td id=\"T_a2a72_row1_col0\" class=\"data row1 col0\" >2 mittlere Solarzellen</td>\n",
       "      <td id=\"T_a2a72_row1_col1\" class=\"data row1 col1\" >1070</td>\n",
       "      <td id=\"T_a2a72_row1_col2\" class=\"data row1 col2\" >21.3</td>\n",
       "    </tr>\n",
       "    <tr>\n",
       "      <th id=\"T_a2a72_level0_row2\" class=\"row_heading level0 row2\" >Messpunkt 3</th>\n",
       "      <td id=\"T_a2a72_row2_col0\" class=\"data row2 col0\" >3 mittlere Solarzellen</td>\n",
       "      <td id=\"T_a2a72_row2_col1\" class=\"data row2 col1\" >1570</td>\n",
       "      <td id=\"T_a2a72_row2_col2\" class=\"data row2 col2\" >17.2</td>\n",
       "    </tr>\n",
       "    <tr>\n",
       "      <th id=\"T_a2a72_level0_row3\" class=\"row_heading level0 row3\" >Messpunkt 4</th>\n",
       "      <td id=\"T_a2a72_row3_col0\" class=\"data row3 col0\" >2 mittlere 1 kleine Solarzelle</td>\n",
       "      <td id=\"T_a2a72_row3_col1\" class=\"data row3 col1\" >1570</td>\n",
       "      <td id=\"T_a2a72_row3_col2\" class=\"data row3 col2\" >11.1</td>\n",
       "    </tr>\n",
       "    <tr>\n",
       "      <th id=\"T_a2a72_level0_row4\" class=\"row_heading level0 row4\" >Messpunkt 5</th>\n",
       "      <td id=\"T_a2a72_row4_col0\" class=\"data row4 col0\" >1 kleine Solarzelle</td>\n",
       "      <td id=\"T_a2a72_row4_col1\" class=\"data row4 col1\" >530</td>\n",
       "      <td id=\"T_a2a72_row4_col2\" class=\"data row4 col2\" >10.5</td>\n",
       "    </tr>\n",
       "  </tbody>\n",
       "</table>\n"
      ],
      "text/plain": [
       "<pandas.io.formats.style.Styler at 0x229647e9f90>"
      ]
     },
     "metadata": {},
     "output_type": "display_data"
    }
   ],
   "source": [
    "# Messwerte für Aufgabe 1-1 in DataFrames speichern:\n",
    "df_1a = pd.DataFrame({\n",
    "    \"Anzahl Solarzellen\": m_1a,\n",
    "    \"U [V]\": u_1a,\n",
    "    \"I [mA]\": i_1a})\n",
    "\n",
    "# Messwerte für Aufgabe 1-2 in DataFrames speichern:\n",
    "df_1b = pd.DataFrame({\n",
    "    \"Anzahl Solarzellen\": m_1b,\n",
    "    \"U [V]\": u_1b,\n",
    "    \"I [mA]\": i_1b})\n",
    "\n",
    "# Indizes in \"Messpunkte\" umbenennen und Zählung bei 1 Starten\n",
    "for df in [df_1a]:\n",
    "    df.index = [f\"Messpunkt {i+1}\" for i in range(len(df))]\n",
    "\n",
    "for df in [df_1b]:\n",
    "    df.index = [f\"Messpunkt {i+1}\" for i in range(len(df))]\n",
    "\n",
    "# Tabellen erstellen\n",
    "\n",
    "print(\"Tabelle 1: Messdaten – Parallelschaltung\")\n",
    "display(df_1a.round(2).style.format(precision=1))\n",
    "\n",
    "print(\"Tabelle 2: Messdaten – Reihenschaltung\")\n",
    "display(df_1b.round(2).style.format(precision=1))"
   ]
  },
  {
   "cell_type": "markdown",
   "id": "5a239e94-309e-4b6d-98eb-f372a08f59ad",
   "metadata": {
    "editable": true,
    "slideshow": {
     "slide_type": ""
    },
    "tags": []
   },
   "source": [
    "---\n",
    "\n",
    " **Ihre Aufgabe:**  \n",
    "Beschreiben Sie hier **in eigenen Worten**, den Aufbau, die Durchführung und Ihre Beobachtungen\n",
    "- Wie haben Sie die Solarzellen verschaltet?  \n",
    "- Welche Messgrößen haben Sie bei der Parallel und Reihenschaltung erhoben? \n",
    "- Wie haben sich Spannung und Strom verändert?  \n",
    "- Gib es Auffälligkeiten beim Einsatz der kleinen Solarzelle?\n",
    "\n",
    "> _Hinweis: Denken Sie an die Schritte „Aufbau, Messung und Beobachtung“._\n",
    "\n",
    "---\n",
    " **Im folgenden Feld Ihre eigene Beschreibung und Beobachtungen eintragen:**"
   ]
  },
  {
   "cell_type": "markdown",
   "id": "7fceb068-7e45-4592-9f0a-964845c264ac",
   "metadata": {
    "editable": true,
    "slideshow": {
     "slide_type": ""
    },
    "tags": []
   },
   "source": []
  },
  {
   "cell_type": "markdown",
   "id": "746ab280-0fd3-4b17-aa94-d21764ad0321",
   "metadata": {},
   "source": [
    "---\n",
    "\n",
    "**Auswertung**\n",
    "\n",
    "1. Formulieren Sie die Gesetzmäßigkeiten für den Gesamtstrom und die Gesamtspannung bei Parallel- bzw. Reihenschaltung von gleichen Solarzellen.\n",
    "2. Welche Schaltungsart sollte bei der Herstellung von Solarmodulten verwendet wrden, um technisch sinnvolle Ausgangsspannungen zu erhalten? *Tipp: in Haushalten wird eine Spannung von 230 V verwendet*\n",
    "3. Wie ändern sich $U$ und $I$, wenn eine kleine Solarzelle mit in die Parallel- bzw. Reihenschaltung eingebunden wird? Was ist daher bei der Herstellung von Solarmodulen zu beachten?"
   ]
  },
  {
   "cell_type": "markdown",
   "id": "e52ba27a-947f-42aa-98d5-a68db5c5feca",
   "metadata": {},
   "source": []
  },
  {
   "cell_type": "markdown",
   "id": "9d7f2ec9-5655-4ce0-b10b-b2b8f7386338",
   "metadata": {},
   "source": [
    "---"
   ]
  },
  {
   "cell_type": "markdown",
   "id": "f2233bd3-67f4-4148-9ca9-231062dbcb08",
   "metadata": {},
   "source": [
    "## 2.2 Versuch 2: Teilverschattung von Solarmodulen\n",
    "\n",
    "In diesem Versuch wird das Verhalten von in Reihe geschalteten Solarzellen unter Teilverschattung untersucht. Ziel ist zu beobachten, wie sich die elektrische Leistung verändert, wenn einzelne Zellen nicht vollständig beleuchtet sind, und wie eine Diode diesen Effekt beeinflussen kann.\n",
    "\n",
    "---\n",
    "\n",
    " **Messgrößen:**  \n",
    "- Leerlaufspannung $U_\\mathrm{L}$ in $\\text{[V]}$  \n",
    "- Kurzschlussstrom $I_\\mathrm{K}$ in $\\text{[mA]}$\n",
    "- Leistungsverringerung gegenüber Messung (1)\n",
    "\n",
    "---\n",
    "\n",
    "**Aufbau, Geräte und Komponenten**\n",
    "- Grundeinheit\n",
    "- 3 mittlere Solarzellen   \n",
    "- 3 Beleuchtungsmodule  \n",
    "- Diodenmodul\n",
    "- AV-Modul  \n",
    "- Powermodul (6 V)\n",
    "\n",
    "---\n",
    "\n",
    "**Schaltplan:**\n",
    "\n",
    "![Schaltplan Versuch1.1](https://thga.sciebo.de/s/ezSSN4DcpHBKRtB/download \"Teilverschattung\")\n",
    "\n",
    "---\n",
    "\n",
    "**Durchführung**\n",
    "\n",
    "1. Bauen Sie den Versuchsplan wie oben beschrieben auf, zunächst jedoch ohne das Diodenmodul. Schließen Sie alle 3 Beleuchtungsmodule parallel und verbinden Sie diese mit dem Powermodul (6 V) und stellen Sie diese auf die 3 Solarzellen.\n",
    "    > Übernehmen Sie die Messwerte für Leerlaufspannung und Kurzschlussstromstärke aus Aufgabe 1.\n",
    "2. Schalten Sie das Beleuchtungsmodul der linken Solarzelle aus und messen erneuet $U_\\mathrm{L}$ und $I_\\mathrm{K}$.\n",
    "3. Schalten Sie nun zu der „verschatteten“ Solarzelle das das Diodenmodul parallel. Messen Sie $U_\\mathrm{L}$ und $I_\\mathrm{K}$.\n",
    "\n",
    "---\n",
    "\n",
    "**Messdaten:**\n",
    "\n",
    "Notieren Sie hier Ihre Messdaten in Variablen. Nutzen Sie dafür eindeutige Bezeichnungen, ähnlich wie im Beispiel aus Versuch 1, und zeichnen Sie daraus eine Tabelle.\n"
   ]
  },
  {
   "cell_type": "code",
   "execution_count": 35,
   "id": "123855b2-5770-489c-8add-7f089c9bb163",
   "metadata": {},
   "outputs": [
    {
     "name": "stdout",
     "output_type": "stream",
     "text": [
      "Tabelle 3: Messdaten – Verschattung von Solarzellen\n"
     ]
    },
    {
     "data": {
      "text/html": [
       "<style type=\"text/css\">\n",
       "</style>\n",
       "<table id=\"T_1b055\">\n",
       "  <thead>\n",
       "    <tr>\n",
       "      <th class=\"blank level0\" >&nbsp;</th>\n",
       "      <th id=\"T_1b055_level0_col0\" class=\"col_heading level0 col0\" >Versuchsaufbau</th>\n",
       "      <th id=\"T_1b055_level0_col1\" class=\"col_heading level0 col1\" >U [V]</th>\n",
       "      <th id=\"T_1b055_level0_col2\" class=\"col_heading level0 col2\" >I [mA]</th>\n",
       "    </tr>\n",
       "  </thead>\n",
       "  <tbody>\n",
       "    <tr>\n",
       "      <th id=\"T_1b055_level0_row0\" class=\"row_heading level0 row0\" >Messpunkt 1</th>\n",
       "      <td id=\"T_1b055_row0_col0\" class=\"data row0 col0\" >Alle Zellen beleuchtet</td>\n",
       "      <td id=\"T_1b055_row0_col1\" class=\"data row0 col1\" >1570</td>\n",
       "      <td id=\"T_1b055_row0_col2\" class=\"data row0 col2\" >17.2</td>\n",
       "    </tr>\n",
       "    <tr>\n",
       "      <th id=\"T_1b055_level0_row1\" class=\"row_heading level0 row1\" >Messpunkt 2</th>\n",
       "      <td id=\"T_1b055_row1_col0\" class=\"data row1 col0\" >Eine Solarzelle verschattet</td>\n",
       "      <td id=\"T_1b055_row1_col1\" class=\"data row1 col1\" >1260</td>\n",
       "      <td id=\"T_1b055_row1_col2\" class=\"data row1 col2\" >0.9</td>\n",
       "    </tr>\n",
       "    <tr>\n",
       "      <th id=\"T_1b055_level0_row2\" class=\"row_heading level0 row2\" >Messpunkt 3</th>\n",
       "      <td id=\"T_1b055_row2_col0\" class=\"data row2 col0\" >Eine Solarzelle verschattet, zu der eine Diode parallel geschaltet ist</td>\n",
       "      <td id=\"T_1b055_row2_col1\" class=\"data row2 col1\" >1250</td>\n",
       "      <td id=\"T_1b055_row2_col2\" class=\"data row2 col2\" >17.4</td>\n",
       "    </tr>\n",
       "  </tbody>\n",
       "</table>\n"
      ],
      "text/plain": [
       "<pandas.io.formats.style.Styler at 0x229647e9f90>"
      ]
     },
     "metadata": {},
     "output_type": "display_data"
    }
   ],
   "source": [
    "# Messwerte Versuch 2\n",
    "# Sie können die Messwerte für Leerlaufspannung und Kurzschlussstromstärke aus Versuch 1 übernehmen, indem Sie die in der obigen Variable abgespeicherten Daten hier wieder aufrufen\n",
    "\n",
    "u_2 = u_1b[2], 1260, 1250\n",
    "i_2 = i_1b[2], 0.9, 17.4\n",
    "m_2 = \"Alle Zellen beleuchtet\", \"Eine Solarzelle verschattet\", \"Eine Solarzelle verschattet, zu der eine Diode parallel geschaltet ist\"\n",
    "\n",
    "df_2 = pd.DataFrame({\n",
    "    \"Versuchsaufbau\": m_2,\n",
    "    \"U [V]\": u_2,\n",
    "    \"I [mA]\": i_2})\n",
    "\n",
    "for df in [df_2]:\n",
    "    df.index = [f\"Messpunkt {i+1}\" for i in range(len(df))]\n",
    "\n",
    "# Tabelle erstellen\n",
    "\n",
    "print(\"Tabelle 3: Messdaten – Verschattung von Solarzellen\")\n",
    "display(df_2.round(2).style.format(precision=1))"
   ]
  },
  {
   "cell_type": "markdown",
   "id": "361b46b3-35b8-4649-af4b-adf760ea7c2c",
   "metadata": {},
   "source": [
    "---\n",
    "\n",
    " **Ihre Aufgabe:**  \n",
    "Beschreiben Sie hier **in eigenen Worten**, den Aufbau, die Durchführung und Ihre Beobachtungen\n",
    "- Wie wird der Versuchsaufbau mit den drei Solarzellen realisiert?\n",
    "- Welche Messwerte werden bei Verschattung aufgenommen?\n",
    "- Wie verändert sich das Verhalten der Solarzelle durch die parallel geschaltete Diode?\n",
    "- Welche Wirkung hat die Diode auf Spannung und Strom?\n",
    "\n",
    "> _Hinweis: Denken Sie an die Schritte „Aufbau, Messung und Beobachtung“._\n",
    "\n",
    "\n",
    " **Im folgenden Feld Ihre eigene Beschreibung und Beobachtungen eintragen:**"
   ]
  },
  {
   "cell_type": "code",
   "execution_count": null,
   "id": "efa20255-3e5f-4d56-a48f-8238812b0f55",
   "metadata": {},
   "outputs": [],
   "source": []
  },
  {
   "cell_type": "markdown",
   "id": "ee8d130b-518c-4509-8b2a-8de9b145f53a",
   "metadata": {
    "slideshow": {
     "slide_type": "subslide"
    }
   },
   "source": [
    "---\n",
    "\n",
    "**Auswertung**\n",
    "\n",
    "1. Berechnen Sie, um wieviel Prozent die Leistung ($P=U*I$) bei Verschattung einer in Reihe geschalteter Solarzelle abnimmt, sowohl mit als auch ohne eine parallelgeschaltete Diode.\n",
    "2. Welche Auswirkung hat dies auf die Funktionsweise und Bauweise großer Photovoltaikanlagen?\n",
    "\n",
    "#### 1. Berechnen Sie, um wieviel Prozent die Leistung bei Verschattung einer in Reihe geschalteter Solarzelle abnimmt, sowohl mit als auch ohne eine parallelgeschaltete Diode."
   ]
  },
  {
   "cell_type": "code",
   "execution_count": 45,
   "id": "ce73e375-3f2f-426f-9dbf-4e7bfd7bac1c",
   "metadata": {},
   "outputs": [
    {
     "name": "stdout",
     "output_type": "stream",
     "text": [
      "Tabelle 4: Leistung bei Verschattung von Solarzellen\n"
     ]
    },
    {
     "data": {
      "text/html": [
       "<style type=\"text/css\">\n",
       "</style>\n",
       "<table id=\"T_41dc7\">\n",
       "  <thead>\n",
       "    <tr>\n",
       "      <th class=\"blank level0\" >&nbsp;</th>\n",
       "      <th id=\"T_41dc7_level0_col0\" class=\"col_heading level0 col0\" >Versuchsaufbau</th>\n",
       "      <th id=\"T_41dc7_level0_col1\" class=\"col_heading level0 col1\" >U [V]</th>\n",
       "      <th id=\"T_41dc7_level0_col2\" class=\"col_heading level0 col2\" >I [mA]</th>\n",
       "      <th id=\"T_41dc7_level0_col3\" class=\"col_heading level0 col3\" >P [mW]</th>\n",
       "      <th id=\"T_41dc7_level0_col4\" class=\"col_heading level0 col4\" >Leistungsverringerung [%]</th>\n",
       "    </tr>\n",
       "  </thead>\n",
       "  <tbody>\n",
       "    <tr>\n",
       "      <th id=\"T_41dc7_level0_row0\" class=\"row_heading level0 row0\" >Messpunkt 1</th>\n",
       "      <td id=\"T_41dc7_row0_col0\" class=\"data row0 col0\" >Alle Zellen beleuchtet</td>\n",
       "      <td id=\"T_41dc7_row0_col1\" class=\"data row0 col1\" >1570</td>\n",
       "      <td id=\"T_41dc7_row0_col2\" class=\"data row0 col2\" >17.2</td>\n",
       "      <td id=\"T_41dc7_row0_col3\" class=\"data row0 col3\" >27004</td>\n",
       "      <td id=\"T_41dc7_row0_col4\" class=\"data row0 col4\" >0.00</td>\n",
       "    </tr>\n",
       "    <tr>\n",
       "      <th id=\"T_41dc7_level0_row1\" class=\"row_heading level0 row1\" >Messpunkt 2</th>\n",
       "      <td id=\"T_41dc7_row1_col0\" class=\"data row1 col0\" >Eine Solarzelle verschattet</td>\n",
       "      <td id=\"T_41dc7_row1_col1\" class=\"data row1 col1\" >1260</td>\n",
       "      <td id=\"T_41dc7_row1_col2\" class=\"data row1 col2\" >0.9</td>\n",
       "      <td id=\"T_41dc7_row1_col3\" class=\"data row1 col3\" >1134</td>\n",
       "      <td id=\"T_41dc7_row1_col4\" class=\"data row1 col4\" >95.80</td>\n",
       "    </tr>\n",
       "    <tr>\n",
       "      <th id=\"T_41dc7_level0_row2\" class=\"row_heading level0 row2\" >Messpunkt 3</th>\n",
       "      <td id=\"T_41dc7_row2_col0\" class=\"data row2 col0\" >Eine Solarzelle verschattet, zu der eine Diode parallel geschaltet ist</td>\n",
       "      <td id=\"T_41dc7_row2_col1\" class=\"data row2 col1\" >1250</td>\n",
       "      <td id=\"T_41dc7_row2_col2\" class=\"data row2 col2\" >17.4</td>\n",
       "      <td id=\"T_41dc7_row2_col3\" class=\"data row2 col3\" >21750</td>\n",
       "      <td id=\"T_41dc7_row2_col4\" class=\"data row2 col4\" >19.46</td>\n",
       "    </tr>\n",
       "  </tbody>\n",
       "</table>\n"
      ],
      "text/plain": [
       "<pandas.io.formats.style.Styler at 0x22963e391d0>"
      ]
     },
     "metadata": {},
     "output_type": "display_data"
    }
   ],
   "source": [
    "# Berechnung der Leistung aus dem obigen DataFrame\n",
    "p_2 = df_2[\"U [V]\"] * df_2[\"I [mA]\"]  # in mW\n",
    "\n",
    "# Berechnung der Leistungsverringerung für alle Messpunkte\n",
    "\n",
    "leistungsverringerung = ((p_2.iloc[0] - p_2) / p_2.iloc[0]) * 100\n",
    "\n",
    "df_2b = pd.DataFrame({\n",
    "    \"Versuchsaufbau\": m_2,\n",
    "    \"U [V]\": u_2,\n",
    "    \"I [mA]\": i_2,\n",
    "    \"P [mW]\": p_2,\n",
    "    \"Leistungsverringerung [%]\": leistungsverringerung})\n",
    "\n",
    "# Index setzen\n",
    "df_2b.index = [f\"Messpunkt {i+1}\" for i in range(len(df_2b))]\n",
    "\n",
    "# Tabelle erstellen und anzeigen\n",
    "print(\"Tabelle 4: Leistung bei Verschattung von Solarzellen\")\n",
    "display(df_2b.round(2).style.format({\n",
    "    \"U [V]\": \"{:.0f}\",\n",
    "    \"I [mA]\": \"{:.1f}\",\n",
    "    \"P [mW]\": \"{:.0f}\",\n",
    "    \"Leistungsverringerung [%]\": \"{:.2f}\"\n",
    "}))"
   ]
  },
  {
   "cell_type": "markdown",
   "id": "e5dd009d-8758-4deb-8245-a85e2b3806e2",
   "metadata": {},
   "source": [
    "*Ihr Text hier*\n",
    "\n",
    "\n",
    "#### 2. Welche Auswirkung hat dies auf die Funktionsweise und Bauweise großer Photovoltaikanlagen?\n",
    "\n",
    "*Ihr Text hier*"
   ]
  },
  {
   "cell_type": "markdown",
   "id": "3494883a-86be-4132-a7a9-340e274b9d48",
   "metadata": {},
   "source": [
    "---"
   ]
  },
  {
   "cell_type": "markdown",
   "id": "c7896e80-84dc-4cfa-bfea-b8d462dd2cbb",
   "metadata": {
    "editable": true,
    "slideshow": {
     "slide_type": ""
    },
    "tags": []
   },
   "source": [
    "## 2.3 Versuch  3: Abhängigkeit der Leistung vom Einfallswinkel\n",
    "\n",
    "Untersucht wird, wie der Einfallswinkel des Lichts die Spannung, den Strom und die Leistung einer Solarzelle beeinflusst.\n",
    "\n",
    "---\n",
    "\n",
    " **Aufbau, Geräte & Komponenten:**\n",
    "- Große Solarzelle  \n",
    "- Standfuß für die Solarzelle  \n",
    "- Lampe als Beleuchtungsquelle  \n",
    "- Maßband (zur Abstandskontrolle)  \n",
    "- AV-Modul  \n",
    "- Powermodul (6 V)\n",
    "\n",
    "---\n",
    "\n",
    "**Schaltplan:**\n",
    "\n",
    "![Schaltplan Versuch3](https://thga.sciebo.de/s/tmRkPoSKdPyfFLe/download \"Versuch 3\")\n",
    "\n",
    "---\n",
    "\n",
    "**Durchführung**\n",
    "\n",
    "1. Bauen Sie den Versuch wie oben dargestellt auf. Platzieren Sie die Lampe in einem solchen Abstand von der großen Solarzelle, dass ein Kurzschlussstrom von 100 mA fließt.\n",
    "2. Messen Sie $U_\\text{L}$ und $I_\\text{K}$ für Einfallswinkel $\\alpha$ von 0°, 15°, 30°, 45° und 55°. Achten Sie darauf, dass der Abstand zwischen Lampe und Solarmodul bei allen Versuchen gleich bleibt.\n",
    "\n",
    "---\n",
    "\n",
    " **Messgrößen:**\n",
    "- Leerlaufspannung $U_\\mathrm{L}$ in $\\text{[V]}$\n",
    "- Kurzschlussstrom $I_\\mathrm{K}$ in $\\text{[mA]}$\n",
    "- Einfallswinkel $\\alpha$ in $\\text{[°]}$\n",
    "- Abstand in $\\text{[cm]}$\n",
    "- Leistung $P = U_\\mathrm{L} \\cdot I_\\mathrm{K}$ in $\\text{[mW]}$\n",
    "\n",
    "---\n",
    "\n",
    "**Messdaten:**\n",
    "Notieren Sie hier Ihre Messdaten. Nutzen Sie dafür eindeutige Bezeichnungen, ähnlich wie im folgenden Beispiel:\n"
   ]
  },
  {
   "cell_type": "code",
   "execution_count": 53,
   "id": "26965734-5c1e-426b-9e7d-f91061c91e9c",
   "metadata": {},
   "outputs": [
    {
     "name": "stdout",
     "output_type": "stream",
     "text": [
      "Tabelle 5: Messwerte bei verschiedenen Einfallwinkeln\n"
     ]
    },
    {
     "data": {
      "text/html": [
       "<style type=\"text/css\">\n",
       "</style>\n",
       "<table id=\"T_41e68\">\n",
       "  <thead>\n",
       "    <tr>\n",
       "      <th class=\"blank level0\" >&nbsp;</th>\n",
       "      <th id=\"T_41e68_level0_col0\" class=\"col_heading level0 col0\" >l [cm]</th>\n",
       "      <th id=\"T_41e68_level0_col1\" class=\"col_heading level0 col1\" >alpha [°]</th>\n",
       "      <th id=\"T_41e68_level0_col2\" class=\"col_heading level0 col2\" >U [V]</th>\n",
       "      <th id=\"T_41e68_level0_col3\" class=\"col_heading level0 col3\" >I [mA]</th>\n",
       "    </tr>\n",
       "  </thead>\n",
       "  <tbody>\n",
       "    <tr>\n",
       "      <th id=\"T_41e68_level0_row0\" class=\"row_heading level0 row0\" >Messpunkt 1</th>\n",
       "      <td id=\"T_41e68_row0_col0\" class=\"data row0 col0\" >26.9</td>\n",
       "      <td id=\"T_41e68_row0_col1\" class=\"data row0 col1\" >0</td>\n",
       "      <td id=\"T_41e68_row0_col2\" class=\"data row0 col2\" >5.43</td>\n",
       "      <td id=\"T_41e68_row0_col3\" class=\"data row0 col3\" >100.0</td>\n",
       "    </tr>\n",
       "    <tr>\n",
       "      <th id=\"T_41e68_level0_row1\" class=\"row_heading level0 row1\" >Messpunkt 2</th>\n",
       "      <td id=\"T_41e68_row1_col0\" class=\"data row1 col0\" >26.9</td>\n",
       "      <td id=\"T_41e68_row1_col1\" class=\"data row1 col1\" >15</td>\n",
       "      <td id=\"T_41e68_row1_col2\" class=\"data row1 col2\" >5.34</td>\n",
       "      <td id=\"T_41e68_row1_col3\" class=\"data row1 col3\" >95.8</td>\n",
       "    </tr>\n",
       "    <tr>\n",
       "      <th id=\"T_41e68_level0_row2\" class=\"row_heading level0 row2\" >Messpunkt 3</th>\n",
       "      <td id=\"T_41e68_row2_col0\" class=\"data row2 col0\" >26.9</td>\n",
       "      <td id=\"T_41e68_row2_col1\" class=\"data row2 col1\" >30</td>\n",
       "      <td id=\"T_41e68_row2_col2\" class=\"data row2 col2\" >5.30</td>\n",
       "      <td id=\"T_41e68_row2_col3\" class=\"data row2 col3\" >92.9</td>\n",
       "    </tr>\n",
       "    <tr>\n",
       "      <th id=\"T_41e68_level0_row3\" class=\"row_heading level0 row3\" >Messpunkt 4</th>\n",
       "      <td id=\"T_41e68_row3_col0\" class=\"data row3 col0\" >26.9</td>\n",
       "      <td id=\"T_41e68_row3_col1\" class=\"data row3 col1\" >45</td>\n",
       "      <td id=\"T_41e68_row3_col2\" class=\"data row3 col2\" >5.23</td>\n",
       "      <td id=\"T_41e68_row3_col3\" class=\"data row3 col3\" >85.3</td>\n",
       "    </tr>\n",
       "    <tr>\n",
       "      <th id=\"T_41e68_level0_row4\" class=\"row_heading level0 row4\" >Messpunkt 5</th>\n",
       "      <td id=\"T_41e68_row4_col0\" class=\"data row4 col0\" >26.9</td>\n",
       "      <td id=\"T_41e68_row4_col1\" class=\"data row4 col1\" >55</td>\n",
       "      <td id=\"T_41e68_row4_col2\" class=\"data row4 col2\" >5.17</td>\n",
       "      <td id=\"T_41e68_row4_col3\" class=\"data row4 col3\" >77.5</td>\n",
       "    </tr>\n",
       "  </tbody>\n",
       "</table>\n"
      ],
      "text/plain": [
       "<pandas.io.formats.style.Styler at 0x229687f34d0>"
      ]
     },
     "metadata": {},
     "output_type": "display_data"
    }
   ],
   "source": [
    "# Beispiel-Messwerte für Aufgabe 3:\n",
    "l_3 = 26.9 # Abstand in cm\n",
    "a_3 = [0, 15, 30, 45, 55] # Winkel alpha in °\n",
    "u_3 = [5.43, 5.34, 5.30, 5.23, 5.17] #Leerlaufspannung in V\n",
    "i_3 = [100, 95.8, 92.9, 85.3, 77.5] #Kurzschlussstrom in mA\n",
    "\n",
    "df_3 = pd.DataFrame({\n",
    "    \"l [cm]\": l_3,\n",
    "    \"alpha [°]\": a_3,\n",
    "    \"U [V]\": u_3,\n",
    "    \"I [mA]\": i_3})\n",
    "\n",
    "# Index setzen\n",
    "df_3.index = [f\"Messpunkt {i+1}\" for i in range(len(df_3))]\n",
    "\n",
    "# Tabelle erstellen und anzeigen\n",
    "print(\"Tabelle 5: Messwerte bei verschiedenen Einfallwinkeln\")\n",
    "display(df_3.round(2).style.format({\n",
    "    \"l [cm]\": \"{:.1f}\",\n",
    "    \"alpha [°]\": \"{:.0f}\",\n",
    "    \"U [V]\": \"{:.2f}\",\n",
    "    \"I [mA]\": \"{:.1f}\"\n",
    "}))"
   ]
  },
  {
   "cell_type": "markdown",
   "id": "d5d8c3f8-5f0b-4a32-91db-ea315b54dba7",
   "metadata": {},
   "source": [
    "---\n",
    "\n",
    " **Ihre Aufgabe:**\n",
    " Beschreiben Sie hier **in eigenen Worten**, den Aufbau, die Durchführung und Ihre Beobachtungen\n",
    "- Wie wird der Aufbau eingerichtet?\n",
    "- Welche Einfallswinkel werden untersucht?\n",
    "- Wie verhalten sich Spannung und Strom bei zunehmendem Winkel?\n",
    "- Welche Beobachtungen ergeben sich hinsichtlich der Lichtausbeute?\n",
    "\n",
    "> _Hinweis: Denken Sie an die Schritte „Aufbau, Messung und Beobachtung“._\n",
    "\n",
    "---\n",
    "\n",
    " **Im folgenden Feld Ihre eigene Beschreibung und Beobachtungen eintragen:**\n"
   ]
  },
  {
   "cell_type": "markdown",
   "id": "1e14e783-165b-4c2e-a4ea-5ae8bd284ce8",
   "metadata": {},
   "source": []
  },
  {
   "cell_type": "markdown",
   "id": "7bd6b4b0-7b33-4d24-b40c-2ec1289857d0",
   "metadata": {},
   "source": [
    "**Auswertung**\n",
    "\n",
    "1. Zeichnen Sie ein $P – \\cos \\alpha$ Diagramm. Welche Abhängigkeit besteht zwischen der Leistung und dem Einfallswinkel?\n",
    "2. Erklären Sie diese Abhängigkeit geometrisch unter der Voraussetzung $I_\\text{K}$ ~ $A$, also einer Proportionalität zwischen Strom und beleuchteter Fläche. Erstellen Sie zur Verdeutlichung eine Zeichnung.\n",
    "3. Welchen Einfallswinkel haben Sonnenstrahlen in Deutschland? Welchen Winkel haben Giebeldächer? Ist der Zusammenhang des durchschnittlichen Daches hierzulande zum Einfallswinkel optimal?\n",
    "4. Wenn Sie ein großes Flachdach mit PV-Anlagen ausrüsten möchten, welchen Winkel und welche Ausrichtung würden Sie wählen und warum? Ändert sich an diesen Werten etwas, wenn das Flachdach zu einem Industriebetrieb im 2-Schicht-System gehört? Wieso, bzw. wieso nicht?\n",
    "\n",
    "#### 1a. Berechnen Sie zunächst die Leistung $P$ und $\\cos \\alpha$ und tragen Ihre Messdaten und berechneten Werte in eine gemeinsame Tabelle ein:"
   ]
  },
  {
   "cell_type": "code",
   "execution_count": 57,
   "id": "61203ec4-117d-4de2-a5a9-ac7c0546537a",
   "metadata": {
    "editable": true,
    "slideshow": {
     "slide_type": ""
    },
    "tags": []
   },
   "outputs": [
    {
     "name": "stdout",
     "output_type": "stream",
     "text": [
      "Tabelle 6: Leistung bei verschiedenen Einfallwinkeln\n"
     ]
    },
    {
     "data": {
      "text/html": [
       "<style type=\"text/css\">\n",
       "</style>\n",
       "<table id=\"T_8ff79\">\n",
       "  <thead>\n",
       "    <tr>\n",
       "      <th class=\"blank level0\" >&nbsp;</th>\n",
       "      <th id=\"T_8ff79_level0_col0\" class=\"col_heading level0 col0\" >l [cm]</th>\n",
       "      <th id=\"T_8ff79_level0_col1\" class=\"col_heading level0 col1\" >alpha [°]</th>\n",
       "      <th id=\"T_8ff79_level0_col2\" class=\"col_heading level0 col2\" >U [V]</th>\n",
       "      <th id=\"T_8ff79_level0_col3\" class=\"col_heading level0 col3\" >I [mA]</th>\n",
       "      <th id=\"T_8ff79_level0_col4\" class=\"col_heading level0 col4\" >P [mW]</th>\n",
       "      <th id=\"T_8ff79_level0_col5\" class=\"col_heading level0 col5\" >cos a</th>\n",
       "    </tr>\n",
       "  </thead>\n",
       "  <tbody>\n",
       "    <tr>\n",
       "      <th id=\"T_8ff79_level0_row0\" class=\"row_heading level0 row0\" >Messpunkt 1</th>\n",
       "      <td id=\"T_8ff79_row0_col0\" class=\"data row0 col0\" >26.9</td>\n",
       "      <td id=\"T_8ff79_row0_col1\" class=\"data row0 col1\" >0</td>\n",
       "      <td id=\"T_8ff79_row0_col2\" class=\"data row0 col2\" >5.43</td>\n",
       "      <td id=\"T_8ff79_row0_col3\" class=\"data row0 col3\" >100.0</td>\n",
       "      <td id=\"T_8ff79_row0_col4\" class=\"data row0 col4\" >543.0</td>\n",
       "      <td id=\"T_8ff79_row0_col5\" class=\"data row0 col5\" >1.00</td>\n",
       "    </tr>\n",
       "    <tr>\n",
       "      <th id=\"T_8ff79_level0_row1\" class=\"row_heading level0 row1\" >Messpunkt 2</th>\n",
       "      <td id=\"T_8ff79_row1_col0\" class=\"data row1 col0\" >26.9</td>\n",
       "      <td id=\"T_8ff79_row1_col1\" class=\"data row1 col1\" >15</td>\n",
       "      <td id=\"T_8ff79_row1_col2\" class=\"data row1 col2\" >5.34</td>\n",
       "      <td id=\"T_8ff79_row1_col3\" class=\"data row1 col3\" >95.8</td>\n",
       "      <td id=\"T_8ff79_row1_col4\" class=\"data row1 col4\" >511.6</td>\n",
       "      <td id=\"T_8ff79_row1_col5\" class=\"data row1 col5\" >0.97</td>\n",
       "    </tr>\n",
       "    <tr>\n",
       "      <th id=\"T_8ff79_level0_row2\" class=\"row_heading level0 row2\" >Messpunkt 3</th>\n",
       "      <td id=\"T_8ff79_row2_col0\" class=\"data row2 col0\" >26.9</td>\n",
       "      <td id=\"T_8ff79_row2_col1\" class=\"data row2 col1\" >30</td>\n",
       "      <td id=\"T_8ff79_row2_col2\" class=\"data row2 col2\" >5.30</td>\n",
       "      <td id=\"T_8ff79_row2_col3\" class=\"data row2 col3\" >92.9</td>\n",
       "      <td id=\"T_8ff79_row2_col4\" class=\"data row2 col4\" >492.4</td>\n",
       "      <td id=\"T_8ff79_row2_col5\" class=\"data row2 col5\" >0.87</td>\n",
       "    </tr>\n",
       "    <tr>\n",
       "      <th id=\"T_8ff79_level0_row3\" class=\"row_heading level0 row3\" >Messpunkt 4</th>\n",
       "      <td id=\"T_8ff79_row3_col0\" class=\"data row3 col0\" >26.9</td>\n",
       "      <td id=\"T_8ff79_row3_col1\" class=\"data row3 col1\" >45</td>\n",
       "      <td id=\"T_8ff79_row3_col2\" class=\"data row3 col2\" >5.23</td>\n",
       "      <td id=\"T_8ff79_row3_col3\" class=\"data row3 col3\" >85.3</td>\n",
       "      <td id=\"T_8ff79_row3_col4\" class=\"data row3 col4\" >446.1</td>\n",
       "      <td id=\"T_8ff79_row3_col5\" class=\"data row3 col5\" >0.71</td>\n",
       "    </tr>\n",
       "    <tr>\n",
       "      <th id=\"T_8ff79_level0_row4\" class=\"row_heading level0 row4\" >Messpunkt 5</th>\n",
       "      <td id=\"T_8ff79_row4_col0\" class=\"data row4 col0\" >26.9</td>\n",
       "      <td id=\"T_8ff79_row4_col1\" class=\"data row4 col1\" >55</td>\n",
       "      <td id=\"T_8ff79_row4_col2\" class=\"data row4 col2\" >5.17</td>\n",
       "      <td id=\"T_8ff79_row4_col3\" class=\"data row4 col3\" >77.5</td>\n",
       "      <td id=\"T_8ff79_row4_col4\" class=\"data row4 col4\" >400.7</td>\n",
       "      <td id=\"T_8ff79_row4_col5\" class=\"data row4 col5\" >0.57</td>\n",
       "    </tr>\n",
       "  </tbody>\n",
       "</table>\n"
      ],
      "text/plain": [
       "<pandas.io.formats.style.Styler at 0x229687f34d0>"
      ]
     },
     "metadata": {},
     "output_type": "display_data"
    }
   ],
   "source": [
    "# Berechnung der Leistung aus dem obigen DataFrame\n",
    "p_3 = df_3[\"U [V]\"] * df_3[\"I [mA]\"]  # in mW\n",
    "\n",
    "# Berechnung des cos alpha, dafür muss der Grad-Wert in einen Radiant-Wert umgerechnet werden. Dies kann durch numpy-Funktionen erreicht werden\n",
    "angle_rad = np.radians(a_3) # Bilden der Radiant-Winkel\n",
    "cos_a = np.cos(angle_rad) # Errechnen des cosinus von alpha aus den Radiant-Winkeln\n",
    "\n",
    "df_3a = pd.DataFrame({\n",
    "    \"l [cm]\": l_3,\n",
    "    \"alpha [°]\": a_3,\n",
    "    \"U [V]\": u_3,\n",
    "    \"I [mA]\": i_3,\n",
    "    \"P [mW]\": p_3,\n",
    "    \"cos a\": cos_a\n",
    "})\n",
    "\n",
    "# Index setzen\n",
    "df_3a.index = [f\"Messpunkt {i+1}\" for i in range(len(df_3a))]\n",
    "\n",
    "# Tabelle erstellen und anzeigen\n",
    "print(\"Tabelle 6: Leistung bei verschiedenen Einfallwinkeln\")\n",
    "display(df_3a.round(2).style.format({\n",
    "    \"l [cm]\": \"{:.1f}\",\n",
    "    \"alpha [°]\": \"{:.0f}\",\n",
    "    \"U [V]\": \"{:.2f}\",\n",
    "    \"I [mA]\": \"{:.1f}\",\n",
    "    \"P [mW]\": \"{:.1f}\",\n",
    "    \"cos a\": \"{:.2f}\"\n",
    "}))"
   ]
  },
  {
   "cell_type": "markdown",
   "id": "3e58b21d-6080-4cee-a130-c430f1690077",
   "metadata": {},
   "source": [
    "#### 1b. Zeichnen Sie ein $P – \\cos \\alpha$-Diagramm. Welche Abhängigkeit besteht zwischen der Leistung und dem Einfallswinkel?\n",
    "\n",
    "*Dafür nutzen wir `matplotlib`, wie im Beispiel unten*"
   ]
  },
  {
   "cell_type": "code",
   "execution_count": 58,
   "id": "008959ba-1d15-4129-bdf8-538324386188",
   "metadata": {},
   "outputs": [
    {
     "data": {
      "image/png": "[encoded data removed]",
      "text/plain": [
       "<Figure size 640x480 with 1 Axes>"
      ]
     },
     "metadata": {},
     "output_type": "display_data"
    }
   ],
   "source": [
    "# Die benötigten Werte für die Leistung (p_3) und den Einfallswinkel bzw. den Cosinus von alpha (cos_a) haben wir oben bereits berechnet. Diese können wir wiederverwenden\n",
    "\n",
    "# Diagramm erzeugen mit plt.plot\n",
    "plt.plot(cos_a, p_3, \"o\")\n",
    "\n",
    "# Achsenbeschriftungen erstellen\n",
    "plt.xlabel(\"cos α\")\n",
    "plt.ylabel(\"Leistung [mW]\")\n",
    "plt.title(\"Leistung in Abhänigkeit des Einstrahlwinkels\")\n",
    "\n",
    "# Gitternetz hinzufügen\n",
    "plt.grid()"
   ]
  },
  {
   "cell_type": "markdown",
   "id": "cb5f0d63-e9b8-4ed0-83fa-2b1854e1c811",
   "metadata": {},
   "source": [
    "*Beschreiben Sie hier in **eigenen Worten** den Verlauf des Diagramms*"
   ]
  },
  {
   "cell_type": "markdown",
   "id": "483d7fe1-3ab4-404a-8ce8-dfa548c68dbc",
   "metadata": {},
   "source": [
    "#### 2. Erklären Sie diese Abhängigkeit geometrisch unter der Voraussetzung $I_\\text{K}$ ~ $A$, also einer Proportionalität zwischen Strom und beleuchteter Fläche. Erstellen Sie zur Verdeutlichung eine Zeichnung.\n",
    "\n",
    "Aufgrund der Komplexizität sehen Sie hier eine Musterlösung für diese Aufgabe:"
   ]
  },
  {
   "cell_type": "code",
   "execution_count": 12,
   "id": "d521d93a-6988-43d9-9103-d51b8c0db8b5",
   "metadata": {
    "jupyter": {
     "source_hidden": true
    }
   },
   "outputs": [
    {
     "data": {
      "image/png": "[encoded data removed]",
      "text/plain": [
       "<Figure size 1400x1000 with 4 Axes>"
      ]
     },
     "metadata": {},
     "output_type": "display_data"
    },
    {
     "name": "stdout",
     "output_type": "stream",
     "text": [
      "\n",
      "==================================================\n",
      "ANALYSE IHRER MESSDATEN\n",
      "==================================================\n",
      "Korrelation zwischen cos(α) und Leistung: 0.9843\n",
      "Lineare Regression: P = 1370.262 · cos(α) + -683.077\n",
      "Bestimmtheitsmaß R²: 0.9689\n",
      "\n",
      "✓ Sehr gute Übereinstimmung mit dem Kosinusgesetz!\n"
     ]
    }
   ],
   "source": [
    "import numpy as np\n",
    "import matplotlib.pyplot as plt\n",
    "from matplotlib.patches import Rectangle, FancyArrowPatch\n",
    "import matplotlib.patches as mpatches\n",
    "\n",
    "# Erstelle eine Abbildung mit mehreren Subplots\n",
    "fig = plt.figure(figsize=(14, 10))\n",
    "\n",
    "# SUBPLOT 1: Geometrische Darstellung\n",
    "ax1 = plt.subplot(2, 2, 1)\n",
    "ax1.set_title('Geometrische Abhängigkeit: Effektive Fläche', fontsize=12, fontweight='bold')\n",
    "ax1.set_xlim(-1, 3)\n",
    "ax1.set_ylim(-0.5, 2.5)\n",
    "ax1.set_aspect('equal')\n",
    "ax1.axis('off')\n",
    "\n",
    "# Solarzelle (Rechteck)\n",
    "solar_width = 1.5\n",
    "solar_height = 0.1\n",
    "solar_cell = Rectangle((0.5, 0), solar_width, solar_height, \n",
    "                       facecolor='darkblue', edgecolor='black', linewidth=2)\n",
    "ax1.add_patch(solar_cell)\n",
    "\n",
    "# Einstrahlwinkel\n",
    "angle = 45  # Grad\n",
    "angle_rad = np.radians(angle)\n",
    "\n",
    "# Lichtstrahlen\n",
    "num_rays = 5\n",
    "for i in range(num_rays):\n",
    "    x_start = 0.7 + i * 0.3\n",
    "    y_start = 2\n",
    "    x_end = x_start - 1.5 * np.sin(angle_rad)\n",
    "    y_end = y_start - 1.5 * np.cos(angle_rad)\n",
    "    \n",
    "    arrow = FancyArrowPatch((x_start, y_start), (x_end, y_end),\n",
    "                           arrowstyle='->', mutation_scale=15,\n",
    "                           color='gold', linewidth=2)\n",
    "    ax1.add_patch(arrow)\n",
    "\n",
    "# Normale zur Oberfläche\n",
    "normal_arrow = FancyArrowPatch((1.25, solar_height), (1.25, 1.5),\n",
    "                              arrowstyle='->', mutation_scale=15,\n",
    "                              color='red', linewidth=2, linestyle='--')\n",
    "ax1.add_patch(normal_arrow)\n",
    "\n",
    "# Winkelmarkierung\n",
    "arc_angle = mpatches.Arc((1.25, solar_height), 0.8, 0.8, \n",
    "                         angle=0, theta1=90-angle, theta2=90,\n",
    "                         color='green', linewidth=2)\n",
    "ax1.add_patch(arc_angle)\n",
    "\n",
    "# Beschriftungen\n",
    "ax1.text(1.25, 1.7, 'Normale', fontsize=10, ha='center', color='red')\n",
    "ax1.text(0.3, 1.5, 'Lichtstrahlen', fontsize=10, color='gold', rotation=-angle)\n",
    "ax1.text(1.5, 0.5, f'α = {angle}°', fontsize=11, color='green')\n",
    "ax1.text(1.25, -0.3, 'Solarzelle', fontsize=11, ha='center')\n",
    "\n",
    "# SUBPLOT 2: Projektion der Fläche\n",
    "ax2 = plt.subplot(2, 2, 2)\n",
    "ax2.set_title('Projizierte Fläche bei verschiedenen Winkeln', fontsize=12, fontweight='bold')\n",
    "ax2.set_xlim(-0.5, 3.5)\n",
    "ax2.set_ylim(-0.5, 2)\n",
    "ax2.axis('off')\n",
    "\n",
    "# Drei verschiedene Winkel zeigen\n",
    "angles_demo = [0, 30, 60]\n",
    "x_positions = [0, 1.2, 2.4]\n",
    "\n",
    "for idx, (alpha, x_pos) in enumerate(zip(angles_demo, x_positions)):\n",
    "    # Effektive Höhe der projizierten Fläche\n",
    "    eff_height = 1.5 * np.cos(np.radians(alpha))\n",
    "    \n",
    "    # Zeichne Rechteck (projizierte Fläche)\n",
    "    rect = Rectangle((x_pos, 0.2), 0.6, eff_height,\n",
    "                    facecolor='lightblue', edgecolor='black', linewidth=1.5)\n",
    "    ax2.add_patch(rect)\n",
    "    \n",
    "    # Lichtstrahlen von oben\n",
    "    for i in range(3):\n",
    "        arrow = FancyArrowPatch((x_pos + 0.2 + i*0.1, 1.9), \n",
    "                              (x_pos + 0.2 + i*0.1, 0.2 + eff_height + 0.1),\n",
    "                              arrowstyle='->', mutation_scale=10,\n",
    "                              color='gold', linewidth=1.5)\n",
    "        ax2.add_patch(arrow)\n",
    "    \n",
    "    # Beschriftung\n",
    "    ax2.text(x_pos + 0.3, -0.1, f'α = {alpha}°', fontsize=10, ha='center')\n",
    "    ax2.text(x_pos + 0.3, 0.2 + eff_height/2, \n",
    "            f'A·cos({alpha}°)\\n= {np.cos(np.radians(alpha)):.2f}·A',\n",
    "            fontsize=9, ha='center', va='center')\n",
    "\n",
    "# SUBPLOT 3: Theoretische Kurve\n",
    "ax3 = plt.subplot(2, 2, 3)\n",
    "ax3.set_title('Theoretische Abhängigkeit: P ~ cos(α)', fontsize=12, fontweight='bold')\n",
    "\n",
    "# Theoretische Kurve\n",
    "alpha_theory = np.linspace(0, 90, 100)\n",
    "cos_theory = np.cos(np.radians(alpha_theory))\n",
    "\n",
    "ax3.plot(alpha_theory, cos_theory, 'b-', linewidth=2.5, label='cos(α)')\n",
    "ax3.fill_between(alpha_theory, 0, cos_theory, alpha=0.3, color='lightblue')\n",
    "ax3.grid(True, alpha=0.3, linestyle='--')\n",
    "ax3.set_xlabel('Einfallswinkel α [°]', fontsize=11)\n",
    "ax3.set_ylabel('Relative Leistung P/P₀', fontsize=11)\n",
    "ax3.set_xlim(0, 90)\n",
    "ax3.set_ylim(0, 1.1)\n",
    "\n",
    "# Markiere wichtige Punkte\n",
    "important_angles = [0, 30, 45, 60, 90]\n",
    "for angle in important_angles:\n",
    "    cos_val = np.cos(np.radians(angle))\n",
    "    ax3.plot(angle, cos_val, 'ro', markersize=6)\n",
    "    if angle < 90:\n",
    "        ax3.annotate(f'{cos_val:.2f}', (angle, cos_val), \n",
    "                    textcoords=\"offset points\", xytext=(0,10), \n",
    "                    ha='center', fontsize=9)\n",
    "\n",
    "ax3.legend(loc='upper right')\n",
    "\n",
    "# SUBPLOT 4: Ihre Messdaten\n",
    "ax4 = plt.subplot(2, 2, 4)\n",
    "ax4.set_title('Ihre Messdaten: Leistung vs. cos(α)', fontsize=12, fontweight='bold')\n",
    "\n",
    "# Plotte Ihre Daten (falls vorhanden)\n",
    "try:\n",
    "    # Normiere die Leistung auf Maximum = 1\n",
    "    p_normalized = p_3 / np.max(p_3)\n",
    "    \n",
    "    # Scatter plot der Messdaten\n",
    "    ax4.scatter(cosinus_a, p_normalized, color='red', s=50, \n",
    "               label='Messdaten', zorder=5, edgecolors='darkred', linewidth=1)\n",
    "    \n",
    "    # Fit einer linearen Regression\n",
    "    fit_coeffs = np.polyfit(cosinus_a, p_normalized, 1)\n",
    "    fit_line = np.poly1d(fit_coeffs)\n",
    "    x_fit = np.linspace(min(cosinus_a), max(cosinus_a), 100)\n",
    "    ax4.plot(x_fit, fit_line(x_fit), 'b--', linewidth=2, \n",
    "            label=f'Fit: P = {fit_coeffs[0]:.2f}·cos(α) + {fit_coeffs[1]:.2f}')\n",
    "    \n",
    "    # Ideale Linie P = cos(α)\n",
    "    ax4.plot([0, 1], [0, 1], 'g-', linewidth=1.5, alpha=0.5, \n",
    "            label='Ideal: P = cos(α)')\n",
    "    \n",
    "except NameError:\n",
    "    # Falls die Daten nicht definiert sind, zeige Beispieldaten\n",
    "    cosinus_a_example = np.array([1.0, 0.866, 0.707, 0.5, 0.259, 0.0])\n",
    "    p_3_example = cosinus_a_example + np.random.normal(0, 0.02, len(cosinus_a_example))\n",
    "    p_3_example = np.maximum(p_3_example, 0)  # Keine negativen Werte\n",
    "    \n",
    "    ax4.scatter(cosinus_a_example, p_3_example, color='red', s=50, \n",
    "               label='Beispiel-Messdaten', zorder=5, edgecolors='darkred', linewidth=1)\n",
    "    ax4.plot([0, 1], [0, 1], 'g-', linewidth=2, alpha=0.7, \n",
    "            label='Ideal: P = cos(α)')\n",
    "\n",
    "ax4.set_xlabel('cos(α)', fontsize=11)\n",
    "ax4.set_ylabel('Normierte Leistung P/P₀', fontsize=11)\n",
    "ax4.set_xlim(-0.05, 1.05)\n",
    "ax4.set_ylim(-0.05, 1.1)\n",
    "ax4.grid(True, alpha=0.3, linestyle='--')\n",
    "ax4.legend(loc='upper left')\n",
    "\n",
    "# Gesamttitel\n",
    "fig.suptitle('Leistungsabhängigkeit vom Einstrahlwinkel bei Solarzellen', \n",
    "            fontsize=14, fontweight='bold', y=0.98)\n",
    "\n",
    "plt.tight_layout()\n",
    "plt.show()\n",
    "\n",
    "# Zusätzliche Analyse (falls Daten vorhanden)\n",
    "try:\n",
    "    print(\"\\n\" + \"=\"*50)\n",
    "    print(\"ANALYSE IHRER MESSDATEN\")\n",
    "    print(\"=\"*50)\n",
    "    \n",
    "    # Berechne Korrelation\n",
    "    correlation = np.corrcoef(cosinus_a, p_3)[0,1]\n",
    "    print(f\"Korrelation zwischen cos(α) und Leistung: {correlation:.4f}\")\n",
    "    \n",
    "    # Linearität prüfen\n",
    "    fit = np.polyfit(cosinus_a, p_3, 1)\n",
    "    print(f\"Lineare Regression: P = {fit[0]:.3f} · cos(α) + {fit[1]:.3f}\")\n",
    "    \n",
    "    # R² berechnen\n",
    "    p_fit = np.polyval(fit, cosinus_a)\n",
    "    ss_res = np.sum((p_3 - p_fit)**2)\n",
    "    ss_tot = np.sum((p_3 - np.mean(p_3))**2)\n",
    "    r_squared = 1 - (ss_res / ss_tot)\n",
    "    print(f\"Bestimmtheitsmaß R²: {r_squared:.4f}\")\n",
    "    \n",
    "    if r_squared > 0.95:\n",
    "        print(\"\\n✓ Sehr gute Übereinstimmung mit dem Kosinusgesetz!\")\n",
    "    elif r_squared > 0.85:\n",
    "        print(\"\\n✓ Gute Übereinstimmung mit dem Kosinusgesetz.\")\n",
    "    else:\n",
    "        print(\"\\n⚠ Moderate Übereinstimmung - mögliche Störfaktoren vorhanden.\")\n",
    "        \n",
    "except NameError:\n",
    "    print(\"\\nHinweis: Verwenden Sie Ihre eigenen Daten (p_3 und cosinus_a) für die Analyse.\")"
   ]
  },
  {
   "cell_type": "markdown",
   "id": "a209eee3-f2b4-4043-811a-fdffbdc073dd",
   "metadata": {},
   "source": [
    "#### 3. Welchen Einfallswinkel haben Sonnenstrahlen in Deutschland? Welchen Winkel haben Giebeldächer? Ist der Zusammenhang des durchschnittlichen Daches hierzulande zum Einfallswinkel optimal?\n",
    "\n",
    "*Ihr Text hier*\n",
    "\n",
    "#### 4. Wenn Sie ein großes Flachdach mit PV-Anlagen ausrüsten möchten, welchen Winkel und welche Ausrichtung würden Sie wählen und warum? Ändert sich an diesen Werten etwas, wenn das Flachdach zu einem Industriebetrieb im 2-Schicht-System gehört? Wieso, bzw. wieso nicht?\n",
    "\n",
    "*Ihr Text hier*"
   ]
  },
  {
   "cell_type": "code",
   "execution_count": null,
   "id": "bdfeec63-8779-447b-87c2-de16aeef4daa",
   "metadata": {},
   "outputs": [],
   "source": []
  },
  {
   "cell_type": "markdown",
   "id": "b9741d5c-cb78-4297-bb11-65c6cd1dd6a9",
   "metadata": {},
   "source": [
    "---"
   ]
  },
  {
   "cell_type": "markdown",
   "id": "93b5441c-371f-4c02-aa4b-096f8c761eb2",
   "metadata": {},
   "source": [
    "## 2.4 Versuch  4: Funktionsweise von Shunt, PWM und Serienregler\n",
    "\n",
    "Untersucht wird, wie verschiedene Reglerarten (Shunt, PWM und Serienregler) das Ladeverhalten eines Kondensators beeinflussen.\n",
    "\n",
    "---\n",
    "\n",
    " **Aufbau, Geräte & Komponenten:**\n",
    "- Grundeinheit\n",
    "- Große Solarzelle  \n",
    "- Lampe  \n",
    "- AV-Modul  \n",
    "- Kondensatormodul  \n",
    "- Shunt, Serien und PWM-Regler   \n",
    "- Powermodul \n",
    "- Stoppuhr\n",
    "\n",
    "---\n",
    "\n",
    "**Schaltplan:**\n",
    "\n",
    "![Schaltplan Versuch4](https://thga.sciebo.de/s/4wSadsp2DGrdQbN/download \"Versuch 4\")\n",
    "\n",
    "---\n",
    "\n",
    "**Durchführung**\n",
    "\n",
    "1. Bauen Sie den Versuch wie oben dargestellt zunächst mit dem Shunt-Regler auf. Beleuchten Sie die große Solarzelle mit Hilfe der Lampe.\n",
    "2. Beobachten Sie die Spannung am Kondensator und Starten Sie die Messung, sobald $U_\\text{Kond}$ ≈ 4 V und $I_\\text{Start}$ ≈ 40 mA betragen. Nehmen Sie dann für 7 min alle 20 s einen Messpunkt auf.\n",
    "3. Wiederholen Sie den Versuch mit dem Serienregler.\n",
    "4. Wiederholen Sie den Versuch mit dem PWM-Regler und starten Sie die Messungen, sobald $U_\\text{Kond}$ ≈ 4 V beträgt (die Solarzelle sollte weiterhin so positioniert sein, dass die Kurzschlussspannung $I_\\text{K}$ ≈ 40 mA beträgt).\n",
    "\n",
    "---\n",
    "\n",
    " **Messgrößen:**\n",
    "- Kondensatorspannung $( U_\\mathrm{Kond})$ $\\text{[V]}$  \n",
    "- Stromstärke $I$ in $\\text{[mA]}$  \n",
    "- Zeit $t$ in $\\text{[s]}$\n",
    "\n",
    "---\n",
    "\n",
    "**Messdaten:**\n",
    "\n",
    "Notieren Sie hier Ihre Messdaten. Nutzen Sie dafür eindeutige Bezeichnungen, ähnlich wie in obigen Beispielen, und zeichnen Sie daraus eine Tabelle:"
   ]
  },
  {
   "cell_type": "code",
   "execution_count": 59,
   "id": "98a143a3-1963-4292-894a-d8766fb396b0",
   "metadata": {},
   "outputs": [],
   "source": [
    "# Ihr Code hier"
   ]
  },
  {
   "cell_type": "markdown",
   "id": "c9c6cdd2-af15-4d73-adac-9115bcbe79a9",
   "metadata": {},
   "source": [
    "---\n",
    "\n",
    " **Ihre Aufgabe:**\n",
    "Beschreiben Sie hier **in eigenen Worten**, den Aufbau, die Durchführung und Ihre Beobachtungen\n",
    "- Welche Startbedingungen gelten für die Messung?\n",
    "- Was ist beim Wechsel der Regler zu beachten?\n",
    "- Wie verlaufen Spannung und Strom über die Zeit?\n",
    "- Welche Unterschiede fallen zwischen den Reglertypen auf?\n",
    "\n",
    "> _Hinweis: Denken Sie an die Schritte „Aufbau, Messung und Beobachtung“._\n",
    "---\n",
    " **Im folgenden Feld Ihre eigene Beschreibung und Beobachtungen eintragen:**"
   ]
  },
  {
   "cell_type": "markdown",
   "id": "972ee34a-1d19-4b16-94b8-482af5c066c6",
   "metadata": {},
   "source": [
    "---"
   ]
  },
  {
   "cell_type": "markdown",
   "id": "6b99e0b0-637b-481b-ba86-e9d4e5da01a0",
   "metadata": {},
   "source": []
  },
  {
   "cell_type": "markdown",
   "id": "fc00193f-a71e-46e5-ab0e-929d2a4d668f",
   "metadata": {},
   "source": [
    "**Auswertung**\n",
    "\n",
    "1. Nennen Sie die Schaltschwellen von Shunt- und Serien- und PWM-Regler.\n",
    "2. Erläutern Sie die Funktionsweise der drei Regler. Erklären Sie dabei die Unterschiede.\n",
    "3. Welche Vor- und Nachteile haben Shunt-, PWM- und Serienregler?"
   ]
  },
  {
   "cell_type": "markdown",
   "id": "1fbf2669-27c6-446f-8e7c-1b618ac8e1af",
   "metadata": {},
   "source": [
    "#### 1. Nennen Sie die Schaltschwellen von Shunt- und Serien- und PWM-Regler.\n",
    "\n",
    "*Ihr Text hier*\n",
    "\n",
    "#### 2. Erläutern Sie die Funktionsweise der drei Regler. Erklären Sie dabei die Unterschiede.\n",
    "\n",
    "*Ihr Text hier*\n",
    "\n",
    "#### 3. Welche Vor- und Nachteile haben Shunt-, PWM- und Serienregler?\n",
    "\n",
    "*Ihr Text hier*"
   ]
  },
  {
   "cell_type": "markdown",
   "id": "7073d34a-b82c-434c-89c3-e5424ea2ac79",
   "metadata": {},
   "source": [
    "---\n",
    "\n",
    "## 2.5 Versuch 5: U-I-Kennlinie einer Solarzelle in Abhängigkeit von der Beleuchtungsstärke\n",
    "\n",
    "#### Aufgabe:\n",
    "Untersucht wird die U-I Kennlinie einer Solarzelle bei verschiedenen Beleuchtungsstärken. Ziel ist es, die jeweils maximal mögliche Leistung (Maximum Power Point) sowie die Füllfaktoren zu bestimmen.\n",
    "\n",
    "---\n",
    "\n",
    " **Aufbau, Geräte & Komponenten:**\n",
    "- Grundeinheit\n",
    "- 1 Mittlere Solarzelle\n",
    "- Potentiometermodul\n",
    "- 1 Beleuchtungsmodul\n",
    "- AV-Modul\n",
    "- Powermodul (5 V)\n",
    "\n",
    "---\n",
    "\n",
    "**Schaltplan:**\n",
    "\n",
    "![Schaltplan Versuch5](https://thga.sciebo.de/s/MjKEKcYanGHHsw6/download \"Versuch 5\")\n",
    "\n",
    "---\n",
    "\n",
    "**Durchführung**\n",
    "\n",
    "Führen Sie Spannungs- und Stromstärkemessungen entsprechend der folgenden Angaben durch. Achten Sie auf die richtige Schaltung bei der Messung der Leerlaufspannung und dem Kurzschlussstrom (Umstellen am AV-Modul). Regeln Sie die Spannung mithilfe des Potentiometermoduls in **50 mV-Schritten**.\n",
    "Wiederholen Sie die Messungen für 3, 2 und 1 leuchtende Glühbirne(n) im Beleuchtungsmodul.\n",
    "\n",
    "1. Messpunkt 1: Leerlaufspannung (Spannungsmessmodus am AV-Modul).\n",
    "2. Messpunkt 2: Beide Potentiometer am Potentiometermodul auf den maximalen Widerstand (1 kΩ, 100 Ω) einstellen (Spannungs- und Stromstärkemessmodus am AV-Modul).\n",
    "3. Messpunkte 3 bis n: Messung alle 50 mV. Zunächst das 1 kΩ Potentiometer verstellen, dann mit das 100 Ω Potentiometer herunterdrehen. Die Messungen solange fortführen, bis beide Potentiometer auf 0 Ω eingestellt sind.\n",
    "4. Messpunkt n+1: Kurzschlussstrom-Messung (AV-Modul im Stromstärkemodus direkt an die Solarzelle anschließen).\n",
    "\n",
    "---\n",
    "\n",
    " **Messgrößen:**\n",
    "- Spannung $U$ in $\\text{[mV]}$\n",
    "- Strom $I$ in $\\text{[mA]}$\n",
    "- Leistung $P = U \\cdot I$ in $\\text{[mW]}$\n",
    "\n",
    "---\n",
    "\n",
    "**Messdaten**\n",
    "\n",
    "Notieren Sie hier Ihre Messdaten. Nutzen Sie dafür eindeutige Bezeichnungen, ähnlich wie in obigen Beispielen, und zeichnen Sie daraus eine Tabelle:\n",
    "\n"
   ]
  },
  {
   "cell_type": "code",
   "execution_count": 74,
   "id": "e3af23e5-259d-4315-9e3a-2aa184f57a24",
   "metadata": {},
   "outputs": [
    {
     "name": "stdout",
     "output_type": "stream",
     "text": [
      "Tabelle 7:Messwerte für Bestrahlung mit 4 Glühbirnen\n"
     ]
    },
    {
     "data": {
      "text/html": [
       "<style type=\"text/css\">\n",
       "</style>\n",
       "<table id=\"T_3a19c\">\n",
       "  <thead>\n",
       "    <tr>\n",
       "      <th class=\"blank level0\" >&nbsp;</th>\n",
       "      <th id=\"T_3a19c_level0_col0\" class=\"col_heading level0 col0\" >U [mV]</th>\n",
       "      <th id=\"T_3a19c_level0_col1\" class=\"col_heading level0 col1\" >I [mA]</th>\n",
       "    </tr>\n",
       "  </thead>\n",
       "  <tbody>\n",
       "    <tr>\n",
       "      <th id=\"T_3a19c_level0_row0\" class=\"row_heading level0 row0\" >Messpunkt 1</th>\n",
       "      <td id=\"T_3a19c_row0_col0\" class=\"data row0 col0\" >521</td>\n",
       "      <td id=\"T_3a19c_row0_col1\" class=\"data row0 col1\" >0.0</td>\n",
       "    </tr>\n",
       "    <tr>\n",
       "      <th id=\"T_3a19c_level0_row1\" class=\"row_heading level0 row1\" >Messpunkt 2</th>\n",
       "      <td id=\"T_3a19c_row1_col0\" class=\"data row1 col0\" >521</td>\n",
       "      <td id=\"T_3a19c_row1_col1\" class=\"data row1 col1\" >1.3</td>\n",
       "    </tr>\n",
       "    <tr>\n",
       "      <th id=\"T_3a19c_level0_row2\" class=\"row_heading level0 row2\" >Messpunkt 3</th>\n",
       "      <td id=\"T_3a19c_row2_col0\" class=\"data row2 col0\" >464</td>\n",
       "      <td id=\"T_3a19c_row2_col1\" class=\"data row2 col1\" >9.9</td>\n",
       "    </tr>\n",
       "    <tr>\n",
       "      <th id=\"T_3a19c_level0_row3\" class=\"row_heading level0 row3\" >Messpunkt 4</th>\n",
       "      <td id=\"T_3a19c_row3_col0\" class=\"data row3 col0\" >415</td>\n",
       "      <td id=\"T_3a19c_row3_col1\" class=\"data row3 col1\" >12.0</td>\n",
       "    </tr>\n",
       "    <tr>\n",
       "      <th id=\"T_3a19c_level0_row4\" class=\"row_heading level0 row4\" >Messpunkt 5</th>\n",
       "      <td id=\"T_3a19c_row4_col0\" class=\"data row4 col0\" >368</td>\n",
       "      <td id=\"T_3a19c_row4_col1\" class=\"data row4 col1\" >12.7</td>\n",
       "    </tr>\n",
       "    <tr>\n",
       "      <th id=\"T_3a19c_level0_row5\" class=\"row_heading level0 row5\" >Messpunkt 6</th>\n",
       "      <td id=\"T_3a19c_row5_col0\" class=\"data row5 col0\" >331</td>\n",
       "      <td id=\"T_3a19c_row5_col1\" class=\"data row5 col1\" >12.9</td>\n",
       "    </tr>\n",
       "    <tr>\n",
       "      <th id=\"T_3a19c_level0_row6\" class=\"row_heading level0 row6\" >Messpunkt 7</th>\n",
       "      <td id=\"T_3a19c_row6_col0\" class=\"data row6 col0\" >273</td>\n",
       "      <td id=\"T_3a19c_row6_col1\" class=\"data row6 col1\" >13.0</td>\n",
       "    </tr>\n",
       "    <tr>\n",
       "      <th id=\"T_3a19c_level0_row7\" class=\"row_heading level0 row7\" >Messpunkt 8</th>\n",
       "      <td id=\"T_3a19c_row7_col0\" class=\"data row7 col0\" >212</td>\n",
       "      <td id=\"T_3a19c_row7_col1\" class=\"data row7 col1\" >13.1</td>\n",
       "    </tr>\n",
       "    <tr>\n",
       "      <th id=\"T_3a19c_level0_row8\" class=\"row_heading level0 row8\" >Messpunkt 9</th>\n",
       "      <td id=\"T_3a19c_row8_col0\" class=\"data row8 col0\" >153</td>\n",
       "      <td id=\"T_3a19c_row8_col1\" class=\"data row8 col1\" >13.1</td>\n",
       "    </tr>\n",
       "    <tr>\n",
       "      <th id=\"T_3a19c_level0_row9\" class=\"row_heading level0 row9\" >Messpunkt 10</th>\n",
       "      <td id=\"T_3a19c_row9_col0\" class=\"data row9 col0\" >91</td>\n",
       "      <td id=\"T_3a19c_row9_col1\" class=\"data row9 col1\" >13.1</td>\n",
       "    </tr>\n",
       "    <tr>\n",
       "      <th id=\"T_3a19c_level0_row10\" class=\"row_heading level0 row10\" >Messpunkt 11</th>\n",
       "      <td id=\"T_3a19c_row10_col0\" class=\"data row10 col0\" >42</td>\n",
       "      <td id=\"T_3a19c_row10_col1\" class=\"data row10 col1\" >13.1</td>\n",
       "    </tr>\n",
       "    <tr>\n",
       "      <th id=\"T_3a19c_level0_row11\" class=\"row_heading level0 row11\" >Messpunkt 12</th>\n",
       "      <td id=\"T_3a19c_row11_col0\" class=\"data row11 col0\" >0</td>\n",
       "      <td id=\"T_3a19c_row11_col1\" class=\"data row11 col1\" >13.2</td>\n",
       "    </tr>\n",
       "  </tbody>\n",
       "</table>\n"
      ],
      "text/plain": [
       "<pandas.io.formats.style.Styler at 0x22968dd3250>"
      ]
     },
     "metadata": {},
     "output_type": "display_data"
    }
   ],
   "source": [
    "# Ihr Code hier. Nutzen Sie als Benennung z. B. u5_4gb für 4 Glühbirnen usw.\n",
    "\n",
    "u5_4gb = [521, 521, 464, 415, 368, 331, 273, 212, 153, 91, 42, 0] # Achten Sie darauf, ob Sie die Messwerte in mV oder V notieren. Hier im Beispiel sind die Daten in mV\n",
    "i5_4gb = [0, 1.3, 9.9, 12, 12.7, 12.9, 13, 13.1, 13.1, 13.1, 13.1, 13.2]\n",
    "\n",
    "# Fügen Sie hier Ihre weiteren Messdaten ein\n",
    "\n",
    "df5_4gb = pd.DataFrame({\n",
    "    \"U [mV]\": u5_4gb,\n",
    "    \"I [mA]\": i5_4gb})\n",
    "\n",
    "# Index setzen\n",
    "df5_4gb.index = [f\"Messpunkt {i+1}\" for i in range(len(df5_4gb))]\n",
    "\n",
    "# Tabelle erstellen und anzeigen\n",
    "print(\"Tabelle 7:Messwerte für Bestrahlung mit 4 Glühbirnen\")\n",
    "display(df5_4gb.round(2).style.format({\n",
    "    \"U [mV]\": \"{:.0f}\",\n",
    "    \"I [mA]\": \"{:.1f}\"\n",
    "}))"
   ]
  },
  {
   "cell_type": "markdown",
   "id": "7e2ed1af-4dfc-40a4-86a2-e10dfa04d936",
   "metadata": {},
   "source": [
    "---\n",
    "\n",
    " **Ihre Aufgabe:**\n",
    "Beschreiben Sie hier **in eigenen Worten**,den Aufbau, die Durchführung und Ihre Beobachtungen.:\n",
    "- Wie wird die Beleuchtung variiert?\n",
    "- Wie wird die Spannung an der Solarzelle verändert?\n",
    "- Welche Beobachtungen ergaben sich beim Vergleich der Beleuchtungsstufen?\n",
    "\n",
    "> _Hinweis: Denken Sie an die Schritte „Aufbau, Messung und Beobachtung“._\n",
    "\n",
    " ---\n",
    "  **Im folgenden Feld Ihre eigene Beschreibung und Beobachtungen eintragen:**"
   ]
  },
  {
   "cell_type": "code",
   "execution_count": null,
   "id": "c32905a8-e05e-48bb-aafe-978ad78ce49d",
   "metadata": {},
   "outputs": [],
   "source": []
  },
  {
   "cell_type": "markdown",
   "id": "faa62333-91a3-495d-8191-851fe06d8501",
   "metadata": {},
   "source": [
    "**Auswertung**\n",
    "\n",
    "1. Zeichnen Sie die alle $U-I$-Kennlinien für die unterschiedlichen Beleuchtungsstärken in ein gemeinsames Diagramm.\n",
    "2. Bestimmen Sie für jede Kennlinie den MPP und den Füllfaktor. Zeichnen Sie die MPPs in das Diagramm ein.\n",
    "3. Vergleichen Sie die Werte der MPP und FF der verschiedenen Beleuchtungsstärken untereinander."
   ]
  },
  {
   "cell_type": "markdown",
   "id": "3fdb3de4-2445-4038-9956-8d051b2045b5",
   "metadata": {},
   "source": [
    "#### 1. Zeichnen Sie die alle $U-I$-Kennlinien für die unterschiedlichen Beleuchtungsstärken in ein gemeinsames Diagramm."
   ]
  },
  {
   "cell_type": "code",
   "execution_count": 69,
   "id": "a6734582-f12b-4b41-a57d-891a9d31e173",
   "metadata": {},
   "outputs": [
    {
     "data": {
      "image/png": "[encoded data removed]",
      "text/plain": [
       "<Figure size 640x480 with 1 Axes>"
      ]
     },
     "metadata": {},
     "output_type": "display_data"
    }
   ],
   "source": [
    "# Hier steht schon ein Teil des Codes, den Sie erweitern können:\n",
    "\n",
    "# Graphen erstellen\n",
    "plt.plot(u5_4gb, i5_4gb, \"o\", label=\"4 Glühbirnen\")\n",
    "\n",
    "# Achsenbeschriftung\n",
    "plt.xlabel(r\"$ U ~ \\text{[mV]}$\")\n",
    "plt.ylabel(r\"$ I ~ \\text{[mA]}$\")\n",
    "\n",
    "# Diagrammbeschriftung\n",
    "plt.title(r\"$U-I$-Kennlinie einer Solarzelle bei unterschiedlich starker Beleuchtung\")\n",
    "\n",
    "# Legende\n",
    "plt.legend()\n",
    "\n",
    "# Gitternetz\n",
    "plt.grid()"
   ]
  },
  {
   "cell_type": "markdown",
   "id": "d0bb163d-f73e-4aeb-be1d-efe08e3703f4",
   "metadata": {},
   "source": [
    "#### 2. Bestimmen Sie für jede Kennlinie den MPP und den Füllfaktor. Zeichnen Sie die MPPs in das Diagramm ein."
   ]
  },
  {
   "cell_type": "code",
   "execution_count": 73,
   "id": "3499e56b-3885-4b46-861e-48d3eaeed69b",
   "metadata": {},
   "outputs": [
    {
     "name": "stdout",
     "output_type": "stream",
     "text": [
      "Bestimmtheitsmaß (R²): 0.9146 für 4 Glühbirnen\n",
      " \n",
      "4 Glühbirnen:\n",
      "x = 362.52 ist ein Maximum (f''(x) = -0.0003)\n",
      "x = 31.25 ist ein Minimum (f''(x) = 0.0003)\n",
      " \n",
      " \n",
      "Der MPP mit 4 Glühbirnen liegt bei 4.91 mW\n",
      " \n",
      "Der Füllfaktor mit 4 Glühbirnen liegt bei 0.7145\n",
      " \n"
     ]
    },
    {
     "data": {
      "image/png": "[encoded data removed]",
      "text/plain": [
       "<Figure size 640x480 with 1 Axes>"
      ]
     },
     "metadata": {},
     "output_type": "display_data"
    }
   ],
   "source": [
    "# Berechnung der Leistung in mW\n",
    "p5_4gb = df5_4gb[\"U [mV]\"] * df5_4gb[\"I [mA]\"] / 1000 # Faktor 1000 wegen Umrechnung in mW\n",
    "# Fügen Sie hier Ihre weiteren Berechnungen hinzu\n",
    "\n",
    "# Fit einer kubischen Regressionskurve\n",
    "reg_4gb = np.poly1d(np.polyfit(u5_4gb, p5_4gb, 3))\n",
    "\n",
    "\n",
    "# Zeichnen der Regressionskurve und der Messdaten\n",
    "reg_area = np.linspace(0, 540, 50)\n",
    "plt.plot(u5_4gb, p5_4gb, \"o\", label=\"4 Glühbirnen\")\n",
    "plt.plot(reg_area, reg_4gb(reg_area), \"--\", color=\"lightblue\", label=\"Regression 4 Glühbirnen\")\n",
    "\n",
    "\n",
    "# Achsenbeschriftung\n",
    "plt.xlabel(r\"$ U ~ \\text{[mV]}$\")\n",
    "plt.ylabel(r\"$ P ~ \\text{[mW]}$\")\n",
    "\n",
    "# Diagrammbeschriftung\n",
    "plt.title(\"Leistung einer Solarzelle bei unterschiedlich starker Beleuchtung\")\n",
    "\n",
    "# Gitternetz\n",
    "plt.grid()\n",
    "\n",
    "# Berechnung des Bestimmtheitsmaßes einer kubischen Funktion\n",
    "regression_kubisch_4gb = np.poly1d(np.polyfit(u5_4gb, p5_4gb, 3))\n",
    "\n",
    "\n",
    "leistung_pred_kubisch_4gb = regression_kubisch_4gb(u5_4gb)\n",
    "\n",
    "\n",
    "SSR_kubisch_4gb = np.sum((p5_4gb - leistung_pred_kubisch_4gb) ** 2)\n",
    "\n",
    "\n",
    "SST_kubisch_4gb = np.sum((p5_4gb - np.mean(p5_4gb)) ** 2)\n",
    "\n",
    "\n",
    "R_squared_kubisch_4gb = 1 - (SSR_kubisch_4gb / SST_kubisch_4gb)\n",
    "\n",
    "\n",
    "print(f\"Bestimmtheitsmaß (R²): {R_squared_kubisch_4gb:.4f}\", \"für 4 Glühbirnen\")\n",
    "\n",
    "print(\" \")\n",
    "\n",
    "# Bestimmung des MPP\n",
    "regression_kubisch_4gb = np.poly1d(np.polyfit(u5_4gb, p5_4gb, 3))\n",
    "\n",
    "\n",
    "ableitung_4gb=np.polyder(regression_kubisch_4gb)\n",
    "\n",
    "\n",
    "zweite_ableitung_4gb=np.polyder(ableitung_4gb)\n",
    "\n",
    "\n",
    "nullstellen_4gb=np.roots(ableitung_4gb)\n",
    "\n",
    "\n",
    "print(\"4 Glühbirnen:\")\n",
    "for x in nullstellen_4gb:\n",
    "    wert_zweite_ableitung_4gb = zweite_ableitung_4gb(x)\n",
    "    if wert_zweite_ableitung_4gb > 0:\n",
    "        print(f\"x = {x:.2f} ist ein Minimum (f''(x) = {wert_zweite_ableitung_4gb:.4f})\")\n",
    "    elif wert_zweite_ableitung_4gb < 0:\n",
    "        print(f\"x = {x:.2f} ist ein Maximum (f''(x) = {wert_zweite_ableitung_4gb:.4f})\")\n",
    "    else:\n",
    "        print(f\"x = {x:.2f} könnte ein Sattelpunkt sein (f''(x) = {wert_zweite_ableitung_4gb:.4f})\")\n",
    "\n",
    "print(\" \")\n",
    "\n",
    "\n",
    "MPP_4gb=regression_kubisch_4gb(nullstellen_4gb[0])\n",
    "\n",
    "print(\" \")\n",
    "print(\"Der MPP mit 4 Glühbirnen liegt bei\", f\"{MPP_4gb:.2f}\", \"mW\")\n",
    "\n",
    "\n",
    "#  Füllfaktor (FF) berechnen mit FF = MPP / (Ul * IK)\n",
    "FF_4gb   = MPP_4gb / (u5_4gb[0] * i5_4gb[-1] / 1000) # Die Leerlaufspannung ist in der Messreihe der jeweils erste Messwert, der Kurzschlussstrom immer der jeweils letzte\n",
    "\n",
    "print(\" \")\n",
    "print(\"Der Füllfaktor mit 4 Glühbirnen liegt bei\", f\"{FF_4gb:.4f}\")\n",
    "\n",
    "\n",
    "\n",
    "# Text im Diagramm\n",
    "plt.plot(nullstellen_4gb[0], MPP_4gb, \"s\", label=\"MPP 4 Glühbirnen\", color=\"darkblue\")\n",
    "\n",
    "# Legende\n",
    "plt.legend(loc=\"upper left\")\n",
    "\n",
    "# x- und y-Achsenskalierung\n",
    "plt.xlim(-10, 600)\n",
    "plt.ylim(-0.5, 6)\n",
    "\n",
    "print(\" \")\n",
    "plt.tight_layout()\n",
    "plt.show()\n"
   ]
  },
  {
   "cell_type": "code",
   "execution_count": null,
   "id": "81e78518-469f-475f-8136-ee6ad6d50954",
   "metadata": {},
   "outputs": [],
   "source": []
  },
  {
   "cell_type": "markdown",
   "id": "656fdcac-b547-4e3d-8308-61ff0ca2d95d",
   "metadata": {},
   "source": [
    "#### 3. Vergleichen Sie die Werte der MPP und FF der verschiedenen Beleuchtungsstärken untereinander.\n",
    "\n",
    "*Ihr Text hier*"
   ]
  },
  {
   "cell_type": "markdown",
   "id": "3a94346d-c502-4908-816c-6fe8d08c4aed",
   "metadata": {},
   "source": [
    "---"
   ]
  },
  {
   "cell_type": "markdown",
   "id": "22e85bda-c101-4701-897a-15d3e1ff7305",
   "metadata": {},
   "source": [
    "# 3. Quellen"
   ]
  },
  {
   "cell_type": "markdown",
   "id": "16aae3f5-85fe-4a82-beee-0abcf6cb9d29",
   "metadata": {},
   "source": []
  }
 ],
 "metadata": {
  "kernelspec": {
   "display_name": "Python 3 (ipykernel)",
   "language": "python",
   "name": "python3"
  },
  "language_info": {
   "codemirror_mode": {
    "name": "ipython",
    "version": 3
   },
   "file_extension": ".py",
   "mimetype": "text/x-python",
   "name": "python",
   "nbconvert_exporter": "python",
   "pygments_lexer": "ipython3",
   "version": "3.13.7"
  }
 },
 "nbformat": 4,
 "nbformat_minor": 5
}
