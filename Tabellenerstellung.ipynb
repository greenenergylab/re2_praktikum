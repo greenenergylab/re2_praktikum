{
 "cells": [
  {
   "cell_type": "markdown",
   "id": "0c62895f-0f05-4628-8407-832887b5ff3c",
   "metadata": {},
   "source": [
    "# Erstellung von Tabellen mit Hilfe von Python und `matplotlib`\n",
    "\n",
    "In diesem Jupyter Notebook erfahren Sie, wie Sie Tabellen erzeugen können, die für Ihre Messdaten geeignet sind. Als Basis wird das Paket `matplotlib` verwendet.\n",
    "\n",
    "---"
   ]
  },
  {
   "cell_type": "markdown",
   "id": "f1aa79d4-4f96-4e11-822c-6b2beb5274dd",
   "metadata": {},
   "source": [
    "## Aufbau der `matplotlib` Tabellen-Syntax\n",
    "\n",
    "Das `matplotlib`-Paket wurde ursprünglich für die Erstellung von Diagrammen erstellt. Die Nutzung zur Erstellung von Tabellen ist eine Beugung der Funktionen, die jedoch zuverlässig und hinreichend simpel funktioniert. Wie immer bei Tabellen werden einige Angaben benötigt:\n",
    "\n",
    "1. Daten\n",
    "2. Überschriften bzw. Kategorien\n",
    "3. Aufbau von Zeilen und Spalten\n",
    "\n",
    "Mit diesen Informationen können Sie eine Tabelle erstellen.\n",
    "\n",
    "Wir nehmen folgendes Beispiel:\n",
    "\n",
    "Sie führen eine Messung von Spannung und Stromstärke durch. Ihre gemessenden Werte(paare) sind:\n",
    "\n",
    "- 3,45 V; 2 mA\n",
    "- 3,78 V; 2,1 mA\n",
    "- 4,1 V; 2,5 mA\n",
    "\n",
    "Prinzipiell gilt in Python, dass eine Dezimaltrennung durch einen Punkt `.` erfolgt, nicht durch Kommata. Außerdem sollten **Werte** und **Einheiten** getrennt voneinander notiert werden. Sie können in Python Einheiten einfach in Kommentaren `#` vermerken."
   ]
  },
  {
   "cell_type": "code",
   "execution_count": 1,
   "id": "aeeeb72d-c81d-41f9-a633-d2c453a30092",
   "metadata": {},
   "outputs": [],
   "source": [
    "u1 = 3.45 # V\n",
    "i1 = 2 # mA\n",
    "u2 = 3.78 # V\n",
    "i2 = 2.1 # mA\n",
    "u3 = 4.1 # V\n",
    "i3 = 2.5 # mA"
   ]
  },
  {
   "cell_type": "markdown",
   "id": "716c37bb-0273-402c-9845-cfb0cf8e9fb1",
   "metadata": {},
   "source": [
    "Wenn Sie Ihre Werte jedoch so notieren, werden Sie als Tupel, also in Form von Vektoren abgespeichert. Außerdem müssen Sie alle Variablen einzeln abrufen, um auf die Daten wieder zuzugreifen, was umständlich ist.\n",
    "\n",
    "Alternativ können Sie Ihre Messungen je nach Messung abspeichern, dies erzeugt jedoch wiederum Tupel. Solange Sie keine Berechnungen mit den Werten durchführen müssen, ist das kein Problem. Jedoch können mit Tupeln keine klassischen Berechnungen durchgeführt werden, wie zum Beispiel die Berechnung der Leistung nach $P=U\\cdot I$.\n",
    "\n",
    "> Bedenken Sie, dass Werte voneinander mit Kommata `,` getrennt werden."
   ]
  },
  {
   "cell_type": "code",
   "execution_count": 2,
   "id": "f458b1f2-8d0f-4f25-996b-3f23f71714f4",
   "metadata": {},
   "outputs": [],
   "source": [
    "m1 = 3.45, 2 # V, mA\n",
    "m2 = 3.78, 2.1 # V, mA\n",
    "m3 = 4.1, 2.5 # V, mA"
   ]
  },
  {
   "cell_type": "markdown",
   "id": "b2aba1f6-0185-403e-8e2a-749488fe4ae2",
   "metadata": {},
   "source": [
    "> Empfohlen wird die Notation der Messdaten je nach Messgröße, also eine Variable für die Spannung $U$ und eine für die Stromstärke $I$, da dies die Erstellung von Tabellen deutlich vereinfacht."
   ]
  },
  {
   "cell_type": "code",
   "execution_count": 47,
   "id": "6b4d54c2-b77e-4828-a3c6-3cd36abea962",
   "metadata": {},
   "outputs": [],
   "source": [
    "u = 3.45, 3.78, 4.1\n",
    "i = 2, 2.1, 2.5"
   ]
  },
  {
   "cell_type": "markdown",
   "id": "50d7c177-241f-4cb8-ae0c-25f40311e6ed",
   "metadata": {},
   "source": [
    "Notieren Sie Ihre Messwerte so, ist die Erstellung von Tabellen einfach, jedoch die Berechnung der Leistung kompliziert. Daher empfehlen sich `numpy`-Arrays. Um diese nutzen zu können, benötigen Sie das entsprechende Paket, welches zunächst importiert werden muss mit dem Befehl\n",
    "```python\n",
    "import numpy as np\n",
    "```\n",
    "Um die Arrays zu bilden, wird der Befehl\n",
    "```python\n",
    "Variable = np.array([Wert1, Wert2, etc.], dtype=float)\n",
    "```\n",
    "verwendet. Die Werte kommen also in eine eckige Klammer `[]`, am Ende kann noch der Datentyp mit `dtype` festgelegt werden. Für Messwerte bieten sich `float` (Dezimalzahlen) und `int` (integer, ganze Zahlen) an."
   ]
  },
  {
   "cell_type": "code",
   "execution_count": 46,
   "id": "942c1e73-52ae-4b43-958d-e401f7ee0a21",
   "metadata": {},
   "outputs": [],
   "source": [
    "import numpy as np\n",
    "u_1 = np.array([3.45, 3.78, 4.1], dtype=float)\n",
    "i_1 = np.array([2, 2.1, 2.5], dtype=float)"
   ]
  },
  {
   "cell_type": "markdown",
   "id": "a5d5c074-80d0-4433-81c3-568fad11987b",
   "metadata": {},
   "source": [
    "## Erstellung von horizontalen Tabellen\n",
    "\n",
    "Für die weiteren Schritte benötigen wir nun das `matplotlib`-Paket. Dies wird wiederum importiert mit:\n",
    "```python\n",
    "import matplotlib.pyplot as plt\n",
    "```\n",
    "\n",
    "Außerdem müssen die Daten in Zeilen und Spalten geladen werden, sowie die Kategorien bzw. Spalten- und Zeilenüberschriften definiert werden.\n",
    "\n",
    "Im Folgenden sehen Sie ein Beispiel, wie eine Tabelle erstellt werden kann. Im Anschluss werden die einzelnen Funktionen näher erläutert."
   ]
  },
  {
   "cell_type": "code",
   "execution_count": 45,
   "id": "445aa6f1-13c4-4b77-923d-845e8c0190c3",
   "metadata": {},
   "outputs": [
    {
     "data": {
      "image/png": "[encoded data removed]",
      "text/plain": [
       "<Figure size 1600x400 with 1 Axes>"
      ]
     },
     "metadata": {},
     "output_type": "display_data"
    }
   ],
   "source": [
    "import numpy as np\n",
    "import matplotlib.pyplot as plt\n",
    "\n",
    "# Messdaten eingeben oder laden\n",
    "u_1 = np.array([3.45, 3.78, 4.1], dtype=float)\n",
    "i_1 = np.array([2, 2.1, 2.5], dtype=float)\n",
    "\n",
    "# Tabelle erstellen\n",
    "fig, ax = plt.subplots(figsize=(16, 4))\n",
    "ax.axis(\"off\")\n",
    "\n",
    "# Erste Zeile: Header erstellen\n",
    "col_labels = [\"$U$ [V]\"] + [f\"{int(u)}\" for u in u_1] # Die Abfolge iteriert alle Messwerte aus der Variable u_1\n",
    "\n",
    "# Daten-Zeilen vorbereiten, hier können beliebig viele Zeilen hinzugefügt werden, benötigen jeweils eine eigene Variable (row2, row3 usw.)\n",
    "row1 = [\"$I$ [mA]\"] + [f\"{int(i)}\" for i in i_1] # Die Abfolge iteriert alle Messwerte aus der Variable i_1\n",
    "\n",
    "# Tabelle erstellen\n",
    "table = ax.table(\n",
    "    cellText=[row1], # Alle Zeilen, die in der Tabelle auftauchen sollen, müssen hier angegeben sein, mit Komma getrent und von einer eckigen Klammer umrahmt (z. B. cellText=[row1, row2, row3]\n",
    "    colLabels=col_labels,\n",
    "    cellLoc=\"center\", # Hier wird angegeben, wie die Daten dargestellt werden sollen. Hier zentriert (\"center\"), linksbündig (\"left\") oder rechtsbündig (\"right\")\n",
    "    loc=\"center\", # Hier wird angegeben, wo die Tabelle auf der Seite angezeigt werden soll. s.o.\n",
    ")\n",
    "\n",
    "table.auto_set_font_size(False) # Dies ist wichtig, da sonst die Daten unter Umständen sehr klein skaliert und damit unlesbar werden.\n",
    "table.set_fontsize(9) # Hier können Sie die Schriftgröße bestimmen\n",
    "table.scale(2, 2) # Hier können Sie eine allgemeine Skalierung angeben, also Höhe x Breite im Verhältnis\n",
    "\n",
    "plt.title(\"Tabelle: Messwerte U-I-Kennlinie\", weight=\"bold\") # Hier können Sie den Tabellentitel angeben. Über weight können Sie die Überschrift z.B. fett oder kursiv machen\n",
    "plt.tight_layout()\n",
    "plt.show() # Dieser Befehl erzeugt die Tabelle. Dies ist wichtig zu beachten, wenn Sie mehrere Tabellen auf einmal erstellen wollen."
   ]
  },
  {
   "cell_type": "markdown",
   "id": "13da9bcc-b078-4ef0-8d08-d898dff03032",
   "metadata": {},
   "source": [
    "Anstelle der Abfrage der Tabellen werden durch die Funktion\n",
    "```python\n",
    "col_labels = [\"$U$ [V]\"] + [f\"{int(u)}\" for u in u_1]\n",
    "```\n",
    "Können auch alle Werte explizit genannt werden. Dies kann für einige Aufgaben sinnvoll sein. Beachten Sie, dass der erste Wert eines Arrays in Python mit dem Index `[0]` aufgerufen wird, der zweite mit `[1]` usw. Wenn Sie explizit den letzten Wert eines Arrays benötigen, brauchen Sie nicht durchzählen, sondern können den Index `[-1]` verwenden.\n",
    "Die oben stehende Tabelle könnte also auch gebildet werden durch das Argument:\n",
    "```python\n",
    "col_labels = [\"$U$ [V]\"] + [u_1[0], u_1[1], u_1[2]]\n",
    "```\n",
    "wie im folgenden Beispiel gezeigt:"
   ]
  },
  {
   "cell_type": "code",
   "execution_count": 44,
   "id": "609b21a1-5978-4473-8a13-5f6a4b82a098",
   "metadata": {},
   "outputs": [
    {
     "data": {
      "image/png": "[encoded data removed]",
      "text/plain": [
       "<Figure size 1600x400 with 1 Axes>"
      ]
     },
     "metadata": {},
     "output_type": "display_data"
    }
   ],
   "source": [
    "import numpy as np\n",
    "import matplotlib.pyplot as plt\n",
    "\n",
    "# Messdaten eingeben oder laden\n",
    "u_1 = np.array([3.45, 3.78, 4.1], dtype=float)\n",
    "i_1 = np.array([2, 2.1, 2.5], dtype=float)\n",
    "\n",
    "# Tabelle erstellen\n",
    "fig, ax = plt.subplots(figsize=(16, 4))\n",
    "ax.axis(\"off\")\n",
    "\n",
    "# Erste Zeile: Header erstellen\n",
    "col_labels = [\"$U$ [V]\"] + [u_1[0], u_1[1], u_1[2]] # Messwerte einzeln abgerufen durch Indizes\n",
    "\n",
    "# Daten-Zeilen vorbereiten, hier können beliebig viele Zeilen hinzugefügt werden, benötigen jeweils eine eigene Variable (row2, row3 usw.)\n",
    "row1 = [\"$I$ [mA]\"] + [i_1[0], i_1[1], i_1[-1]] # Messwerte einzeln abgerufen durch Indizes, hier mit [-1] als Index für den letzten Wert des Arrays\n",
    "\n",
    "# Tabelle erstellen\n",
    "table = ax.table(\n",
    "    cellText=[row1], # Alle Zeilen, die in der Tabelle auftauchen sollen, müssen hier angegeben sein, mit Komma getrent und von einer eckigen Klammer umrahmt (z. B. cellText=[row1, row2, row3]\n",
    "    colLabels=col_labels,\n",
    "    cellLoc=\"center\", # Hier wird angegeben, wie die Daten dargestellt werden sollen. Hier zentriert (\"center\"), linksbündig (\"left\") oder rechtsbündig (\"right\")\n",
    "    loc=\"center\", # Hier wird angegeben, wo die Tabelle auf der Seite angezeigt werden soll. s.o.\n",
    ")\n",
    "\n",
    "table.auto_set_font_size(False) # Dies ist wichtig, da sonst die Daten unter Umständen sehr klein skaliert und damit unlesbar werden.\n",
    "table.set_fontsize(9) # Hier können Sie die Schriftgröße bestimmen\n",
    "table.scale(2, 2) # Hier können Sie eine allgemeine Skalierung angeben, also Höhe x Breite im Verhältnis\n",
    "\n",
    "plt.title(\"Tabelle: Messwerte U-I-Kennlinie\", weight=\"bold\") # Hier können Sie den Tabellentitel angeben. Über weight können Sie die Überschrift z.B. fett oder kursiv machen\n",
    "plt.tight_layout()\n",
    "plt.show() # Dieser Befehl erzeugt die Tabelle. Dies ist wichtig zu beachten, wenn Sie mehrere Tabellen auf einmal erstellen wollen."
   ]
  },
  {
   "cell_type": "markdown",
   "id": "e8207db5-4a4a-4ed7-a771-5fd4d9369983",
   "metadata": {},
   "source": [
    "---\n",
    "\n",
    "## Erstellung von vertikalen Tabellen\n",
    "\n",
    "Wenn Sie anstelle von horizontalen Tabellen nun vertikale Tabellen erstellen wollen (dies kann je nach Anwendungsfall sinnvoll sein), ist hier noch eine kurze Erläuterung, wie dies mit `matplotlib` ebenfalls möglich ist. Wir nutzen dieselben Daten von oben."
   ]
  },
  {
   "cell_type": "code",
   "execution_count": 59,
   "id": "70f8b294-6e65-4db3-bbe9-c0e0838f5a56",
   "metadata": {},
   "outputs": [
    {
     "data": {
      "image/png": "[encoded data removed]",
      "text/plain": [
       "<Figure size 400x400 with 1 Axes>"
      ]
     },
     "metadata": {},
     "output_type": "display_data"
    }
   ],
   "source": [
    "import numpy as np\n",
    "import matplotlib.pyplot as plt\n",
    "\n",
    "# Messdaten (unverändert)\n",
    "u_1 = np.array([3.45, 3.78, 4.1], dtype=float) # in V\n",
    "i_1 = np.array([2, 2.1, 2.5], dtype=float) # in mA\n",
    "\n",
    "# Transponierte Darstellung (jede Zeile wird eine Spalte)\n",
    "# Erste Zeile sind die Header\n",
    "headers = [\"$U_L$ [V]\", \"$I_K$ [mA]\"]\n",
    "\n",
    "# Daten für die Tabelle vorbereiten\n",
    "table_data = []\n",
    "for i in range(len(u_1)):\n",
    "    table_data.append([u_1[i], \n",
    "                      i_1[i]])\n",
    "\n",
    "# Diagramm erzeugen\n",
    "fig, ax = plt.subplots(figsize=(4, 4))\n",
    "ax.axis(\"off\")\n",
    "\n",
    "# Tabelle mit Headern\n",
    "table = ax.table(\n",
    "    cellText=table_data,\n",
    "    colLabels=headers,\n",
    "    cellLoc=\"center\",\n",
    "    loc=\"center\",\n",
    "    colColours=[\"lightgray\"]*2\n",
    ")\n",
    "\n",
    "# Formatierung\n",
    "table.auto_set_font_size(False)\n",
    "table.set_fontsize(8)\n",
    "table.scale(1.2, 1.5)\n",
    "\n",
    "plt.title(\"Tabelle: Messwerte U-I-Kennlinie vertikal\", weight=\"bold\", pad=None)\n",
    "\n",
    "plt.tight_layout()\n",
    "plt.show()"
   ]
  },
  {
   "cell_type": "code",
   "execution_count": null,
   "id": "c630e564-4320-4725-a37f-d703905685ec",
   "metadata": {},
   "outputs": [],
   "source": []
  }
 ],
 "metadata": {
  "kernelspec": {
   "display_name": "Python 3 (ipykernel)",
   "language": "python",
   "name": "python3"
  },
  "language_info": {
   "codemirror_mode": {
    "name": "ipython",
    "version": 3
   },
   "file_extension": ".py",
   "mimetype": "text/x-python",
   "name": "python",
   "nbconvert_exporter": "python",
   "pygments_lexer": "ipython3",
   "version": "3.13.2"
  }
 },
 "nbformat": 4,
 "nbformat_minor": 5
}
