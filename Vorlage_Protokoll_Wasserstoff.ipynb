{
 "cells": [
  {
   "cell_type": "markdown",
   "id": "93d3ddee-648e-46b5-9ac0-1b7d016b666a",
   "metadata": {},
   "source": [
    "# 0. Konfiguration der Arbeitsumgebung\n",
    "**Hinweis zur Ausführung:**\n",
    "\n",
    "Bevor Sie mit dem Ausfüllen des Protokolls beginnen, stellt diese Zelle sicher, dass alle notwendigen Software-Bibliotheken installiert und verfügbar sind. Diese sogenannten „Pakete“ (z. B. `ipywidgets` für die interaktiven Eingabefelder) sind erforderlich, damit das Notebook korrekt funktioniert.\n",
    "\n",
    "**Was in dieser Zelle passiert:**\n",
    "- Es wird geprüft, ob alle benötigten Pakete bereits in Ihrer Jupyter-Umgebung installiert sind.\n",
    "- Falls ein Paket fehlt, wird es automatisch installiert.\n",
    "- Dies funktioniert unabhängig davon, ob Sie mit Anaconda (Windows) oder venv (macOS/Linux) arbeiten.\n",
    "\n",
    "**Was Sie tun müssen:**\n",
    "- Führen Sie diese Zelle **einmalig aus**, bevor Sie mit dem Protokoll arbeiten.\n",
    "- Es ist **keine manuelle Installation** in der Konsole notwendig.\n",
    "- Falls eine Installation erfolgt, kann es kurz dauern – warten Sie bitte, bis die Zelle vollständig durchgelaufen ist.\n",
    "\n",
    "**Hinweis:** Falls Sie das Notebook ohne Internetverbindung verwenden, können fehlende Pakete nicht nachgeladen werden.\n",
    "\n",
    "**Führen Sie jetzt die folgende Zelle aus:** "
   ]
  },
  {
   "cell_type": "code",
   "execution_count": 1,
   "id": "ba0d6531-801e-4ff2-a691-5cdb4f887629",
   "metadata": {},
   "outputs": [
    {
     "name": "stdout",
     "output_type": "stream",
     "text": [
      "Alle Pakete bereits vorhanden!\n",
      "Setup abgeschlossen - bereit für das Praktikum!\n"
     ]
    }
   ],
   "source": [
    "import sys\n",
    "import subprocess\n",
    "\n",
    "# Benötigte Pakete\n",
    "pakete = [\"numpy\", \"pandas\", \"matplotlib\", \"ipywidgets\", \"requests\"]\n",
    "\n",
    "installiert = 0\n",
    "fehler = []\n",
    "\n",
    "# Pakete prüfen und installieren\n",
    "for paket in pakete:\n",
    "    try:\n",
    "        __import__(paket)\n",
    "    except ImportError:\n",
    "        try:\n",
    "            print(f\"Installiere {paket}...\")\n",
    "            subprocess.check_call([sys.executable, \"-m\", \"pip\", \"install\", paket], \n",
    "                                 stdout=subprocess.DEVNULL)\n",
    "            installiert += 1\n",
    "        except:\n",
    "            fehler.append(paket)\n",
    "\n",
    "# Pakete importieren\n",
    "import numpy as np\n",
    "import pandas as pd\n",
    "import matplotlib.pyplot as plt\n",
    "import ipywidgets as widgets\n",
    "from IPython.display import display\n",
    "import requests, json, os\n",
    "\n",
    "# Status anzeigen\n",
    "if fehler:\n",
    "    print(f\"FEHLER bei: {\", \".join(fehler)}\")\n",
    "    print(\"-> Bitte manuell installieren: pip install <paketname>\")\n",
    "elif installiert > 0:\n",
    "    print(f\"{installiert} Paket/e erfolgreich installiert!\")\n",
    "else:\n",
    "    print(\"Alle Pakete bereits vorhanden!\")\n",
    "\n",
    "print(\"Setup abgeschlossen - bereit für das Praktikum!\")"
   ]
  },
  {
   "cell_type": "code",
   "execution_count": 4,
   "id": "08bb56d4-64eb-406a-90cd-5a64acd2ee35",
   "metadata": {},
   "outputs": [
    {
     "data": {
      "application/vnd.jupyter.widget-view+json": {
       "model_id": "cd41d9495116485c8ce64e4be31f8104",
       "version_major": 2,
       "version_minor": 0
      },
      "text/plain": [
       "HBox(children=(VBox(children=(HTML(value='<div style=\"font-size: 20pt; font-weight: bold;\">Protokoll zum Versu…"
      ]
     },
     "metadata": {},
     "output_type": "display_data"
    },
    {
     "data": {
      "application/vnd.jupyter.widget-view+json": {
       "model_id": "708fb6899a28439bbeab217f0bc367c0",
       "version_major": 2,
       "version_minor": 0
      },
      "text/plain": [
       "HTML(value='<hr>')"
      ]
     },
     "metadata": {},
     "output_type": "display_data"
    },
    {
     "data": {
      "application/vnd.jupyter.widget-view+json": {
       "model_id": "6003ce260df3455596b32079bc099b6d",
       "version_major": 2,
       "version_minor": 0
      },
      "text/plain": [
       "VBox(children=(HBox(children=(Label(value='Name:', layout=Layout(width='160px')), Text(value='', layout=Layout…"
      ]
     },
     "metadata": {},
     "output_type": "display_data"
    },
    {
     "data": {
      "application/vnd.jupyter.widget-view+json": {
       "model_id": "0f5c8db727f14d72babf752796ba968d",
       "version_major": 2,
       "version_minor": 0
      },
      "text/plain": [
       "Button(button_style='success', description='Speichern', style=ButtonStyle())"
      ]
     },
     "metadata": {},
     "output_type": "display_data"
    }
   ],
   "source": [
    "import ipywidgets as widgets\n",
    "from IPython.display import display\n",
    "import requests, json, os\n",
    "\n",
    "# --- Konfiguration ---\n",
    "VERSUCH = \"Wasserstoff als Energieträger\"  # ← hier den Versuchsnamen ändern\n",
    "FILENAME = f\"protokoll_{VERSUCH}.json\"\n",
    "FIELD_WIDTH = '500px'\n",
    "LABEL_WIDTH = '160px'\n",
    "LOGO_URL = \"https://thga.sciebo.de/s/PMFfmxdyEcrEr3P/download\"\n",
    "\n",
    "# --- Felder und Standarddaten ---\n",
    "fields = {\n",
    "    \"Name\": \"\",\n",
    "    \"Matrikelnummer\": \"\",\n",
    "    \"Gruppe\": \"\",\n",
    "    \"Versuchstag\": \"\",\n",
    "    \"Praktikumsleitung\": \"\"\n",
    "}\n",
    "\n",
    "# --- Daten aus Datei laden ---\n",
    "if os.path.exists(FILENAME):\n",
    "    with open(FILENAME, \"r\") as f:\n",
    "        fields.update(json.load(f))\n",
    "\n",
    "# --- Logo laden ---\n",
    "try:\n",
    "    resp = requests.get(LOGO_URL)\n",
    "    logo = widgets.Image(\n",
    "        value=resp.content, format='png',\n",
    "        layout=widgets.Layout(width='200px', height='auto')\n",
    "    ) if resp.status_code == 200 else widgets.Label(\"Logo nicht verfügbar.\")\n",
    "except:\n",
    "    logo = widgets.Label(\"Logo konnte nicht geladen werden.\")\n",
    "\n",
    "# --- Überschriftsteil ---\n",
    "headings = widgets.VBox([\n",
    "    widgets.HTML(f'<div style=\"font-size: 20pt; font-weight: bold;\">Protokoll zum Versuch: {VERSUCH}</div>'),\n",
    "    widgets.HTML(f'<div style=\"font-size: 14pt;\"><strong>Praktikum:</strong> Regenerative Energien II</div>'),\n",
    "    widgets.HTML(f'<div style=\"font-size: 14pt;\"><strong>Semester:</strong> Wintersemester 2025/26</div>')\n",
    "], layout=widgets.Layout(align_items='flex-start', gap='2px'))\n",
    "\n",
    "header = widgets.HBox([headings, logo],\n",
    "                      layout=widgets.Layout(justify_content='space-between', align_items='flex-start'))\n",
    "\n",
    "# --- Formularfelder anlegen ---\n",
    "widgets_dict = {\n",
    "    key: widgets.Text(value=fields[key], layout=widgets.Layout(width=FIELD_WIDTH))\n",
    "    for key in fields\n",
    "}\n",
    "\n",
    "def labeled_row(label, widget):\n",
    "    return widgets.HBox([\n",
    "        widgets.Label(label + \":\", layout=widgets.Layout(width=LABEL_WIDTH)),\n",
    "        widget\n",
    "    ])\n",
    "\n",
    "form = widgets.VBox([labeled_row(k, widgets_dict[k]) for k in fields])\n",
    "\n",
    "# --- Speichern ---\n",
    "def save_to_json(_):\n",
    "    data = {k: w.value for k, w in widgets_dict.items()}\n",
    "    with open(FILENAME, \"w\") as f:\n",
    "        json.dump(data, f)\n",
    "    print(f\"Daten gespeichert in '{FILENAME}'.\")\n",
    "\n",
    "save_button = widgets.Button(description=\"Speichern\", button_style='success')\n",
    "save_button.on_click(save_to_json)\n",
    "\n",
    "# --- Anzeige ---\n",
    "display(header, widgets.HTML(\"<hr>\"), form, save_button)"
   ]
  },
  {
   "cell_type": "markdown",
   "id": "6b4fb662-60e6-4cd0-a9e0-05cdea4ecbb8",
   "metadata": {},
   "source": [
    " --- \n",
    " # 1. Einleitung\n",
    "\n",
    "**Hinweis zur Bearbeitung:**  \n",
    "Bevor Sie mit dem Versuch beginnen, formulieren Sie bitte eine kurze Einleitung. Beschreiben Sie in eigenen Worten die Grundlagen zu Wasserstoff, Energieträgern und dem Wissen, dass benötigt wird, um dieses Protokoll nachvollziehen zu können.\n",
    "\n",
    "\n",
    "**Denkanstöße für Ihre Einleitung:**\n",
    "- Wie wird Wasserstoff hergestellt und welche Nomenklatur hat sich dafür etabliert?\n",
    "- Wofür wird Wasserstoff heutzutage überwiegend verwendet?\n",
    "- Welche Rolle spielt Wasserstoff als Energieträger in der Energiewende?\n",
    "- Was ist das Prinzip einer Elektrolyse und einer Brennstoffzelle (mit Bezug auf Wasserstoff)?\n",
    "- Welche Bedeutung hat die Speicherung erneuerbarer Energien für die Zukunft?\n",
    "- Wie sehen Verfahren zur Speicherung und Transport von Wasserstoff aus und welche Herausforderungen gibt es diesbezüglich?\n",
    "\n",
    "**Tragen Sie Ihre eigene Einleitung im folgenden Feld ein:**\n"
   ]
  },
  {
   "cell_type": "code",
   "execution_count": null,
   "id": "93258df8-82c6-45b0-9b31-1db04aba6c3f",
   "metadata": {},
   "outputs": [],
   "source": []
  },
  {
   "cell_type": "markdown",
   "id": "5ecf2bee-8406-4b0e-8558-2ce56f157634",
   "metadata": {},
   "source": [
    "---"
   ]
  },
  {
   "cell_type": "markdown",
   "id": "5b957393-e92a-4185-a056-40f43ac0d876",
   "metadata": {},
   "source": [
    "# Sicherheitshinweise\n",
    "\n",
    "In diesem Versuch erzeugen und verwenden Sie Wasserstoff und Sauerstoff. Von diesen Gasen gehen Gefahren aus, auf die hier hingewiesen wird. Bitte beachten Sie die H- und P-Sätze, die unten angegeben sind. Sollten Sie Fragen diesbezüglich haben, melden Sie sich jederzeit gerne bei der Praktikumsleitung\n",
    "\n",
    "### Wasserstoff\n",
    "\n",
    "<img src=\"https://www.baua.de/DE/Themen/Chemikalien-Biostoffe/Gefahrstoffe/Einstufung-und-Kennzeichnung/Bilder/Gasflasche.png?__blob=poster&v=1\" width=\"100\" height=\"100\" align=\"center\"/> <img src=\"https://www.baua.de/DE/Themen/Chemikalien-Biostoffe/Gefahrstoffe/Einstufung-und-Kennzeichnung/Bilder/Flamme.png?__blob=poster&v=1\" width=\"100\" height=\"100\" align=\"center\"/>\n",
    "\n",
    "<table align=left>\n",
    "    <caption alight=top><b>H- und P-Sätze Wasserstoff</b></caption>\n",
    "    <tr>\n",
    "        <td>H220</td>\n",
    "        <td>Extrem entzündbares Gas.</td>\n",
    "    </tr>\n",
    "    <tr>\n",
    "        <td>H280</td>\n",
    "        <td>Enthält Gas unter Druck; kann bei Erwärmung explodieren.</td>\n",
    "    </tr>\n",
    "    <tr>\n",
    "        <td>P210</td>\n",
    "        <td>Von Hitze, heißen Oberflächen, Funken, offenen Flammen sowie anderen Zündquellenarten fernhalten. Nicht rauchen.</td>\n",
    "    </tr>\n",
    "    <tr>\n",
    "        <td>P377</td>\n",
    "        <td>Brand von ausströmendem Gas: Nicht löschen, bis Undichtigkeit gefahrlos beseitigt werden kann.</td>\n",
    "    </tr>\n",
    "    <tr>\n",
    "        <td>P381</td>\n",
    "        <td>Bei Undichtigkeit alle Zündquellen entfernen.</td>\n",
    "    </tr>\n",
    "    <tr>\n",
    "        <td>P403</td>\n",
    "        <td>An einem gut belüfteten Ort aufbewahren.</td>\n",
    "    </tr>\n",
    "</table>\n",
    "<br>\n",
    "<br clear=all>\n",
    "\n",
    "### Sauerstoff\n",
    "\n",
    "<img src=\"https://www.baua.de/DE/Themen/Chemikalien-Biostoffe/Gefahrstoffe/Einstufung-und-Kennzeichnung/Bilder/Gasflasche.png?__blob=poster&v=1\" width=\"100\" height=\"100\"/> <img src=\"https://www.baua.de/DE/Themen/Chemikalien-Biostoffe/Gefahrstoffe/Einstufung-und-Kennzeichnung/Bilder/Flamme-ueber-einem-Kreis.png?__blob=poster&v=1\" width=\"100\" height=\"100\"/><br clear=all>\n",
    "\n",
    "\n",
    "<table align=left>\n",
    "    <caption alight=top><b>H- und P-Sätze Sauerstoff</b></caption>\n",
    "    <tr>\n",
    "        <td>H270</td>\n",
    "        <td>Extrem entzündbares Gas.</td>\n",
    "    </tr>\n",
    "    <tr>\n",
    "        <td>H280</td>\n",
    "        <td>Enthält Gas unter Druck; kann bei Erwärmung explodieren.</td>\n",
    "    </tr>\n",
    "    <tr>\n",
    "        <td>P244</td>\n",
    "        <td>Druckminderer frei von Fett und Öl halten.</td>\n",
    "    </tr>\n",
    "    <tr>\n",
    "        <td>P220</td>\n",
    "        <td>Von Kleidung und anderen brennbaren Materialien fernhalten</td>\n",
    "    </tr>\n",
    "    <tr>\n",
    "        <td>P370+376</td>\n",
    "        <td>Bei Brand: Undichtigkeit beseitigen, wenn gefahrlos möglich.</td>\n",
    "    </tr>\n",
    "    <tr>\n",
    "        <td>P403</td>\n",
    "        <td>An einem gut belüfteten Ort aufbewahren.</td>\n",
    "    </tr>\n",
    "</table>\n",
    "<br clear=all>\n",
    "\n",
    "---"
   ]
  },
  {
   "cell_type": "markdown",
   "id": "85133c65-02d8-4716-ae75-3d3eab847a78",
   "metadata": {},
   "source": [
    "# 2. Durchführung und Auswertung"
   ]
  },
  {
   "cell_type": "markdown",
   "id": "36c7ad51-b6d6-4c06-af7c-9420d2dc55f4",
   "metadata": {},
   "source": [
    "### 2.1 Versuch 1: U-I Kennlinie, Faraday und Energiewirkungsgrad eines Elektrolyseurs\n",
    "\n",
    "Ermitteln Sie die $U-I$-Kennlinie eines Elektrolyseurs und anschließend den Faraday- und Energiewirkungsgrad.\n",
    "\n",
    "---\n",
    "\n",
    "**Aufbau, Geräte & Komponenten:**\n",
    "- Doppelzellen Elektrolyseur  \n",
    "- Vorratsgefäß mit destilliertem Wasser  \n",
    "- Power-Modul (4,5 V)  \n",
    "- Potentiometermodul (100 Ω und 10 Ω)  \n",
    "- AV-Modul zur Spannungs- und Strommessung  \n",
    "- Stoppuhr\n",
    "\n",
    "---\n",
    "\n",
    "**Schaltplan:**\n",
    "\n",
    "![Schaltplan Versuch 1](https://thga.sciebo.de/s/LNjeeLZ8CGWxo9d/download)\n",
    "\n",
    "\n",
    "---\n",
    "\n",
    "**Durchführung**\n",
    "\n",
    "1.\tBauen Sie den Versuch entsprechend der Versuchsanordnung auf. Stellen Sie das Potentiometermodul auf maximalen Widerstand und füllen Sie die Vorratsgefäße am Elektrolyseur mit destilliertem Wasser. Stellen Sie die Spannung am Power-Modul auf **4,5 V** ein. Bei dem hier verwendeten Elektrolyseur handelt es sich um einen Doppelzellen-Elektrolyseur.\n",
    "2.\tRegeln Sie die Spannung mithilfe des Potentiometer-Moduls in **0,1 V Schritten**. Nutzen Sie dabei zunächst das 100 Ω Potentiometer und anschließend das 10 Ω Potentiometer. Nehmen Sie an jedem Messpunkt die Werte für Spannung $U$ und Stromstärke $I$ auf. Beobachten Sie währenddessen das Verhalten des Elektrolyseurs.\n",
    "3.\tZur Ermittlung des Faraday- und Energiewirkungsgrades stellen Sie das Potentiometermodul auf einen Widerstand von **5 Ω** ein. Messen Sie, wie lange Sie benötigen, um **10 mL Wasserstoff** herzustellen. Notieren Sie sich dabei auch die Spannung $U$ und Stromstärke $I$.\n",
    "\n",
    "---\n",
    "\n",
    "**Messgrößen:**  \n",
    "- Spannung $U$ in $\\text{[V]}$  \n",
    "- Stromstärke $I$ in $\\text{[mA]}$  \n",
    "- Leistung $P$ in $\\text{[mW]}$  \n",
    "- Zeit $t$ in $\\text{[s]}$  \n",
    "- Faraday-Wirkungsgrad $\\eta_\\mathrm{F}$\n",
    "- Energiewirkungsgrad $\\eta_\\text{E}$ \n",
    "\n",
    "---\n",
    "\n",
    "**Messdaten:**\n",
    "\n",
    "Notieren Sie hier Ihre Messdaten. Nutzen Sie dafür eindeutige Bezeichnungen, ähnlich wie im folgenden Beispiel, und zeichnen Sie daraus eine Tabelle:"
   ]
  },
  {
   "cell_type": "code",
   "execution_count": 9,
   "id": "6ef2f244-4af2-4baf-bbbc-8584d1247856",
   "metadata": {},
   "outputs": [
    {
     "name": "stdout",
     "output_type": "stream",
     "text": [
      "Tabelle 1: Messwerte für die U-I-Kennlinie des Elektrolyseurs\n"
     ]
    },
    {
     "data": {
      "text/html": [
       "<style type=\"text/css\">\n",
       "</style>\n",
       "<table id=\"T_687cb\">\n",
       "  <thead>\n",
       "    <tr>\n",
       "      <th class=\"blank level0\" >&nbsp;</th>\n",
       "      <th id=\"T_687cb_level0_col0\" class=\"col_heading level0 col0\" >U [V]</th>\n",
       "      <th id=\"T_687cb_level0_col1\" class=\"col_heading level0 col1\" >I [mA]</th>\n",
       "    </tr>\n",
       "  </thead>\n",
       "  <tbody>\n",
       "    <tr>\n",
       "      <th id=\"T_687cb_level0_row0\" class=\"row_heading level0 row0\" >Messpunkt 1</th>\n",
       "      <td id=\"T_687cb_row0_col0\" class=\"data row0 col0\" >3.17</td>\n",
       "      <td id=\"T_687cb_row0_col1\" class=\"data row0 col1\" >13.8</td>\n",
       "    </tr>\n",
       "    <tr>\n",
       "      <th id=\"T_687cb_level0_row1\" class=\"row_heading level0 row1\" >Messpunkt 2</th>\n",
       "      <td id=\"T_687cb_row1_col0\" class=\"data row1 col0\" >3.27</td>\n",
       "      <td id=\"T_687cb_row1_col1\" class=\"data row1 col1\" >28.9</td>\n",
       "    </tr>\n",
       "    <tr>\n",
       "      <th id=\"T_687cb_level0_row2\" class=\"row_heading level0 row2\" >Messpunkt 3</th>\n",
       "      <td id=\"T_687cb_row2_col0\" class=\"data row2 col0\" >3.37</td>\n",
       "      <td id=\"T_687cb_row2_col1\" class=\"data row2 col1\" >56.7</td>\n",
       "    </tr>\n",
       "    <tr>\n",
       "      <th id=\"T_687cb_level0_row3\" class=\"row_heading level0 row3\" >Messpunkt 4</th>\n",
       "      <td id=\"T_687cb_row3_col0\" class=\"data row3 col0\" >3.47</td>\n",
       "      <td id=\"T_687cb_row3_col1\" class=\"data row3 col1\" >85.9</td>\n",
       "    </tr>\n",
       "    <tr>\n",
       "      <th id=\"T_687cb_level0_row4\" class=\"row_heading level0 row4\" >Messpunkt 5</th>\n",
       "      <td id=\"T_687cb_row4_col0\" class=\"data row4 col0\" >3.57</td>\n",
       "      <td id=\"T_687cb_row4_col1\" class=\"data row4 col1\" >98.0</td>\n",
       "    </tr>\n",
       "    <tr>\n",
       "      <th id=\"T_687cb_level0_row5\" class=\"row_heading level0 row5\" >Messpunkt 6</th>\n",
       "      <td id=\"T_687cb_row5_col0\" class=\"data row5 col0\" >3.68</td>\n",
       "      <td id=\"T_687cb_row5_col1\" class=\"data row5 col1\" >103.4</td>\n",
       "    </tr>\n",
       "    <tr>\n",
       "      <th id=\"T_687cb_level0_row6\" class=\"row_heading level0 row6\" >Messpunkt 7</th>\n",
       "      <td id=\"T_687cb_row6_col0\" class=\"data row6 col0\" >3.78</td>\n",
       "      <td id=\"T_687cb_row6_col1\" class=\"data row6 col1\" >107.5</td>\n",
       "    </tr>\n",
       "    <tr>\n",
       "      <th id=\"T_687cb_level0_row7\" class=\"row_heading level0 row7\" >Messpunkt 8</th>\n",
       "      <td id=\"T_687cb_row7_col0\" class=\"data row7 col0\" >3.87</td>\n",
       "      <td id=\"T_687cb_row7_col1\" class=\"data row7 col1\" >114.7</td>\n",
       "    </tr>\n",
       "    <tr>\n",
       "      <th id=\"T_687cb_level0_row8\" class=\"row_heading level0 row8\" >Messpunkt 9</th>\n",
       "      <td id=\"T_687cb_row8_col0\" class=\"data row8 col0\" >3.97</td>\n",
       "      <td id=\"T_687cb_row8_col1\" class=\"data row8 col1\" >124.9</td>\n",
       "    </tr>\n",
       "    <tr>\n",
       "      <th id=\"T_687cb_level0_row9\" class=\"row_heading level0 row9\" >Messpunkt 10</th>\n",
       "      <td id=\"T_687cb_row9_col0\" class=\"data row9 col0\" >4.07</td>\n",
       "      <td id=\"T_687cb_row9_col1\" class=\"data row9 col1\" >143.1</td>\n",
       "    </tr>\n",
       "    <tr>\n",
       "      <th id=\"T_687cb_level0_row10\" class=\"row_heading level0 row10\" >Messpunkt 11</th>\n",
       "      <td id=\"T_687cb_row10_col0\" class=\"data row10 col0\" >4.17</td>\n",
       "      <td id=\"T_687cb_row10_col1\" class=\"data row10 col1\" >168.4</td>\n",
       "    </tr>\n",
       "    <tr>\n",
       "      <th id=\"T_687cb_level0_row11\" class=\"row_heading level0 row11\" >Messpunkt 12</th>\n",
       "      <td id=\"T_687cb_row11_col0\" class=\"data row11 col0\" >4.27</td>\n",
       "      <td id=\"T_687cb_row11_col1\" class=\"data row11 col1\" >183.0</td>\n",
       "    </tr>\n",
       "    <tr>\n",
       "      <th id=\"T_687cb_level0_row12\" class=\"row_heading level0 row12\" >Messpunkt 13</th>\n",
       "      <td id=\"T_687cb_row12_col0\" class=\"data row12 col0\" >4.37</td>\n",
       "      <td id=\"T_687cb_row12_col1\" class=\"data row12 col1\" >198.5</td>\n",
       "    </tr>\n",
       "    <tr>\n",
       "      <th id=\"T_687cb_level0_row13\" class=\"row_heading level0 row13\" >Messpunkt 14</th>\n",
       "      <td id=\"T_687cb_row13_col0\" class=\"data row13 col0\" >4.46</td>\n",
       "      <td id=\"T_687cb_row13_col1\" class=\"data row13 col1\" >216.6</td>\n",
       "    </tr>\n",
       "    <tr>\n",
       "      <th id=\"T_687cb_level0_row14\" class=\"row_heading level0 row14\" >Messpunkt 15</th>\n",
       "      <td id=\"T_687cb_row14_col0\" class=\"data row14 col0\" >4.56</td>\n",
       "      <td id=\"T_687cb_row14_col1\" class=\"data row14 col1\" >235.8</td>\n",
       "    </tr>\n",
       "    <tr>\n",
       "      <th id=\"T_687cb_level0_row15\" class=\"row_heading level0 row15\" >Messpunkt 16</th>\n",
       "      <td id=\"T_687cb_row15_col0\" class=\"data row15 col0\" >4.62</td>\n",
       "      <td id=\"T_687cb_row15_col1\" class=\"data row15 col1\" >256.6</td>\n",
       "    </tr>\n",
       "  </tbody>\n",
       "</table>\n"
      ],
      "text/plain": [
       "<pandas.io.formats.style.Styler at 0x1bfc8bb51d0>"
      ]
     },
     "metadata": {},
     "output_type": "display_data"
    },
    {
     "name": "stdout",
     "output_type": "stream",
     "text": [
      "\n",
      "Tabelle 2: Messwerte für die Bestimmung des Faraday- und Energiewirkungsgrades des Elektrolyseurs\n"
     ]
    },
    {
     "data": {
      "text/html": [
       "<style type=\"text/css\">\n",
       "</style>\n",
       "<table id=\"T_718ae\">\n",
       "  <thead>\n",
       "    <tr>\n",
       "      <th class=\"blank level0\" >&nbsp;</th>\n",
       "      <th id=\"T_718ae_level0_col0\" class=\"col_heading level0 col0\" >t [s]</th>\n",
       "      <th id=\"T_718ae_level0_col1\" class=\"col_heading level0 col1\" >U [V]</th>\n",
       "      <th id=\"T_718ae_level0_col2\" class=\"col_heading level0 col2\" >I [mA]</th>\n",
       "      <th id=\"T_718ae_level0_col3\" class=\"col_heading level0 col3\" >V [mL]</th>\n",
       "    </tr>\n",
       "  </thead>\n",
       "  <tbody>\n",
       "    <tr>\n",
       "      <th id=\"T_718ae_level0_row0\" class=\"row_heading level0 row0\" >Messpunkt 1</th>\n",
       "      <td id=\"T_718ae_row0_col0\" class=\"data row0 col0\" >220</td>\n",
       "      <td id=\"T_718ae_row0_col1\" class=\"data row0 col1\" >3.63</td>\n",
       "      <td id=\"T_718ae_row0_col2\" class=\"data row0 col2\" >199.0</td>\n",
       "      <td id=\"T_718ae_row0_col3\" class=\"data row0 col3\" >10</td>\n",
       "    </tr>\n",
       "  </tbody>\n",
       "</table>\n"
      ],
      "text/plain": [
       "<pandas.io.formats.style.Styler at 0x1bfc8bb51d0>"
      ]
     },
     "metadata": {},
     "output_type": "display_data"
    }
   ],
   "source": [
    "\n",
    "# Beispielmesswerte für die U-I-Kennlinie\n",
    "u_1 = [3.17, 3.27, 3.37, 3.47, 3.57, 3.68, 3.78, 3.87, 3.97, 4.07, 4.17, 4.27, 4.37, 4.46, 4.56, 4.62] # in V\n",
    "i_1 = [13.8, 28.9, 56.7, 85.9, 98.0, 103.4, 107.5, 114.7, 124.9, 143.1, 168.4, 183, 198.5, 216.6, 235.8, 256.6] # in mA\n",
    "\n",
    "# Beispielmesswerte für die Bestimmung des Faraday- und Energiewirkungsgrades\n",
    "t_1fe = [220] # in s\n",
    "u_1fe = [3.63] # in V\n",
    "i_1fe = [199] # in mA\n",
    "v_1fe = [10] # in mL\n",
    "\n",
    "\n",
    "#### Erste Tabelle für U-I-Kennlinie:\n",
    "df1_ui = pd.DataFrame({\n",
    "    \"U [V]\": u_1,\n",
    "    \"I [mA]\": i_1})\n",
    "\n",
    "# Index setzen\n",
    "df1_ui.index = [f\"Messpunkt {i+1}\" for i in range(len(df1_ui))]\n",
    "\n",
    "# Tabelle erstellen und anzeigen\n",
    "print(\"Tabelle 1: Messwerte für die U-I-Kennlinie des Elektrolyseurs\")\n",
    "display(df1_ui.round(2).style.format({\n",
    "    \"U [V]\": \"{:.2f}\",\n",
    "    \"I [mA]\": \"{:.1f}\"\n",
    "}))\n",
    "\n",
    "# Platzhalter in der Ausgabe erzeugen\n",
    "print (\"\")\n",
    "\n",
    "#### Zweite Tabelle für Faraday- und Energiewirkungsgrad\n",
    "df1_fe = pd.DataFrame({\n",
    "    \"t [s]\": t_1fe,\n",
    "    \"U [V]\": u_1fe,\n",
    "    \"I [mA]\": i_1fe,\n",
    "    \"V [mL]\": v_1fe})\n",
    "\n",
    "# Index setzen\n",
    "df1_fe.index = [f\"Messpunkt {i+1}\" for i in range(len(df1_fe))]\n",
    "\n",
    "# Tabelle erstellen und anzeigen\n",
    "print(\"Tabelle 2: Messwerte für die Bestimmung des Faraday- und Energiewirkungsgrades des Elektrolyseurs\")\n",
    "display(df1_fe.round(2).style.format({\n",
    "    \"U [V]\": \"{:.2f}\",\n",
    "    \"I [mA]\": \"{:.1f}\"\n",
    "}))"
   ]
  },
  {
   "cell_type": "markdown",
   "id": "222df03b-f0c9-4496-938c-687c1827dd3b",
   "metadata": {},
   "source": [
    "---\n",
    "\n",
    " **Ihre Aufgabe:**\n",
    "Beschreiben Sie hier **in eigenen Worten**, den Aufbau, die Durchführung und Ihre Beobachtungen\n",
    "- Welche Startbedingungen gelten für die Messung?\n",
    "- Wie passiert am Elektrolyseur mit steigender Spannung?\n",
    "\n",
    "> _Hinweis: Denken Sie an die Schritte „Aufbau, Messung und Beobachtung“._\n",
    "---\n",
    " **Im folgenden Feld Ihre eigene Beschreibung und Beobachtungen eintragen:**"
   ]
  },
  {
   "cell_type": "markdown",
   "id": "8759217b-ffc3-4a2e-99da-6a061a93234c",
   "metadata": {},
   "source": []
  },
  {
   "cell_type": "markdown",
   "id": "3c6a0cfb-b4ae-4acd-8760-283b0ed46c22",
   "metadata": {},
   "source": [
    "**Auswertung**\n",
    "\n",
    "1.\tZeichnen Sie die $U-I$-Kennlinie des Elektrolyseurs in ein Diagramm. Beschreiben Sie den Verlauf und begründen Sie diesen. Berechnen Sie die Leistung $P$ des Elektrolyseurs an jedem Messpunkt und zeichnen Sie daraus ein $P-I$-Diagramm. Bestimmen Sie **mathematisch** den Punkt maximaler Leistung durch konstruieren einer Ausgleichsfunktion anhand Ihrer Messdaten.\n",
    "2.\tBerechnen Sie den Faraday- und Energiewirkungsgrad mithilfe nachstehender Formeln. Beachten Sie, dass es sich um einen **Doppelzellenelektrolyseur** handelt, also um 2 aneinandergereihte Einzelzellen. **Achten Sie auf die Einheiten, welche teilweise umgerechnet werden müssen.**\n",
    "\n",
    "#### Formeln:\n",
    "\n",
    "Faradaywirkungsgrad: $\\eta_\\text{F} = \\frac{V_{\\text{H}_2}}{V_{\\text{H}_2,\\text{theoretisch}}}$\n",
    "\n",
    "H$_2$ Volumen, theoretisch: $V_{\\text{H}_2,\\text{theoretisch}} = \\frac{I \\cdot t \\cdot V_\\text{m}}{2 \\cdot F}$\n",
    "\n",
    "Molares Normvolumen (25 °C, 1 bar): $V_\\text{m}=24,790 \\frac{\\text{L}}{\\text{mol}}$\n",
    "\n",
    "Faraday-Konstante: $F = 96485,332 \\frac{\\text{C}}{\\text{mol}}$\n",
    "\n",
    "Energiewirkungsgrad: $\\eta_\\text{E} = \\frac{H_{\\text{s, H}_2}\\cdot V_{\\text{H}_2}}{U \\cdot I \\cdot t}$\n",
    "\n",
    "Brennwert H$_2$ (25 °C, 1 bar):$ H_{\\text{s, H}_2} = 11530,239 \\frac{\\text{kJ}}{\\text{m}^3}$"
   ]
  },
  {
   "cell_type": "markdown",
   "id": "1efc385f-0820-4ed0-8044-1876ba746490",
   "metadata": {},
   "source": [
    "#### 1. Zeichnen Sie die $U-I$-Kennlinie des Elektrolyseurs in ein Diagramm. Beschreiben Sie den Verlauf und begründen Sie diesen. Berechnen Sie die Leistung des Elektrolyseurs an jedem Messpunkt und zeichnen Sie daraus ein -Diagramm. Bestimmen Sie mathematisch den Punkt maximaler Leistung durch konstruieren einer Ausgleichsfunktion anhand Ihrer Messdaten."
   ]
  },
  {
   "cell_type": "code",
   "execution_count": 4,
   "id": "82a3ea06-94ff-4542-b237-dd1f907b613f",
   "metadata": {},
   "outputs": [],
   "source": [
    "# Ihre Lösung hier"
   ]
  },
  {
   "cell_type": "markdown",
   "id": "d932735a-f450-444e-a8d9-d84f504a593d",
   "metadata": {},
   "source": [
    "*Ihr Text hier*"
   ]
  },
  {
   "cell_type": "markdown",
   "id": "2bca2f0f-f5e3-4237-9197-95791a363570",
   "metadata": {},
   "source": [
    "#### 2. Berechnen Sie den Faraday- und Energiewirkungsgrad mithilfe nachstehender Formeln. Beachten Sie, dass es sich um einen Doppelzellenelektrolyseur handelt, also um 2 aneinandergereihte Einzelzellen. Achten Sie auf die Einheiten, welche teilweise umgerechnet werden müssen."
   ]
  },
  {
   "cell_type": "code",
   "execution_count": 5,
   "id": "fd59b442-ae63-4948-8724-d5fb8591549f",
   "metadata": {},
   "outputs": [],
   "source": [
    "# Ihre Lösung hier"
   ]
  },
  {
   "cell_type": "markdown",
   "id": "242bc436-65ed-4ed0-bebb-5d0744a25137",
   "metadata": {},
   "source": [
    "*Ihr Text hier*"
   ]
  },
  {
   "cell_type": "markdown",
   "id": "8795994c-6852-45a1-a69f-8367faf1abc3",
   "metadata": {},
   "source": [
    "---"
   ]
  },
  {
   "cell_type": "markdown",
   "id": "3947cfc7-8300-4126-8698-7aeb87fabcad",
   "metadata": {},
   "source": [
    "### 2.2 Versuch 2: U-I Kennlinie und Wasserstoffverbrauch eines Brennstoffzellen Stacks\n",
    "\n",
    "Ermitteln Sie die *U-I*-Kennlinie eines Brennstoffzellen-Stacks bestehend aus 13 Einzelzellen.\n",
    "\n",
    "---\n",
    "\n",
    "**Aufbau, Geräte & Komponenten:**\n",
    "- Brennstoffzelle (mit 13 Einzelzellen)\n",
    "- Hydrostick\n",
    "- Steuerbox\n",
    "\n",
    "---\n",
    "\n",
    "**Durchführung:**\n",
    "\n",
    "Achten Sie bei der Bedienung der Brennstoffzelle auf den richtigen Ablauf der Schritte in dieser Anleitung.\n",
    "1. Lüftersteuerung auf „Auto“ und „30 °C“\n",
    "2. Laststrom auf 1 A, System mit „H2 OPEN“ und „LOAD ON” starten\n",
    "3. Bei erreichen von 30 °C die Last mit „LOAD OFF“ wieder ausschalten\n",
    "4. Ohne Last sollte die Brennstoffzelle eine Spannung von ca. 11 V anzeigen\n",
    "5. Vor dem Start der Messung mit „PURGE“ die Leitungen spülen\n",
    "6. Stellen Sie die in der Tabelle gezeigten Stromstärke-Werte ein und lesen Sie die Spannung an der Brennstoffzelle ab. Warten Sie nach dem Einstellen einer Stromstärke je ca. 5-15 s, um möglichst reproduzierbare Werte zu erhalten\n",
    "7. Nach dem Messpunkt mit einer Stromstärke von 800 mA sollte erneut gepurged werden mit „PURGE“\n",
    "8. Nach dem letzten Messpunkt die Messung über „LOAD OFF“ stoppen\n",
    "9. Schalten Sie die Brennstoffzelle durch „STOP“ aus\n",
    "\n",
    "> <table border align=left>\n",
    ">    <caption><b>Soll-Werte für die Stromstärke <i>I</i></b></caption>\n",
    ">    <tr>\n",
    ">        <td><b><i>I</i> [mA]</b></td>\n",
    ">        <td>0</td>\n",
    ">        <td>50</td>\n",
    ">        <td>150</td>\n",
    ">        <td>200</td>\n",
    ">        <td>250</td>\n",
    ">        <td>300</td>\n",
    ">        <td>400</td>\n",
    ">        <td>500</td>\n",
    ">        <td>600</td>\n",
    ">        <td>800</td>\n",
    ">        <td>1000</td>\n",
    ">        <td>1200</td>\n",
    ">        <td>1400</td>\n",
    ">        <td>1600</td>\n",
    ">        <td>1800</td>\n",
    ">        <td>2000</td>\n",
    ">    </tr>\n",
    "></table>\n",
    "><br clear=all>\n",
    "\n",
    "---\n",
    "\n",
    "**Messgrößen:**  \n",
    "- Ausgangsspannung $U_\\text{last}$ in $\\text{[V]}$  \n",
    "- Zellenspannung $U_\\text{zelle}$ in $[V]$  \n",
    "- Stromstärke $I$ in $\\text{[mA]}$  \n",
    "- Sauerstoff und Luftvolumenströme $Q_{\\mathrm{O}_2}$ und $Q_{\\mathrm{Luft}}$ in $\\text{[ml/min]}$  \n",
    "- Leistung $P$ in $\\text{[mW]}$  \n",
    "- Wirkungsgrad $\\eta$ in $\\text{[\\%]}$\n",
    "\n",
    "---\n",
    "\n",
    "**Messdaten**\n",
    "\n",
    "Notieren Sie hier Ihre Messdaten in `numpy`-Arrays. Nutzen Sie dafür eindeutige Bezeichnungen und zeichnen Sie daraus eine Tabelle:\n",
    "> Hinweis: Nutzen Sie die Tabelle im Versuchsprotokoll als Grundlage für die Tabelle und nutzen Sie den Code aus den vorherigen Versuchen, um zu einer vollständigen Tabelle zu kommen"
   ]
  },
  {
   "cell_type": "code",
   "execution_count": 6,
   "id": "01cef926-4ef5-476f-8095-ab12d7fbaf12",
   "metadata": {},
   "outputs": [],
   "source": [
    "# Ihre Daten hier"
   ]
  },
  {
   "cell_type": "markdown",
   "id": "98ea131a-c4bb-4a08-b1e6-ace1dfc07c05",
   "metadata": {},
   "source": [
    "**Auswertung**\n",
    "\n",
    "1. Berechnen Sie die Leistungen $P_\\text{ist}$ und $P_\\text{soll}$, die Volumenströme $Q_{\\text{O}_2}$ und $Q_\\text{Luft}$ sowie den Wirkungsgrad $\\eta$.\n",
    "2. Zeichnen Sie die gemessene $U-I$-Kennlinie des Brennstoffzellen-Stacks in ein Diagramm und vergleichen Sie den Verlauf mit der $U_\\text{soll}-I$-Kennlinie. Beschreiben Sie den Verlauf.\n",
    "3. Berechnen Sie die Leistung $P_\\text{ist}$ und $P_\\text{soll}$ des Stacks an jedem Messpunkt und zeichnen Sie die daraus resultierenden $P-I$-Diagramme in ein gemeinsames Diagramm. Diskutieren Sie den Verlauf der Graphen und erläutern Sie, was die Ursache für das Verhalten ist. Bennen Sie die drei unterschiedliche Arbeitsbereiche von Brennstoffzellen und Zeichnen Sie diese in Ihr Diagramm ein.\n",
    "4. Erläutern Sie den Verlauf des Wirkungsgrades $\\eta$ mit steigender Stromstärke $I$. Zeichnen Sie dafür ein $I-\\eta$-Diagramm.\n",
    "5. Was sind die größten Herausforderungen einer zukünftigen „Wasserstoffwirtschaft“? Betrachten Sie besonders die Herstellung, Transportwege und -möglichkeiten. In welcher Form kann Wasserstoff effizient über große Distanzen transportiert werden? Wieso eignet sich der Transport von gasförmigem H_$2$ dafür nicht?\n",
    "\n",
    "#### Formeln:\n",
    "\n",
    "Energiewirkungsgrad: $\\eta = \\frac{P_\\text{ist}}{P_\\text{ist}}$\n",
    "\n",
    "Reaktionsgleichung: $ 2 ~ \\text{H}_2 + \\text{O}_2 \\rightarrow 2 ~ \\text{H}_2\\text{O}$\n",
    "\n",
    "Für die Berechnung der Volumenströme an Sauerstoff $Q_{\\text{O}_2}$ und Luft $Q_\\text{Luft}$ beachten Sie die Stöchiometrie der Reaktion innerhalb der Brennstoffzelle. Außerdem gilt, dass alle Gase bei niedrigen Drücken ein nahezu konstantes molares Volumen haben (siehe auch Versuch 1). Nutzen Sie diese Näherung zur Berechnung. Rechnen Sie mit einem Sauerstoffgehalt der Luft von 20,94%.\n",
    "\n",
    "#### 1. Berechnen Sie die Leistungen $P_\\text{ist}$ und $P_\\text{soll}$, die Volumenströme $Q_{\\text{O}_2}$ und $Q_\\text{Luft}$ sowie den Wirkungsgrad $\\eta$."
   ]
  },
  {
   "cell_type": "code",
   "execution_count": 7,
   "id": "cbd86dad-4861-426c-ab0a-6ff894309997",
   "metadata": {},
   "outputs": [],
   "source": [
    "# Ihre Lösung hier"
   ]
  },
  {
   "cell_type": "markdown",
   "id": "827b8750-b60f-4e3b-b697-53e42a998fc1",
   "metadata": {},
   "source": [
    "#### 2. Zeichnen Sie die gemessene $U-I$-Kennlinie des Brennstoffzellen-Stacks in ein Diagramm und vergleichen Sie den Verlauf mit der $U_\\text{soll}-I$-Kennlinie. Beschreiben Sie den Verlauf."
   ]
  },
  {
   "cell_type": "code",
   "execution_count": 8,
   "id": "1765ac07-2b52-4cb4-8abd-2bb1c3cf17ce",
   "metadata": {},
   "outputs": [],
   "source": [
    "# Ihre Lösung hier"
   ]
  },
  {
   "cell_type": "markdown",
   "id": "43c61c23-fb43-4860-97e1-e813d58cd9cc",
   "metadata": {},
   "source": [
    "*Ihr Text hier*"
   ]
  },
  {
   "cell_type": "markdown",
   "id": "d620cd27-132b-4d82-bd16-9cba474a9b4e",
   "metadata": {},
   "source": [
    "#### 3. Berechnen Sie die Leistung $P_\\text{ist}$ und $P_\\text{soll}$ des Stacks an jedem Messpunkt und zeichnen Sie die daraus resultierenden $P-I$-Diagramme in ein gemeinsames Diagramm. Diskutieren Sie den Verlauf der Graphen und erläutern Sie, was die Ursache für das Verhalten ist. Bennen Sie die drei unterschiedliche Arbeitsbereiche von Brennstoffzellen und Zeichnen Sie diese in Ihr Diagramm ein."
   ]
  },
  {
   "cell_type": "code",
   "execution_count": 9,
   "id": "4f35845a-b2c9-4376-bef1-be53f97e4fcc",
   "metadata": {},
   "outputs": [],
   "source": [
    "# Ihre Lösung hier"
   ]
  },
  {
   "cell_type": "markdown",
   "id": "cd697ee4-a5df-47b8-8d06-2e174731a4e2",
   "metadata": {},
   "source": [
    "*Ihr Text hier*"
   ]
  },
  {
   "cell_type": "markdown",
   "id": "5df29255-71d8-4309-996a-f77d9ca45f0c",
   "metadata": {},
   "source": [
    "#### 4. Erläutern Sie den Verlauf des Wirkungsgrades $\\eta$ mit steigender Stromstärke $I$. Zeichnen Sie dafür ein $I-\\eta$-Diagramm."
   ]
  },
  {
   "cell_type": "code",
   "execution_count": 10,
   "id": "78f6d1c9-e145-4377-b407-d34442308945",
   "metadata": {},
   "outputs": [],
   "source": [
    "# Ihre Lösung hier"
   ]
  },
  {
   "cell_type": "markdown",
   "id": "b1f3dc71-2981-4716-9498-3f0790fc2a71",
   "metadata": {},
   "source": [
    "*Ihr Text hier*"
   ]
  },
  {
   "cell_type": "markdown",
   "id": "24978644-4bcf-4c06-9cc6-069cac1086a8",
   "metadata": {},
   "source": [
    "#### 5. Was sind die größten Herausforderungen einer zukünftigen „Wasserstoffwirtschaft“? Betrachten Sie besonders die Herstellung, Transportwege und -möglichkeiten. In welcher Form kann Wasserstoff effizient über große Distanzen transportiert werden? Wieso eignet sich der Transport von gasförmigem H_$2$ dafür nicht?\n",
    "\n",
    "*Ihr Text hier*"
   ]
  },
  {
   "cell_type": "markdown",
   "id": "0204a559-01ad-4951-abfc-826d81a5b3f4",
   "metadata": {},
   "source": [
    "---"
   ]
  },
  {
   "cell_type": "markdown",
   "id": "1cad12e4-a815-4585-9e11-c8adb594d8e8",
   "metadata": {},
   "source": [
    "# 3. Quellen"
   ]
  },
  {
   "cell_type": "markdown",
   "id": "5ff28a7e-ce3c-42ca-b7be-fe4f7c6693cc",
   "metadata": {},
   "source": []
  }
 ],
 "metadata": {
  "kernelspec": {
   "display_name": "Python 3 (ipykernel)",
   "language": "python",
   "name": "python3"
  },
  "language_info": {
   "codemirror_mode": {
    "name": "ipython",
    "version": 3
   },
   "file_extension": ".py",
   "mimetype": "text/x-python",
   "name": "python",
   "nbconvert_exporter": "python",
   "pygments_lexer": "ipython3",
   "version": "3.13.7"
  }
 },
 "nbformat": 4,
 "nbformat_minor": 5
}
