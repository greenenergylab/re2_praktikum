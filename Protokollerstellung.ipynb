{
 "cells": [
  {
   "cell_type": "markdown",
   "id": "4e0057dd-e135-447c-a9c7-077b4985b648",
   "metadata": {
    "editable": true,
    "slideshow": {
     "slide_type": "slide"
    },
    "tags": []
   },
   "source": [
    "# Erstellung von Protokollen\n",
    "\n",
    "In diesem Kapitel lernen Sie, wie die Anforderungen an die Protokolle zu dem Praktikum Regenerative Energien 2 sind.\n",
    "\n",
    "---"
   ]
  },
  {
   "cell_type": "markdown",
   "id": "bc669e37-5d08-485e-b271-1fcd17f7b741",
   "metadata": {
    "editable": true,
    "slideshow": {
     "slide_type": "fragment"
    },
    "tags": []
   },
   "source": [
    "Mit der Beendigung dieses Semesters und damit auch dieses Praktikums stehen Ihnen noch 2 große Aufgaben bevor: Sie müssen eine Studienarbeit und eine Bachelorarbeit erstellen. Das Prüfungsformat ist dabei jeweils eine schriftliche Ausarbeitung zu einem bestimmten Thema zu erstellen. Die Protokolle, die Sie für dieses Praktikum erstellen müssen, sollen Ihnen dabei als Vorbereitung für diese Aufgaben dienen. Es gilt dabei:\n",
    "\n",
    "> Der Inhalt einer Ausarbeitung kann noch so gut sein, wenn die äußere Form nicht stimmt, wird die Arbeit niemals überzeugen.\n",
    "\n",
    "Mit äußerer Form ist unter anderem gemeint, dass Zeilenabstände, Schriftsatz, -art und -grad, Formeln etc. einheitlich und \"schön\" formatiert sind, sowie Abbildungen und Tabellen sinnvoll eingesetzt und beschriftet werden.\n",
    "\n",
    "Informationen zur Erstellung wissenschaftlicher Arbeiten und Texte finden Sie auch im moodle in den Kursen **THGA Write Club**, **Anleitung zum wiss. Arbeiten grundsätzliches für alle WB** und **Erstellung wiss. Arbeiten**.\n",
    "\n",
    "Auf diese Punnkte wird im einzelnen in diesem Kapitel eingegangen und erklärt, wie Sie möglichst einfach zu einem guten Protokoll, einer hervorragenden Ausarbeitung oder einer erfolgreichen Abschlussarbeit kommen.\n",
    "\n",
    "---"
   ]
  },
  {
   "cell_type": "markdown",
   "id": "1ebb9049-7bfd-4a2e-a2e8-8a54f7c90d64",
   "metadata": {},
   "source": [
    "Als angehende Ingenieure gehören zu Ihren Kernkompetenzen Daten erheben, auswerten und präsentieren zu können. Dies müssen Sie im späteren Berufsleben immer wieder unter Beweis stellen. In unserem digitalisierten Zeitalter benutzen wir für alle diese Aufgaben Software. Für das Protokoll, aber auch für die Studien- und Abschlussarbeit benötigen Sie eine geeignete Texteditor-Software, um Ihre Ausführungen darstellen zu können. Die meist verwendeten Programme sind:\n",
    "\n",
    "- Word (Microsoft Office)\n",
    "- Write (Libre Office, Freeware)\n",
    "- Writer (OpenOffice.org, Freeware)\n",
    "- LaTeX (LaTeX Project Team, Freeware)\n",
    "\n",
    "Die Verwendung jedes dieser Programme beinhaltet bestimmte Vor- und Nachteile.\n",
    "\n",
    "<table width=75%>\n",
    "    <tr>\n",
    "        <th>Programm</th>\n",
    "        <th>Vorteile</th>\n",
    "        <th>Nachteile</th>\n",
    "    </tr>\n",
    "    <tr>\n",
    "        <td>Word</td>\n",
    "        <td>Leistungsfähig, WYSIWYG, nahezu alles darstellbar, einfach in der Bedienung</td>\n",
    "        <td>Kostenpflichtig, Formatierung kompliziert</td>        \n",
    "    </tr>\n",
    "    <tr>\n",
    "        <td>Write (Libre Office)</td>\n",
    "        <td>Leistungsfähig, WYSIWYG, nahezu alles darstellbar, einfach in der Bedienung, Kostenlos</td>\n",
    "        <td>Ähnlich wie Word aber unübersichtlicher, Formatierung kompliziert</td>        \n",
    "    </tr>\n",
    "    <tr>\n",
    "        <td>Writer (OpenOffice.org)</td>\n",
    "        <td>WYSIWYG, einfach in der Bedienung, Kostenlos</td>\n",
    "        <td>Ähnlich wie Word und Write aber unübersichtlicher, Formatierung kompliziert, weniger Möglichkeiten als Write und Word</td>           </tr>\n",
    "    <tr>\n",
    "        <td>LaTeX</td>\n",
    "        <td>Leistungsfähig, alles darstellbar, Trennung von Text und Formatierung, Problemlose Umwandlung in andere Dateiformate. Drucken ohne Schwierigkeiten, Kostenlos</td>\n",
    "        <td>Makro-basiert, Formatierung wird \"programmiert\", kein WYSIWYG</td>        \n",
    "    </tr>\n",
    "</table>\n",
    "\n",
    "Der Ausdruck *\"WYSIWYG\"* steht für **W**hat **Y**ou **S**ee **I**s **W**hat **Y**ou **G**et. Dies bedeuted, dass Formatierungen direkt auf den Text angewendet werden und somit Änderungen sofort erkenntlich sind. Dies ist der wesentlichste Unterschied zu dem schreiben in LaTeX: hier wird die Formatierung vollständig vom Text getrennt. Dies beinhaltet Vorteile bei längeren Texten, bedarf aber natürlich einer Eingewöhnungs- und Einarbeitungszeit.\n",
    "\n",
    "Wir machen Ihnen keine Vorgaben, welches Programm Sie verwenden möchten, sondern stellen Ihnen für jedes Programm entsprechende Protokollvorlagen zur Verfügung - außer für Writer von OpenOffice.org. Wenn Sie eine kostenlose Software mit WYSIWYG-Funktion nutzen möchten, empfehlen wir Ihnen Libre Office Write, das auf demselben Programm wie Writer aufbaut, jedoch deutlich aktueller gehalten wird. Die Formate sind dabei interexchangeable, also mit Writer erstellte Dateien können Sie in Write öffnen und bearbeiten - ebenso andersherum."
   ]
  },
  {
   "cell_type": "markdown",
   "id": "aaae5fcd-c6b8-401a-bca6-709a60326734",
   "metadata": {},
   "source": [
    "---"
   ]
  },
  {
   "cell_type": "markdown",
   "id": "09a605e9-bb67-4f3e-b27e-24cb31edd469",
   "metadata": {},
   "source": [
    "## Schriften, Schriftsatz etc."
   ]
  },
  {
   "cell_type": "markdown",
   "id": "e37d46a9-f811-4242-ae59-f0edc97f42e9",
   "metadata": {},
   "source": [
    "In den oben genannten Programmen können Sie jeweils verschiedene Schriftarten verwenden. Dabei werden aber in der wissenschaft nur einige wenige akzeptiert. Diese sind vor Allem: <b style=\"font-family:arial\">Arial</b>, <b style=\"font-family:calibri\">Calibri</b>, <b style=\"font-family:'Times New Roman'\">Times New Roman</b> und weitere (überwiegend serifenlose) Schriften. Schriftarten wie <b style=\"font-family: 'Brush Script MT', cursive\">Brush Script MT</b> und <b style=\"font-family: 'Lucida Handwriting', cursive\">Lucida Handwriting</b> sehen zwar schön aus, erschweren aber den Lesefluss und sind daher für wissenschaftliche und technische Schrriftstücke ungeeignet.\n",
    "\n",
    "In der Regel gibt es daher genaue vorgaben, an die Sie sich halten sollten. Zumeist wird eine Schriftart und -größe vorgegeben. Für dieses Praktikum verwenden Sie bitte folgende Parameter:\n",
    "\n",
    "\n",
    "<table>\n",
    "    <tr>\n",
    "        <td style=\"text-align:left;\"> <b>Schriftart</b></td>\n",
    "        <td>Arial, Tahoma, Verdana, Calibri, Corbel, Times New Roman</td>\n",
    "    </tr>\n",
    "    <tr>\n",
    "        <td style=\"text-align:left;\"><b>Schriftgröße</b></td>\n",
    "        <td>12</td>\n",
    "    </tr>\n",
    "    <tr>\n",
    "        <td style=\"text-align:left;\"><b>Schriftsatz</b></td>\n",
    "        <td>Blocksatz</td>\n",
    "    </tr>\n",
    "    <tr>\n",
    "        <td style=\"text-align:left;\"><b>Zeilenabstand</b></td>\n",
    "        <td>1,5-fach</td>\n",
    "    </tr>\n",
    "</table>\n",
    "\n",
    "Das selbe gilt auch für Achsen-, Abbildungs- und Tabellenbeschriftungen.\n",
    "\n",
    "Wissenschaftliche Texte werden prinzipiell immer im **passiv**, **neutral** und **nicht wertend** formuliert (zumindest in den Ingenieur- und Naturwissenschaften).\n",
    "\n",
    "Beispiel:\n",
    "\n",
    "<table width=50%>\n",
    "    <tr>\n",
    "        <th style=\"color:#006400\";>passiv, nicht wertend</th>\n",
    "        <th style=\"color:#8B0000\";>aktiv, wertend</th>\n",
    "    </tr>\n",
    "    <tr>\n",
    "        <td style=\"text-align:center;\"><i>\"Es wurde eine präzise Messung der Spannung durchgeführt\"</i></td>\n",
    "        <td style=\"text-align:center;\"><i>\"Ich habe einen guten Messwert für die Spannung erhalten</i></td>\n",
    "    </tr>\n",
    "</table>"
   ]
  },
  {
   "cell_type": "markdown",
   "id": "6315613f-b671-4707-8485-7ec0a6a78069",
   "metadata": {},
   "source": [
    "---"
   ]
  },
  {
   "cell_type": "markdown",
   "id": "eae0882a-3a70-48fc-8478-e0b4b24ec18b",
   "metadata": {},
   "source": [
    "## Abbildungen und Tabellen"
   ]
  },
  {
   "cell_type": "markdown",
   "id": "5055094a-04ad-45f0-860b-8bd248da8560",
   "metadata": {},
   "source": [
    "Generell bekommen Abbildungen, Diagramme, Tabellen, Formeln und Schemata fortlaufende Nummern im Protokoll. Dies kann händisch erfolgen, kann aber auch über entsprechende Verzeichnisse in den jeweiligen Programmen geschehen. Diese Verzeichnisse sind wiederum nützlich, da automatisch ein Verzeichnis der jeweiligen Abbildungen, Tabellen und weiteres erstellt werden kann - inklusive Zuordnung der richtigen Seitenzahlen.\n",
    "\n",
    "Grundsätzlich gilt:\n",
    ">**Abbildungen** und **Diagramme** bekommen ***Unter*schriften**\n",
    "\n",
    ">**Tabellen** bekommen ***Über*schriften**\n",
    "\n",
    "Diese Unter- und Überschriften enthalten eine inhaltliche Zusammenfassung des gezeigten Inhalts. Ziel ist es, dass das Protokoll oder die Arbeit verständlich ist, auch ohne die Abbildungen anzusehen. Ein Beispiel:\n",
    "\n",
    "![Diagramm 1](Data/Diagramm-1_tight_titellos.png \"Diagramm 1 tight\")\n",
    "\n",
    "<p style=\"font-family:calibri\">Abbildung 1: Drehzahl-Leistungs-Diagramm drei verschiedener Windrkraftanlagen.</p>\n",
    "\n",
    "Wie Ihnen auffallen könnte, ist der Abbildungstitel nicht mehr vorhanden. Dieser wird für ein Protokoll oder eine Ausarbeitung nicht benötigt, da der Inhalt in der Abbildungsbeschriftung dargestellt wird. Es gilt weiterhin, wie bereits im [Kapitel zur Erstellung von Diagrammen](Erstellung-von-Diagrammen.ipynb) erwähnt, dass gemessene Datenpunkte eben als **Punkte** dargestellt werden müssen und keine Verbindungslinie haben.\n",
    "\n",
    "Außerdem haben die Achsen eine geeignete Skalierung (dies ist durch `matplotlib.pyplot` nahezu immer automatisch korrekt) und Achsenbeschriftungen, welche auch die Einheit enthalten.\n",
    "\n",
    "Für Tabellen gilt ebenso, dass Sie möglichst ein Format wählen, dass den Inhalt der Tabelle gut dargestellt werden kann. Dabei ist auch darauf zu achten, dass bei Zahlenwerten nur die signifikanten Nachkommastellen angezeigt werden. Sollte Ihre Tabelle zu breit oder lang sein, um auf eine Seite zu passen, können Sie die Tabelle umbrechen. Dabei sollte jede Tabelle (auch z.B. eine auf der nächsten Seite fortgeführte Tabelle) eine Kopfzeile besitzen. Auch hierfür gibt es entsprechende Optionen in den Textverarbeitungsprogrammen.\n",
    "\n",
    "Außerdem müssen Abbildungen und Tabelle im Text aufgegriffen und erklärt werden. Diagramme & Co. dienen der Unterstützung des Textes und sollen daher nicht einfach so darstehen. Für das Beispiel oben bedeuted dies, dass bevor das Diagramm im Schriftstück auftaucht, mindestens ein Satz dazu im Fließtext steht. Ein Beispiel:\n",
    "\n",
    "<p style=\"font-family:calibri\">Für die drei gemessenen <i>U-I</i>-Kennlinien der Windkraftanlagen wurde ein gemeinsames Drehzahl-Leistungs-Diagramm erstellt (s. Abbildung 1).</p>\n",
    "\n",
    "Nach dem Diagramm wird im Text kurz erwähnt, was in dem Diagramm zu sehen ist:\n",
    "\n",
    "<p style=\"font-family:calibri\">Alle drei gemessenen Windkraftanlagen zeigen einen ähnlichen Verlauf im Drehzahl-Leistungs-Diagramm. Die Leistung steigt stetig mit steigender Drehzahl bis zu einem Maxmimum an. Nach dem Maximum fällt die Leistung stetig ab hin zu höheren Drehzahlen. Windkraftanlage 3 zeigt die höchste Leistung, gefolgt von Windkraftanlage 2 und Windkraftanlage 1</p>"
   ]
  },
  {
   "cell_type": "markdown",
   "id": "2c3f64b6-adc7-432b-af02-61684cf7b930",
   "metadata": {},
   "source": [
    "---"
   ]
  },
  {
   "cell_type": "markdown",
   "id": "7024c910-7002-40b7-8698-f726b19f9cfd",
   "metadata": {},
   "source": [
    "## Erstellen von Formeln, Gleichungen und Rechnungen mit $\\mathrm{\\LaTeX}$"
   ]
  },
  {
   "cell_type": "markdown",
   "id": "d519b19e-202c-4617-b5b3-7be33c7e28a4",
   "metadata": {},
   "source": [
    "Ohne Formeln und Gleichungen werden Sie als Ingenieure kaum auskommen - weder jetzt noch in Ihrem zukünftigen Berufsleben. Sie haben im Studium reichlich Formeln gelernt, niedergeschrieben und angewendet. Nun müssen Sie diese Aufgabe auf dem Computer vollführen... aber wie? Auch hier helfen Ihnen die oben eingangs erwähnten Textverarbeitenden Programme weiter.\n",
    "\n",
    "Bei Word, Write und Writer gibt es jeweils einen Formel-Editor. Mit einem klick darauf entsteht ein leeres Formel-Feld. Dieses können Sie nun mit Ihrer Formel, Gleichung oder Rechnung befüllen. Sie finden in der oberen Funktionsleiste jeweils einen Reiter, der Ihnen auch Sub- und Superskripte, Brüche, Wurzeln, griechische Symbole und vieles weitere ermöglicht.\n",
    "\n",
    "$\\mathrm{\\LaTeX}$  hat eine große Beliebtheit in den Ingenieur- und Naturwissenschaften erlangt, da es sich besonders gut für die Erstellung von Formeln und Gleichungen eignet. Auch sämtliche Formeln, die Sie in diesem Jupyter Notebook-Skript finden, wurden mit $\\mathrm{\\LaTeX}$ -Formatierungen erstellt. Sie können also die Gleichungen auch im Jupyter Notebook erstellen und dabei die $\\mathrm{\\LaTeX}$ -Syntax nutzen. Wir empfehlen Ihnen für eine größere Übersicht der verschiedenen Funktionen im Internet nach sogenannte Cheat-Sheets zu schauen, auf denen Sie alle Makro-Befehle finden können.  \n",
    "\n",
    "Im folgenden wird ein Beispiel gezgeigt, wie mit $\\mathrm{\\LaTeX}$  eine Rechnung erstellt wird. Dafür wollen wir die im voherigen [Kapitel](Regression.ipynb) beschriebene Regressionsgleichung \n",
    "\n",
    "1. darstellen,\n",
    "2. die Ableitung bilden,\n",
    "3. die Nullstellen der Ableitung mit Hilfe der pq-Formel finden\n",
    "4. und die Lösung in die Ursprungsgleichung einsetzen.\n",
    "\n",
    "Um im Jupyter Notebook oder $\\mathrm{\\LaTeX}$  eine mathematische Formel zu schreiben, müssen die Argumente mit `$ $`-Zeichen eingerahmt werden. Wenn Sie statt einem, zwei Dollarzeichen verwenden, wird die Formel automatisch hervorgehoben und in eine neue Zeile geschrieben."
   ]
  },
  {
   "cell_type": "markdown",
   "id": "72fc48fd-3352-426b-a93a-bf12a7fe8d98",
   "metadata": {},
   "source": [
    "$$ f(x)=-2.75*10^{-8}x³+2.26*10^{-4}x²-0.54x+458,1 $$"
   ]
  },
  {
   "cell_type": "markdown",
   "id": "9737cce1-2585-4f0d-90f3-0af6bda86d57",
   "metadata": {},
   "source": [
    "Die Syntax ist in diesem Falle noch simpel, da nur die Exponenten nicht auf der normalen Tastatur zu finden sind. Exponenten und Superskripte werden durch  \n",
    "``` latex\n",
    "^{}\n",
    "``` \n",
    "erstellt. Die Eingabe lautet daher:  \n",
    "``` latex\n",
    "$ f(x) = -2.75 * 10^{-8} x³ + 2.26 * 10^{-4} x² - 0.54 x + 458,1 $\n",
    "```"
   ]
  },
  {
   "cell_type": "markdown",
   "id": "e7916c24-d90e-4f47-bde6-5c7672cc997c",
   "metadata": {},
   "source": [
    "Die Darstellung der Ablteiung $f'(x)$ ist ebenso einfach.\n",
    "\n",
    "$$ f'(x)=-8.75*10^{-8}x²+4.51*10^{-4}x-0.54 $$"
   ]
  },
  {
   "cell_type": "markdown",
   "id": "0c338aba-273c-43d2-93d7-d2912c44661b",
   "metadata": {},
   "source": [
    "Nun muss $f'(x)=0$ gesetzt werden und in die pq-Form gebracht werden:"
   ]
  },
  {
   "cell_type": "markdown",
   "id": "5b1e278c-dd42-4eae-99a0-501876e59a7c",
   "metadata": {},
   "source": [
    "$$ f'(x)=0$$\n",
    "\n",
    "$$ 0=-8.75*10^{-8}x²+4.51*10^{-4}x-0.54 ~~~~ \\vert :(-8.75*10^{-8})$$\n",
    "\n",
    "$$ 0= \\frac{-8.75*10^{-8}} {-8.75*10^{-8}}x² + \\frac{4.51*10^{-4}} {-8.75*10^{-8}}x - \\frac {0.54} {-8.75*10^{-8}}$$\n",
    "\n",
    "$$ 0= x² \\underbrace{-5470}_{\\text{p}} ~  x~ \\underbrace{-6.58*10^{6}}_{\\text{q}}$$\n"
   ]
  },
  {
   "cell_type": "markdown",
   "id": "6a416ceb-205c-4847-b911-28761f914d01",
   "metadata": {},
   "source": [
    "Um diese Gleichungen zu erstellen, werden vor Allem Brüche benötigt. Diese können durch den Befehl \n",
    "``` latex\n",
    "\\frac {}{}\n",
    "```\n",
    "erstellt werden, wobei in der ersten geschweiften Klammer der Zähler und in der Zweiten der Nenner steht.\n",
    "\n",
    "Die geschweiften Klammern, die $p$ und $q$ markieren, werden durch \n",
    "``` latex\n",
    "\\underbrace{Argument}_{\\text{p}}\n",
    "```\n",
    "erzeugt. Das Argument ist dabei der Teil, der umschweift wird und das $p$ der Text unter den Klammern. In mathematischen Formeln in $\\mathrm{\\LaTeX}$ werden standardmäßig Leerzeichen ignoriert. Sie können also Leerzeichen verwenden, um die Lesbarkeit zu erhöhen. Wenn Sie jedoch ein Leerzeichen (oder mehrere) machen möchten, können Sie stattdessen eine Tilde `~` verwenden."
   ]
  },
  {
   "cell_type": "markdown",
   "id": "3de957c5-9e75-4ac9-9a58-326176354961",
   "metadata": {},
   "source": [
    "Die Formel nun einsetzen in: \n",
    "$$x_{1,2} = -\\frac p 2 \\pm \\sqrt{{(\\frac p 2)}^{2}-q}$$\n",
    "ergibt:\n",
    "$$x_{1,2} = -\\frac {-5470} {2} \\pm \\sqrt{{(\\frac {-5470} {2})}^{2}-6.58*10^{6}} $$\n",
    "\n",
    "$$x_{1,2} = 2735 \\pm \\sqrt{{(-2735)}^{2}-6.58*10^{6}}$$\n",
    "\n",
    "$$x_{1,2} = 2735 \\pm \\sqrt{8.96*10^{5}}$$\n",
    "\n",
    "$$x_{1,2} = 2735 \\pm 946 $$\n",
    "\n",
    "$$x_1 = 3681 ~\\mathrm{und} ~x_2 = 1789$$"
   ]
  },
  {
   "cell_type": "markdown",
   "id": "390a012b-7a6b-4042-a6f2-2d03b5575cf6",
   "metadata": {},
   "source": [
    "Um diese Gleichungen aufzustellen benötigen Sie noch die Syntax für Subskripte und Indizes, welche durch ein einfaches \n",
    "``` latex\n",
    "_Index\n",
    "``` \n",
    "oder durch \n",
    "``` latex\n",
    "_{mehrere Zeichen mit Leerzeichen}\n",
    "``` \n",
    "gelingt.\n",
    "\n",
    "Wenn Sie Texte, wie das *und* in der obigen Gleichung schreiben wollen, wird dies als mathematischer Ausdruck interpretiert und somit kursiv geschrieben. Dies können Sie durch\n",
    "``` latex\n",
    "\\mathrm{}\n",
    "```\n",
    "oder\n",
    "\n",
    "```latex\n",
    "\\text{}\n",
    "```\n",
    "\n",
    "verhindern.\n",
    "\n",
    "Außerdem können Sie Wurzeln durch\n",
    "``` latex\n",
    "\\sqrt{}\n",
    "```\n",
    "erstellen und das Plus-Minus-Zeichen durch\n",
    "``` latex\n",
    "\\pm\n",
    "```"
   ]
  },
  {
   "cell_type": "markdown",
   "id": "5296ca7e-287a-4075-9456-35346231ddff",
   "metadata": {},
   "source": [
    "In der nachstehenden Tabelle erhalten Sie einen Überblick über die $\\mathrm{\\LaTeX}$-Befehle, die verwendet wurden, sowie ein paar weitere, die Sie häufig benötigen (könnten).\n",
    "\n",
    "|Zeichen| Beispiel | Output |\n",
    "|:-----:|:------:|:------:|\n",
    "|Index/Subskript|`x_1`|$x_1$|\n",
    "|Index aus mehreren Zeichen|`x_{1,2}`|$x_{1,2}$|\n",
    "|Text in mathematischen Ausdrücken|`\\mathrm{Text}`|$\\mathrm{Text}$|\n",
    "|Wurzel|`\\sqrt{-1}`|$\\sqrt{-1}$|\n",
    "|Plus-Minus-Zeichen|`\\pm`|$\\pm$|\n",
    "|Bruch|`\\frac{1}{2}`|$\\frac{1}{2}$|\n",
    "|Potenz/Superskript|`e^{2x}`|$e^{2x}$|\n",
    "|**Weitere nützliche Befehle:**|\n",
    "|Griechische Buchstaben|`\\delta`|$\\delta$|\n",
    "|Oder auch:|`\\Delta`|$\\Delta$|\n",
    "|Sub- und Superskript|`x_1^{2}`|$x_1^{2}$|\n",
    "|Mal-Zeichen|`\\cdot`|$\\cdot$|\n"
   ]
  },
  {
   "cell_type": "markdown",
   "id": "02f45518-f586-4255-ac44-3be9cb3c06c9",
   "metadata": {},
   "source": [
    "---"
   ]
  },
  {
   "cell_type": "markdown",
   "id": "87e3586f-e3f2-432a-a152-941465255d02",
   "metadata": {},
   "source": [
    "## Quellen und Quellenverzeichnis"
   ]
  },
  {
   "cell_type": "markdown",
   "id": "9435a7f9-ef31-41f5-8806-df8bb4ce813a",
   "metadata": {},
   "source": [
    "Zu wissenschaftlichen Arbeiten gehören immer Quellen, also Angaben anderer AutorInnen, die in der eigenen Arbeit, Protokoll oder Ausarbeitung aufgegriffen werden. Generell gilt, dass in einer guten wissenschaftlichen Schrift keine Behauptungen oder Beschreibungen stehen, ohne eine geeignete Quellenangabe zu haben. Ausgenommen sind dabei Dinge, die zum Grundwissen der beabsichtigten Leserschaft gehören. Um dies zu veranschaulichen, ein kurzes Beispiel:\n",
    "\n",
    ">\"Windkrafträder sind von großer Bedeutung für die Energiewende, da sie günstige, erneuerbare Energie liefern.$^{[1]}$ Der Generator erzeugt durch die Rotation einen Strom $I$ gewisser Spannung $U$, die einer elektrische Leistung $P$ nach $P=U \\cdot I$ entspricht.\"\n",
    "\n",
    "Im Quellenverzeichnis taucht dann folgender Verweis auf:\n",
    "\n",
    ">[1] Arrambide, I., Zubia, I., Madariaga, A., *Critical review of offshore wind turbine energy production and site potential assessment*, Electric Power Systems Research, 167, **2019**, 39-47.\n",
    "\n",
    "Der oben stehende Satz enthält eine Aussage, die durch ein inhaltliches Zitat belegt wurde (in diesem Fall Quelle [1]). Der zweite Satz beschreibt die Stromerzeugung und enthält kein Zitat, da diese Aussage für IngenieurInnen zum Grundwissen gehört.\n",
    "\n",
    "Das Quellenverzeichnis zu erstellen und zu pflegen wird - insbesondere bei Ihrer Abschlussarbeit - einigen Aufwand erfordern. Daher empfiehlt es sich Literaturverwaltungsprogramme dafür zu verwenden. Auch hier soll eine kurze Auflistung gängiger Programme erfolgen:\n",
    "\n",
    "* Mendeley (Freeware, beinhaltet viele Zitationsstile)\n",
    "* EndNote (kostenpflichtig, umfangreiche Möglichkeiten)\n",
    "* Citavi (kostenpflichtig, enthält viele Zitationsstile)\n",
    "* BibTeX (Freeware, einfache Einbindung in $\\mathrm{\\LaTeX}$)\n",
    "\n",
    "In diesen Programmen können Sie Ihre Quellen (teilweise semi-automatisiert) in eine Quellenbibliothek einfügen, die Ihnen eine größere Übersicht ermöglicht. Darüber hinaus können Sie Zitate in Ihr Dokument einfügen (durch entsprechende Add-Ons), die automatisch den gewünschten Zitationsstil haben. \n",
    "\n",
    "**Aber was ist ein Zitationsstil?**\n",
    "\n",
    "Zitate und Quellenangaben können und werden auf verschiedene Weise wiedergegeben. Schauen wir uns die Quellenangabe oben genauer an: Dort sind alle Autoren genannt (3 an der Zahl), der gesamte Titel der Publikation (in *kursiver* Schrift) und der Titel des Journals, in dem dieser Text veröffentlich wurd. Darauf folgt eine Zahl, die der Auflage entspricht (Volume 167), dem Jahr der Veröffentlichung (in **fetter** Schrift), sowie die Seitenzahlen (39-47).\n",
    "\n",
    "Dies ist nur eine von vielen Varianten, wie Quellen genannt werden können. Dabei gibt es Arten, die sich in verschiedenen Disziplinen durchgesetzt haben, bzw. werden manche Zitationsstile auch von wissenschaftlichen Journalen vorgegeben. Dieselbe Quelle könnte auch so Zitiert werden:\n",
    "\n",
    ">1 Arrambide, I. *et al.*, Electr. Power Syst. Res., 167, **2019**, 39-47.\n",
    "\n",
    "Wie Sie sehen, wird nur der Erstautor genannt. Die anderen Autoren werden durch den lateinischen Ausdruck *et al.*, kurz für *et alii* (deutsch: *und andere*) Abgekürzt. Außerdem gibt es für (nahezu) jedes Journal eine offizielle Kurzform, um die Zitationslänge weiter kürzen zu können. Ferner müssen die Quellenangaben nicht zwingend in eckigen [] oder runden () Klammern erfolgen. Wie Sie sehen gibt es viele Varianten, Quellen zu zitieren.\n",
    "\n",
    ">Das wichtigste bei der Zitations ist: verwenden Sie einen **einheitlichen** Stil.\n",
    "\n",
    "Keiner der Zitationsstile ist prinzipiell falsch, besser oder schlechter - sie sind eben anders. Sie müssen nur einheitlich zitieren, also nicht zwischen verschiedenen Zitationsstilen wechseln. Außerdem bietet es sich an einen Zitationsstil zu verwenden, der in Ihrer Fachdisziplin etabliert ist. Dies wären zum Beispiel *Chemie, Ingenieur, Technik* (CIT), oder der *IEEE*-Stil (Institute of Electrical and Electronical Engineers). In den meisten Literaturprogrammen finden Sie diese Zitationsstile bereits zur Auswahl. \n",
    "\n",
    "Wichtig ist auch, dass verscheidene Quellen unterschiedlich Zitiert werden. Sie haben oben ein Zitat für eine Publikation in einem Journal gesehen. Wird eine Buchquelle zitiert, so erfolgen in der Regel noch Angaben zum Verlag und Verlagsort. Für Internetquellen gibt es noch weitere, besondere Regeln: \n",
    "\n",
    ">Internetquellen benötigen ein Datum das angibt, wann und von wem der Inhalt erstellt bzw. zuletzt geändert wurde (falls verfügbar), die URL (möglichst kurz, ohne Tracking-Links), sowie ein Abrufdatum, an dem Sie die Quelle aufgerufen haben.\n",
    "\n",
    "Wieso ist das so anders bei online-Quellen? Das Internet ist sehr schnell veränderlich, daher kann Ihre Quelle, die Sie heute aufgerufen haben, bereits einen Tag später geändert oder gelöscht worden sein. Für Ihre Abschlussarbeit empfiehlt es sich daher, Ihre Internetquellen als .html-Datei herunterzuladen und als elektronischen Anhang beizufügen. Dies ist für das Praktikum nicht notwendig, jedoch die Angaben zu Abrufdatum und Änderungsdatum schon.\n",
    "\n",
    "Achten Sie außerdem darauf, was Sie aus welchen Quellen zitieren. Wenn Sie sich kritisch (und somit wissenschaftlich) mit einer Thematik aueinandersetzen wollen, rät es sich Quellen verschiedener Betrachtungswinkel auszuwählen. Wenn Sie zum Beispiel wie oben eine Quelle zur Windenergie suchen finden Sie auf Internetseiten von Windkraftanlagen-Herstellern überschwänglich positive Berichte. Auf Internetseiten von Unternehmen, die eher für klassische Kohle- oder Erdgaskraftwerke stehen oder Teile herstellen, finden Sie eher negative oder kritische Äußerungen. Die Wissenschaft liegt nun darin, möglichst neutrale Quellen zu finden.\n",
    "\n",
    "Wenn Sie nach wissenschaftlichen Veröffentlichungen in Journalen suchen, können Sie z.B. [google Scholar](https://scholar.google.com) verwenden. Diese Suchmaschine sucht ausschließlich in wissenschaftlichen Journalen und Büchern.\n",
    "\n",
    ">Für sämtliche Quellen gilt: die Stelle im Text oder das Bild muss eindeutig markiert sein und die genaue Quellenangabe dann im Literaturverzeichnis auftauchen.\n",
    "\n",
    "Außerdem noch ein paar wichtige Hinweise:\n",
    ">* **Wikipedia ist keine Quelle! Wiki-Artikel enthalten aber häufig zitierfähige Quellen, die verwendet werden können.**\n",
    ">* **Primär-Quellen (Veröffentlichungen in wissenschaftlichen Journalen) > Sekundär-Quellen (z.B. Review-Artikel in Fachzeitschriften) > Tertiär-Quellen (Fachbücher, Textsammlungen)**\n",
    ">* **Auch Bildquellen müssen angegeben werden**\n",
    ">* **Für Texte gilt: *generiert durch KI* ist keine Quelle, für Bilder kann aber die generative KI als Quelle angegeben werden**"
   ]
  },
  {
   "cell_type": "markdown",
   "id": "8a8e634d-11de-44a8-96eb-d297580e4274",
   "metadata": {},
   "source": [
    "---"
   ]
  },
  {
   "cell_type": "markdown",
   "id": "2a9478c8-a06f-4b92-8b9d-fdd42be2fcf5",
   "metadata": {},
   "source": [
    "## Gliederung"
   ]
  },
  {
   "cell_type": "markdown",
   "id": "fc515081-206c-4f71-a63d-63b51e2d17d4",
   "metadata": {},
   "source": [
    "Ein vollständiges Protokoll enthält folgende inhaltliche Abschnitte:\n",
    "\n",
    "1. Titelblatt\n",
    "2. Inhaltsverzeichnis\n",
    "3. (optional) Abbildungs- und Tabellenverzeichnis\n",
    "4. Einleitung\n",
    "5. Durchführung\n",
    "6. Ergebnisse\n",
    "7. Literaturverzeichnis\n",
    "\n",
    "**Abbildungs- und Tabellenverzeichnisse** sind für kurze Protokolle, wie sie hier im Praktikum gefordert werden, nicht zwingend nötig, da es sich um eine überschaubare Anzahl an Abbildungen und Tabellen handelt.\n",
    "\n",
    "In der **Einleitung** geben Sie eine fachliche Einführung in das Thema des Protokolls, sowie gehen auf die zugrundeliegenden Formeln ein, die Sie im Verlauf des Protokolls für die Auswertung benötigen.\n",
    "\n",
    "Die **Durchführung** enthält eine kurze Beschreibung, wie die Versuche durchgeführt wurden. Es ist nicht nötig, das Skript zu kopieren.\n",
    "\n",
    "Der Abschnitt **Ergebnisse** enthält, ordentlich gegliedert, die Versuchsergebnisse und die Beantwortung der im Versuchsplan gestellten Fragen.\n",
    "\n",
    "Das **Literaturverzeichnis** nicht vergessen!"
   ]
  },
  {
   "cell_type": "markdown",
   "id": "b8ccb686-badb-4921-92ec-b51c56b8bb0f",
   "metadata": {},
   "source": [
    "Verwenden Sie nur so viele Gliederungsebenen wie nötig, aber maximal drei (also z.B. 1.1.1). Eine weitere Untergliederung wirkt unübersichtlich. Außerdem muss es zu jeder Gliederungsebene (z.B. 1.1.1) auch eine zweite gleichgestellte Ebene geben (1.1.2), sonst wäre die Unterteilung sinnlos. Ferner sollte niemals auf eine neue Gliederung eine weitere Gliederung folgen, sondern immer erst ein Text. Ein Beispiel:\n",
    "\n",
    "* **Gute Gliederung:**\n",
    "\n",
    "1. Einleitung  \n",
    "   In diesem Praktikumsbericht werden verschiedene Aspekte der Nutzung von Windkraftanlagen besprochen. [...]\n",
    "    1. Theoretische Grundlagen Windkraft  \n",
    "       Um Energie aus Wind nutzbar zu machen, sind [...].\n",
    "    2. Aufbau von Windkraftanlagen  \n",
    "       Windkraftanlagen enthalten in der Regel folgende Bauteile [...].\n",
    "\n",
    "* **Schlechte Gliederung:**\n",
    "\n",
    "1. Einleitung\n",
    "    1. Windkraft  \n",
    "        In diesem Praktikumsbericht werden verschiedene Aspekte der Nutzung von Windkraftanlagen besprochen. [...]"
   ]
  },
  {
   "cell_type": "code",
   "execution_count": null,
   "id": "7f37eaa8-86b7-4e17-9529-820f35168627",
   "metadata": {},
   "outputs": [],
   "source": []
  }
 ],
 "metadata": {
  "kernelspec": {
   "display_name": "Python 3 (ipykernel)",
   "language": "python",
   "name": "python3"
  },
  "language_info": {
   "codemirror_mode": {
    "name": "ipython",
    "version": 3
   },
   "file_extension": ".py",
   "mimetype": "text/x-python",
   "name": "python",
   "nbconvert_exporter": "python",
   "pygments_lexer": "ipython3",
   "version": "3.13.7"
  }
 },
 "nbformat": 4,
 "nbformat_minor": 5
}
