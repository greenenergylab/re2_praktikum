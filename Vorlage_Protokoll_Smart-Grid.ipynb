{
 "cells": [
  {
   "cell_type": "markdown",
   "id": "645a05bd-e00e-441b-bcb8-8d6a75d955a9",
   "metadata": {},
   "source": [
    "# 0. Konfiguration der Arbeitsumgebung\n",
    "**Hinweis zur Ausführung:**\n",
    "\n",
    "Bevor Sie mit dem Ausfüllen des Protokolls beginnen, stellt diese Zelle sicher, dass alle notwendigen Software-Bibliotheken installiert und verfügbar sind. Diese sogenannten „Pakete“ (z. B. `ipywidgets` für die interaktiven Eingabefelder) sind erforderlich, damit das Notebook korrekt funktioniert.\n",
    "\n",
    "**Was in dieser Zelle passiert:**\n",
    "- Es wird geprüft, ob alle benötigten Pakete bereits in Ihrer Jupyter-Umgebung installiert sind.\n",
    "- Falls ein Paket fehlt, wird es automatisch installiert.\n",
    "- Dies funktioniert unabhängig davon, ob Sie mit Anaconda (Windows) oder venv (macOS/Linux) arbeiten.\n",
    "\n",
    "**Was Sie tun müssen:**\n",
    "- Führen Sie diese Zelle **einmalig aus**, bevor Sie mit dem Protokoll arbeiten.\n",
    "- Es ist **keine manuelle Installation** in der Konsole notwendig.\n",
    "- Falls eine Installation erfolgt, kann es kurz dauern – warten Sie bitte, bis die Zelle vollständig durchgelaufen ist.\n",
    "\n",
    "**Hinweis:** Falls Sie das Notebook ohne Internetverbindung verwenden, können fehlende Pakete nicht nachgeladen werden.\n",
    "\n",
    "**Führen Sie jetzt die folgende Zelle aus:** "
   ]
  },
  {
   "cell_type": "code",
   "execution_count": 5,
   "id": "3fcb15bf-8bd8-4092-a97a-39bf4eec9178",
   "metadata": {},
   "outputs": [
    {
     "name": "stdout",
     "output_type": "stream",
     "text": [
      "Alle Pakete bereits vorhanden!\n",
      "Setup abgeschlossen - bereit für das Praktikum!\n"
     ]
    }
   ],
   "source": [
    "import sys\n",
    "import subprocess\n",
    "\n",
    "# Benötigte Pakete\n",
    "pakete = [\"numpy\", \"pandas\", \"matplotlib\", \"ipywidgets\", \"requests\"]\n",
    "\n",
    "installiert = 0\n",
    "fehler = []\n",
    "\n",
    "# Pakete prüfen und installieren\n",
    "for paket in pakete:\n",
    "    try:\n",
    "        __import__(paket)\n",
    "    except ImportError:\n",
    "        try:\n",
    "            print(f\"Installiere {paket}...\")\n",
    "            subprocess.check_call([sys.executable, \"-m\", \"pip\", \"install\", paket], \n",
    "                                 stdout=subprocess.DEVNULL)\n",
    "            installiert += 1\n",
    "        except:\n",
    "            fehler.append(paket)\n",
    "\n",
    "# Pakete importieren\n",
    "import numpy as np\n",
    "import pandas as pd\n",
    "import matplotlib.pyplot as plt\n",
    "import ipywidgets as widgets\n",
    "from IPython.display import display\n",
    "import requests, json, os\n",
    "\n",
    "# Status anzeigen\n",
    "if fehler:\n",
    "    print(f\"FEHLER bei: {\", \".join(fehler)}\")\n",
    "    print(\"-> Bitte manuell installieren: pip install <paketname>\")\n",
    "elif installiert > 0:\n",
    "    print(f\"{installiert} Paket/e erfolgreich installiert!\")\n",
    "else:\n",
    "    print(\"Alle Pakete bereits vorhanden!\")\n",
    "\n",
    "print(\"Setup abgeschlossen - bereit für das Praktikum!\")"
   ]
  },
  {
   "cell_type": "code",
   "execution_count": 2,
   "id": "70a41bc5-ef8f-4c7e-8773-d7117c81d868",
   "metadata": {
    "jupyter": {
     "source_hidden": true
    }
   },
   "outputs": [
    {
     "data": {
      "application/vnd.jupyter.widget-view+json": {
       "model_id": "acfebc6fcb41451b9077e7c9c65ca3af",
       "version_major": 2,
       "version_minor": 0
      },
      "text/plain": [
       "HBox(children=(VBox(children=(HTML(value='<div style=\"font-size: 20pt; font-weight: bold;\">Protokoll zum Versu…"
      ]
     },
     "metadata": {},
     "output_type": "display_data"
    },
    {
     "data": {
      "application/vnd.jupyter.widget-view+json": {
       "model_id": "47783492bd0940bcbf4a2a8dcb88874a",
       "version_major": 2,
       "version_minor": 0
      },
      "text/plain": [
       "HTML(value='<hr>')"
      ]
     },
     "metadata": {},
     "output_type": "display_data"
    },
    {
     "data": {
      "application/vnd.jupyter.widget-view+json": {
       "model_id": "8441a1a506c945649ecbaaa3421f4df6",
       "version_major": 2,
       "version_minor": 0
      },
      "text/plain": [
       "VBox(children=(HBox(children=(Label(value='Name:', layout=Layout(width='160px')), Text(value='', layout=Layout…"
      ]
     },
     "metadata": {},
     "output_type": "display_data"
    },
    {
     "data": {
      "application/vnd.jupyter.widget-view+json": {
       "model_id": "2779dd784bb844698b9e42a92a7456c8",
       "version_major": 2,
       "version_minor": 0
      },
      "text/plain": [
       "Button(button_style='success', description='Speichern', style=ButtonStyle())"
      ]
     },
     "metadata": {},
     "output_type": "display_data"
    }
   ],
   "source": [
    "import ipywidgets as widgets\n",
    "from IPython.display import display\n",
    "import requests, json, os\n",
    "\n",
    "# --- Konfiguration ---\n",
    "VERSUCH = \"Smart Grid\"  # ← hier den Versuchsnamen ändern\n",
    "FILENAME = f\"protokoll_{VERSUCH}.json\"\n",
    "FIELD_WIDTH = '500px'\n",
    "LABEL_WIDTH = '160px'\n",
    "LOGO_URL = \"https://thga.sciebo.de/s/PMFfmxdyEcrEr3P/download\"\n",
    "\n",
    "# --- Felder und Standarddaten ---\n",
    "fields = {\n",
    "    \"Name\": \"\",\n",
    "    \"Matrikelnummer\": \"\",\n",
    "    \"Gruppe\": \"\",\n",
    "    \"Versuchstag\": \"\",\n",
    "    \"Praktikumsleitung\": \"\"\n",
    "}\n",
    "\n",
    "# --- Daten aus Datei laden ---\n",
    "if os.path.exists(FILENAME):\n",
    "    with open(FILENAME, \"r\") as f:\n",
    "        fields.update(json.load(f))\n",
    "\n",
    "# --- Logo laden ---\n",
    "try:\n",
    "    resp = requests.get(LOGO_URL)\n",
    "    logo = widgets.Image(\n",
    "        value=resp.content, format='png',\n",
    "        layout=widgets.Layout(width='200px', height='auto')\n",
    "    ) if resp.status_code == 200 else widgets.Label(\"Logo nicht verfügbar.\")\n",
    "except:\n",
    "    logo = widgets.Label(\"Logo konnte nicht geladen werden.\")\n",
    "\n",
    "# --- Überschriftsteil ---\n",
    "headings = widgets.VBox([\n",
    "    widgets.HTML(f'<div style=\"font-size: 20pt; font-weight: bold;\">Protokoll zum Versuch: {VERSUCH}</div>'),\n",
    "    widgets.HTML(f'<div style=\"font-size: 14pt;\"><strong>Praktikum:</strong> Regenerative Energien II</div>'),\n",
    "    widgets.HTML(f'<div style=\"font-size: 14pt;\"><strong>Semester:</strong> Wintersemester 2025/26</div>')\n",
    "], layout=widgets.Layout(align_items='flex-start', gap='2px'))\n",
    "\n",
    "header = widgets.HBox([headings, logo],\n",
    "                      layout=widgets.Layout(justify_content='space-between', align_items='flex-start'))\n",
    "\n",
    "# --- Formularfelder anlegen ---\n",
    "widgets_dict = {\n",
    "    key: widgets.Text(value=fields[key], layout=widgets.Layout(width=FIELD_WIDTH))\n",
    "    for key in fields\n",
    "}\n",
    "\n",
    "def labeled_row(label, widget):\n",
    "    return widgets.HBox([\n",
    "        widgets.Label(label + \":\", layout=widgets.Layout(width=LABEL_WIDTH)),\n",
    "        widget\n",
    "    ])\n",
    "\n",
    "form = widgets.VBox([labeled_row(k, widgets_dict[k]) for k in fields])\n",
    "\n",
    "# --- Speichern ---\n",
    "def save_to_json(_):\n",
    "    data = {k: w.value for k, w in widgets_dict.items()}\n",
    "    with open(FILENAME, \"w\") as f:\n",
    "        json.dump(data, f)\n",
    "    print(f\"Daten gespeichert in '{FILENAME}'.\")\n",
    "\n",
    "save_button = widgets.Button(description=\"Speichern\", button_style='success')\n",
    "save_button.on_click(save_to_json)\n",
    "\n",
    "# --- Anzeige ---\n",
    "display(header, widgets.HTML(\"<hr>\"), form, save_button)"
   ]
  },
  {
   "cell_type": "markdown",
   "id": "89049f37-dab8-4f09-9f7d-2a090587dff1",
   "metadata": {},
   "source": [
    "---\n",
    "## 1. Einleitung\n",
    "\n",
    "**Hinweis zur Bearbeitung:**  \n",
    "Bevor Sie mit dem Versuch beginnen, formulieren Sie bitte eine kurze Einleitung. Beschreiben Sie in eigenen Worten die Grundlagen des Smart Grids, was dies beinhaltet und wieso ein Smart Grid für die Energiewende essenziell ist.\n",
    "\n",
    "\n",
    "**Denkanstöße für Ihre Einleitung:**\n",
    "- Welche Rolle spielen Smart Grids in einer zukunftsfähigen, erneuerbaren Energieversorgung?\n",
    "- Wieso sind Energiespeicher für Smart Grids nötig? Welche Vorteile ergibt sich aus der Nutzung und welche Nachteile beinhaltet dies?\n",
    "- Welche Herausforderungen ergeben sich bei der Integration erneuerbarer Energien ins Stromnetz?\n",
    "- Wie können Verbrauch und Erzeugung durch automatisierte Systeme effizienter koordiniert werden? Gehen Sie auch auf die Begriffe \"*intelligente Ortsnetzstationen*\" und \"*intelligentes Engpassmanagement*\" ein.\n",
    "\n",
    "**Tragen Sie Ihre eigene Einleitung im folgenden Feld ein:**\n"
   ]
  },
  {
   "cell_type": "code",
   "execution_count": null,
   "id": "9e2ebdf2-3c60-42bb-826d-9251a0260ac4",
   "metadata": {},
   "outputs": [],
   "source": []
  },
  {
   "cell_type": "markdown",
   "id": "32eba684-c7f4-488c-9d38-2b1b39ff838a",
   "metadata": {},
   "source": [
    "---"
   ]
  },
  {
   "cell_type": "markdown",
   "id": "3ffccd41-97be-460a-b803-8b034f0e1113",
   "metadata": {},
   "source": [
    "## 2. Durchführung und Auswertung\n",
    "\n",
    "### 2.1 Versuch 1: Funktionsweise eines MPP-Trackers\n",
    "\n",
    "Ermitteln Sie die Funktionsweise eines Solarmoduls, das durch einen Maximum-Power-Point (MPP) Tracker geregelt wird.\n",
    "\n",
    "---\n",
    "\n",
    "**Aufbau, Geräte & Komponenten:**\n",
    "- Grundeinheit\n",
    "- Große Solarzelle mit Standfuß\n",
    "- MPP-Tracker\n",
    "- AV-Modul\n",
    "- Lampe\n",
    "- Potentiometermodul\n",
    "- Smart-Meter\n",
    "- Maßband\n",
    "\n",
    "---\n",
    "\n",
    "**Schaltplan:**\n",
    "\n",
    "<img src=\"https://thga.sciebo.de/s/bibt5rykFomfZFy/download\" alt=\"Schaltplan Versuch 2\" width=\"400\">\n",
    "\n",
    "---\n",
    "\n",
    "**Durchführung**\n",
    "\n",
    "1. Bauen Sie den Versuch entsprechend der Versuchsanordnung auf. Stellen Sie das Potentiometer auf maximalen Widerstand. Achten Sie darauf, dass die Lampe die Solarzelle gut beleuchtet und beides parallel ausgerichtet ist.\n",
    "2. Schalten Sie die Lampe ein und stellen Sie den Modus des MPP-Trackers auf „MPP search“. Messen sie nun die Spannung $U$ und die Stromstärke $I$ des Solarmoduls mit Hilfe des AV-Moduls und die Leistung am Potentiometer $P_\\text{Smart-Meter}$ mit Hilfe des Smart-Meters. Stellen Sie nun die vorgegebenen Widerstände $R$ ein und wiederholen Sie die Messung. Manche Widerstände müssen abgeschätzt werden. Gehen Sie davon aus, dass der Widerstand linear zum Drehwinkel ist. Achten Sie darauf, dass sich der Modus des MPP-Trackers nicht verändert und die LED bei der Aufnahme der Messwerte **nicht** mehr blinkt.\n",
    "\n",
    "\n",
    "> <table align=left>\n",
    ">    <caption><b>Soll-Werte für den Widerstand <i>R</i></b></caption>\n",
    ">    <tr>\n",
    ">        <td><b><i>R</i> [&Omega;]</b></td>\n",
    ">        <td>100</td>\n",
    ">        <td>70</td>\n",
    ">        <td>50</td>\n",
    ">        <td>40</td>\n",
    ">        <td>30</td>\n",
    ">        <td>20</td>\n",
    ">        <td>15</td>\n",
    ">        <td>10</td>\n",
    ">        <td>5</td>\n",
    ">        <td>0</td>\n",
    ">    </tr>\n",
    "></table>\n",
    "><br clear=all>\n",
    "\n",
    "\n",
    "---\n",
    "\n",
    "**Messgrößen:**  \n",
    "- Spannung $U$ in $\\text{[V]}$\n",
    "- Stromstärke $I$ in $\\text{[mA]}$\n",
    "- Widerstand $R$ in $[\\Omega]$\n",
    "- Leistung $P$ in $\\text{[mW]}$\n",
    "\n",
    "---\n",
    "\n",
    "**Messdaten:**\n",
    "\n",
    "Notieren Sie hier Ihre Messdaten. Nutzen Sie dafür eindeutige Bezeichnungen und zeichnen Sie daraus eine Tabelle:"
   ]
  },
  {
   "cell_type": "code",
   "execution_count": 9,
   "id": "d058598a-2798-48f1-b10e-84569d35bfde",
   "metadata": {},
   "outputs": [
    {
     "name": "stdout",
     "output_type": "stream",
     "text": [
      "Tabelle 1: Messdaten Funktionsweise MPP-Tracker\n"
     ]
    },
    {
     "data": {
      "text/html": [
       "<style type=\"text/css\">\n",
       "</style>\n",
       "<table id=\"T_fd134\">\n",
       "  <thead>\n",
       "    <tr>\n",
       "      <th class=\"blank level0\" >&nbsp;</th>\n",
       "      <th id=\"T_fd134_level0_col0\" class=\"col_heading level0 col0\" >R [&Omega;]</th>\n",
       "      <th id=\"T_fd134_level0_col1\" class=\"col_heading level0 col1\" >U [V]</th>\n",
       "      <th id=\"T_fd134_level0_col2\" class=\"col_heading level0 col2\" >I [mA]</th>\n",
       "      <th id=\"T_fd134_level0_col3\" class=\"col_heading level0 col3\" >P Smart-Meter [mW]</th>\n",
       "    </tr>\n",
       "  </thead>\n",
       "  <tbody>\n",
       "    <tr>\n",
       "      <th id=\"T_fd134_level0_row0\" class=\"row_heading level0 row0\" >0</th>\n",
       "      <td id=\"T_fd134_row0_col0\" class=\"data row0 col0\" >100</td>\n",
       "      <td id=\"T_fd134_row0_col1\" class=\"data row0 col1\" >5.29</td>\n",
       "      <td id=\"T_fd134_row0_col2\" class=\"data row0 col2\" >54.4</td>\n",
       "      <td id=\"T_fd134_row0_col3\" class=\"data row0 col3\" >240</td>\n",
       "    </tr>\n",
       "    <tr>\n",
       "      <th id=\"T_fd134_level0_row1\" class=\"row_heading level0 row1\" >1</th>\n",
       "      <td id=\"T_fd134_row1_col0\" class=\"data row1 col0\" >70</td>\n",
       "      <td id=\"T_fd134_row1_col1\" class=\"data row1 col1\" >5.19</td>\n",
       "      <td id=\"T_fd134_row1_col2\" class=\"data row1 col2\" >71.3</td>\n",
       "      <td id=\"T_fd134_row1_col3\" class=\"data row1 col3\" >314</td>\n",
       "    </tr>\n",
       "    <tr>\n",
       "      <th id=\"T_fd134_level0_row2\" class=\"row_heading level0 row2\" >2</th>\n",
       "      <td id=\"T_fd134_row2_col0\" class=\"data row2 col0\" >50</td>\n",
       "      <td id=\"T_fd134_row2_col1\" class=\"data row2 col1\" >5.07</td>\n",
       "      <td id=\"T_fd134_row2_col2\" class=\"data row2 col2\" >95.4</td>\n",
       "      <td id=\"T_fd134_row2_col3\" class=\"data row2 col3\" >405</td>\n",
       "    </tr>\n",
       "    <tr>\n",
       "      <th id=\"T_fd134_level0_row3\" class=\"row_heading level0 row3\" >3</th>\n",
       "      <td id=\"T_fd134_row3_col0\" class=\"data row3 col0\" >40</td>\n",
       "      <td id=\"T_fd134_row3_col1\" class=\"data row3 col1\" >4.99</td>\n",
       "      <td id=\"T_fd134_row3_col2\" class=\"data row3 col2\" >111.9</td>\n",
       "      <td id=\"T_fd134_row3_col3\" class=\"data row3 col3\" >470</td>\n",
       "    </tr>\n",
       "    <tr>\n",
       "      <th id=\"T_fd134_level0_row4\" class=\"row_heading level0 row4\" >4</th>\n",
       "      <td id=\"T_fd134_row4_col0\" class=\"data row4 col0\" >30</td>\n",
       "      <td id=\"T_fd134_row4_col1\" class=\"data row4 col1\" >4.85</td>\n",
       "      <td id=\"T_fd134_row4_col2\" class=\"data row4 col2\" >139.0</td>\n",
       "      <td id=\"T_fd134_row4_col3\" class=\"data row4 col3\" >545</td>\n",
       "    </tr>\n",
       "    <tr>\n",
       "      <th id=\"T_fd134_level0_row5\" class=\"row_heading level0 row5\" >5</th>\n",
       "      <td id=\"T_fd134_row5_col0\" class=\"data row5 col0\" >20</td>\n",
       "      <td id=\"T_fd134_row5_col1\" class=\"data row5 col1\" >4.45</td>\n",
       "      <td id=\"T_fd134_row5_col2\" class=\"data row5 col2\" >177.1</td>\n",
       "      <td id=\"T_fd134_row5_col3\" class=\"data row5 col3\" >602</td>\n",
       "    </tr>\n",
       "    <tr>\n",
       "      <th id=\"T_fd134_level0_row6\" class=\"row_heading level0 row6\" >6</th>\n",
       "      <td id=\"T_fd134_row6_col0\" class=\"data row6 col0\" >15</td>\n",
       "      <td id=\"T_fd134_row6_col1\" class=\"data row6 col1\" >4.39</td>\n",
       "      <td id=\"T_fd134_row6_col2\" class=\"data row6 col2\" >180.1</td>\n",
       "      <td id=\"T_fd134_row6_col3\" class=\"data row6 col3\" >550</td>\n",
       "    </tr>\n",
       "    <tr>\n",
       "      <th id=\"T_fd134_level0_row7\" class=\"row_heading level0 row7\" >7</th>\n",
       "      <td id=\"T_fd134_row7_col0\" class=\"data row7 col0\" >10</td>\n",
       "      <td id=\"T_fd134_row7_col1\" class=\"data row7 col1\" >4.40</td>\n",
       "      <td id=\"T_fd134_row7_col2\" class=\"data row7 col2\" >182.3</td>\n",
       "      <td id=\"T_fd134_row7_col3\" class=\"data row7 col3\" >503</td>\n",
       "    </tr>\n",
       "    <tr>\n",
       "      <th id=\"T_fd134_level0_row8\" class=\"row_heading level0 row8\" >8</th>\n",
       "      <td id=\"T_fd134_row8_col0\" class=\"data row8 col0\" >5</td>\n",
       "      <td id=\"T_fd134_row8_col1\" class=\"data row8 col1\" >4.43</td>\n",
       "      <td id=\"T_fd134_row8_col2\" class=\"data row8 col2\" >179.5</td>\n",
       "      <td id=\"T_fd134_row8_col3\" class=\"data row8 col3\" >330</td>\n",
       "    </tr>\n",
       "    <tr>\n",
       "      <th id=\"T_fd134_level0_row9\" class=\"row_heading level0 row9\" >9</th>\n",
       "      <td id=\"T_fd134_row9_col0\" class=\"data row9 col0\" >0</td>\n",
       "      <td id=\"T_fd134_row9_col1\" class=\"data row9 col1\" >4.28</td>\n",
       "      <td id=\"T_fd134_row9_col2\" class=\"data row9 col2\" >183.9</td>\n",
       "      <td id=\"T_fd134_row9_col3\" class=\"data row9 col3\" >40</td>\n",
       "    </tr>\n",
       "  </tbody>\n",
       "</table>\n"
      ],
      "text/plain": [
       "<pandas.io.formats.style.Styler at 0x2160ae97d90>"
      ]
     },
     "metadata": {},
     "output_type": "display_data"
    }
   ],
   "source": [
    "# Daten eingeben\n",
    "r1 = [100, 70, 50, 40, 30, 20, 15, 10, 5, 0] # in Ohm\n",
    "u1 = [5.29, 5.19, 5.07, 4.99, 4.85, 4.45, 4.39, 4.40, 4.43, 4.28] # in V\n",
    "i1 = [54.4, 71.3, 95.4, 111.9, 139.0, 177.1, 180.1, 182.3, 179.5, 183.9] # in mA\n",
    "p1_smart = [240, 314, 405, 470, 545, 602, 550, 503, 330, 40] # in mW\n",
    "\n",
    "#DataFrame erstellen\n",
    "df_1 = pd.DataFrame({\n",
    "    \"R [&Omega;]\": r1,\n",
    "    \"U [V]\": u1,\n",
    "    \"I [mA]\": i1,\n",
    "    \"P Smart-Meter [mW]\": p1_smart\n",
    "})\n",
    "\n",
    "# Tabelle erstellen und anzeigen\n",
    "print(\"Tabelle 1: Messdaten Funktionsweise MPP-Tracker\")\n",
    "display(df_1.round(2).style.format({\n",
    "    \"U [V]\": \"{:.2f}\",\n",
    "    \"I [mA]\": \"{:.1f}\"}))"
   ]
  },
  {
   "cell_type": "markdown",
   "id": "ac5d7a96-e40d-4557-846c-a77badfd7ea3",
   "metadata": {},
   "source": [
    "**Auswertung**\n",
    "\n",
    "1. Berechnen Sie die Leistung des Solarmoduls $P_\\text{Solarmodul}$ für jeden Messpunkt.\n",
    "2. Zeichnen Sie die $R-P$-Diagramme Ihrer Messdaten (jeweils für $P_\\text{Solarmodul}$ und $P_\\text{Smart-Meter}$) in ein gemeinsames Diagramm.\n",
    "3. Beschreiben Sie die Diagrammverläufe. Was bewirkt der MPP-Tracker? In welchem Arbeitsbereich wirkt dieser? Was passiert, wenn der Arbeitsbereich verlassen wird?\n",
    "\n",
    "#### 1. Berechnen Sie die Leistung des Solarmoduls $P_\\text{Solarmodul}$ für jeden Messpunkt."
   ]
  },
  {
   "cell_type": "code",
   "execution_count": 10,
   "id": "64ba492b-6f45-4b3c-a86c-f3768c626666",
   "metadata": {},
   "outputs": [],
   "source": [
    "# Berechnung der Leistung in mW\n",
    "p1_solar = df_1[\"U [V]\"] * df_1[\"I [mA]\"]"
   ]
  },
  {
   "cell_type": "markdown",
   "id": "7b376f6a-65df-434a-bdaa-50fa5fa313ce",
   "metadata": {},
   "source": [
    "#### 2. Zeichnen Sie die $R-P$-Diagramme Ihrer Messdaten (jeweils für $P_\\text{Solarmodul}$ und $P_\\text{Smart-Meter}$) in ein gemeinsames Diagramm."
   ]
  },
  {
   "cell_type": "code",
   "execution_count": 4,
   "id": "d35d7e56-6af3-454a-ad0e-6197ed83879a",
   "metadata": {},
   "outputs": [],
   "source": [
    "# Ihre Lösung hier"
   ]
  },
  {
   "cell_type": "markdown",
   "id": "f68711e2-8318-44c7-8415-92170f4f7e3a",
   "metadata": {},
   "source": [
    "#### 3. Beschreiben Sie die Diagrammverläufe. Was bewirkt der MPP-Tracker? In welchem Arbeitsbereich wirkt dieser? Was passiert, wenn der Arbeitsbereich verlassen wird?"
   ]
  },
  {
   "cell_type": "markdown",
   "id": "a2a92f18-0200-4fde-a49e-7f2c40e8bc59",
   "metadata": {},
   "source": [
    "*Ihr Text hier*"
   ]
  },
  {
   "cell_type": "markdown",
   "id": "4bb6462a-2ce0-42b6-aff8-bad7c92d89ae",
   "metadata": {},
   "source": [
    "---"
   ]
  },
  {
   "cell_type": "markdown",
   "id": "75436abf-cea2-4ba3-bd55-301ab345fbcc",
   "metadata": {},
   "source": [
    "### 2.2 Versuch 2: Versorgung eines Gebäudes durch ein Kraftwerk, Photovoltaikanlage und einen Energiespeicher\n",
    "\n",
    "Sie simulieren den Tagesverlauf eines Gebäudes, das an das Stromnetz angeschlossen ist und zusätzlich über eine Photovoltaikanlage mit Speicher verfügt.\n",
    "\n",
    "---\n",
    "\n",
    "**Aufbau, Geräte & Komponenten:**\n",
    "- 2 Grundeinheiten\n",
    "- Große Solarzelle mit Standfuß\n",
    "- AV-Modul\n",
    "- Lampe\n",
    "- Smart-Meter\n",
    "- 2 Glühlampenmodule\n",
    "- Power-Modul (3 V)\n",
    "- Motormodul\n",
    "- Kondensatormodul\n",
    "- Stoppuhr\n",
    "- Azimutwinkelskala\n",
    "- Maßband\n",
    "\n",
    "---\n",
    "\n",
    "**Schaltplan:**\n",
    "\n",
    "<img src=\"https://thga.sciebo.de/s/cApw5Bt8m6rzyq3/download\" alt=\"Schaltplan Versuch 2\" width=\"400\">\n",
    "\n",
    "---\n",
    "\n",
    "**Durchführung**\n",
    "\n",
    "1. Laden Sie zunächst den Kondensator bis auf eine Spannung $U$ von 3 V auf, ohne ihn an den restlichen Stromkreis anzuschließen. Bauen Sie dann den Versuch entsprechend der Versuchsanordnung auf. Stellen Sie das Solarmodul in **6 Uhr-Stellung** zur Lampe auf. Stellen Sie die Energiemessung des Smart-Meters auf 0 und die Spannung des Powermoduls auf 3 V.\n",
    "2. **Lesen Sie die weiteren Schritte der Versuchsdurchführung aufmerksam durch** und teilen Sie die Aufgaben unter Ihnen sinnvoll auf. Es werden viele Messwerte gleichzeitig benötigt, daher ist eine gute Koordination essenziell.\n",
    "3. Während des Experiments wird die Tageszeit von 6:00 Uhr bis 18:00 Uhr simuliert, indem angenommen wird, dass **10 s** im Experiment **einer Stunde** des Tages entsprechen. Drehen Sie entsprechend die Solarzelle alle 10 s so zur Lampe, als wäre eine Stunde vergangen (siehe Azimutwinkelskala). Während des Tages/ des Experiments soll folgender Verbrauchsplan eingehalten werden:\n",
    "    1. Die Bildschirme (simuliert durch Glühlampenmodule) laufen durchgängig von 6:00 Uhr bis 18:00 Uhr.\n",
    "    2. Die Waschmaschinen (simuliert durch das Motormodul Motormodul) sind von 6:00 Uhr bis 8:30 Uhr und von 16:30 Uhr bis 18:00 Uhr in Betrieb.\n",
    "4. Beginnen Sie den Versuch in dem Sie folgende Handlungen gleichzeitig durchführen: Schließen Sie den Kondensator an, schalten Sie das Power-Modul ein und beginnen Sie mit der Zeitmessung.\n",
    "5. Messen Sie während des Versuchs die Spannung und die Stromstärke am Solarmodul mit Kondensator und die vom Power-Modul abgegebene Energie. Notieren Sie alle Messwerte.\n",
    "6. Berechnen Sie die Leistungsabgabe der Solaranlage und des Kondensators an das Gebäude zu den verschiedenen Tageszeiten.\n",
    "\n",
    "\n",
    " <table align=left>\n",
    "    <caption><b>Simulierter Tagesablauf</b></caption>\n",
    "    <tr align=center>\n",
    "        <td><b><i>t</i><sub>Versuch</sub> [s]</b></td>\n",
    "        <td>0</td>\n",
    "        <td>10</td>\n",
    "        <td>20</td>\n",
    "        <td>Motor ausschalten</td>\n",
    "        <td>30</td>\n",
    "        <td>40</td>\n",
    "        <td>50</td>\n",
    "        <td>60</td>\n",
    "        <td>70</td>\n",
    "        <td>80</td>\n",
    "        <td>90</td>\n",
    "        <td>100</td>\n",
    "        <td>Motor einschalten</td>\n",
    "        <td>110</td>\n",
    "        <td>120</td>\n",
    "    </tr>\n",
    "    <tr align=center>\n",
    "        <td><b>Uhrzeit</b></td>\n",
    "        <td>6:00</td>\n",
    "        <td>7:00</td>\n",
    "        <td>8:00</td>\n",
    "        <td></td>\n",
    "        <td>9:00</td>\n",
    "        <td>10:00</td>\n",
    "        <td>11:00</td>\n",
    "        <td>12:00</td>\n",
    "        <td>13:00</td>\n",
    "        <td>14:00</td>\n",
    "        <td>15:00</td>\n",
    "        <td>16:00</td>\n",
    "        <td></td>\n",
    "        <td>17:00</td>\n",
    "        <td>18:00</td>\n",
    "    </tr>\n",
    "</table>\n",
    "<br clear=all>\n",
    "\n",
    "\n",
    "---\n",
    "\n",
    "**Messgrößen:**  \n",
    "- Spannung $U$ in $\\text{[V]}$\n",
    "- Stromstärke $I$ in $\\text{[mA]}$\n",
    "- Leistung $P$ in $\\text{[mW]}$\n",
    "- Energie $E$ in $\\text{[Ws]}$\n",
    "\n",
    "---\n",
    "\n",
    "**Messdaten:**\n",
    "\n",
    "Notieren Sie hier Ihre Messdaten. Nutzen Sie dafür eindeutige Bezeichnungen und zeichnen Sie daraus eine Tabelle:\n",
    "\n",
    "In diesem Versuch wird die Energieversorgung eines Gebäudes im Tagesverlauf simuliert. Ziel ist es, die Strom, Spannungs und Leistungswerte über den Tag hinweg zu erfassen und den Einfluss eines Speichers sowie verschiedener Verbraucher auf das Systemverhalten zu analysieren. Die Messung erfolgt in festen Zeitintervallen."
   ]
  },
  {
   "cell_type": "code",
   "execution_count": 5,
   "id": "20acf212-1548-4796-9ac0-b1fdfcaa978c",
   "metadata": {},
   "outputs": [],
   "source": [
    "# Ihre Daten hier"
   ]
  },
  {
   "cell_type": "markdown",
   "id": "11d3cfec-f1f1-4975-aa40-b4064e2716a1",
   "metadata": {},
   "source": [
    "**Auswertung**\n",
    "\n",
    "1. Berechnen Sie die Leistungsabgabe $P_{\\text{Solar+Speicher}}$ der Solaranlage und des Kondensators an das simulierte Gebäude.\n",
    "2. Zeichnen Sie das $t-P$- und $t-E$-Diagramm für den Tagesverlauf und beschreiben Sie die Beobachtungen.\n",
    "3. Wozu dient der Speicher in dem Aufbau? Wieso werden Speicher bei Photovoltaik-Anlagen vermehrt diskutiert und welche Alternative gibt es zu einem klassischen Stromspeicher, wie er in diesem Versuchsaufbau dargestellt ist?\n",
    "\n",
    "#### 1. Berechnen Sie die Leistungsabgabe $P_{\\text{Solar+Speicher}}$ der Solaranlage und des Kondensators an das simulierte Gebäude."
   ]
  },
  {
   "cell_type": "code",
   "execution_count": 6,
   "id": "92b2d0f1-df0c-45fb-ab6b-42c0bb80e833",
   "metadata": {},
   "outputs": [],
   "source": [
    "# Ihre Lösung hier"
   ]
  },
  {
   "cell_type": "markdown",
   "id": "55a07236-a745-460f-b8e8-96ce499ee0fd",
   "metadata": {},
   "source": [
    "#### 2. Zeichnen Sie das $t-P$- und $t-E$-Diagramm für den Tagesverlauf und beschreiben Sie die Beobachtungen."
   ]
  },
  {
   "cell_type": "code",
   "execution_count": 7,
   "id": "67071d9c-63e9-4dec-b0f6-566fd211b07e",
   "metadata": {},
   "outputs": [],
   "source": [
    "# Ihre Lösung hier"
   ]
  },
  {
   "cell_type": "markdown",
   "id": "cdb4a234-9c41-44f6-ae0f-444c9d9e93ab",
   "metadata": {},
   "source": [
    "*Ihr Text hier*"
   ]
  },
  {
   "cell_type": "markdown",
   "id": "d94e2964-18fb-41ef-8f4d-de65a1c2edb5",
   "metadata": {},
   "source": [
    "#### 3. Wozu dient der Speicher in dem Aufbau? Wieso werden Speicher bei Photovoltaik-Anlagen vermehrt diskutiert und welche Alternative gibt es zu einem klassischen Stromspeicher, wie er in diesem Versuchsaufbau dargestellt ist?"
   ]
  },
  {
   "cell_type": "markdown",
   "id": "e2fd41e7-adc1-47b8-8498-d42815849813",
   "metadata": {},
   "source": [
    "*Ihr Text hier*"
   ]
  },
  {
   "cell_type": "markdown",
   "id": "f7e07239-848f-404a-b3e5-c1a98318c1de",
   "metadata": {},
   "source": [
    "---"
   ]
  },
  {
   "cell_type": "markdown",
   "id": "3860e564-e79f-45bb-8edb-c24e4035b9a3",
   "metadata": {},
   "source": [
    "### 2.3 Versuch 3: Szenarioversuch Smart Grid\n",
    "\n",
    "In diesem Versuch stellen Sie die Komplexität eines realen Smart Grids vereinfacht dar. Dabei werden erneuerbare und konventionelle Energiequellen, Speicher und mehrere Verbraucher simuliert. Es werden verschiedene Szenarien betrachtet.\n",
    "\n",
    "---\n",
    "\n",
    "**Aufbau, Geräte & Komponenten:**\n",
    "- 2 Grundeinheiten\n",
    "- Große Solarzelle mit Standfuß\n",
    "- Winderzeugermodul\n",
    "- Windgeneratormodul\n",
    "- AV-Modul\n",
    "- Lampe\n",
    "- 2 Smart-Meter\n",
    "- 2 Glühlampenmodule\n",
    "- 2 Power-Module\n",
    "- Motormodul\n",
    "- 2 Stromnetzmodule\n",
    "- Diodenmodul\n",
    "- Potentiometermodul\n",
    "- MPP-Tracker\n",
    "- LiFePO$_4$-Akku\n",
    "- Maßband\n",
    "\n",
    "---\n",
    "\n",
    "**Schaltplan:**\n",
    "\n",
    "<img src=\"https://thga.sciebo.de/s/yBgwCPncnAwiC3D/download\" alt=\"Schaltplan Versuch 3\" width=\"600\">\n",
    "\n",
    "\n",
    "---\n",
    "\n",
    "**Durchführung**\n",
    "\n",
    "1. Bauen Sie den Versuch entsprechend der Versuchsanordnung auf. Platzieren Sie den Winderzeuger im Abstand von 10 cm zu den Flügeln (4-Blatt Rotor, optimiertes Profil) und stellen Sie die Flügel frontal in den Wind. Stellen Sie das Solarmodul im Abstand von 50 cm zur Lampe auf und richten Sie den Strahlengang der Lampe direkt auf das Solarmodul und parallel zur Tischebene. Stecken Sie das Motormodul **noch nicht** auf die Grundeinheit und stellen Sie das Potentiometer auf den maximalen Widerstand.\n",
    "2. Führen Sie nun die folgenden Szenarien nacheinander durch. Beobachten Sie für jedes Szenario die **Spannung** an den Verbrauchern, die **Leistungseinspeisung** durch das Power-Modul und den Windgenerator und den **Leistungsfluss** am LiFePO$_4$-Akku. Notieren Sie Ihre Beobachtungen.\n",
    "    a. Szenario 1 *Die Versorgung durch das Kraftwerk*: Schalten Sie das Power-Modul (Kraftwerk) mit einer Spannung von 3,5 V ein und drehen sie das Potentiometer auf den minimalen Widerstand.\n",
    "    b. Szenario 2 *Der Wind weht stark*: Stellen Sie das Power-Modul am Winderzeuger auf 12 V und schalten Sie dieses sowie den Winderzeuger ein.\n",
    "    c. Szenario 3 *Die Sonne kommt hinter den Wolken hervor*: Schalten Sie die Lampe ein und wählen sie am MPP-Tracker den „MPP search“-Modus.\n",
    "    d. Szenario 4 *Das Kraftwerk fällt aus*: Schalten Sie das Power-Modul (Kraftwerk) im Stromkreis ab.\n",
    "    e. Szenario 5 *Der Wind flacht ab* Schalten Sie das Power-Modul am Winderzeuger ab.\n",
    "    f. Szenario 6 *Der Verbrauch nimmt zu*: Stecken Sie das Motormodul auf die Grundeinheit.\n",
    "    g. Szenario 7 *Die Sonne scheint nicht mehr*: Schalten Sie die Lampe aus.\n",
    "    h. Szenario 8 *Das Kraftwerk ist wieder aktiv*: Schalten Sie das Power-Modul im Stromkreis wieder an.\n",
    "\n",
    "---\n",
    "\n",
    "**Messgrößen:**\n",
    "- Spannung $U$ in $\\text{[V]}$\n",
    "- Stromstärke $I$ in $\\text{[mA]}$\n",
    "- Leistung $P$ in $\\text{[mW]}$\n",
    "---\n",
    "\n",
    "**Messdaten:**\n",
    "\n",
    "Notieren Sie hier Ihre Messdaten. Nutzen Sie dafür eindeutige Bezeichnungen und zeichnen Sie daraus eine Tabelle. Sie können folgende Tabelle als Grundlage verwenden:\n",
    "\n",
    "<table>\n",
    "    <th colspan=\"2\">Szenario 1</th>\n",
    "    <tr>\n",
    "        <td><i>U</i><sub>Verbraucher</sub>(Glühlampen, Motor) [V]</td>\n",
    "        <td style=\"color:white;\">Ihre Messdaten hier</td>\n",
    "    </tr>\n",
    "    <tr>\n",
    "        <td><i>I</i><sub>Verbraucher</sub>(Glühlampen, Motor) [mA]</td>\n",
    "        <td style=\"color:white;\">Ihre Messdaten hier</td>\n",
    "    </tr>\n",
    "    <tr>\n",
    "        <td><i>P</i><sub>Smart-Meter</sub>(Kraftwerk + Windkraftanlage) [mW]</td>\n",
    "        <td style=\"color:white;\">Ihre Messdaten hier</td>\n",
    "    </tr>\n",
    "    <tr>\n",
    "        <td><i>P</i><sub>Smart-Meter</sub>(Akkumulator) [mW]</td>\n",
    "        <td style=\"color:white;\">Ihre Messdaten hier</td>\n",
    "    </tr>\n",
    "    <th colspan=\"2\">Szenario 2</th>\n",
    "    <tr>\n",
    "        <td><i>U</i><sub>Verbraucher</sub>(Glühlampen, Motor) [V]</td>\n",
    "        <td style=\"color:white;\">Ihre Messdaten hier</td>\n",
    "    </tr>\n",
    "    <tr>\n",
    "        <td><i>I</i><sub>Verbraucher</sub>(Glühlampen, Motor) [mA]</td>\n",
    "        <td style=\"color:white;\">Ihre Messdaten hier</td>\n",
    "    </tr>\n",
    "    <tr>\n",
    "        <td><i>P</i><sub>Smart-Meter</sub>(Kraftwerk + Windkraftanlage) [mW]</td>\n",
    "        <td style=\"color:white;\">Ihre Messdaten hier</td>\n",
    "    </tr>\n",
    "    <tr>\n",
    "        <td><i>P</i><sub>Smart-Meter</sub>(Akkumulator) [mW]</td>\n",
    "        <td style=\"color:white;\">Ihre Messdaten hier</td>\n",
    "    </tr>\n",
    "</table>\n",
    "\n",
    "usw..."
   ]
  },
  {
   "cell_type": "code",
   "execution_count": 26,
   "id": "a1efdfe6-9fa0-4d5f-a27f-48d7e9318757",
   "metadata": {},
   "outputs": [],
   "source": [
    "# Ihre Daten hier"
   ]
  },
  {
   "cell_type": "markdown",
   "id": "f3d7a174-28e6-4071-b4d4-caaafd3d09fa",
   "metadata": {},
   "source": [
    "**Beobachtungen:**\n",
    "\n",
    "Notieren Sie hier Ihre Beobachtungen, die Sie während des Versuchs gemacht haben."
   ]
  },
  {
   "cell_type": "markdown",
   "id": "f4f25058-e8c9-4e71-82de-e29c30a3f6bf",
   "metadata": {},
   "source": [
    "*Ihr Text hier*"
   ]
  },
  {
   "cell_type": "markdown",
   "id": "bf8f15ac-2a5c-4088-880f-dbf2c54add3b",
   "metadata": {},
   "source": [
    "**Auswertung**\n",
    "\n",
    "1. Beschreiben Sie mit Hilfe Ihrer Beobachtungen und Messdaten die Vorgänge in der Realität während der jeweiligen Szenarien. Achten Sie vor Allem auf Überspannungen und das Verhalten des Energiespeichers (Akku).\n",
    "2. Die Szenarien verdeutlichen die Komplexität des realen Stromnetzes. Welche technischen und/oder regulatorischen Maßnahmen ergreifen Stromnetzanbieter daher?\n",
    "3. Was passiert, wenn immer mehr private Haushalte Solaranlagen betreiben und den überschüssigen Strom in das Stromnetz einspeisen? Wieviel Geld bekommen private Haushalte für diese Einspeisung und wie steht dies im Verhältnis zu den Verbrauchs-Stromkosten? Nennen Sie Gründe für die Differenz.\n",
    "\n",
    "#### 1. Beschreiben Sie mit Hilfe Ihrer Beobachtungen und Messdaten die Vorgänge in der Realität während der jeweiligen Szenarien. Achten Sie vor Allem auf Überspannungen und das Verhalten des Energiespeichers (Akku)."
   ]
  },
  {
   "cell_type": "markdown",
   "id": "945a341f-a218-435e-9457-3ab9a7c20dd6",
   "metadata": {},
   "source": [
    "*Ihr Text hier*"
   ]
  },
  {
   "cell_type": "markdown",
   "id": "6b458050-53ac-4895-a3ff-d12082c98b84",
   "metadata": {},
   "source": [
    "#### 2. Die Szenarien verdeutlichen die Komplexität des realen Stromnetzes. Welche technischen und/oder regulatorischen Maßnahmen ergreifen Stromnetzanbieter daher?"
   ]
  },
  {
   "cell_type": "markdown",
   "id": "c042c7f7-772e-4848-880d-dd13ba58701d",
   "metadata": {},
   "source": [
    "*Ihr Text hier*"
   ]
  },
  {
   "cell_type": "markdown",
   "id": "a04d37ad-b0d5-4f19-ab19-c39216279200",
   "metadata": {},
   "source": [
    "#### 3. Was passiert, wenn immer mehr private Haushalte Solaranlagen betreiben und den überschüssigen Strom in das Stromnetz einspeisen? Wieviel Geld bekommen private Haushalte für diese Einspeisung und wie steht dies im Verhältnis zu den Verbrauchs-Stromkosten? Nennen Sie Gründe für die Differenz."
   ]
  },
  {
   "cell_type": "markdown",
   "id": "14d082f5-5944-466a-b9eb-0dd15c1cff00",
   "metadata": {},
   "source": [
    "*Ihr Text hier*"
   ]
  },
  {
   "cell_type": "markdown",
   "id": "57d54b9d-ed87-4ee4-a6a8-454ab6c724fc",
   "metadata": {},
   "source": [
    "---"
   ]
  },
  {
   "cell_type": "markdown",
   "id": "3345ef9d-6621-4582-a10d-e0f4a88cfd4d",
   "metadata": {},
   "source": [
    "# 3. Quellen"
   ]
  },
  {
   "cell_type": "markdown",
   "id": "10f27de8-671e-4f7b-83d2-009d38345f94",
   "metadata": {},
   "source": []
  }
 ],
 "metadata": {
  "kernelspec": {
   "display_name": "Python 3 (ipykernel)",
   "language": "python",
   "name": "python3"
  },
  "language_info": {
   "codemirror_mode": {
    "name": "ipython",
    "version": 3
   },
   "file_extension": ".py",
   "mimetype": "text/x-python",
   "name": "python",
   "nbconvert_exporter": "python",
   "pygments_lexer": "ipython3",
   "version": "3.13.7"
  }
 },
 "nbformat": 4,
 "nbformat_minor": 5
}
